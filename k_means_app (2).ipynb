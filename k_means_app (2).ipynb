{
 "cells": [
  {
   "cell_type": "code",
   "execution_count": 79,
   "metadata": {},
   "outputs": [
    {
     "name": "stderr",
     "output_type": "stream",
     "text": [
      "2021-10-15 13:14:34.281 \n",
      "  \u001b[33m\u001b[1mWarning:\u001b[0m to view this Streamlit app on a browser, run it with the following\n",
      "  command:\n",
      "\n",
      "    streamlit run C:\\ProgramData\\Anaconda3\\lib\\site-packages\\ipykernel_launcher.py [ARGUMENTS]\n"
     ]
    },
    {
     "data": {
      "image/png": "[encoded data removed]",
      "text/plain": [
       "<Figure size 432x288 with 1 Axes>"
      ]
     },
     "metadata": {
      "needs_background": "light"
     },
     "output_type": "display_data"
    },
    {
     "name": "stdout",
     "output_type": "stream",
     "text": [
      "Dalmatians (1996) non présent dans la base\n",
      "Cloverfield Lane (2016) non présent dans la base\n",
      "Film :  Armed and Dangerous (1986) note obtenue :  0.6304929770298615\n",
      "Film :  Bird on a Wire (1990) note obtenue :  0.5763092958534866\n",
      "Film :  Arthur (1981) note obtenue :  0.4850860943228171\n",
      "Film :  'burbs, The (1989) note obtenue :  0.4637759339596515\n",
      "Film :  40 Days and 40 Nights (2002) note obtenue :  0.43498864731473225\n",
      "Film :  Bachelor, The (1999) note obtenue :  0.4014570969642767\n"
     ]
    }
   ],
   "source": [
    "import pandas as pd\n",
    "from matplotlib import pyplot as plt\n",
    "from sklearn import cluster\n",
    "from sklearn.cluster import KMeans\n",
    "from sklearn.decomposition import PCA\n",
    "import numpy as np\n",
    "from sklearn.decomposition import IncrementalPCA\n",
    "import streamlit as st\n",
    "\n",
    "list_films=[\"Dalmatians (1996)\",\"Cloverfield Lane (2016)\",\"Fools Rush In (1997)\",\"Red Sonja (1985)\",\"Red Rock West (1992)\"]\n",
    "list_notes=[\"3\",\"3\",\"5\",\"4\",\"4\"]\n",
    "df_merged = pd.read_csv('df_merged.csv')\n",
    "df_table = df_merged.pivot_table(index='userId', columns='title', values='rating')\n",
    "# Keep only movies that had at least 8 ratings\n",
    "df_table.head(15)\n",
    "df_table.loc[-1] =df_table.iloc[1]   # adding a row\n",
    "df_table[-1]=0\n",
    "\"\"\"\n",
    "print(\"donner moi un premier film\")\n",
    "x1= input('le film 1: ')\n",
    "print(\"le  film est:\",x1)\n",
    "y1= input('la note 1:')\n",
    "print(\"la  note du film est:\",y1)\n",
    "print(\"donner moi un deuxieme film\")\n",
    "x2= input('le film 2 : ')\n",
    "print(\"le  film est:\",x2)\n",
    "y2= input('la note 2:')\n",
    "print(\"la  note du film est:\",y2)\n",
    "print(\"donner moi un troisieme film\")\n",
    "x3= input('le film 3 : ')\n",
    "print(\"le  film est:\",x3)\n",
    "y3= input('la note 3:')\n",
    "print(\"la  note du film est:\",y3)\n",
    "print(\"donner moi un quatrieme film\")\n",
    "x4= input('le film 4 : ')\n",
    "print(\"le  film est:\",x4)\n",
    "y4= input('la note 4:')\n",
    "print(\"la  note du film est:\",y4)\n",
    "print(\"donner moi un cinquieme film\")\n",
    "x5 =input('le film 5 : ')\n",
    "print(\"le  film est:\",x5)\n",
    "y5= input('la note 4:')\n",
    "print(\"la  note du film est:\",y5)\n",
    "\"\"\"\n",
    "#list_films=[x1,x2,x3,x4,x5]\n",
    "#list_notes=[y1,y2,y3,y4,y5]\n",
    "dico_user={}\n",
    "for i in range(len(list_films)):\n",
    "  for j in range(len(list_notes)):\n",
    "    if i==j:\n",
    "      df_table.at[-1,list_films[i]]=list_notes[j]\n",
    "      dico_user[list_films[i]]=list_notes[j]\n",
    "df_table=df_table.fillna(0)\n",
    "kmeans = KMeans(n_clusters=12, random_state=100).fit(df_table)\n",
    "df_table[\"cluster\"] = kmeans.labels_\n",
    "st.write(\"visualisation trop dificile\")\n",
    "pca = PCA()\n",
    "df_pca=pca.fit_transform(df_table)\n",
    "kmeans.labels_\n",
    "\n",
    "ipca = IncrementalPCA(n_components=2, batch_size=10)\n",
    "ipca.fit(df_table)\n",
    "X_red=ipca.transform(df_table) # doctest: +SKIP\n",
    "centers = kmeans.cluster_centers_\n",
    "colors=[\"red\", \"blue\",\"green\", \"orange\",\"purple\",'gold','beige', 'black','cyan','yellow','pink','azure']\n",
    "c=list(df_table[\"cluster\"])\n",
    "cc = [colors[i] for i in c]\n",
    "plt.scatter(X_red[:,0], X_red[:,1], c=cc)\n",
    "plt.show()\n",
    "\n",
    "\n",
    "\n",
    "df_similarity = pd.read_csv('movie_similarity.csv')\n",
    "df_similarity.fillna(0,inplace=True)\n",
    "\n",
    "sim_movies,notes=[],[]\n",
    "dico_results={}\n",
    "for i in range(len(list_films)):\n",
    "    test=list_films[i]\n",
    "    try:\n",
    "        similar_index=list(df_similarity[test].sort_values(ascending=False).index)\n",
    "        note=list(df_similarity[test].sort_values(ascending=False).values)\n",
    "        notes.extend(note)\n",
    "        for elem in similar_index:\n",
    "            sim_movies.append(df_similarity.loc[elem,\"title\"])\n",
    "    except KeyError:\n",
    "        print(\"{} non présent dans la base\".format(test))\n",
    "\n",
    "\n",
    "notes2=sorted(notes)[::-1]\n",
    "for elem in range(6):\n",
    "    note=notes2[elem]\n",
    "    print(\"Film : \", sim_movies[notes.index(note)], \"note obtenue : \",notes2[elem])\n"
   ]
  }
 ],
 "metadata": {
  "interpreter": {
   "hash": "b3ba2566441a7c06988d0923437866b63cedc61552a5af99d1f4fb67d367b25f"
  },
  "kernelspec": {
   "display_name": "Python 3.8.3 64-bit ('base': conda)",
   "name": "python3"
  },
  "language_info": {
   "codemirror_mode": {
    "name": "ipython",
    "version": 3
   },
   "file_extension": ".py",
   "mimetype": "text/x-python",
   "name": "python",
   "nbconvert_exporter": "python",
   "pygments_lexer": "ipython3",
   "version": "3.8.3"
  },
  "orig_nbformat": 4
 },
 "nbformat": 4,
 "nbformat_minor": 2
}
