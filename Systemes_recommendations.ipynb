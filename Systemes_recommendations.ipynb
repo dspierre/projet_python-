{
  "nbformat": 4,
  "nbformat_minor": 0,
  "metadata": {
    "colab": {
      "name": "Systemes_recommendations.ipynb",
      "provenance": [],
      "collapsed_sections": []
    },
    "kernelspec": {
      "name": "python3",
      "display_name": "Python 3"
    }
  },
  "cells": [
    {
      "cell_type": "code",
      "metadata": {
        "id": "aK-erxawiPBA"
      },
      "source": [
        "#https://medium.com/@lope.ai/recommendation-systems-from-scratch-in-python-pytholabs-6946491e76c2\n",
        "#https://jonathan-hui.medium.com/machine-learning-recommender-system-e3237b9df14a"
      ],
      "execution_count": null,
      "outputs": []
    },
    {
      "cell_type": "code",
      "metadata": {
        "id": "xWVF3flsXn9P"
      },
      "source": [
        "D'abord, récolter les données, faire du preprocessing sur les données,(scraping ou dataset déjà fait)\n",
        " choisir le meilleure modèle (dans le cas du NLP, CountVectorizer ou TF-IDFVectorizer associé \n",
        "à la cosine similarity), coder une fonction permettant\n",
        " d'obtenir les meilleurs recommandations pour un élément donné en entrée. En gros, c'est ça. "
      ],
      "execution_count": null,
      "outputs": []
    },
    {
      "cell_type": "code",
      "metadata": {
        "id": "-oU628fRiUYa"
      },
      "source": [
        "#Le but du projet est de faire un systemes de recomendation de recette de cuisine pour utiliser le produit  qui va devenir périsable  \n",
        "#  l'utilisateur  va prendre  une photos de  tous c'est  produit dans sont frigidaire.\n",
        "# puis la machine va mémoriser tous les dates de pérunption  \n",
        "# chaque  fois que  la  date approche de deux  jours va poposer une  recette de  gateau de  plat ou d'entré pour  les produit qui vont se périmer     "
      ],
      "execution_count": null,
      "outputs": []
    },
    {
      "cell_type": "code",
      "metadata": {
        "id": "iCzmTWQRLiFE",
        "colab": {
          "base_uri": "https://localhost:8080/"
        },
        "outputId": "b1952128-5588-48a5-b23c-d9ba1a55c7c4"
      },
      "source": [
        "import os\n",
        "import datetime\n",
        "import IPython\n",
        "import IPython.display\n",
        "import matplotlib as mpl\n",
        "import matplotlib.pyplot as plt\n",
        "import numpy as np\n",
        "import pandas as pd\n",
        "import seaborn as sns\n",
        "import tensorflow as tf\n",
        "\n",
        "mpl.rcParams['figure.figsize'] = (8, 6)\n",
        "mpl.rcParams['axes.grid'] = False\n",
        "print(\"fait\")"
      ],
      "execution_count": null,
      "outputs": [
        {
          "output_type": "stream",
          "name": "stdout",
          "text": [
            "fait\n"
          ]
        }
      ]
    },
    {
      "cell_type": "markdown",
      "metadata": {
        "id": "O5iB9vEbJi32"
      },
      "source": [
        "Analyse  des données  du dataset  de  film pour  l'étude  de  systemes recommendation  "
      ]
    },
    {
      "cell_type": "code",
      "metadata": {
        "id": "d2uu1tJ5h9nZ"
      },
      "source": [
        "df_movie=pd.read_csv('/content/sample_data/mdb_5000_credits.csv', sep=',')\n",
        "df_movie=pd.read_csv('/content/sample_data/mdb_5000_movies.csv', sep=',')"
      ],
      "execution_count": null,
      "outputs": []
    },
    {
      "cell_type": "code",
      "metadata": {
        "id": "SX1tzKMg7mnl",
        "colab": {
          "base_uri": "https://localhost:8080/"
        },
        "outputId": "d404a081-f9a8-4211-f3de-cd7469bf7eb3"
      },
      "source": [
        "df_movie.dtypes"
      ],
      "execution_count": null,
      "outputs": [
        {
          "output_type": "execute_result",
          "data": {
            "text/plain": [
              "budget                    int64\n",
              "genres                   object\n",
              "homepage                 object\n",
              "id                        int64\n",
              "keywords                 object\n",
              "original_language        object\n",
              "original_title           object\n",
              "overview                 object\n",
              "popularity              float64\n",
              "production_companies     object\n",
              "production_countries     object\n",
              "release_date             object\n",
              "revenue                   int64\n",
              "runtime                 float64\n",
              "spoken_languages         object\n",
              "status                   object\n",
              "tagline                  object\n",
              "title                    object\n",
              "vote_average            float64\n",
              "vote_count                int64\n",
              "dtype: object"
            ]
          },
          "metadata": {
            "tags": []
          },
          "execution_count": 7
        }
      ]
    },
    {
      "cell_type": "code",
      "metadata": {
        "id": "60Ty28EhNx-f",
        "colab": {
          "base_uri": "https://localhost:8080/"
        },
        "outputId": "303ada1c-fc6e-4a7c-a4c2-49b5d53e18f3"
      },
      "source": [
        "print('Les colonnes de tmdb_5000_movies sont',df_movie.columns)"
      ],
      "execution_count": null,
      "outputs": [
        {
          "output_type": "stream",
          "text": [
            "Les colonnes de tmdb_5000_movies sont Index(['budget', 'genres', 'homepage', 'id', 'keywords', 'original_language',\n",
            "       'original_title', 'overview', 'popularity', 'production_companies',\n",
            "       'production_countries', 'release_date', 'revenue', 'runtime',\n",
            "       'spoken_languages', 'status', 'tagline', 'title', 'vote_average',\n",
            "       'vote_count'],\n",
            "      dtype='object')\n"
          ],
          "name": "stdout"
        }
      ]
    },
    {
      "cell_type": "code",
      "metadata": {
        "id": "VKt6X24AXIVZ",
        "colab": {
          "base_uri": "https://localhost:8080/",
          "height": 391
        },
        "outputId": "6c1bdd48-41a5-4dc4-fbaa-deb90a6e44cd"
      },
      "source": [
        "reco=df_movie.drop(columns=['tagline','original_title',\"id\",\"original_language\", \"homepage\",'original_language','status','keywords','release_date','spoken_languages','budget','revenue','production_companies','production_countries','genres','popularity','runtime','vote_average','vote_count'])\n",
        "reco"
      ],
      "execution_count": null,
      "outputs": [
        {
          "output_type": "execute_result",
          "data": {
            "text/html": [
              "<div>\n",
              "<style scoped>\n",
              "    .dataframe tbody tr th:only-of-type {\n",
              "        vertical-align: middle;\n",
              "    }\n",
              "\n",
              "    .dataframe tbody tr th {\n",
              "        vertical-align: top;\n",
              "    }\n",
              "\n",
              "    .dataframe thead th {\n",
              "        text-align: right;\n",
              "    }\n",
              "</style>\n",
              "<table border=\"1\" class=\"dataframe\">\n",
              "  <thead>\n",
              "    <tr style=\"text-align: right;\">\n",
              "      <th></th>\n",
              "      <th>overview</th>\n",
              "      <th>title</th>\n",
              "    </tr>\n",
              "  </thead>\n",
              "  <tbody>\n",
              "    <tr>\n",
              "      <th>0</th>\n",
              "      <td>In the 22nd century, a paraplegic Marine is di...</td>\n",
              "      <td>Avatar</td>\n",
              "    </tr>\n",
              "    <tr>\n",
              "      <th>1</th>\n",
              "      <td>Captain Barbossa, long believed to be dead, ha...</td>\n",
              "      <td>Pirates of the Caribbean: At World's End</td>\n",
              "    </tr>\n",
              "    <tr>\n",
              "      <th>2</th>\n",
              "      <td>A cryptic message from Bond’s past sends him o...</td>\n",
              "      <td>Spectre</td>\n",
              "    </tr>\n",
              "    <tr>\n",
              "      <th>3</th>\n",
              "      <td>Following the death of District Attorney Harve...</td>\n",
              "      <td>The Dark Knight Rises</td>\n",
              "    </tr>\n",
              "    <tr>\n",
              "      <th>4</th>\n",
              "      <td>John Carter is a war-weary, former military ca...</td>\n",
              "      <td>John Carter</td>\n",
              "    </tr>\n",
              "    <tr>\n",
              "      <th>...</th>\n",
              "      <td>...</td>\n",
              "      <td>...</td>\n",
              "    </tr>\n",
              "    <tr>\n",
              "      <th>4798</th>\n",
              "      <td>El Mariachi just wants to play his guitar and ...</td>\n",
              "      <td>El Mariachi</td>\n",
              "    </tr>\n",
              "    <tr>\n",
              "      <th>4799</th>\n",
              "      <td>A newlywed couple's honeymoon is upended by th...</td>\n",
              "      <td>Newlyweds</td>\n",
              "    </tr>\n",
              "    <tr>\n",
              "      <th>4800</th>\n",
              "      <td>\"Signed, Sealed, Delivered\" introduces a dedic...</td>\n",
              "      <td>Signed, Sealed, Delivered</td>\n",
              "    </tr>\n",
              "    <tr>\n",
              "      <th>4801</th>\n",
              "      <td>When ambitious New York attorney Sam is sent t...</td>\n",
              "      <td>Shanghai Calling</td>\n",
              "    </tr>\n",
              "    <tr>\n",
              "      <th>4802</th>\n",
              "      <td>Ever since the second grade when he first saw ...</td>\n",
              "      <td>My Date with Drew</td>\n",
              "    </tr>\n",
              "  </tbody>\n",
              "</table>\n",
              "<p>4803 rows × 2 columns</p>\n",
              "</div>"
            ],
            "text/plain": [
              "                                               overview                                     title\n",
              "0     In the 22nd century, a paraplegic Marine is di...                                    Avatar\n",
              "1     Captain Barbossa, long believed to be dead, ha...  Pirates of the Caribbean: At World's End\n",
              "2     A cryptic message from Bond’s past sends him o...                                   Spectre\n",
              "3     Following the death of District Attorney Harve...                     The Dark Knight Rises\n",
              "4     John Carter is a war-weary, former military ca...                               John Carter\n",
              "...                                                 ...                                       ...\n",
              "4798  El Mariachi just wants to play his guitar and ...                               El Mariachi\n",
              "4799  A newlywed couple's honeymoon is upended by th...                                 Newlyweds\n",
              "4800  \"Signed, Sealed, Delivered\" introduces a dedic...                 Signed, Sealed, Delivered\n",
              "4801  When ambitious New York attorney Sam is sent t...                          Shanghai Calling\n",
              "4802  Ever since the second grade when he first saw ...                         My Date with Drew\n",
              "\n",
              "[4803 rows x 2 columns]"
            ]
          },
          "metadata": {
            "tags": []
          },
          "execution_count": 9
        }
      ]
    },
    {
      "cell_type": "code",
      "metadata": {
        "id": "aZdkXAfXcElm",
        "colab": {
          "base_uri": "https://localhost:8080/"
        },
        "outputId": "f11ddeb2-4f0d-43dd-808a-e0fa031e5418"
      },
      "source": [
        "print('Les colonnes de tmdb_5000_movies sont',reco.columns)"
      ],
      "execution_count": null,
      "outputs": [
        {
          "output_type": "stream",
          "text": [
            "Les colonnes de tmdb_5000_movies sont Index(['overview', 'title'], dtype='object')\n"
          ],
          "name": "stdout"
        }
      ]
    },
    {
      "cell_type": "code",
      "metadata": {
        "id": "iPW_k-WuOZ5_",
        "colab": {
          "base_uri": "https://localhost:8080/",
          "height": 105
        },
        "outputId": "5ef279c4-d8e8-4d56-f9d9-fdd16efecb6a"
      },
      "source": [
        "reco.describe().transpose()"
      ],
      "execution_count": null,
      "outputs": [
        {
          "output_type": "execute_result",
          "data": {
            "text/html": [
              "<div>\n",
              "<style scoped>\n",
              "    .dataframe tbody tr th:only-of-type {\n",
              "        vertical-align: middle;\n",
              "    }\n",
              "\n",
              "    .dataframe tbody tr th {\n",
              "        vertical-align: top;\n",
              "    }\n",
              "\n",
              "    .dataframe thead th {\n",
              "        text-align: right;\n",
              "    }\n",
              "</style>\n",
              "<table border=\"1\" class=\"dataframe\">\n",
              "  <thead>\n",
              "    <tr style=\"text-align: right;\">\n",
              "      <th></th>\n",
              "      <th>count</th>\n",
              "      <th>unique</th>\n",
              "      <th>top</th>\n",
              "      <th>freq</th>\n",
              "    </tr>\n",
              "  </thead>\n",
              "  <tbody>\n",
              "    <tr>\n",
              "      <th>overview</th>\n",
              "      <td>4800</td>\n",
              "      <td>4800</td>\n",
              "      <td>Rock Star tells the story of Chris Cole and a ...</td>\n",
              "      <td>1</td>\n",
              "    </tr>\n",
              "    <tr>\n",
              "      <th>title</th>\n",
              "      <td>4803</td>\n",
              "      <td>4800</td>\n",
              "      <td>Batman</td>\n",
              "      <td>2</td>\n",
              "    </tr>\n",
              "  </tbody>\n",
              "</table>\n",
              "</div>"
            ],
            "text/plain": [
              "         count unique                                                top freq\n",
              "overview  4800   4800  Rock Star tells the story of Chris Cole and a ...    1\n",
              "title     4803   4800                                             Batman    2"
            ]
          },
          "metadata": {
            "tags": []
          },
          "execution_count": 11
        }
      ]
    },
    {
      "cell_type": "markdown",
      "metadata": {
        "id": "EAJEyYma8SJC"
      },
      "source": [
        "# **preprocessing**"
      ]
    },
    {
      "cell_type": "code",
      "metadata": {
        "id": "tSPGd6TA8yfI",
        "colab": {
          "base_uri": "https://localhost:8080/",
          "height": 391
        },
        "outputId": "84ffe454-3ac6-4dd4-c6ef-45c9efc31f27"
      },
      "source": [
        "reco"
      ],
      "execution_count": null,
      "outputs": [
        {
          "output_type": "execute_result",
          "data": {
            "text/html": [
              "<div>\n",
              "<style scoped>\n",
              "    .dataframe tbody tr th:only-of-type {\n",
              "        vertical-align: middle;\n",
              "    }\n",
              "\n",
              "    .dataframe tbody tr th {\n",
              "        vertical-align: top;\n",
              "    }\n",
              "\n",
              "    .dataframe thead th {\n",
              "        text-align: right;\n",
              "    }\n",
              "</style>\n",
              "<table border=\"1\" class=\"dataframe\">\n",
              "  <thead>\n",
              "    <tr style=\"text-align: right;\">\n",
              "      <th></th>\n",
              "      <th>overview</th>\n",
              "      <th>title</th>\n",
              "    </tr>\n",
              "  </thead>\n",
              "  <tbody>\n",
              "    <tr>\n",
              "      <th>0</th>\n",
              "      <td>In the 22nd century, a paraplegic Marine is di...</td>\n",
              "      <td>Avatar</td>\n",
              "    </tr>\n",
              "    <tr>\n",
              "      <th>1</th>\n",
              "      <td>Captain Barbossa, long believed to be dead, ha...</td>\n",
              "      <td>Pirates of the Caribbean: At World's End</td>\n",
              "    </tr>\n",
              "    <tr>\n",
              "      <th>2</th>\n",
              "      <td>A cryptic message from Bond’s past sends him o...</td>\n",
              "      <td>Spectre</td>\n",
              "    </tr>\n",
              "    <tr>\n",
              "      <th>3</th>\n",
              "      <td>Following the death of District Attorney Harve...</td>\n",
              "      <td>The Dark Knight Rises</td>\n",
              "    </tr>\n",
              "    <tr>\n",
              "      <th>4</th>\n",
              "      <td>John Carter is a war-weary, former military ca...</td>\n",
              "      <td>John Carter</td>\n",
              "    </tr>\n",
              "    <tr>\n",
              "      <th>...</th>\n",
              "      <td>...</td>\n",
              "      <td>...</td>\n",
              "    </tr>\n",
              "    <tr>\n",
              "      <th>4798</th>\n",
              "      <td>El Mariachi just wants to play his guitar and ...</td>\n",
              "      <td>El Mariachi</td>\n",
              "    </tr>\n",
              "    <tr>\n",
              "      <th>4799</th>\n",
              "      <td>A newlywed couple's honeymoon is upended by th...</td>\n",
              "      <td>Newlyweds</td>\n",
              "    </tr>\n",
              "    <tr>\n",
              "      <th>4800</th>\n",
              "      <td>\"Signed, Sealed, Delivered\" introduces a dedic...</td>\n",
              "      <td>Signed, Sealed, Delivered</td>\n",
              "    </tr>\n",
              "    <tr>\n",
              "      <th>4801</th>\n",
              "      <td>When ambitious New York attorney Sam is sent t...</td>\n",
              "      <td>Shanghai Calling</td>\n",
              "    </tr>\n",
              "    <tr>\n",
              "      <th>4802</th>\n",
              "      <td>Ever since the second grade when he first saw ...</td>\n",
              "      <td>My Date with Drew</td>\n",
              "    </tr>\n",
              "  </tbody>\n",
              "</table>\n",
              "<p>4803 rows × 2 columns</p>\n",
              "</div>"
            ],
            "text/plain": [
              "                                               overview                                     title\n",
              "0     In the 22nd century, a paraplegic Marine is di...                                    Avatar\n",
              "1     Captain Barbossa, long believed to be dead, ha...  Pirates of the Caribbean: At World's End\n",
              "2     A cryptic message from Bond’s past sends him o...                                   Spectre\n",
              "3     Following the death of District Attorney Harve...                     The Dark Knight Rises\n",
              "4     John Carter is a war-weary, former military ca...                               John Carter\n",
              "...                                                 ...                                       ...\n",
              "4798  El Mariachi just wants to play his guitar and ...                               El Mariachi\n",
              "4799  A newlywed couple's honeymoon is upended by th...                                 Newlyweds\n",
              "4800  \"Signed, Sealed, Delivered\" introduces a dedic...                 Signed, Sealed, Delivered\n",
              "4801  When ambitious New York attorney Sam is sent t...                          Shanghai Calling\n",
              "4802  Ever since the second grade when he first saw ...                         My Date with Drew\n",
              "\n",
              "[4803 rows x 2 columns]"
            ]
          },
          "metadata": {
            "tags": []
          },
          "execution_count": 12
        }
      ]
    },
    {
      "cell_type": "code",
      "metadata": {
        "id": "NnrcQGNIP0Yc",
        "colab": {
          "base_uri": "https://localhost:8080/"
        },
        "outputId": "c694a6aa-46e4-46a6-cb1e-7115057d4f77"
      },
      "source": [
        "pip  install  nltk"
      ],
      "execution_count": null,
      "outputs": [
        {
          "output_type": "stream",
          "text": [
            "Requirement already satisfied: nltk in /usr/local/lib/python3.6/dist-packages (3.2.5)\n",
            "Requirement already satisfied: six in /usr/local/lib/python3.6/dist-packages (from nltk) (1.15.0)\n"
          ],
          "name": "stdout"
        }
      ]
    },
    {
      "cell_type": "code",
      "metadata": {
        "id": "1fLTCf3chqG1",
        "colab": {
          "base_uri": "https://localhost:8080/"
        },
        "outputId": "b5dc9742-9343-4596-c8ca-53fc2b36296b"
      },
      "source": [
        "!pip install stopwords"
      ],
      "execution_count": null,
      "outputs": [
        {
          "output_type": "stream",
          "text": [
            "Collecting stopwords\n",
            "\u001b[?25l  Downloading https://files.pythonhosted.org/packages/14/a2/d4eb1d5e609fa0b1d59e929db8eb9ae540f8b2d6db3a4ba26f713e81af15/stopwords-0.1.3.tar.gz (41kB)\n",
            "\r\u001b[K     |███████▉                        | 10kB 7.3MB/s eta 0:00:01\r\u001b[K     |███████████████▋                | 20kB 9.2MB/s eta 0:00:01\r\u001b[K     |███████████████████████▌        | 30kB 7.9MB/s eta 0:00:01\r\u001b[K     |███████████████████████████████▎| 40kB 2.9MB/s eta 0:00:01\r\u001b[K     |████████████████████████████████| 51kB 2.2MB/s \n",
            "\u001b[?25hBuilding wheels for collected packages: stopwords\n",
            "  Building wheel for stopwords (setup.py) ... \u001b[?25l\u001b[?25hdone\n",
            "  Created wheel for stopwords: filename=stopwords-0.1.3-py2.py3-none-any.whl size=37286 sha256=42e5c6f4bffafa896672eabac8e453485cd025a93df34ea415cbce7874120f0b\n",
            "  Stored in directory: /root/.cache/pip/wheels/39/fa/c7/c4c5111e658f5c58465d948165dc3395a3c10ff57f4cd20356\n",
            "Successfully built stopwords\n",
            "Installing collected packages: stopwords\n",
            "Successfully installed stopwords-0.1.3\n"
          ],
          "name": "stdout"
        }
      ]
    },
    {
      "cell_type": "code",
      "metadata": {
        "id": "r8JX-wq9h1W5",
        "colab": {
          "base_uri": "https://localhost:8080/"
        },
        "outputId": "a8a9a73c-5e8d-40cb-c47c-b6c02bcba166"
      },
      "source": [
        "!pip install unicode"
      ],
      "execution_count": null,
      "outputs": [
        {
          "output_type": "stream",
          "text": [
            "Collecting unicode\n",
            "  Downloading https://files.pythonhosted.org/packages/bd/e8/d30276462ce627d1fd2c547cdf64a7eccec20e86f4fcaa145e1ea8758641/unicode-2.7-py2.py3-none-any.whl\n",
            "Installing collected packages: unicode\n",
            "Successfully installed unicode-2.7\n"
          ],
          "name": "stdout"
        }
      ]
    },
    {
      "cell_type": "code",
      "metadata": {
        "id": "8pE_6QRqiOM5",
        "colab": {
          "base_uri": "https://localhost:8080/"
        },
        "outputId": "04bb8619-5957-4766-84b0-a272ef6252d8"
      },
      "source": [
        "import nltk\n",
        "nltk.download('stopwords')"
      ],
      "execution_count": null,
      "outputs": [
        {
          "output_type": "stream",
          "text": [
            "[nltk_data] Downloading package stopwords to /root/nltk_data...\n",
            "[nltk_data]   Unzipping corpora/stopwords.zip.\n"
          ],
          "name": "stdout"
        },
        {
          "output_type": "execute_result",
          "data": {
            "text/plain": [
              "True"
            ]
          },
          "metadata": {
            "tags": []
          },
          "execution_count": 16
        }
      ]
    },
    {
      "cell_type": "code",
      "metadata": {
        "id": "3FgKyos_KjQr"
      },
      "source": [
        "reco['title'] = reco['title'].str.lower()\n",
        "reco['overview'] = reco['overview'].str.lower()"
      ],
      "execution_count": null,
      "outputs": []
    },
    {
      "cell_type": "code",
      "metadata": {
        "id": "fezuccYNa6lt",
        "colab": {
          "base_uri": "https://localhost:8080/"
        },
        "outputId": "793bac0d-e961-4204-b792-fa9676ff18a4"
      },
      "source": [
        "reco.isnull().sum()"
      ],
      "execution_count": null,
      "outputs": [
        {
          "output_type": "execute_result",
          "data": {
            "text/plain": [
              "overview    3\n",
              "title       0\n",
              "dtype: int64"
            ]
          },
          "metadata": {
            "tags": []
          },
          "execution_count": 18
        }
      ]
    },
    {
      "cell_type": "code",
      "metadata": {
        "id": "MzrknNv1KZav",
        "colab": {
          "base_uri": "https://localhost:8080/",
          "height": 391
        },
        "outputId": "10780637-7103-441e-c026-896aebaaffac"
      },
      "source": [
        "reco"
      ],
      "execution_count": null,
      "outputs": [
        {
          "output_type": "execute_result",
          "data": {
            "text/html": [
              "<div>\n",
              "<style scoped>\n",
              "    .dataframe tbody tr th:only-of-type {\n",
              "        vertical-align: middle;\n",
              "    }\n",
              "\n",
              "    .dataframe tbody tr th {\n",
              "        vertical-align: top;\n",
              "    }\n",
              "\n",
              "    .dataframe thead th {\n",
              "        text-align: right;\n",
              "    }\n",
              "</style>\n",
              "<table border=\"1\" class=\"dataframe\">\n",
              "  <thead>\n",
              "    <tr style=\"text-align: right;\">\n",
              "      <th></th>\n",
              "      <th>overview</th>\n",
              "      <th>title</th>\n",
              "    </tr>\n",
              "  </thead>\n",
              "  <tbody>\n",
              "    <tr>\n",
              "      <th>0</th>\n",
              "      <td>in the 22nd century, a paraplegic marine is di...</td>\n",
              "      <td>avatar</td>\n",
              "    </tr>\n",
              "    <tr>\n",
              "      <th>1</th>\n",
              "      <td>captain barbossa, long believed to be dead, ha...</td>\n",
              "      <td>pirates of the caribbean: at world's end</td>\n",
              "    </tr>\n",
              "    <tr>\n",
              "      <th>2</th>\n",
              "      <td>a cryptic message from bond’s past sends him o...</td>\n",
              "      <td>spectre</td>\n",
              "    </tr>\n",
              "    <tr>\n",
              "      <th>3</th>\n",
              "      <td>following the death of district attorney harve...</td>\n",
              "      <td>the dark knight rises</td>\n",
              "    </tr>\n",
              "    <tr>\n",
              "      <th>4</th>\n",
              "      <td>john carter is a war-weary, former military ca...</td>\n",
              "      <td>john carter</td>\n",
              "    </tr>\n",
              "    <tr>\n",
              "      <th>...</th>\n",
              "      <td>...</td>\n",
              "      <td>...</td>\n",
              "    </tr>\n",
              "    <tr>\n",
              "      <th>4798</th>\n",
              "      <td>el mariachi just wants to play his guitar and ...</td>\n",
              "      <td>el mariachi</td>\n",
              "    </tr>\n",
              "    <tr>\n",
              "      <th>4799</th>\n",
              "      <td>a newlywed couple's honeymoon is upended by th...</td>\n",
              "      <td>newlyweds</td>\n",
              "    </tr>\n",
              "    <tr>\n",
              "      <th>4800</th>\n",
              "      <td>\"signed, sealed, delivered\" introduces a dedic...</td>\n",
              "      <td>signed, sealed, delivered</td>\n",
              "    </tr>\n",
              "    <tr>\n",
              "      <th>4801</th>\n",
              "      <td>when ambitious new york attorney sam is sent t...</td>\n",
              "      <td>shanghai calling</td>\n",
              "    </tr>\n",
              "    <tr>\n",
              "      <th>4802</th>\n",
              "      <td>ever since the second grade when he first saw ...</td>\n",
              "      <td>my date with drew</td>\n",
              "    </tr>\n",
              "  </tbody>\n",
              "</table>\n",
              "<p>4803 rows × 2 columns</p>\n",
              "</div>"
            ],
            "text/plain": [
              "                                               overview                                     title\n",
              "0     in the 22nd century, a paraplegic marine is di...                                    avatar\n",
              "1     captain barbossa, long believed to be dead, ha...  pirates of the caribbean: at world's end\n",
              "2     a cryptic message from bond’s past sends him o...                                   spectre\n",
              "3     following the death of district attorney harve...                     the dark knight rises\n",
              "4     john carter is a war-weary, former military ca...                               john carter\n",
              "...                                                 ...                                       ...\n",
              "4798  el mariachi just wants to play his guitar and ...                               el mariachi\n",
              "4799  a newlywed couple's honeymoon is upended by th...                                 newlyweds\n",
              "4800  \"signed, sealed, delivered\" introduces a dedic...                 signed, sealed, delivered\n",
              "4801  when ambitious new york attorney sam is sent t...                          shanghai calling\n",
              "4802  ever since the second grade when he first saw ...                         my date with drew\n",
              "\n",
              "[4803 rows x 2 columns]"
            ]
          },
          "metadata": {
            "tags": []
          },
          "execution_count": 19
        }
      ]
    },
    {
      "cell_type": "code",
      "metadata": {
        "id": "IBVDf3lY8xMg",
        "colab": {
          "base_uri": "https://localhost:8080/",
          "height": 391
        },
        "outputId": "63e9df23-f0b2-4ae6-96c1-4469ecbb0671"
      },
      "source": [
        "df_drop1=df_movie.drop(columns=[\"tagline\",\"original_title\",\t\"id\",\"original_language\", \"homepage\",'status','keywords','release_date','spoken_languages','budget','revenue','production_companies','production_countries','genres','overview','tagline','title'\t])\n",
        "df_drop1"
      ],
      "execution_count": null,
      "outputs": [
        {
          "output_type": "execute_result",
          "data": {
            "text/html": [
              "<div>\n",
              "<style scoped>\n",
              "    .dataframe tbody tr th:only-of-type {\n",
              "        vertical-align: middle;\n",
              "    }\n",
              "\n",
              "    .dataframe tbody tr th {\n",
              "        vertical-align: top;\n",
              "    }\n",
              "\n",
              "    .dataframe thead th {\n",
              "        text-align: right;\n",
              "    }\n",
              "</style>\n",
              "<table border=\"1\" class=\"dataframe\">\n",
              "  <thead>\n",
              "    <tr style=\"text-align: right;\">\n",
              "      <th></th>\n",
              "      <th>popularity</th>\n",
              "      <th>runtime</th>\n",
              "      <th>vote_average</th>\n",
              "      <th>vote_count</th>\n",
              "    </tr>\n",
              "  </thead>\n",
              "  <tbody>\n",
              "    <tr>\n",
              "      <th>0</th>\n",
              "      <td>150.437577</td>\n",
              "      <td>162.0</td>\n",
              "      <td>7.2</td>\n",
              "      <td>11800</td>\n",
              "    </tr>\n",
              "    <tr>\n",
              "      <th>1</th>\n",
              "      <td>139.082615</td>\n",
              "      <td>169.0</td>\n",
              "      <td>6.9</td>\n",
              "      <td>4500</td>\n",
              "    </tr>\n",
              "    <tr>\n",
              "      <th>2</th>\n",
              "      <td>107.376788</td>\n",
              "      <td>148.0</td>\n",
              "      <td>6.3</td>\n",
              "      <td>4466</td>\n",
              "    </tr>\n",
              "    <tr>\n",
              "      <th>3</th>\n",
              "      <td>112.312950</td>\n",
              "      <td>165.0</td>\n",
              "      <td>7.6</td>\n",
              "      <td>9106</td>\n",
              "    </tr>\n",
              "    <tr>\n",
              "      <th>4</th>\n",
              "      <td>43.926995</td>\n",
              "      <td>132.0</td>\n",
              "      <td>6.1</td>\n",
              "      <td>2124</td>\n",
              "    </tr>\n",
              "    <tr>\n",
              "      <th>...</th>\n",
              "      <td>...</td>\n",
              "      <td>...</td>\n",
              "      <td>...</td>\n",
              "      <td>...</td>\n",
              "    </tr>\n",
              "    <tr>\n",
              "      <th>4798</th>\n",
              "      <td>14.269792</td>\n",
              "      <td>81.0</td>\n",
              "      <td>6.6</td>\n",
              "      <td>238</td>\n",
              "    </tr>\n",
              "    <tr>\n",
              "      <th>4799</th>\n",
              "      <td>0.642552</td>\n",
              "      <td>85.0</td>\n",
              "      <td>5.9</td>\n",
              "      <td>5</td>\n",
              "    </tr>\n",
              "    <tr>\n",
              "      <th>4800</th>\n",
              "      <td>1.444476</td>\n",
              "      <td>120.0</td>\n",
              "      <td>7.0</td>\n",
              "      <td>6</td>\n",
              "    </tr>\n",
              "    <tr>\n",
              "      <th>4801</th>\n",
              "      <td>0.857008</td>\n",
              "      <td>98.0</td>\n",
              "      <td>5.7</td>\n",
              "      <td>7</td>\n",
              "    </tr>\n",
              "    <tr>\n",
              "      <th>4802</th>\n",
              "      <td>1.929883</td>\n",
              "      <td>90.0</td>\n",
              "      <td>6.3</td>\n",
              "      <td>16</td>\n",
              "    </tr>\n",
              "  </tbody>\n",
              "</table>\n",
              "<p>4803 rows × 4 columns</p>\n",
              "</div>"
            ],
            "text/plain": [
              "      popularity  runtime  vote_average  vote_count\n",
              "0     150.437577    162.0           7.2       11800\n",
              "1     139.082615    169.0           6.9        4500\n",
              "2     107.376788    148.0           6.3        4466\n",
              "3     112.312950    165.0           7.6        9106\n",
              "4      43.926995    132.0           6.1        2124\n",
              "...          ...      ...           ...         ...\n",
              "4798   14.269792     81.0           6.6         238\n",
              "4799    0.642552     85.0           5.9           5\n",
              "4800    1.444476    120.0           7.0           6\n",
              "4801    0.857008     98.0           5.7           7\n",
              "4802    1.929883     90.0           6.3          16\n",
              "\n",
              "[4803 rows x 4 columns]"
            ]
          },
          "metadata": {
            "tags": []
          },
          "execution_count": 20
        }
      ]
    },
    {
      "cell_type": "code",
      "metadata": {
        "id": "U8R7zzApazak",
        "colab": {
          "base_uri": "https://localhost:8080/"
        },
        "outputId": "fc90b1d4-6135-4c01-cfd5-0d34bc742995"
      },
      "source": [
        "df_drop1.isnull().sum()"
      ],
      "execution_count": null,
      "outputs": [
        {
          "output_type": "execute_result",
          "data": {
            "text/plain": [
              "popularity      0\n",
              "runtime         2\n",
              "vote_average    0\n",
              "vote_count      0\n",
              "dtype: int64"
            ]
          },
          "metadata": {
            "tags": []
          },
          "execution_count": 21
        }
      ]
    },
    {
      "cell_type": "code",
      "metadata": {
        "id": "6supW2s7enfR",
        "colab": {
          "base_uri": "https://localhost:8080/",
          "height": 391
        },
        "outputId": "6f1a356f-26d4-4ea4-e1e1-4cb42aaff875"
      },
      "source": [
        "concat_df = pd.concat([df_drop1, reco], axis=1)\n",
        "concat_df"
      ],
      "execution_count": null,
      "outputs": [
        {
          "output_type": "execute_result",
          "data": {
            "text/html": [
              "<div>\n",
              "<style scoped>\n",
              "    .dataframe tbody tr th:only-of-type {\n",
              "        vertical-align: middle;\n",
              "    }\n",
              "\n",
              "    .dataframe tbody tr th {\n",
              "        vertical-align: top;\n",
              "    }\n",
              "\n",
              "    .dataframe thead th {\n",
              "        text-align: right;\n",
              "    }\n",
              "</style>\n",
              "<table border=\"1\" class=\"dataframe\">\n",
              "  <thead>\n",
              "    <tr style=\"text-align: right;\">\n",
              "      <th></th>\n",
              "      <th>popularity</th>\n",
              "      <th>runtime</th>\n",
              "      <th>vote_average</th>\n",
              "      <th>vote_count</th>\n",
              "      <th>overview</th>\n",
              "      <th>title</th>\n",
              "    </tr>\n",
              "  </thead>\n",
              "  <tbody>\n",
              "    <tr>\n",
              "      <th>0</th>\n",
              "      <td>150.437577</td>\n",
              "      <td>162.0</td>\n",
              "      <td>7.2</td>\n",
              "      <td>11800</td>\n",
              "      <td>in the 22nd century, a paraplegic marine is di...</td>\n",
              "      <td>avatar</td>\n",
              "    </tr>\n",
              "    <tr>\n",
              "      <th>1</th>\n",
              "      <td>139.082615</td>\n",
              "      <td>169.0</td>\n",
              "      <td>6.9</td>\n",
              "      <td>4500</td>\n",
              "      <td>captain barbossa, long believed to be dead, ha...</td>\n",
              "      <td>pirates of the caribbean: at world's end</td>\n",
              "    </tr>\n",
              "    <tr>\n",
              "      <th>2</th>\n",
              "      <td>107.376788</td>\n",
              "      <td>148.0</td>\n",
              "      <td>6.3</td>\n",
              "      <td>4466</td>\n",
              "      <td>a cryptic message from bond’s past sends him o...</td>\n",
              "      <td>spectre</td>\n",
              "    </tr>\n",
              "    <tr>\n",
              "      <th>3</th>\n",
              "      <td>112.312950</td>\n",
              "      <td>165.0</td>\n",
              "      <td>7.6</td>\n",
              "      <td>9106</td>\n",
              "      <td>following the death of district attorney harve...</td>\n",
              "      <td>the dark knight rises</td>\n",
              "    </tr>\n",
              "    <tr>\n",
              "      <th>4</th>\n",
              "      <td>43.926995</td>\n",
              "      <td>132.0</td>\n",
              "      <td>6.1</td>\n",
              "      <td>2124</td>\n",
              "      <td>john carter is a war-weary, former military ca...</td>\n",
              "      <td>john carter</td>\n",
              "    </tr>\n",
              "    <tr>\n",
              "      <th>...</th>\n",
              "      <td>...</td>\n",
              "      <td>...</td>\n",
              "      <td>...</td>\n",
              "      <td>...</td>\n",
              "      <td>...</td>\n",
              "      <td>...</td>\n",
              "    </tr>\n",
              "    <tr>\n",
              "      <th>4798</th>\n",
              "      <td>14.269792</td>\n",
              "      <td>81.0</td>\n",
              "      <td>6.6</td>\n",
              "      <td>238</td>\n",
              "      <td>el mariachi just wants to play his guitar and ...</td>\n",
              "      <td>el mariachi</td>\n",
              "    </tr>\n",
              "    <tr>\n",
              "      <th>4799</th>\n",
              "      <td>0.642552</td>\n",
              "      <td>85.0</td>\n",
              "      <td>5.9</td>\n",
              "      <td>5</td>\n",
              "      <td>a newlywed couple's honeymoon is upended by th...</td>\n",
              "      <td>newlyweds</td>\n",
              "    </tr>\n",
              "    <tr>\n",
              "      <th>4800</th>\n",
              "      <td>1.444476</td>\n",
              "      <td>120.0</td>\n",
              "      <td>7.0</td>\n",
              "      <td>6</td>\n",
              "      <td>\"signed, sealed, delivered\" introduces a dedic...</td>\n",
              "      <td>signed, sealed, delivered</td>\n",
              "    </tr>\n",
              "    <tr>\n",
              "      <th>4801</th>\n",
              "      <td>0.857008</td>\n",
              "      <td>98.0</td>\n",
              "      <td>5.7</td>\n",
              "      <td>7</td>\n",
              "      <td>when ambitious new york attorney sam is sent t...</td>\n",
              "      <td>shanghai calling</td>\n",
              "    </tr>\n",
              "    <tr>\n",
              "      <th>4802</th>\n",
              "      <td>1.929883</td>\n",
              "      <td>90.0</td>\n",
              "      <td>6.3</td>\n",
              "      <td>16</td>\n",
              "      <td>ever since the second grade when he first saw ...</td>\n",
              "      <td>my date with drew</td>\n",
              "    </tr>\n",
              "  </tbody>\n",
              "</table>\n",
              "<p>4803 rows × 6 columns</p>\n",
              "</div>"
            ],
            "text/plain": [
              "      popularity  ...                                     title\n",
              "0     150.437577  ...                                    avatar\n",
              "1     139.082615  ...  pirates of the caribbean: at world's end\n",
              "2     107.376788  ...                                   spectre\n",
              "3     112.312950  ...                     the dark knight rises\n",
              "4      43.926995  ...                               john carter\n",
              "...          ...  ...                                       ...\n",
              "4798   14.269792  ...                               el mariachi\n",
              "4799    0.642552  ...                                 newlyweds\n",
              "4800    1.444476  ...                 signed, sealed, delivered\n",
              "4801    0.857008  ...                          shanghai calling\n",
              "4802    1.929883  ...                         my date with drew\n",
              "\n",
              "[4803 rows x 6 columns]"
            ]
          },
          "metadata": {
            "tags": []
          },
          "execution_count": 22
        }
      ]
    },
    {
      "cell_type": "markdown",
      "metadata": {
        "id": "ugbnaxrquMMP"
      },
      "source": [
        "#  algorithme TIDF"
      ]
    },
    {
      "cell_type": "code",
      "metadata": {
        "id": "zGbDgK3RHNc4",
        "colab": {
          "base_uri": "https://localhost:8080/"
        },
        "outputId": "cc4c1c18-9a6f-4428-f202-4461a105eb54"
      },
      "source": [
        "C = concat_df['vote_average'].mean()\n",
        "print(C)"
      ],
      "execution_count": null,
      "outputs": [
        {
          "output_type": "stream",
          "text": [
            "6.092171559442011\n"
          ],
          "name": "stdout"
        }
      ]
    },
    {
      "cell_type": "code",
      "metadata": {
        "id": "uqmg68mLHVs1",
        "colab": {
          "base_uri": "https://localhost:8080/"
        },
        "outputId": "d2fd5e7d-18af-43db-9b85-c2603c79806b"
      },
      "source": [
        "m = concat_df['vote_count'].quantile(0.90)\n",
        "print(m)"
      ],
      "execution_count": null,
      "outputs": [
        {
          "output_type": "stream",
          "text": [
            "1838.4000000000015\n"
          ],
          "name": "stdout"
        }
      ]
    },
    {
      "cell_type": "code",
      "metadata": {
        "id": "oYzsojH9HboF",
        "colab": {
          "base_uri": "https://localhost:8080/",
          "height": 391
        },
        "outputId": "437cf90b-23bf-4b58-9929-693b6e054676"
      },
      "source": [
        "q_movies = concat_df.copy().loc[concat_df['vote_count'] >= m]\n",
        "q_movies"
      ],
      "execution_count": null,
      "outputs": [
        {
          "output_type": "execute_result",
          "data": {
            "text/html": [
              "<div>\n",
              "<style scoped>\n",
              "    .dataframe tbody tr th:only-of-type {\n",
              "        vertical-align: middle;\n",
              "    }\n",
              "\n",
              "    .dataframe tbody tr th {\n",
              "        vertical-align: top;\n",
              "    }\n",
              "\n",
              "    .dataframe thead th {\n",
              "        text-align: right;\n",
              "    }\n",
              "</style>\n",
              "<table border=\"1\" class=\"dataframe\">\n",
              "  <thead>\n",
              "    <tr style=\"text-align: right;\">\n",
              "      <th></th>\n",
              "      <th>popularity</th>\n",
              "      <th>runtime</th>\n",
              "      <th>vote_average</th>\n",
              "      <th>vote_count</th>\n",
              "      <th>overview</th>\n",
              "      <th>title</th>\n",
              "    </tr>\n",
              "  </thead>\n",
              "  <tbody>\n",
              "    <tr>\n",
              "      <th>0</th>\n",
              "      <td>150.437577</td>\n",
              "      <td>162.0</td>\n",
              "      <td>7.2</td>\n",
              "      <td>11800</td>\n",
              "      <td>in the 22nd century, a paraplegic marine is di...</td>\n",
              "      <td>avatar</td>\n",
              "    </tr>\n",
              "    <tr>\n",
              "      <th>1</th>\n",
              "      <td>139.082615</td>\n",
              "      <td>169.0</td>\n",
              "      <td>6.9</td>\n",
              "      <td>4500</td>\n",
              "      <td>captain barbossa, long believed to be dead, ha...</td>\n",
              "      <td>pirates of the caribbean: at world's end</td>\n",
              "    </tr>\n",
              "    <tr>\n",
              "      <th>2</th>\n",
              "      <td>107.376788</td>\n",
              "      <td>148.0</td>\n",
              "      <td>6.3</td>\n",
              "      <td>4466</td>\n",
              "      <td>a cryptic message from bond’s past sends him o...</td>\n",
              "      <td>spectre</td>\n",
              "    </tr>\n",
              "    <tr>\n",
              "      <th>3</th>\n",
              "      <td>112.312950</td>\n",
              "      <td>165.0</td>\n",
              "      <td>7.6</td>\n",
              "      <td>9106</td>\n",
              "      <td>following the death of district attorney harve...</td>\n",
              "      <td>the dark knight rises</td>\n",
              "    </tr>\n",
              "    <tr>\n",
              "      <th>4</th>\n",
              "      <td>43.926995</td>\n",
              "      <td>132.0</td>\n",
              "      <td>6.1</td>\n",
              "      <td>2124</td>\n",
              "      <td>john carter is a war-weary, former military ca...</td>\n",
              "      <td>john carter</td>\n",
              "    </tr>\n",
              "    <tr>\n",
              "      <th>...</th>\n",
              "      <td>...</td>\n",
              "      <td>...</td>\n",
              "      <td>...</td>\n",
              "      <td>...</td>\n",
              "      <td>...</td>\n",
              "      <td>...</td>\n",
              "    </tr>\n",
              "    <tr>\n",
              "      <th>4291</th>\n",
              "      <td>63.655973</td>\n",
              "      <td>103.0</td>\n",
              "      <td>7.2</td>\n",
              "      <td>2184</td>\n",
              "      <td>obsessed with teaching his victims the value o...</td>\n",
              "      <td>saw</td>\n",
              "    </tr>\n",
              "    <tr>\n",
              "      <th>4300</th>\n",
              "      <td>66.925866</td>\n",
              "      <td>99.0</td>\n",
              "      <td>8.0</td>\n",
              "      <td>3697</td>\n",
              "      <td>a botched robbery indicates a police informant...</td>\n",
              "      <td>reservoir dogs</td>\n",
              "    </tr>\n",
              "    <tr>\n",
              "      <th>4302</th>\n",
              "      <td>88.377076</td>\n",
              "      <td>161.0</td>\n",
              "      <td>8.1</td>\n",
              "      <td>2311</td>\n",
              "      <td>while the civil war rages between the union an...</td>\n",
              "      <td>the good, the bad and the ugly</td>\n",
              "    </tr>\n",
              "    <tr>\n",
              "      <th>4337</th>\n",
              "      <td>58.845025</td>\n",
              "      <td>114.0</td>\n",
              "      <td>8.0</td>\n",
              "      <td>2535</td>\n",
              "      <td>a mentally unstable vietnam war veteran works ...</td>\n",
              "      <td>taxi driver</td>\n",
              "    </tr>\n",
              "    <tr>\n",
              "      <th>4602</th>\n",
              "      <td>59.259204</td>\n",
              "      <td>96.0</td>\n",
              "      <td>8.2</td>\n",
              "      <td>2078</td>\n",
              "      <td>the defense and the prosecution have rested an...</td>\n",
              "      <td>12 angry men</td>\n",
              "    </tr>\n",
              "  </tbody>\n",
              "</table>\n",
              "<p>481 rows × 6 columns</p>\n",
              "</div>"
            ],
            "text/plain": [
              "      popularity  ...                                     title\n",
              "0     150.437577  ...                                    avatar\n",
              "1     139.082615  ...  pirates of the caribbean: at world's end\n",
              "2     107.376788  ...                                   spectre\n",
              "3     112.312950  ...                     the dark knight rises\n",
              "4      43.926995  ...                               john carter\n",
              "...          ...  ...                                       ...\n",
              "4291   63.655973  ...                                       saw\n",
              "4300   66.925866  ...                            reservoir dogs\n",
              "4302   88.377076  ...            the good, the bad and the ugly\n",
              "4337   58.845025  ...                               taxi driver\n",
              "4602   59.259204  ...                              12 angry men\n",
              "\n",
              "[481 rows x 6 columns]"
            ]
          },
          "metadata": {
            "tags": []
          },
          "execution_count": 25
        }
      ]
    },
    {
      "cell_type": "code",
      "metadata": {
        "id": "VAM2BQSGH2sN"
      },
      "source": [
        "def weighted_rating(x, m=m, C=C):\n",
        "    v = x['vote_count']\n",
        "    R = x['vote_average']\n",
        "    return (v/(v+m) * R) + (m/(m+v) * C)"
      ],
      "execution_count": null,
      "outputs": []
    },
    {
      "cell_type": "code",
      "metadata": {
        "id": "DG_G5yWzH9Jt",
        "colab": {
          "base_uri": "https://localhost:8080/",
          "height": 391
        },
        "outputId": "a253baaa-f66a-41d8-a424-d2489dffb444"
      },
      "source": [
        "q_movies['score'] = q_movies.apply(weighted_rating, axis=1)\n",
        "q_movies"
      ],
      "execution_count": null,
      "outputs": [
        {
          "output_type": "execute_result",
          "data": {
            "text/html": [
              "<div>\n",
              "<style scoped>\n",
              "    .dataframe tbody tr th:only-of-type {\n",
              "        vertical-align: middle;\n",
              "    }\n",
              "\n",
              "    .dataframe tbody tr th {\n",
              "        vertical-align: top;\n",
              "    }\n",
              "\n",
              "    .dataframe thead th {\n",
              "        text-align: right;\n",
              "    }\n",
              "</style>\n",
              "<table border=\"1\" class=\"dataframe\">\n",
              "  <thead>\n",
              "    <tr style=\"text-align: right;\">\n",
              "      <th></th>\n",
              "      <th>popularity</th>\n",
              "      <th>runtime</th>\n",
              "      <th>vote_average</th>\n",
              "      <th>vote_count</th>\n",
              "      <th>overview</th>\n",
              "      <th>title</th>\n",
              "      <th>score</th>\n",
              "    </tr>\n",
              "  </thead>\n",
              "  <tbody>\n",
              "    <tr>\n",
              "      <th>0</th>\n",
              "      <td>150.437577</td>\n",
              "      <td>162.0</td>\n",
              "      <td>7.2</td>\n",
              "      <td>11800</td>\n",
              "      <td>in the 22nd century, a paraplegic marine is di...</td>\n",
              "      <td>avatar</td>\n",
              "      <td>7.050669</td>\n",
              "    </tr>\n",
              "    <tr>\n",
              "      <th>1</th>\n",
              "      <td>139.082615</td>\n",
              "      <td>169.0</td>\n",
              "      <td>6.9</td>\n",
              "      <td>4500</td>\n",
              "      <td>captain barbossa, long believed to be dead, ha...</td>\n",
              "      <td>pirates of the caribbean: at world's end</td>\n",
              "      <td>6.665696</td>\n",
              "    </tr>\n",
              "    <tr>\n",
              "      <th>2</th>\n",
              "      <td>107.376788</td>\n",
              "      <td>148.0</td>\n",
              "      <td>6.3</td>\n",
              "      <td>4466</td>\n",
              "      <td>a cryptic message from bond’s past sends him o...</td>\n",
              "      <td>spectre</td>\n",
              "      <td>6.239396</td>\n",
              "    </tr>\n",
              "    <tr>\n",
              "      <th>3</th>\n",
              "      <td>112.312950</td>\n",
              "      <td>165.0</td>\n",
              "      <td>7.6</td>\n",
              "      <td>9106</td>\n",
              "      <td>following the death of district attorney harve...</td>\n",
              "      <td>the dark knight rises</td>\n",
              "      <td>7.346721</td>\n",
              "    </tr>\n",
              "    <tr>\n",
              "      <th>4</th>\n",
              "      <td>43.926995</td>\n",
              "      <td>132.0</td>\n",
              "      <td>6.1</td>\n",
              "      <td>2124</td>\n",
              "      <td>john carter is a war-weary, former military ca...</td>\n",
              "      <td>john carter</td>\n",
              "      <td>6.096368</td>\n",
              "    </tr>\n",
              "    <tr>\n",
              "      <th>...</th>\n",
              "      <td>...</td>\n",
              "      <td>...</td>\n",
              "      <td>...</td>\n",
              "      <td>...</td>\n",
              "      <td>...</td>\n",
              "      <td>...</td>\n",
              "      <td>...</td>\n",
              "    </tr>\n",
              "    <tr>\n",
              "      <th>4291</th>\n",
              "      <td>63.655973</td>\n",
              "      <td>103.0</td>\n",
              "      <td>7.2</td>\n",
              "      <td>2184</td>\n",
              "      <td>obsessed with teaching his victims the value o...</td>\n",
              "      <td>saw</td>\n",
              "      <td>6.693677</td>\n",
              "    </tr>\n",
              "    <tr>\n",
              "      <th>4300</th>\n",
              "      <td>66.925866</td>\n",
              "      <td>99.0</td>\n",
              "      <td>8.0</td>\n",
              "      <td>3697</td>\n",
              "      <td>a botched robbery indicates a police informant...</td>\n",
              "      <td>reservoir dogs</td>\n",
              "      <td>7.366378</td>\n",
              "    </tr>\n",
              "    <tr>\n",
              "      <th>4302</th>\n",
              "      <td>88.377076</td>\n",
              "      <td>161.0</td>\n",
              "      <td>8.1</td>\n",
              "      <td>2311</td>\n",
              "      <td>while the civil war rages between the union an...</td>\n",
              "      <td>the good, the bad and the ugly</td>\n",
              "      <td>7.210428</td>\n",
              "    </tr>\n",
              "    <tr>\n",
              "      <th>4337</th>\n",
              "      <td>58.845025</td>\n",
              "      <td>114.0</td>\n",
              "      <td>8.0</td>\n",
              "      <td>2535</td>\n",
              "      <td>a mentally unstable vietnam war veteran works ...</td>\n",
              "      <td>taxi driver</td>\n",
              "      <td>7.198026</td>\n",
              "    </tr>\n",
              "    <tr>\n",
              "      <th>4602</th>\n",
              "      <td>59.259204</td>\n",
              "      <td>96.0</td>\n",
              "      <td>8.2</td>\n",
              "      <td>2078</td>\n",
              "      <td>the defense and the prosecution have rested an...</td>\n",
              "      <td>12 angry men</td>\n",
              "      <td>7.210563</td>\n",
              "    </tr>\n",
              "  </tbody>\n",
              "</table>\n",
              "<p>481 rows × 7 columns</p>\n",
              "</div>"
            ],
            "text/plain": [
              "      popularity  runtime  ...                                     title     score\n",
              "0     150.437577    162.0  ...                                    avatar  7.050669\n",
              "1     139.082615    169.0  ...  pirates of the caribbean: at world's end  6.665696\n",
              "2     107.376788    148.0  ...                                   spectre  6.239396\n",
              "3     112.312950    165.0  ...                     the dark knight rises  7.346721\n",
              "4      43.926995    132.0  ...                               john carter  6.096368\n",
              "...          ...      ...  ...                                       ...       ...\n",
              "4291   63.655973    103.0  ...                                       saw  6.693677\n",
              "4300   66.925866     99.0  ...                            reservoir dogs  7.366378\n",
              "4302   88.377076    161.0  ...            the good, the bad and the ugly  7.210428\n",
              "4337   58.845025    114.0  ...                               taxi driver  7.198026\n",
              "4602   59.259204     96.0  ...                              12 angry men  7.210563\n",
              "\n",
              "[481 rows x 7 columns]"
            ]
          },
          "metadata": {
            "tags": []
          },
          "execution_count": 27
        }
      ]
    },
    {
      "cell_type": "code",
      "metadata": {
        "id": "Q73fIxk_IGVV",
        "colab": {
          "base_uri": "https://localhost:8080/",
          "height": 622
        },
        "outputId": "d4fa4698-8ccd-4e78-ddc0-93d87b20ab05"
      },
      "source": [
        "q_movies = q_movies.sort_values('score', ascending=False)\n",
        "#Print the top 15 movies\n",
        "q_movies[['title', 'vote_count', 'vote_average', 'score']].head(20)"
      ],
      "execution_count": null,
      "outputs": [
        {
          "output_type": "execute_result",
          "data": {
            "text/html": [
              "<div>\n",
              "<style scoped>\n",
              "    .dataframe tbody tr th:only-of-type {\n",
              "        vertical-align: middle;\n",
              "    }\n",
              "\n",
              "    .dataframe tbody tr th {\n",
              "        vertical-align: top;\n",
              "    }\n",
              "\n",
              "    .dataframe thead th {\n",
              "        text-align: right;\n",
              "    }\n",
              "</style>\n",
              "<table border=\"1\" class=\"dataframe\">\n",
              "  <thead>\n",
              "    <tr style=\"text-align: right;\">\n",
              "      <th></th>\n",
              "      <th>title</th>\n",
              "      <th>vote_count</th>\n",
              "      <th>vote_average</th>\n",
              "      <th>score</th>\n",
              "    </tr>\n",
              "  </thead>\n",
              "  <tbody>\n",
              "    <tr>\n",
              "      <th>1881</th>\n",
              "      <td>the shawshank redemption</td>\n",
              "      <td>8205</td>\n",
              "      <td>8.5</td>\n",
              "      <td>8.059258</td>\n",
              "    </tr>\n",
              "    <tr>\n",
              "      <th>662</th>\n",
              "      <td>fight club</td>\n",
              "      <td>9413</td>\n",
              "      <td>8.3</td>\n",
              "      <td>7.939256</td>\n",
              "    </tr>\n",
              "    <tr>\n",
              "      <th>65</th>\n",
              "      <td>the dark knight</td>\n",
              "      <td>12002</td>\n",
              "      <td>8.2</td>\n",
              "      <td>7.920020</td>\n",
              "    </tr>\n",
              "    <tr>\n",
              "      <th>3232</th>\n",
              "      <td>pulp fiction</td>\n",
              "      <td>8428</td>\n",
              "      <td>8.3</td>\n",
              "      <td>7.904645</td>\n",
              "    </tr>\n",
              "    <tr>\n",
              "      <th>96</th>\n",
              "      <td>inception</td>\n",
              "      <td>13752</td>\n",
              "      <td>8.1</td>\n",
              "      <td>7.863239</td>\n",
              "    </tr>\n",
              "    <tr>\n",
              "      <th>3337</th>\n",
              "      <td>the godfather</td>\n",
              "      <td>5893</td>\n",
              "      <td>8.4</td>\n",
              "      <td>7.851236</td>\n",
              "    </tr>\n",
              "    <tr>\n",
              "      <th>95</th>\n",
              "      <td>interstellar</td>\n",
              "      <td>10867</td>\n",
              "      <td>8.1</td>\n",
              "      <td>7.809479</td>\n",
              "    </tr>\n",
              "    <tr>\n",
              "      <th>809</th>\n",
              "      <td>forrest gump</td>\n",
              "      <td>7927</td>\n",
              "      <td>8.2</td>\n",
              "      <td>7.803188</td>\n",
              "    </tr>\n",
              "    <tr>\n",
              "      <th>329</th>\n",
              "      <td>the lord of the rings: the return of the king</td>\n",
              "      <td>8064</td>\n",
              "      <td>8.1</td>\n",
              "      <td>7.727243</td>\n",
              "    </tr>\n",
              "    <tr>\n",
              "      <th>1990</th>\n",
              "      <td>the empire strikes back</td>\n",
              "      <td>5879</td>\n",
              "      <td>8.2</td>\n",
              "      <td>7.697884</td>\n",
              "    </tr>\n",
              "    <tr>\n",
              "      <th>262</th>\n",
              "      <td>the lord of the rings: the fellowship of the ring</td>\n",
              "      <td>8705</td>\n",
              "      <td>8.0</td>\n",
              "      <td>7.667341</td>\n",
              "    </tr>\n",
              "    <tr>\n",
              "      <th>2912</th>\n",
              "      <td>star wars</td>\n",
              "      <td>6624</td>\n",
              "      <td>8.1</td>\n",
              "      <td>7.663813</td>\n",
              "    </tr>\n",
              "    <tr>\n",
              "      <th>1818</th>\n",
              "      <td>schindler's list</td>\n",
              "      <td>4329</td>\n",
              "      <td>8.3</td>\n",
              "      <td>7.641883</td>\n",
              "    </tr>\n",
              "    <tr>\n",
              "      <th>3865</th>\n",
              "      <td>whiplash</td>\n",
              "      <td>4254</td>\n",
              "      <td>8.3</td>\n",
              "      <td>7.633781</td>\n",
              "    </tr>\n",
              "    <tr>\n",
              "      <th>330</th>\n",
              "      <td>the lord of the rings: the two towers</td>\n",
              "      <td>7487</td>\n",
              "      <td>8.0</td>\n",
              "      <td>7.623893</td>\n",
              "    </tr>\n",
              "    <tr>\n",
              "      <th>1553</th>\n",
              "      <td>se7en</td>\n",
              "      <td>5765</td>\n",
              "      <td>8.1</td>\n",
              "      <td>7.614534</td>\n",
              "    </tr>\n",
              "    <tr>\n",
              "      <th>94</th>\n",
              "      <td>guardians of the galaxy</td>\n",
              "      <td>9742</td>\n",
              "      <td>7.9</td>\n",
              "      <td>7.613005</td>\n",
              "    </tr>\n",
              "    <tr>\n",
              "      <th>634</th>\n",
              "      <td>the matrix</td>\n",
              "      <td>8907</td>\n",
              "      <td>7.9</td>\n",
              "      <td>7.590704</td>\n",
              "    </tr>\n",
              "    <tr>\n",
              "      <th>2294</th>\n",
              "      <td>spirited away</td>\n",
              "      <td>3840</td>\n",
              "      <td>8.3</td>\n",
              "      <td>7.585209</td>\n",
              "    </tr>\n",
              "    <tr>\n",
              "      <th>77</th>\n",
              "      <td>inside out</td>\n",
              "      <td>6560</td>\n",
              "      <td>8.0</td>\n",
              "      <td>7.582379</td>\n",
              "    </tr>\n",
              "  </tbody>\n",
              "</table>\n",
              "</div>"
            ],
            "text/plain": [
              "                                                  title  ...     score\n",
              "1881                           the shawshank redemption  ...  8.059258\n",
              "662                                          fight club  ...  7.939256\n",
              "65                                      the dark knight  ...  7.920020\n",
              "3232                                       pulp fiction  ...  7.904645\n",
              "96                                            inception  ...  7.863239\n",
              "3337                                      the godfather  ...  7.851236\n",
              "95                                         interstellar  ...  7.809479\n",
              "809                                        forrest gump  ...  7.803188\n",
              "329       the lord of the rings: the return of the king  ...  7.727243\n",
              "1990                            the empire strikes back  ...  7.697884\n",
              "262   the lord of the rings: the fellowship of the ring  ...  7.667341\n",
              "2912                                          star wars  ...  7.663813\n",
              "1818                                   schindler's list  ...  7.641883\n",
              "3865                                           whiplash  ...  7.633781\n",
              "330               the lord of the rings: the two towers  ...  7.623893\n",
              "1553                                              se7en  ...  7.614534\n",
              "94                              guardians of the galaxy  ...  7.613005\n",
              "634                                          the matrix  ...  7.590704\n",
              "2294                                      spirited away  ...  7.585209\n",
              "77                                           inside out  ...  7.582379\n",
              "\n",
              "[20 rows x 4 columns]"
            ]
          },
          "metadata": {
            "tags": []
          },
          "execution_count": 28
        }
      ]
    },
    {
      "cell_type": "code",
      "metadata": {
        "id": "DjPAdeqgIKhG",
        "colab": {
          "base_uri": "https://localhost:8080/"
        },
        "outputId": "fa32e3fb-104a-457e-b98a-0b63c8854927"
      },
      "source": [
        "#Import TfIdfVectorizer from scikit-learn\n",
        "from sklearn.feature_extraction.text import TfidfVectorizer\n",
        "\n",
        "#Define a TF-IDF Vectorizer Object. Remove all english stop words such as 'the', 'a'\n",
        "tfidf = TfidfVectorizer(stop_words='english')\n",
        "\n",
        "#Replace NaN with an empty string\n",
        "q_movies['overview'] = q_movies['overview'].fillna('')\n",
        "\n",
        "#Construct the required TF-IDF matrix by fitting and transforming the data\n",
        "tfidf_matrix = tfidf.fit_transform(q_movies['overview'])\n",
        "\n",
        "#Output the shape of tfidf_matrix\n",
        "tfidf_matrix.shape"
      ],
      "execution_count": null,
      "outputs": [
        {
          "output_type": "execute_result",
          "data": {
            "text/plain": [
              "(481, 5657)"
            ]
          },
          "metadata": {
            "tags": []
          },
          "execution_count": 29
        }
      ]
    },
    {
      "cell_type": "code",
      "metadata": {
        "id": "DFihqa2gIkAF",
        "colab": {
          "base_uri": "https://localhost:8080/"
        },
        "outputId": "068800ae-e228-4d88-bd40-f3301ea7f7f7"
      },
      "source": [
        "from sklearn.metrics.pairwise import linear_kernel\n",
        "from sklearn.feature_extraction.text import TfidfVectorizer\n",
        "# Compute the cosine similarity matrix\n",
        "cosine_sim = linear_kernel(tfidf_matrix, tfidf_matrix)\n",
        "cosine_sim "
      ],
      "execution_count": null,
      "outputs": [
        {
          "output_type": "execute_result",
          "data": {
            "text/plain": [
              "array([[1.        , 0.00683867, 0.        , ..., 0.0085725 , 0.        ,\n",
              "        0.03001496],\n",
              "       [0.00683867, 1.        , 0.        , ..., 0.01888748, 0.        ,\n",
              "        0.08419618],\n",
              "       [0.        , 0.        , 1.        , ..., 0.        , 0.        ,\n",
              "        0.        ],\n",
              "       ...,\n",
              "       [0.0085725 , 0.01888748, 0.        , ..., 1.        , 0.01934522,\n",
              "        0.04045551],\n",
              "       [0.        , 0.        , 0.        , ..., 0.01934522, 1.        ,\n",
              "        0.01860156],\n",
              "       [0.03001496, 0.08419618, 0.        , ..., 0.04045551, 0.01860156,\n",
              "        1.        ]])"
            ]
          },
          "metadata": {
            "tags": []
          },
          "execution_count": 30
        }
      ]
    },
    {
      "cell_type": "code",
      "metadata": {
        "id": "zk2qD1HeJe81",
        "colab": {
          "base_uri": "https://localhost:8080/"
        },
        "outputId": "b58308f7-3654-4494-b9eb-08a37bb0db11"
      },
      "source": [
        "cosine_sim.shape"
      ],
      "execution_count": null,
      "outputs": [
        {
          "output_type": "execute_result",
          "data": {
            "text/plain": [
              "(481, 481)"
            ]
          },
          "metadata": {
            "tags": []
          },
          "execution_count": 31
        }
      ]
    },
    {
      "cell_type": "code",
      "metadata": {
        "id": "d4rEcFfcK0y5",
        "colab": {
          "base_uri": "https://localhost:8080/"
        },
        "outputId": "edf994ab-0d0b-414b-aaf3-354eddde3cf5"
      },
      "source": [
        "q_movies['score'] = q_movies.apply(weighted_rating, axis=1)\n",
        "q_movies['score'] "
      ],
      "execution_count": null,
      "outputs": [
        {
          "output_type": "execute_result",
          "data": {
            "text/plain": [
              "1881    8.059258\n",
              "662     7.939256\n",
              "65      7.920020\n",
              "3232    7.904645\n",
              "96      7.863239\n",
              "          ...   \n",
              "41      5.521697\n",
              "337     5.507643\n",
              "193     5.459420\n",
              "91      5.406234\n",
              "242     5.155730\n",
              "Name: score, Length: 481, dtype: float64"
            ]
          },
          "metadata": {
            "tags": []
          },
          "execution_count": 33
        }
      ]
    },
    {
      "cell_type": "code",
      "metadata": {
        "id": "DiF-ofk_LDql",
        "colab": {
          "base_uri": "https://localhost:8080/",
          "height": 622
        },
        "outputId": "7e170b6d-b951-4be5-dd7f-326d800a3ae3"
      },
      "source": [
        "q_movies = q_movies.sort_values('score', ascending=False)\n",
        "\n",
        "#Print the top 15 movies\n",
        "q_movies[['title', 'vote_count', 'vote_average', 'score']].head(20)"
      ],
      "execution_count": null,
      "outputs": [
        {
          "output_type": "execute_result",
          "data": {
            "text/html": [
              "<div>\n",
              "<style scoped>\n",
              "    .dataframe tbody tr th:only-of-type {\n",
              "        vertical-align: middle;\n",
              "    }\n",
              "\n",
              "    .dataframe tbody tr th {\n",
              "        vertical-align: top;\n",
              "    }\n",
              "\n",
              "    .dataframe thead th {\n",
              "        text-align: right;\n",
              "    }\n",
              "</style>\n",
              "<table border=\"1\" class=\"dataframe\">\n",
              "  <thead>\n",
              "    <tr style=\"text-align: right;\">\n",
              "      <th></th>\n",
              "      <th>title</th>\n",
              "      <th>vote_count</th>\n",
              "      <th>vote_average</th>\n",
              "      <th>score</th>\n",
              "    </tr>\n",
              "  </thead>\n",
              "  <tbody>\n",
              "    <tr>\n",
              "      <th>1881</th>\n",
              "      <td>the shawshank redemption</td>\n",
              "      <td>8205</td>\n",
              "      <td>8.5</td>\n",
              "      <td>8.059258</td>\n",
              "    </tr>\n",
              "    <tr>\n",
              "      <th>662</th>\n",
              "      <td>fight club</td>\n",
              "      <td>9413</td>\n",
              "      <td>8.3</td>\n",
              "      <td>7.939256</td>\n",
              "    </tr>\n",
              "    <tr>\n",
              "      <th>65</th>\n",
              "      <td>the dark knight</td>\n",
              "      <td>12002</td>\n",
              "      <td>8.2</td>\n",
              "      <td>7.920020</td>\n",
              "    </tr>\n",
              "    <tr>\n",
              "      <th>3232</th>\n",
              "      <td>pulp fiction</td>\n",
              "      <td>8428</td>\n",
              "      <td>8.3</td>\n",
              "      <td>7.904645</td>\n",
              "    </tr>\n",
              "    <tr>\n",
              "      <th>96</th>\n",
              "      <td>inception</td>\n",
              "      <td>13752</td>\n",
              "      <td>8.1</td>\n",
              "      <td>7.863239</td>\n",
              "    </tr>\n",
              "    <tr>\n",
              "      <th>3337</th>\n",
              "      <td>the godfather</td>\n",
              "      <td>5893</td>\n",
              "      <td>8.4</td>\n",
              "      <td>7.851236</td>\n",
              "    </tr>\n",
              "    <tr>\n",
              "      <th>95</th>\n",
              "      <td>interstellar</td>\n",
              "      <td>10867</td>\n",
              "      <td>8.1</td>\n",
              "      <td>7.809479</td>\n",
              "    </tr>\n",
              "    <tr>\n",
              "      <th>809</th>\n",
              "      <td>forrest gump</td>\n",
              "      <td>7927</td>\n",
              "      <td>8.2</td>\n",
              "      <td>7.803188</td>\n",
              "    </tr>\n",
              "    <tr>\n",
              "      <th>329</th>\n",
              "      <td>the lord of the rings: the return of the king</td>\n",
              "      <td>8064</td>\n",
              "      <td>8.1</td>\n",
              "      <td>7.727243</td>\n",
              "    </tr>\n",
              "    <tr>\n",
              "      <th>1990</th>\n",
              "      <td>the empire strikes back</td>\n",
              "      <td>5879</td>\n",
              "      <td>8.2</td>\n",
              "      <td>7.697884</td>\n",
              "    </tr>\n",
              "    <tr>\n",
              "      <th>262</th>\n",
              "      <td>the lord of the rings: the fellowship of the ring</td>\n",
              "      <td>8705</td>\n",
              "      <td>8.0</td>\n",
              "      <td>7.667341</td>\n",
              "    </tr>\n",
              "    <tr>\n",
              "      <th>2912</th>\n",
              "      <td>star wars</td>\n",
              "      <td>6624</td>\n",
              "      <td>8.1</td>\n",
              "      <td>7.663813</td>\n",
              "    </tr>\n",
              "    <tr>\n",
              "      <th>1818</th>\n",
              "      <td>schindler's list</td>\n",
              "      <td>4329</td>\n",
              "      <td>8.3</td>\n",
              "      <td>7.641883</td>\n",
              "    </tr>\n",
              "    <tr>\n",
              "      <th>3865</th>\n",
              "      <td>whiplash</td>\n",
              "      <td>4254</td>\n",
              "      <td>8.3</td>\n",
              "      <td>7.633781</td>\n",
              "    </tr>\n",
              "    <tr>\n",
              "      <th>330</th>\n",
              "      <td>the lord of the rings: the two towers</td>\n",
              "      <td>7487</td>\n",
              "      <td>8.0</td>\n",
              "      <td>7.623893</td>\n",
              "    </tr>\n",
              "    <tr>\n",
              "      <th>1553</th>\n",
              "      <td>se7en</td>\n",
              "      <td>5765</td>\n",
              "      <td>8.1</td>\n",
              "      <td>7.614534</td>\n",
              "    </tr>\n",
              "    <tr>\n",
              "      <th>94</th>\n",
              "      <td>guardians of the galaxy</td>\n",
              "      <td>9742</td>\n",
              "      <td>7.9</td>\n",
              "      <td>7.613005</td>\n",
              "    </tr>\n",
              "    <tr>\n",
              "      <th>634</th>\n",
              "      <td>the matrix</td>\n",
              "      <td>8907</td>\n",
              "      <td>7.9</td>\n",
              "      <td>7.590704</td>\n",
              "    </tr>\n",
              "    <tr>\n",
              "      <th>2294</th>\n",
              "      <td>spirited away</td>\n",
              "      <td>3840</td>\n",
              "      <td>8.3</td>\n",
              "      <td>7.585209</td>\n",
              "    </tr>\n",
              "    <tr>\n",
              "      <th>77</th>\n",
              "      <td>inside out</td>\n",
              "      <td>6560</td>\n",
              "      <td>8.0</td>\n",
              "      <td>7.582379</td>\n",
              "    </tr>\n",
              "  </tbody>\n",
              "</table>\n",
              "</div>"
            ],
            "text/plain": [
              "                                                  title  ...     score\n",
              "1881                           the shawshank redemption  ...  8.059258\n",
              "662                                          fight club  ...  7.939256\n",
              "65                                      the dark knight  ...  7.920020\n",
              "3232                                       pulp fiction  ...  7.904645\n",
              "96                                            inception  ...  7.863239\n",
              "3337                                      the godfather  ...  7.851236\n",
              "95                                         interstellar  ...  7.809479\n",
              "809                                        forrest gump  ...  7.803188\n",
              "329       the lord of the rings: the return of the king  ...  7.727243\n",
              "1990                            the empire strikes back  ...  7.697884\n",
              "262   the lord of the rings: the fellowship of the ring  ...  7.667341\n",
              "2912                                          star wars  ...  7.663813\n",
              "1818                                   schindler's list  ...  7.641883\n",
              "3865                                           whiplash  ...  7.633781\n",
              "330               the lord of the rings: the two towers  ...  7.623893\n",
              "1553                                              se7en  ...  7.614534\n",
              "94                              guardians of the galaxy  ...  7.613005\n",
              "634                                          the matrix  ...  7.590704\n",
              "2294                                      spirited away  ...  7.585209\n",
              "77                                           inside out  ...  7.582379\n",
              "\n",
              "[20 rows x 4 columns]"
            ]
          },
          "metadata": {
            "tags": []
          },
          "execution_count": 34
        }
      ]
    },
    {
      "cell_type": "code",
      "metadata": {
        "id": "lRpM0jX_LJLa",
        "colab": {
          "base_uri": "https://localhost:8080/"
        },
        "outputId": "22c42df1-bc67-4a00-bffd-f0dc1447c17e"
      },
      "source": [
        "concat_df['overview'].head(12)"
      ],
      "execution_count": null,
      "outputs": [
        {
          "output_type": "execute_result",
          "data": {
            "text/plain": [
              "0     in the 22nd century, a paraplegic marine is di...\n",
              "1     captain barbossa, long believed to be dead, ha...\n",
              "2     a cryptic message from bond’s past sends him o...\n",
              "3     following the death of district attorney harve...\n",
              "4     john carter is a war-weary, former military ca...\n",
              "5     the seemingly invincible spider-man goes up ag...\n",
              "6     when the kingdom's most wanted-and most charmi...\n",
              "7     when tony stark tries to jumpstart a dormant p...\n",
              "8     as harry begins his sixth year at hogwarts, he...\n",
              "9     fearing the actions of a god-like super hero l...\n",
              "10    superman returns to discover his 5-year absenc...\n",
              "11    quantum of solace continues the adventures of ...\n",
              "Name: overview, dtype: object"
            ]
          },
          "metadata": {
            "tags": []
          },
          "execution_count": 33
        }
      ]
    },
    {
      "cell_type": "code",
      "metadata": {
        "id": "s2axFro2LfmD",
        "colab": {
          "base_uri": "https://localhost:8080/"
        },
        "outputId": "3f72d8a0-0bf3-4818-f139-a6f1fe95e101"
      },
      "source": [
        "from sklearn.feature_extraction.text import TfidfVectorizer\n",
        "#Define a TF-IDF Vectorizer Object. Remove all english stop words such as 'the', 'a'\n",
        "tfidf = TfidfVectorizer(stop_words='english')\n",
        "\n",
        "#Replace NaN with an empty string\n",
        "concat_df['overview'] = concat_df['overview'].fillna('')\n",
        "\n",
        "#Construct the required TF-IDF matrix by fitting and transforming the data\n",
        "tfidf_matrix = tfidf.fit_transform(concat_df['overview'])\n",
        "\n",
        "#Output the shape of tfidf_matrix\n",
        "tfidf_matrix.shape"
      ],
      "execution_count": null,
      "outputs": [
        {
          "output_type": "execute_result",
          "data": {
            "text/plain": [
              "(4803, 20978)"
            ]
          },
          "metadata": {
            "tags": []
          },
          "execution_count": 35
        }
      ]
    },
    {
      "cell_type": "code",
      "metadata": {
        "id": "F_W9-zikLo2J",
        "colab": {
          "base_uri": "https://localhost:8080/"
        },
        "outputId": "d52a3f29-1274-4e68-a761-21db2759bb9f"
      },
      "source": [
        "tfidf.get_feature_names()[5000:5010]"
      ],
      "execution_count": null,
      "outputs": [
        {
          "output_type": "execute_result",
          "data": {
            "text/plain": [
              "['define',\n",
              " 'defined',\n",
              " 'defines',\n",
              " 'defining',\n",
              " 'definite',\n",
              " 'definitely',\n",
              " 'definition',\n",
              " 'definitions',\n",
              " 'deflower',\n",
              " 'deformed']"
            ]
          },
          "metadata": {
            "tags": []
          },
          "execution_count": 36
        }
      ]
    },
    {
      "cell_type": "code",
      "metadata": {
        "id": "XaRzjnuXLs4x",
        "colab": {
          "base_uri": "https://localhost:8080/"
        },
        "outputId": "c0d3a3a2-4c30-474a-dc70-bd020ccffbfc"
      },
      "source": [
        "from sklearn.metrics.pairwise import linear_kernel\n",
        "\n",
        "# Compute the cosine similarity matrix\n",
        "cosine_sim = linear_kernel(tfidf_matrix, tfidf_matrix)\n",
        "cosine_sim"
      ],
      "execution_count": null,
      "outputs": [
        {
          "output_type": "execute_result",
          "data": {
            "text/plain": [
              "array([[1.        , 0.        , 0.        , ..., 0.        , 0.        ,\n",
              "        0.        ],\n",
              "       [0.        , 1.        , 0.        , ..., 0.02160533, 0.        ,\n",
              "        0.        ],\n",
              "       [0.        , 0.        , 1.        , ..., 0.01488159, 0.        ,\n",
              "        0.        ],\n",
              "       ...,\n",
              "       [0.        , 0.02160533, 0.01488159, ..., 1.        , 0.01609091,\n",
              "        0.00701914],\n",
              "       [0.        , 0.        , 0.        , ..., 0.01609091, 1.        ,\n",
              "        0.01171696],\n",
              "       [0.        , 0.        , 0.        , ..., 0.00701914, 0.01171696,\n",
              "        1.        ]])"
            ]
          },
          "metadata": {
            "tags": []
          },
          "execution_count": 37
        }
      ]
    },
    {
      "cell_type": "code",
      "metadata": {
        "id": "cxD-p93rLwMh",
        "colab": {
          "base_uri": "https://localhost:8080/"
        },
        "outputId": "927851ca-3ae3-49b1-877d-d9a8020ee233"
      },
      "source": [
        "cosine_sim.shape"
      ],
      "execution_count": null,
      "outputs": [
        {
          "output_type": "execute_result",
          "data": {
            "text/plain": [
              "(4803, 4803)"
            ]
          },
          "metadata": {
            "tags": []
          },
          "execution_count": 38
        }
      ]
    },
    {
      "cell_type": "code",
      "metadata": {
        "id": "2-0ZUiSqLyr9",
        "colab": {
          "base_uri": "https://localhost:8080/"
        },
        "outputId": "39cf7991-d0d7-4f53-9b8a-9430ce3b3f3d"
      },
      "source": [
        "cosine_sim[1]"
      ],
      "execution_count": null,
      "outputs": [
        {
          "output_type": "execute_result",
          "data": {
            "text/plain": [
              "array([0.        , 1.        , 0.        , ..., 0.02160533, 0.        ,\n",
              "       0.        ])"
            ]
          },
          "metadata": {
            "tags": []
          },
          "execution_count": 39
        }
      ]
    },
    {
      "cell_type": "code",
      "metadata": {
        "id": "h-Pi4exJNNSf",
        "colab": {
          "base_uri": "https://localhost:8080/"
        },
        "outputId": "f8d860fc-62c5-49a7-dfc4-ce7c77080fca"
      },
      "source": [
        "indices = pd.Series(concat_df.index, index=concat_df['title']).drop_duplicates()\n",
        "indices"
      ],
      "execution_count": null,
      "outputs": [
        {
          "output_type": "execute_result",
          "data": {
            "text/plain": [
              "title\n",
              "avatar                                         0\n",
              "pirates of the caribbean: at world's end       1\n",
              "spectre                                        2\n",
              "the dark knight rises                          3\n",
              "john carter                                    4\n",
              "                                            ... \n",
              "el mariachi                                 4798\n",
              "newlyweds                                   4799\n",
              "signed, sealed, delivered                   4800\n",
              "shanghai calling                            4801\n",
              "my date with drew                           4802\n",
              "Length: 4803, dtype: int64"
            ]
          },
          "metadata": {
            "tags": []
          },
          "execution_count": 40
        }
      ]
    },
    {
      "cell_type": "code",
      "metadata": {
        "id": "hlC2St3MNbKD",
        "colab": {
          "base_uri": "https://localhost:8080/"
        },
        "outputId": "9149f8cf-3b30-40f0-d667-9cc95ecfbc5b"
      },
      "source": [
        "indices[:10]"
      ],
      "execution_count": null,
      "outputs": [
        {
          "output_type": "execute_result",
          "data": {
            "text/plain": [
              "title\n",
              "avatar                                      0\n",
              "pirates of the caribbean: at world's end    1\n",
              "spectre                                     2\n",
              "the dark knight rises                       3\n",
              "john carter                                 4\n",
              "spider-man 3                                5\n",
              "tangled                                     6\n",
              "avengers: age of ultron                     7\n",
              "harry potter and the half-blood prince      8\n",
              "batman v superman: dawn of justice          9\n",
              "dtype: int64"
            ]
          },
          "metadata": {
            "tags": []
          },
          "execution_count": 41
        }
      ]
    },
    {
      "cell_type": "code",
      "metadata": {
        "id": "5pACHy_FNfW0"
      },
      "source": [
        "def get_recommendations(title, cosine_sim=cosine_sim):\n",
        "    # Get the index of the movie that matches the title\n",
        "    idx = indices[title]\n",
        "\n",
        "    # Get the pairwsie similarity scores of all movies with that movie\n",
        "    sim_scores = list(enumerate(cosine_sim[idx]))\n",
        "\n",
        "    # Sort the movies based on the similarity scores\n",
        "    sim_scores = sorted(sim_scores, key=lambda x: x[1], reverse=True)\n",
        "\n",
        "    # Get the scores of the 10 most similar movies\n",
        "    sim_scores = sim_scores[1:11]\n",
        "\n",
        "    # Get the movie indices\n",
        "    movie_indices = [i[0] for i in sim_scores]\n",
        "\n",
        "    # Return the top 10 most similar movies\n",
        "    return concat_df['title'].iloc[movie_indices]"
      ],
      "execution_count": null,
      "outputs": []
    },
    {
      "cell_type": "code",
      "metadata": {
        "id": "3A4juK5WNjka",
        "colab": {
          "base_uri": "https://localhost:8080/"
        },
        "outputId": "4a64f88d-d70b-4b83-cd55-3913812f72c1"
      },
      "source": [
        "get_recommendations('spider-man 3')"
      ],
      "execution_count": null,
      "outputs": [
        {
          "output_type": "execute_result",
          "data": {
            "text/plain": [
              "159                   spider-man\n",
              "30                  spider-man 2\n",
              "1534               arachnophobia\n",
              "20        the amazing spider-man\n",
              "38      the amazing spider-man 2\n",
              "1318                   the thing\n",
              "4664                     bronson\n",
              "3610           not easily broken\n",
              "4456       raising victor vargas\n",
              "4276                   def-con 4\n",
              "Name: title, dtype: object"
            ]
          },
          "metadata": {
            "tags": []
          },
          "execution_count": 47
        }
      ]
    },
    {
      "cell_type": "code",
      "metadata": {
        "id": "MSWeV9OaigAK"
      },
      "source": [
        ""
      ],
      "execution_count": null,
      "outputs": []
    }
  ]
}