{
  "nbformat": 4,
  "nbformat_minor": 0,
  "metadata": {
    "colab": {
      "name": "Analyse__de_sentiment_.ipynb",
      "provenance": [],
      "collapsed_sections": []
    },
    "kernelspec": {
      "name": "python3",
      "display_name": "Python 3"
    }
  },
  "cells": [
    {
      "cell_type": "code",
      "metadata": {
        "id": "vbU07GgJY2s-"
      },
      "source": [
        "import numpy as np\n",
        "import pandas as pd \n",
        "import re # \n",
        "import matplotlib.pyplot as plt\n",
        "import seaborn as sns\n",
        "from nltk.corpus import stopwords\n",
        "from nltk.classify import SklearnClassifier\n",
        "from joblib import dump, load\n",
        "import sklearn \n",
        "from sklearn.model_selection import train_test_split\n",
        "from sklearn.datasets import make_classification\n",
        "from sklearn.model_selection import train_test_split\n",
        "from sklearn.pipeline import Pipeline\n",
        "from sklearn.feature_extraction.text import TfidfVectorizer\n",
        "from sklearn.model_selection import train_test_split\n",
        "from sklearn.model_selection import cross_val_score\n",
        "from sklearn.model_selection import GridSearchCV\n",
        "from sklearn.ensemble import RandomForestClassifier\n",
        "from sklearn.metrics import accuracy_score\n",
        "from sklearn.svm import SVC\n",
        "#from sklearn.model_selection import knn\n",
        "from sklearn.svm import SVR\n",
        "from sklearn.preprocessing import StandardScaler\n",
        "from sklearn.naive_bayes import GaussianNB, MultinomialNB, ComplementNB, BernoulliNB, CategoricalNB\n",
        "from sklearn.datasets import make_classification"
      ],
      "execution_count": null,
      "outputs": []
    },
    {
      "cell_type": "code",
      "metadata": {
        "colab": {
          "base_uri": "https://localhost:8080/"
        },
        "id": "rgzJCzg0Y8zo",
        "outputId": "157c7837-20bf-4aed-9d7f-407cac5edf23"
      },
      "source": [
        "!pip install scikit-learn==0.23.2"
      ],
      "execution_count": null,
      "outputs": [
        {
          "output_type": "stream",
          "text": [
            "Requirement already satisfied: scikit-learn==0.23.2 in /usr/local/lib/python3.7/dist-packages (0.23.2)\n",
            "Requirement already satisfied: threadpoolctl>=2.0.0 in /usr/local/lib/python3.7/dist-packages (from scikit-learn==0.23.2) (2.2.0)\n",
            "Requirement already satisfied: numpy>=1.13.3 in /usr/local/lib/python3.7/dist-packages (from scikit-learn==0.23.2) (1.19.5)\n",
            "Requirement already satisfied: joblib>=0.11 in /usr/local/lib/python3.7/dist-packages (from scikit-learn==0.23.2) (1.0.1)\n",
            "Requirement already satisfied: scipy>=0.19.1 in /usr/local/lib/python3.7/dist-packages (from scikit-learn==0.23.2) (1.4.1)\n"
          ],
          "name": "stdout"
        }
      ]
    },
    {
      "cell_type": "code",
      "metadata": {
        "colab": {
          "base_uri": "https://localhost:8080/",
          "height": 35
        },
        "id": "KUsgcAe0_8Ud",
        "outputId": "882432be-d54a-4364-b3f7-152118323fd2"
      },
      "source": [
        "sklearn.__version__"
      ],
      "execution_count": null,
      "outputs": [
        {
          "output_type": "execute_result",
          "data": {
            "application/vnd.google.colaboratory.intrinsic+json": {
              "type": "string"
            },
            "text/plain": [
              "'0.23.2'"
            ]
          },
          "metadata": {
            "tags": []
          },
          "execution_count": 5
        }
      ]
    },
    {
      "cell_type": "code",
      "metadata": {
        "id": "g01rMAcyZQOD"
      },
      "source": [
        "df_texte=pd.read_csv('/content/sample_data/comments_train (1).csv')"
      ],
      "execution_count": null,
      "outputs": []
    },
    {
      "cell_type": "code",
      "metadata": {
        "colab": {
          "base_uri": "https://localhost:8080/"
        },
        "id": "sOo4ZtMOt7XJ",
        "outputId": "49361bdd-7d76-4f92-bb32-8ed8c373072d"
      },
      "source": [
        "!pip install stopwords"
      ],
      "execution_count": null,
      "outputs": [
        {
          "output_type": "stream",
          "text": [
            "Requirement already satisfied: stopwords in /usr/local/lib/python3.7/dist-packages (1.0.0)\n"
          ],
          "name": "stdout"
        }
      ]
    },
    {
      "cell_type": "code",
      "metadata": {
        "colab": {
          "base_uri": "https://localhost:8080/"
        },
        "id": "g6NZqc1Z0iOC",
        "outputId": "fbc90e17-ca96-44f1-b447-753c6f52b37c"
      },
      "source": [
        "!pip install  nltk"
      ],
      "execution_count": null,
      "outputs": [
        {
          "output_type": "stream",
          "text": [
            "Requirement already satisfied: nltk in /usr/local/lib/python3.7/dist-packages (3.2.5)\n",
            "Requirement already satisfied: six in /usr/local/lib/python3.7/dist-packages (from nltk) (1.15.0)\n"
          ],
          "name": "stdout"
        }
      ]
    },
    {
      "cell_type": "code",
      "metadata": {
        "colab": {
          "base_uri": "https://localhost:8080/"
        },
        "id": "mpn7GeYM1VqB",
        "outputId": "31e5b6f9-ac6d-43ca-c738-1ffc1cb36748"
      },
      "source": [
        "!pip install Unidecode\n"
      ],
      "execution_count": null,
      "outputs": [
        {
          "output_type": "stream",
          "text": [
            "Requirement already satisfied: Unidecode in /usr/local/lib/python3.7/dist-packages (1.2.0)\n"
          ],
          "name": "stdout"
        }
      ]
    },
    {
      "cell_type": "code",
      "metadata": {
        "colab": {
          "base_uri": "https://localhost:8080/",
          "height": 356
        },
        "id": "pJXA03jeZ2Iy",
        "outputId": "364b89e0-f23e-4115-84be-62ada07f3a9f"
      },
      "source": [
        "df_texte.head(10)"
      ],
      "execution_count": null,
      "outputs": [
        {
          "output_type": "execute_result",
          "data": {
            "text/html": [
              "<div>\n",
              "<style scoped>\n",
              "    .dataframe tbody tr th:only-of-type {\n",
              "        vertical-align: middle;\n",
              "    }\n",
              "\n",
              "    .dataframe tbody tr th {\n",
              "        vertical-align: top;\n",
              "    }\n",
              "\n",
              "    .dataframe thead th {\n",
              "        text-align: right;\n",
              "    }\n",
              "</style>\n",
              "<table border=\"1\" class=\"dataframe\">\n",
              "  <thead>\n",
              "    <tr style=\"text-align: right;\">\n",
              "      <th></th>\n",
              "      <th>comment</th>\n",
              "      <th>sentiment</th>\n",
              "    </tr>\n",
              "  </thead>\n",
              "  <tbody>\n",
              "    <tr>\n",
              "      <th>0</th>\n",
              "      <td>J'ai réservé ma table quelques mois à l'avance...</td>\n",
              "      <td>Positive</td>\n",
              "    </tr>\n",
              "    <tr>\n",
              "      <th>1</th>\n",
              "      <td>Que dire... Nicolas sale est un chef d excepti...</td>\n",
              "      <td>Positive</td>\n",
              "    </tr>\n",
              "    <tr>\n",
              "      <th>2</th>\n",
              "      <td>Dans une rue tranquille non loin du Panthéon u...</td>\n",
              "      <td>Positive</td>\n",
              "    </tr>\n",
              "    <tr>\n",
              "      <th>3</th>\n",
              "      <td>Rien à redire le restaurant est irréprochablem...</td>\n",
              "      <td>Positive</td>\n",
              "    </tr>\n",
              "    <tr>\n",
              "      <th>4</th>\n",
              "      <td>Comme avec les autres commentaires nos repas é...</td>\n",
              "      <td>Positive</td>\n",
              "    </tr>\n",
              "    <tr>\n",
              "      <th>5</th>\n",
              "      <td>Déjeuner hier avec une copine. Impossible de r...</td>\n",
              "      <td>Positive</td>\n",
              "    </tr>\n",
              "    <tr>\n",
              "      <th>6</th>\n",
              "      <td>Visite dimanche midi accueil super conviviale ...</td>\n",
              "      <td>Positive</td>\n",
              "    </tr>\n",
              "    <tr>\n",
              "      <th>7</th>\n",
              "      <td>Ce restaurant devrait servir d’exemple dans le...</td>\n",
              "      <td>Positive</td>\n",
              "    </tr>\n",
              "    <tr>\n",
              "      <th>8</th>\n",
              "      <td>Oxte sert une cuisine originale et élaborée. M...</td>\n",
              "      <td>Negative</td>\n",
              "    </tr>\n",
              "    <tr>\n",
              "      <th>9</th>\n",
              "      <td>On voulait réserver donc comme tout le monde o...</td>\n",
              "      <td>Negative</td>\n",
              "    </tr>\n",
              "  </tbody>\n",
              "</table>\n",
              "</div>"
            ],
            "text/plain": [
              "                                             comment sentiment\n",
              "0  J'ai réservé ma table quelques mois à l'avance...  Positive\n",
              "1  Que dire... Nicolas sale est un chef d excepti...  Positive\n",
              "2  Dans une rue tranquille non loin du Panthéon u...  Positive\n",
              "3  Rien à redire le restaurant est irréprochablem...  Positive\n",
              "4  Comme avec les autres commentaires nos repas é...  Positive\n",
              "5  Déjeuner hier avec une copine. Impossible de r...  Positive\n",
              "6  Visite dimanche midi accueil super conviviale ...  Positive\n",
              "7  Ce restaurant devrait servir d’exemple dans le...  Positive\n",
              "8  Oxte sert une cuisine originale et élaborée. M...  Negative\n",
              "9  On voulait réserver donc comme tout le monde o...  Negative"
            ]
          },
          "metadata": {
            "tags": []
          },
          "execution_count": 10
        }
      ]
    },
    {
      "cell_type": "code",
      "metadata": {
        "colab": {
          "base_uri": "https://localhost:8080/"
        },
        "id": "luaM0sddaBSZ",
        "outputId": "de66f231-fa08-4aab-df7a-574d26d66c47"
      },
      "source": [
        "df_texte.shape"
      ],
      "execution_count": null,
      "outputs": [
        {
          "output_type": "execute_result",
          "data": {
            "text/plain": [
              "(1617, 2)"
            ]
          },
          "metadata": {
            "tags": []
          },
          "execution_count": 11
        }
      ]
    },
    {
      "cell_type": "code",
      "metadata": {
        "colab": {
          "base_uri": "https://localhost:8080/"
        },
        "id": "8fcScVCHmYfy",
        "outputId": "86300f20-8681-4465-eff1-1b7fa6165a63"
      },
      "source": [
        "!pip install joblib"
      ],
      "execution_count": null,
      "outputs": [
        {
          "output_type": "stream",
          "text": [
            "Requirement already satisfied: joblib in /usr/local/lib/python3.7/dist-packages (1.0.1)\n"
          ],
          "name": "stdout"
        }
      ]
    },
    {
      "cell_type": "code",
      "metadata": {
        "colab": {
          "base_uri": "https://localhost:8080/"
        },
        "id": "m40LQPpulSrc",
        "outputId": "2349b806-29a8-41c1-9cc8-b7838dc2c0cb"
      },
      "source": [
        "load(\"/content/sample_data/sentiment_pipe.joblib\")"
      ],
      "execution_count": null,
      "outputs": [
        {
          "output_type": "execute_result",
          "data": {
            "text/plain": [
              "Pipeline(steps=[('tfidf', TfidfVectorizer()),\n",
              "                ('clf', SVC(C=1000, gamma=0.001))])"
            ]
          },
          "metadata": {
            "tags": []
          },
          "execution_count": 13
        }
      ]
    },
    {
      "cell_type": "code",
      "metadata": {
        "id": "cVFn9By5iF4q"
      },
      "source": [
        "old_pipe=load(\"/content/sample_data/sentiment_pipe.joblib\")"
      ],
      "execution_count": null,
      "outputs": []
    },
    {
      "cell_type": "code",
      "metadata": {
        "colab": {
          "base_uri": "https://localhost:8080/"
        },
        "id": "vhPrTHjwiQxs",
        "outputId": "4485be2a-2512-417b-8091-c8ade1b61759"
      },
      "source": [
        "from sklearn.svm import SVC\n",
        "old_pipe.predict(df_texte.comment)"
      ],
      "execution_count": null,
      "outputs": [
        {
          "output_type": "execute_result",
          "data": {
            "text/plain": [
              "array([1, 1, 1, ..., 1, 1, 1])"
            ]
          },
          "metadata": {
            "tags": []
          },
          "execution_count": 15
        }
      ]
    },
    {
      "cell_type": "code",
      "metadata": {
        "colab": {
          "base_uri": "https://localhost:8080/"
        },
        "id": "hH4yEN0oy71w",
        "outputId": "b036c715-08bb-45ea-e64b-a556198f2784"
      },
      "source": [
        "vectorizer = TfidfVectorizer()\n",
        "X = vectorizer.fit_transform(df_texte['comment'])\n",
        "print(vectorizer.get_feature_names())\n",
        "print(X.shape)"
      ],
      "execution_count": null,
      "outputs": [
        {
          "output_type": "stream",
          "text": [
            "['00', '00h', '01', '03', '06', '08', '10', '100', '1000', '100000', '100g', '109', '11', '110', '114', '11h45', '12', '12460', '12e', '12h25', '13', '13eme', '13h', '13h30', '14', '145', '14h', '14h30', '15', '150', '15h', '15j', '15km', '16', '165', '16em', '17', '170', '172', '179', '17h40', '18', '185', '1880', '19', '190', '1900', '1920', '195', '19eme', '19h', '19h30', '1bol', '1er', '1ere', '1h', '1h30', '1h45', '1minutes', '20', '200', '2001', '2002', '2006', '2009', '200euros', '2011', '2012', '2014', '2015', '2016', '2017', '2018', '20h', '20h00', '20h30', '21', '2190', '21h30', '21h50', '22', '220', '222g', '22h', '22h00', '22h15', '22h25', '22h30', '23', '23h', '23h30', '24', '25', '26', '27', '27ème', '28', '280', '29', '2e', '2eme', '2emefois', '2emme', '2h30', '30', '300g', '30min', '30ème', '31', '310', '33', '330', '34', '35', '350', '36', '38', '39', '39v', '3cl', '3cm', '3e', '3h', '3h30', '3heures', '3légumes', '3ème', '40', '400', '42', '43', '45', '450', '48', '49', '49cl', '4ieme', '4ème', '50', '500', '52', '55', '59', '5min', '5plus', '5ème', '60', '600', '61', '62', '64', '650', '68', '69', '6e', '6eme', '6ieme', '70', '710', '75008', '78', '79', '7ème', '80', '800m', '85', '8eme', '8ème', '90', '900', '92', '9eme', '9h30', '9ème', 'abasourdi', 'abeille', 'abondance', 'abord', 'abordable', 'abordables', 'aborde', 'aboyer', 'abricot', 'abris', 'absence', 'absent', 'absolue', 'absolument', 'abus', 'abuse', 'accent', 'accepte', 'accepter', 'accepté', 'accessible', 'acceuil', 'acceuillis', 'acceuilservice', 'accommodées', 'accompagnait', 'accompagnant', 'accompagne', 'accompagnement', 'accompagnements', 'accompagnent', 'accompagner', 'accompagné', 'accompagnée', 'accompagnées', 'accompagnés', 'accord', 'accords', 'accueil', 'accueillant', 'accueillante', 'accueillantes', 'accueillants', 'accueille', 'accueillent', 'accueilli', 'accueillie', 'accueillies', 'accueillir', 'accueillis', 'accès', 'accéder', 'achalandé', 'achar', 'achat', 'acheter', 'acheté', 'achetés', 'achever', 'acidité', 'acidulé', 'acollée', 'actif', 'actualisée', 'actuelle', 'actuelles', 'adam', 'adaptent', 'adapté', 'adaptés', 'addition', 'adepte', 'adition', 'adjectif', 'adjuger', 'admettre', 'admiratif', 'admissible', 'adorable', 'adorables', 'adore', 'adorent', 'adoré', 'adossé', 'adresse', 'adresses', 'adressée', 'advisor', 'adéquat', 'affabilité', 'affaire', 'affaires', 'affamé', 'affecté', 'afficher', 'affiché', 'affichés', 'affinent', 'affirmer', 'affirmées', 'affluence', 'affordable', 'affèteries', 'afin', 'agacés', 'agapé', 'agar', 'agassé', 'agenda', 'agissait', 'agneau', 'agrandissent', 'agreable', 'agreablement', 'agreeable', 'agressive', 'agrumes', 'agréable', 'agréablement', 'agréables', 'agréableserveurs', 'agrémentée', 'ah', 'ai', 'aie', 'aient', 'aigu', 'ail', 'ailleurs', 'aimable', 'aimables', 'aimais', 'aime', 'aimer', 'aimerait', 'aimez', 'aimions', 'aimé', 'aimés', 'ainsi', 'aions', 'air', 'airs', 'aisance', 'aise', 'ait', 'ajouter', 'ajouté', 'ajoutées', 'ajuster', 'aki', 'al', 'alain', 'albion', 'alchimie', 'alcool', 'alegria', 'alentours', 'alerte', 'alexandre', 'algue', 'algues', 'aligne', 'alimentaire', 'alimentaires', 'aliments', 'all', 'allaient', 'allais', 'allait', 'allant', 'allechante', 'aller', 'allergies', 'allergique', 'allez', 'alliance', 'alliant', 'allie', 'allier', 'allions', 'allié', 'allons', 'allume', 'allé', 'alléchant', 'alléchante', 'alléchantes', 'allée', 'allés', 'alma', 'alors', 'alternative', 'alternatives', 'altèré', 'amabilité', 'amandes', 'amandiers', 'amateur', 'amateurs', 'amazonie', 'ambiance', 'ambiances', 'ambiant', 'ambiante', 'ame', 'amenés', 'amer', 'americains', 'amertume', 'amex', 'ami', 'amicale', 'amie', 'amies', 'amis', 'amispour', 'amitiés', 'amour', 'amoureux', 'amplement', 'amusante', 'amuse', 'amuses', 'amère', 'améliorations', 'améliorée', 'aménagements', 'aménagé', 'américain', 'américaine', 'an', 'ananas', 'anchois', 'ancien', 'ancienne', 'and', 'andouille', 'ange', 'anges', 'angevin', 'anglais', 'angleterre', 'anguille', 'angus', 'animé', 'ann', 'anne', 'anniversaire', 'anniversaires', 'annonce', 'annoncé', 'annoncées', 'annonçait', 'annulation', 'annulé', 'année', 'années', 'anomalie', 'anormal', 'ans', 'anti', 'antipasti', 'antipathique', 'antoine', 'anton', 'août', 'apaisante', 'apaisé', 'aperitif', 'apero', 'app', 'apparaitre', 'appareil', 'apparemment', 'apparence', 'apparences', 'appartant', 'appartement', 'appartenantba', 'appel', 'appelant', 'appelees', 'appeler', 'appelez', 'appellation', 'appelle', 'appellent', 'appelé', 'appercu', 'application', 'applique', 'appliquée', 'apporte', 'apportent', 'apporter', 'apporté', 'apportés', 'apprecie', 'apprehendais', 'apprenne', 'apprentie', 'appriori', 'approche', 'approprié', 'approximatif', 'appréciable', 'apprécie', 'apprécier', 'apprécions', 'apprécié', 'appréciée', 'appréciés', 'appréhension', 'appui', 'appuyant', 'appuyée', 'appétissant', 'appétissants', 'appétit', 'apres', 'après', 'apéritif', 'apéritifs', 'araignée', 'arc', 'arcane', 'argent', 'argenteuil', 'arménien', 'arnaque', 'arnaquer', 'arnaqué', 'arnaud', 'aromatisee', 'arome', 'arraché', 'arrangeant', 'arrangeants', 'arrangement', 'arrangé', 'arretter', 'arrivait', 'arrivant', 'arrive', 'arrivederci', 'arrivee', 'arrivent', 'arriver', 'arrives', 'arrivez', 'arrivons', 'arrivé', 'arrivée', 'arrivées', 'arrivés', 'arrière', 'arrogant', 'arrondissement', 'arrosé', 'arrêt', 'arrêtait', 'arrête', 'arrêter', 'arrêté', 'arrêtés', 'art', 'artichaut', 'artichauts', 'articulé', 'artifice', 'artificiels', 'artisanales', 'artiste', 'artistes', 'arts', 'arty', 'arôme', 'arômes', 'as', 'asap', 'asiatique', 'asiatiques', 'asiatisante', 'asie', 'asif', 'asperge', 'asperges', 'aspic', 'assaisonnement', 'assaisonnements', 'assaisonné', 'assaisonnés', 'assaut', 'assemblage', 'assemblages', 'asseoir', 'assez', 'assiette', 'assiettes', 'assis', 'assisté', 'association', 'associations', 'associer', 'associés', 'assortie', 'assortiment', 'assortiments', 'assortis', 'assurent', 'assurer', 'atelier', 'atmosphère', 'atours', 'atteindre', 'attend', 'attendais', 'attendait', 'attendant', 'attendent', 'attendez', 'attendions', 'attendons', 'attendre', 'attends', 'attendu', 'attendus', 'attente', 'attentes', 'attentif', 'attentifs', 'attention', 'attentionné', 'attentionnée', 'attentionnés', 'attentionnéun', 'attentions', 'atterri', 'attire', 'attiré', 'attirées', 'attirés', 'attiser', 'attitude', 'attractif', 'attractifs', 'attrape', 'attribué', 'attribuées', 'attribués', 'atypique', 'au', 'auberge', 'aubergines', 'aucum', 'aucun', 'aucune', 'audaces', 'audacieux', 'audieux', 'audrey', 'augmentation', 'augmenter', 'augurer', 'auguré', 'aujourd', 'auparavant', 'auprès', 'auquel', 'aura', 'aurai', 'aurais', 'aurait', 'aurez', 'aurions', 'aurons', 'auront', 'aussi', 'austère', 'autaient', 'autant', 'auteur', 'authentique', 'authentiques', 'automne', 'autorise', 'autour', 'autre', 'autres', 'auvergnats', 'auvergne', 'aux', 'avaient', 'avais', 'avaisi', 'avait', 'avalée', 'avance', 'avancée', 'avant', 'avantage', 'avarié', 'avce', 'avec', 'avenant', 'avenir', 'avent', 'aventure', 'aventurez', 'aversions', 'aveugle', 'aveyron', 'avez', 'avide', 'avion', 'avions', 'avis', 'avise', 'avises', 'avisplus', 'avisé', 'avisée', 'avisés', 'avoir', 'avon', 'avons', 'avont', 'avoue', 'avril', 'avère', 'avéré', 'avérée', 'ayant', 'ayons', 'aérien', 'aérienne', 'aériens', 'babines', 'bachir', 'bacon', 'bad', 'bagel', 'bagels', 'baguette', 'baies', 'baignant', 'baigné', 'baisser', 'baissé', 'bajhi', 'balade', 'balbutiant', 'ballade', 'balustrade', 'balzar', 'ban', 'banal', 'banale', 'banales', 'banalité', 'bancaire', 'bancaires', 'banctel', 'bannir', 'bao', 'baptiste', 'bar', 'barbue', 'bardolino', 'barman', 'barquette', 'barrage', 'bars', 'barème', 'bas', 'basant', 'base', 'bases', 'basic', 'basique', 'basiques', 'basmati', 'basque', 'basse', 'bastille', 'basés', 'bateau', 'batiment', 'battante', 'battent', 'bcp', 'beacoup', 'beau', 'beaucoup', 'beauté', 'beaux', 'beef', 'bel', 'belges', 'belle', 'belles', 'bemol', 'bercy', 'bernés', 'besoin', 'betterave', 'beuf', 'beurre', 'bichonné', 'bien', 'bienplus', 'bientot', 'bientôt', 'bienveillance', 'bienveillant', 'bienvenue', 'bienvenus', 'big', 'bijou', 'bilingue', 'bio', 'bios', 'bip', 'bis', 'biscuit', 'bisque', 'bistro', 'bistros', 'bistrot', 'bistrots', 'bitter', 'bizarre', 'bière', 'bières', 'bla', 'black', 'blague', 'blaguent', 'blagueur', 'blanc', 'blanche', 'blancs', 'blanquette', 'blend', 'bleu', 'bleues', 'bleuté', 'blindé', 'bling', 'bluffant', 'bluffée', 'blé', 'bo', 'bobo', 'bobun', 'bocaux', 'boeuf', 'bof', 'boire', 'bois', 'boise', 'boiseries', 'boisson', 'boissons', 'boites', 'bol', 'bolly', 'bollynan', 'bols', 'bon', 'bonheur', 'bonheurs', 'bonjour', 'bonne', 'bonnement', 'bonnes', 'bons', 'bonus', 'bord', 'boschman', 'bouche', 'bouches', 'bouchée', 'boucle', 'boucler', 'boudin', 'bouffe', 'bougies', 'bouillon', 'bouillons', 'boulanger', 'boulangerie', 'boulangers', 'boules', 'boulettes', 'boulevard', 'boulogne', 'boulot', 'bouquet', 'bouquets', 'bourget', 'bourgogne', 'bourratif', 'bourse', 'bout', 'boutary', 'bouteille', 'bouteilles', 'boutique', 'bouts', 'boyau', 'boîte', 'branché', 'bras', 'brasserie', 'brasseries', 'bravo', 'bravoplus', 'brebis', 'bref', 'brestois', 'bretagne', 'breton', 'bretonnes', 'brice', 'brigade', 'brigades', 'brillant', 'brin', 'brins', 'brio', 'brioches', 'brioché', 'brion', 'bristol', 'brochet', 'brochette', 'brochettes', 'brouillon', 'brua', 'bruit', 'bruitages', 'brulé', 'brulée', 'brulés', 'brunch', 'bruncher', 'brunché', 'brune', 'brunes', 'brut', 'bruxelles', 'bruyant', 'bruyante', 'bruyantes', 'bruyère', 'brésil', 'brésilienne', 'brûlée', 'budget', 'buffet', 'buffets', 'bun', 'buns', 'buono', 'burger', 'burgers', 'burrata', 'bus', 'but', 'butter', 'buvant', 'buzz', 'by', 'béatitude', 'bébé', 'bécassines', 'bémol', 'bénéficie', 'bœuf', 'ca', 'cabillaud', 'cacahuète', 'cacao', 'cacaotée', 'cache', 'cacher', 'caché', 'cadeau', 'cadre', 'cadres', 'cafard', 'cafe', 'café', 'cafétéria', 'cage', 'cagibi', 'cahotique', 'caille', 'cailles', 'caisse', 'cakes', 'calamars', 'cales', 'calibré', 'calme', 'calzone', 'cambodgien', 'cambodgienne', 'camembert', 'camouflé', 'campari', 'can', 'canard', 'candeborde', 'canette', 'canettes', 'canne', 'cannelle', 'cannelloni', 'cantine', 'caoutchouteuse', 'caoutchouteux', 'capable', 'capacité', 'capital', 'capitale', 'cappuccino', 'capter', 'car', 'caractère', 'caractériel', 'caractérise', 'caractérisé', 'carafe', 'carambar', 'caramel', 'carbonisée', 'carbonisés', 'cardamome', 'caricatural', 'caricature', 'carnassiers', 'carnet', 'carotte', 'carottes', 'carpaccio', 'carrefour', 'carré', 'carrée', 'carrées', 'carrément', 'carrés', 'carte', 'carteplus', 'cartes', 'carton', 'cas', 'cases', 'cash', 'cassant', 'casse', 'casser', 'castratophique', 'catalan', 'catastrophe', 'catastrophique', 'catelan', 'cathy', 'catégorie', 'catégorique', 'cauchemar', 'cause', 'cave', 'caviar', 'caviste', 'cb', 'ce', 'ceci', 'cela', 'celle', 'celles', 'celui', 'celà', 'cendrier', 'censé', 'centaines', 'centime', 'centre', 'cependant', 'cerise', 'cerises', 'cerisier', 'certain', 'certaine', 'certainement', 'certaines', 'certains', 'certe', 'certes', 'certificat', 'certifier', 'ces', 'cesse', 'cessé', 'cest', 'cet', 'cette', 'ceux', 'cezembre', 'chacun', 'chacune', 'chacunes', 'chaine', 'chaines', 'chair', 'chalance', 'chaland', 'chalereux', 'chaleuleuse', 'chaleur', 'chaleureuse', 'chaleureusement', 'chaleureux', 'chaleureuxavec', 'chambre', 'champagne', 'champagnes', 'champignons', 'champions', 'champs', 'chance', 'change', 'changement', 'changent', 'changer', 'changez', 'changé', 'chantaient', 'chanterelles', 'chanteurs', 'chanteuses', 'chantilly', 'chaotique', 'chapeau', 'chaque', 'charcuterie', 'charcuteries', 'chargé', 'charisme', 'charles', 'charmant', 'charmante', 'charmantes', 'charmants', 'charme', 'charmeront', 'charmé', 'chasse', 'chateaubriand', 'chaud', 'chaude', 'chaudes', 'chauds', 'chauffage', 'chauffages', 'chaussures', 'chaussée', 'chawarma', 'cheddar', 'cheesnan', 'chef', 'chefs', 'chelou', 'chemin', 'cheminplus', 'chemise', 'chene', 'chenin', 'cher', 'cherchait', 'cherchant', 'cherche', 'cherchent', 'chercher', 'cherchez', 'cherchions', 'chere', 'cheres', 'chers', 'chevreuil', 'chewing', 'chez', 'chic', 'chicago', 'chichi', 'chichis', 'chicken', 'chien', 'chiens', 'chiffre', 'chiffres', 'chiken', 'chine', 'chinois', 'chinoisants', 'chips', 'chique', 'chirashi', 'chloé', 'chocolat', 'choice', 'choisi', 'choisie', 'choisir', 'choisis', 'choisissez', 'choisissons', 'choisit', 'choix', 'chopin', 'choquant', 'choqué', 'chose', 'choses', 'chou', 'choucroute', 'chouette', 'choux', 'christian', 'chypriote', 'châtaignes', 'château', 'châteaux', 'chère', 'chères', 'chêne', 'ci', 'ciboulettes', 'cidre', 'cieltourne', 'cigare', 'cinq', 'cinquantaine', 'circuits', 'circulaire', 'citations', 'citron', 'citronelle', 'citronnelle', 'citrus', 'civet', 'clair', 'claire', 'clairement', 'claquer', 'classe', 'classement', 'classicisme', 'classique', 'classiques', 'classé', 'classées', 'claude', 'clean', 'clichy', 'client', 'clientele', 'clients', 'clientèle', 'climatisation', 'clochettes', 'clos', 'closerie', 'clou', 'cloud', 'club', 'clés', 'cnsm', 'cobea', 'cobéa', 'coche', 'cochon', 'cochonne', 'cocktail', 'cocktails', 'coco', 'cocon', 'cocooning', 'cocotte', 'coeur', 'cognac', 'coin', 'coincées', 'cois', 'colbert', 'coleslaw', 'collègue', 'collègues', 'collées', 'coloré', 'colorés', 'com', 'combinaison', 'combler', 'comblés', 'commandaria', 'commande', 'commander', 'commandes', 'commandions', 'commandons', 'commandé', 'commandée', 'comme', 'commence', 'commencer', 'commencé', 'commencée', 'commencés', 'comment', 'commentaire', 'commentaires', 'commentateurs', 'commenter', 'commenté', 'commençait', 'commençons', 'commercial', 'commerciale', 'commerçant', 'commerçants', 'commun', 'commune', 'communiquer', 'communiqués', 'compact', 'compagne', 'compagnie', 'compagnon', 'compagnons', 'comparaison', 'comparativement', 'comparé', 'compassion', 'competent', 'competitif', 'complet', 'complets', 'complexe', 'complexité', 'complique', 'compliqué', 'compliquée', 'complète', 'complètement', 'complétés', 'comportant', 'comporte', 'comportent', 'comporter', 'composer', 'composition', 'compositions', 'composé', 'composée', 'compote', 'compotée', 'comprenant', 'comprend', 'comprendre', 'comprends', 'comprenne', 'comprennent', 'compris', 'comprise', 'compromis', 'comptables', 'compte', 'compter', 'comptes', 'comptoir', 'compétences', 'compétent', 'compétente', 'compétitif', 'compétitifs', 'concentré', 'concept', 'concernant', 'concerne', 'concert', 'concevoir', 'concierge', 'conciergerie', 'concivial', 'conclu', 'concocte', 'concocter', 'concocté', 'concombre', 'concourait', 'concurrence', 'condiment', 'condition', 'conditions', 'conduire', 'conduit', 'conduits', 'confiance', 'confiante', 'confidentiel', 'configuration', 'confinée', 'confirmation', 'confirme', 'confirmer', 'confirmé', 'confirmée', 'confiseries', 'confit', 'confite', 'confiture', 'confondu', 'conforme', 'conformes', 'confort', 'confortable', 'confortablement', 'conforté', 'confrères', 'confusion', 'congelé', 'congelées', 'congrue', 'congrues', 'conjoint', 'conjointe', 'connais', 'connaissais', 'connaissance', 'connaissances', 'connaissant', 'connaissent', 'connaisseur', 'connaisseurs', 'connaissons', 'connait', 'connaît', 'connaître', 'connection', 'connexion', 'connu', 'connue', 'conquis', 'consacrer', 'consciencieux', 'conseil', 'conseille', 'conseiller', 'conseillons', 'conseillé', 'conseillée', 'conseillées', 'conseillés', 'conseils', 'conserve', 'considération', 'consistance', 'consistant', 'consiste', 'consommation', 'consommé', 'conspuent', 'constater', 'constaté', 'consterné', 'constitue', 'constituée', 'conséquence', 'contact', 'contemporain', 'contemporaine', 'content', 'contents', 'contenté', 'contenu', 'contexte', 'contient', 'continu', 'continue', 'continuellement', 'continuent', 'continuer', 'continuez', 'continué', 'contourner', 'contradiction', 'contraint', 'contraire', 'contrairement', 'contre', 'contrefaçon', 'contrefou', 'contretemps', 'contrevous', 'contribue', 'convaincues', 'convenable', 'convenables', 'convenant', 'convenir', 'conventionnelles', 'convenus', 'conversation', 'converser', 'conviction', 'conviendra', 'convient', 'convive', 'convives', 'convivial', 'conviviale', 'convivialité', 'convié', 'conçu', 'cookie', 'cookies', 'cool', 'coolplus', 'cools', 'copains', 'copie', 'copieuse', 'copieuses', 'copieux', 'copine', 'copines', 'coquillages', 'coquilles', 'coquillettes', 'coquine', 'corail', 'cordeau', 'cordial', 'cordialité', 'cordiaux', 'cordoue', 'coriandre', 'cornet', 'cornish', 'correct', 'correcte', 'correctement', 'correctes', 'correctesplus', 'corrects', 'correspond', 'correspondantes', 'correspondent', 'correspondre', 'corriger', 'corsent', 'corses', 'coréen', 'coréenne', 'coréens', 'cosi', 'cossu', 'cost', 'cosy', 'cote', 'cotta', 'coté', 'coucher', 'coucous', 'couleur', 'couleurs', 'coulis', 'couloir', 'coup', 'coupe', 'couper', 'coupes', 'couple', 'couples', 'coupole', 'coups', 'coupés', 'couraient', 'couramment', 'courbettes', 'courchevel', 'courez', 'courge', 'couronner', 'courrez', 'cours', 'course', 'court', 'courte', 'courtois', 'courtoise', 'courtoisie', 'courts', 'couscous', 'couteaux', 'coutumière', 'couverte', 'couverts', 'couvrir', 'coïncidence', 'crabe', 'craméeratéeimmangeable', 'cramés', 'crasseux', 'creatifs', 'creative', 'crepe', 'crepes', 'crevant', 'crevettes', 'criarde', 'cris', 'critique', 'critiquer', 'critiques', 'croirait', 'croire', 'crois', 'croissant', 'croissants', 'croque', 'croustillant', 'croustillante', 'croustillantes', 'croustillants', 'croyais', 'croûte', 'cruelle', 'cruellement', 'crues', 'crus', 'crème', 'crèpes', 'créatif', 'création', 'créative', 'créativité', 'créatrice', 'créditer', 'crémeux', 'crépinettes', 'crêpe', 'crêperie', 'crêpes', 'crêques', 'cuenta', 'cuillères', 'cuir', 'cuisine', 'cuisiner', 'cuisines', 'cuisinier', 'cuisiniers', 'cuisiné', 'cuisinées', 'cuisinés', 'cuisisiner', 'cuisse', 'cuisses', 'cuisson', 'cuissons', 'cuit', 'cuite', 'cuites', 'cuits', 'cuivrées', 'culinaire', 'culinaires', 'culottée', 'culpabilisant', 'curieuse', 'curieux', 'curiosité', 'curry', 'custom', 'cygne', 'cède', 'cèpes', 'céder', 'célèbre', 'célébrer', 'célébrités', 'céramique', 'cêpes', 'cône', 'côte', 'côté', 'côtéplus', 'cœur', 'da', 'daigne', 'daigné', 'dame', 'dames', 'dangeureux', 'daniela', 'dans', 'dar', 'dasn', 'datant', 'daubée', 'dauphinois', 'daurade', 'david', 'de', 'debout', 'debut', 'deception', 'decerestaurant', 'decide', 'deco', 'decor', 'decoration', 'decorés', 'decouvert', 'decouverte', 'decouvrir', 'decu', 'dedans', 'definetely', 'degeu', 'degeulasse', 'degrésplus', 'degustation', 'deguster', 'dehors', 'dej', 'deja', 'dejeuner', 'dejeuné', 'del', 'delavées', 'delicieuse', 'delicieuses', 'delicieux', 'deliveroo', 'delivrait', 'delà', 'demain', 'demande', 'demandent', 'demander', 'demandes', 'demandons', 'demandé', 'demandés', 'demi', 'demie', 'den', 'denis', 'dente', 'depaysant', 'deplace', 'deplorable', 'depose', 'depuis', 'dernier', 'dernière', 'dernièrement', 'dernières', 'derrière', 'des', 'desagreable', 'descente', 'design', 'dessert', 'desserts', 'desservir', 'dessins', 'dessous', 'dessus', 'detour', 'deux', 'deuxieme', 'deuxième', 'devais', 'devait', 'devant', 'devanture', 'devenu', 'devenue', 'devenus', 'devez', 'deviennent', 'devient', 'deviner', 'devions', 'devoir', 'devrait', 'deçeption', 'deçue', 'di', 'diarrhée', 'diego', 'difference', 'difficile', 'difficulté', 'difficultés', 'diffusé', 'différence', 'différencier', 'différent', 'différente', 'différentes', 'différents', 'digestif', 'digne', 'dignes', 'dimanche', 'diminutif', 'diminué', 'diner', 'dinette', 'dingue', 'dinner', 'diné', 'diponible', 'dirai', 'dirais', 'dirait', 'dire', 'direct', 'directement', 'directeur', 'direction', 'directive', 'directrice', 'dirigé', 'dirigés', 'dis', 'disait', 'disant', 'discret', 'discrets', 'discrète', 'discrètement', 'discrétion', 'discussion', 'discussions', 'discuter', 'discuté', 'dise', 'disent', 'disons', 'disparaître', 'disparition', 'dispo', 'disponibilité', 'disponible', 'disponibles', 'disposer', 'disposition', 'disserter', 'dissuader', 'distance', 'distant', 'distillée', 'distingue', 'distinguée', 'distrait', 'distribution', 'dit', 'dites', 'dithyrambiques', 'dits', 'dityrambiques', 'divers', 'diversifié', 'diversité', 'divin', 'divine', 'divines', 'divins', 'divisé', 'divray', 'dix', 'dizaine', 'dizaines', 'diététiques', 'dj', 'djouje', 'dogs', 'doigt', 'doigts', 'dois', 'doit', 'doive', 'doivent', 'dollars', 'domaines', 'domenico', 'dominical', 'dominicale', 'dommage', 'donald', 'donc', 'donnait', 'donnant', 'donne', 'donnent', 'donner', 'donnerait', 'donné', 'donnée', 'donnés', 'dont', 'dormir', 'dorures', 'dosage', 'dosé', 'dosées', 'double', 'doublement', 'douce', 'douceur', 'douleurs', 'doute', 'douterplus', 'douteuse', 'douzaine', 'doué', 'draguer', 'dressage', 'dressée', 'dressées', 'droit', 'drole', 'ds', 'dsk', 'du', 'duke', 'dumas', 'duo', 'dur', 'durant', 'dure', 'dures', 'duré', 'durée', 'duxelle', 'dynamique', 'dynamisme', 'dècorèes', 'dès', 'débarrasser', 'débarrassées', 'débité', 'débordé', 'débordée', 'débordés', 'début', 'débutant', 'débuter', 'décalage', 'décalé', 'décembre', 'déception', 'déceptions', 'déceptionà', 'décevant', 'décevante', 'décevantes', 'décevantmacaron', 'décevants', 'décevra', 'décibels', 'décide', 'décider', 'décidons', 'décidé', 'décidément', 'décliner', 'décliné', 'déclinées', 'déclinés', 'déco', 'déconcertante', 'déconseille', 'déconseilles', 'déconseillons', 'décontracté', 'décontractée', 'décontractés', 'décor', 'décoration', 'décorations', 'décorer', 'décorum', 'décoré', 'décorée', 'décoréel', 'découpe', 'découvert', 'découverte', 'découvertes', 'découvrant', 'découvre', 'découvrir', 'découvrons', 'décrire', 'décrocher', 'décru', 'décu', 'décès', 'dédaigneux', 'dédié', 'dédiée', 'défaillant', 'défavorable', 'défendait', 'définitivement', 'défraîchis', 'dégage', 'dégageaient', 'dégout', 'dégoûtant', 'dégoûtante', 'dégoûtée', 'dégrader', 'dégueulasses', 'dégustation', 'dégustations', 'déguste', 'déguster', 'dégusté', 'dégât', 'déjeuner', 'déjeuné', 'déjà', 'délaisser', 'délibérément', 'délicat', 'délicate', 'délicatement', 'délicates', 'délicatesse', 'délicats', 'délice', 'délices', 'délicieuse', 'délicieusement', 'délicieuses', 'délicieux', 'délier', 'délirant', 'délivre', 'déloger', 'déléguer', 'démarrage', 'démentent', 'démentes', 'dénégations', 'départ', 'départc', 'dépaysement', 'dépit', 'déplace', 'déplacement', 'déplaisant', 'déplorable', 'déplorables', 'déplu', 'déposée', 'déranger', 'dérouler', 'déroulé', 'dés', 'désagréable', 'désagréables', 'désagrément', 'désagréments', 'désastreux', 'désert', 'désespérément', 'désign', 'désirant', 'désirer', 'désirez', 'désirs', 'désistement', 'désolé', 'désordonné', 'désorganisation', 'désoriente', 'désormais', 'déssert', 'désuet', 'déséquilibrés', 'détail', 'détails', 'détendu', 'détendue', 'détente', 'détestable', 'détestant', 'détour', 'détrempé', 'détriment', 'dévolu', 'dévoué', 'déçu', 'déçue', 'déçues', 'déçus', 'dînatoire', 'dîne', 'dîner', 'dîners', 'dîné', 'dû', 'east', 'easy', 'eat', 'eau', 'eauapéro', 'eaux', 'ecailler', 'eclairs', 'ecole', 'edern', 'effacer', 'effacé', 'effectivement', 'effeil', 'effervescence', 'effet', 'effets', 'efficace', 'efficaces', 'efficaceun', 'efficacité', 'effort', 'efforts', 'egalement', 'eh', 'eiffel', 'el', 'elan', 'elegant', 'element', 'elisamulys', 'elizabeth', 'elle', 'elles', 'eloges', 'elvis', 'elysees', 'elysées', 'email', 'emballage', 'emballés', 'embarque', 'embarras', 'emblée', 'embrassades', 'eme', 'emission', 'emmener', 'emmené', 'empesée', 'emplacement', 'employés', 'emporter', 'emporté', 'empresse', 'empressés', 'empêche', 'en', 'enc', 'encadrés', 'encaisse', 'enceinte', 'encensé', 'enchainement', 'enchantement', 'enchanteur', 'enchanté', 'enchantés', 'enchaînent', 'encombré', 'encontre', 'encore', 'encornet', 'encornets', 'encourager', 'encre', 'end', 'endroit', 'endroits', 'enfant', 'enfantin', 'enfants', 'enfer', 'enfin', 'engouement', 'enjoint', 'enlever', 'enlevé', 'enlèvee', 'ennuyeux', 'enregistrement', 'enregistrée', 'enrobées', 'enseigne', 'ensemble', 'ensoleillé', 'ensoleillée', 'ensuite', 'entamé', 'entassés', 'entend', 'entendait', 'entendez', 'entendre', 'entendu', 'enterrement', 'enthousiasme', 'enthousiaste', 'enthousiastes', 'entier', 'entièrement', 'entrant', 'entre', 'entrecôte', 'entree', 'entrees', 'entremets', 'entrer', 'entres', 'entretenu', 'entretien', 'entrez', 'entrons', 'entré', 'entrée', 'entrées', 'entrés', 'envahis', 'envahissant', 'envahit', 'envers', 'envie', 'envies', 'environ', 'environnants', 'environnement', 'envisagez', 'envoûtant', 'epaisseur', 'epices', 'epicure', 'epie', 'epinards', 'epuré', 'equipaplus', 'equipe', 'er', 'eric', 'erithréen', 'errance', 'erreur', 'erreurs', 'erythreennes', 'es', 'escape', 'escargot', 'escargots', 'espace', 'espacement', 'espaces', 'espacées', 'espacés', 'espadon', 'especialmente', 'espoir', 'esprit', 'esprits', 'espèce', 'espère', 'espérances', 'espérer', 'espérons', 'espéré', 'espérée', 'essaye', 'essayer', 'essayez', 'essayons', 'essayé', 'essentiel', 'essentiellement', 'est', 'estampillés', 'estelle', 'esthetique', 'esthètes', 'esthétiquement', 'estomac', 'et', 'etablissement', 'etage', 'etaient', 'etais', 'etait', 'etant', 'etc', 'etes', 'etions', 'etoile', 'etoiles', 'etonnante', 'etre', 'etude', 'eté', 'eu', 'eudes', 'eue', 'eues', 'eugène', 'eur', 'euro', 'europe', 'européen', 'euros', 'eut', 'eux', 'evening', 'eveningfilling', 'event', 'eviter', 'ex', 'exactement', 'exacts', 'exagère', 'excelent', 'excelle', 'excellemment', 'excellence', 'excellent', 'excellente', 'excellentes', 'excellentje', 'excellents', 'exception', 'exceptionnel', 'exceptionnelle', 'exceptionnellement', 'exceptionnelles', 'exceptionnels', 'exceptionnous', 'excepté', 'excessif', 'excessifs', 'excessives', 'excité', 'exclusivement', 'excursion', 'excuse', 'excusez', 'excusés', 'excès', 'exelent', 'exemplaire', 'exemple', 'exeptionnelle', 'exergue', 'exhorbitant', 'exhorbitante', 'exigeant', 'exigeants', 'exigence', 'exigences', 'exigu', 'exiguë', 'existe', 'existence', 'existé', 'exorbitant', 'exorbitants', 'exotiques', 'experience', 'experiences', 'expert', 'expertise', 'explicatif', 'explication', 'explications', 'expliquant', 'expliquants', 'explique', 'expliquer', 'expliquera', 'expliqués', 'explorer', 'explosent', 'explosion', 'expo', 'exposition', 'expositions', 'exprès', 'expédie', 'expédié', 'expérience', 'expériences', 'exquis', 'exquise', 'exquises', 'exsite', 'exterieur', 'exterminent', 'externe', 'extra', 'extraordinaire', 'extraordinairement', 'extraordinaires', 'extrême', 'extrêmement', 'extérieur', 'extérieure', 'exécrable', 'exécutants', 'exécution', 'exécuté', 'exécutée', 'exécutés', 'fabien', 'fabuleuse', 'fabuleuses', 'fabuleux', 'face', 'facebook', 'facile', 'facilement', 'facilité', 'facture', 'facturé', 'fad', 'fadace', 'fade', 'fades', 'faham', 'faible', 'faille', 'faim', 'fain', 'faire', 'fais', 'faisaient', 'faisais', 'faisait', 'faisant', 'faisions', 'faisons', 'fait', 'faite', 'faites', 'faits', 'falafel', 'falafels', 'fallafel', 'fallafels', 'fallait', 'fallu', 'fameux', 'familial', 'familiale', 'familiarisé', 'familiarité', 'familier', 'familière', 'famille', 'fan', 'fans', 'fantasmais', 'fantastique', 'fantastiques', 'farandole', 'farci', 'farcie', 'farfelue', 'fast', 'fatidique', 'fatigué', 'fatigués', 'faubourg', 'faudra', 'fausse', 'faussement', 'fausses', 'faut', 'faute', 'fautes', 'fauteuils', 'faux', 'faveurs', 'favorablement', 'favorables', 'favoris', 'favorite', 'fayette', 'façade', 'façon', 'façons', 'faîtes', 'fb', 'fe', 'felicitations', 'felipe', 'femme', 'femmes', 'fenêtre', 'fenêtres', 'fera', 'feraient', 'ferme', 'fermer', 'fermes', 'fermier', 'fermé', 'fermée', 'fermés', 'fernando', 'festif', 'festival', 'festive', 'feu', 'feuille', 'feuilles', 'feuilletage', 'feutrer', 'feutré', 'feutrée', 'feux', 'fiable', 'fiables', 'fiancé', 'fiancée', 'fiasco', 'fiche', 'fidèle', 'fidèles', 'fier', 'fiez', 'figue', 'figues', 'figure', 'fil', 'file', 'filet', 'filets', 'filipé', 'fille', 'filles', 'film', 'films', 'fils', 'fin', 'final', 'finale', 'finalement', 'find', 'fine', 'finement', 'fineparfaitement', 'fines', 'finesse', 'fini', 'finie', 'finir', 'finis', 'finit', 'fins', 'fioriture', 'fish', 'fishbals', 'fièrement', 'flacons', 'flambé', 'flammes', 'flan', 'flatteur', 'flemme', 'fleur', 'fleuri', 'fleurs', 'florale', 'florales', 'flotte', 'fluide', 'fléchi', 'fléché', 'flûte', 'foi', 'foie', 'foies', 'fois', 'foisc', 'folichon', 'folie', 'folies', 'folles', 'foncez', 'fonction', 'fond', 'fondamentaux', 'fondant', 'fondre', 'fonds', 'fondu', 'fondue', 'fondé', 'font', 'food', 'foodsurprising', 'for', 'force', 'forcé', 'forcément', 'forfait', 'fork', 'formalité', 'forme', 'formes', 'formidable', 'formidableune', 'formuka', 'formule', 'formules', 'fort', 'forte', 'fortement', 'fortes', 'forts', 'fouillis', 'foule', 'four', 'fourchette', 'fourneaux', 'fourni', 'fournie', 'fournir', 'fout', 'foutage', 'foutiste', 'fraiches', 'fraicheur', 'frais', 'francais', 'francaise', 'france', 'franchement', 'franchisée', 'franco', 'franquette', 'français', 'française', 'frappante', 'frappe', 'frappé', 'fraçais', 'fraîche', 'fraîches', 'fraîcheur', 'frechon', 'free', 'french', 'fric', 'fricassée', 'friendly', 'frigo', 'frire', 'frise', 'frisé', 'frite', 'frites', 'frits', 'frittes', 'friture', 'frog', 'froid', 'froide', 'froidement', 'froides', 'froideur', 'fromage', 'fromages', 'frugal', 'fruit', 'fruits', 'frère', 'fréchon', 'frédérique', 'fréquentant', 'fréquentation', 'fréquente', 'fréquenté', 'fréquentée', 'fubuleux', 'fuir', 'fuite', 'fument', 'fumoir', 'furent', 'furieux', 'fusil', 'fusion', 'fut', 'futur', 'futuriste', 'fuyez', 'fèves', 'féminine', 'férié', 'féru', 'fétiches', 'février', 'fêta', 'fêtait', 'fête', 'fêter', 'fêtions', 'fêté', 'fûmes', 'fût', 'gabriel', 'gaché', 'gadgets', 'gaffes', 'gagnaire', 'galerie', 'galette', 'galettes', 'gall', 'gambas', 'game', 'gamme', 'garanti', 'garantie', 'garcia', 'garde', 'garder', 'gardez', 'gardions', 'gardons', 'gardé', 'gardée', 'gare', 'garnies', 'garniesrien', 'garnis', 'garniture', 'garnitures', 'gars', 'garçon', 'gaspiller', 'gastro', 'gastronomes', 'gastronomic', 'gastronomie', 'gastronomique', 'gastronomiques', 'gauche', 'gaufré', 'gavotte', 'gay', 'gazeuse', 'gelati', 'genereux', 'genia', 'genialissime', 'genre', 'gens', 'gentil', 'gentille', 'gentillesse', 'gentils', 'gentiment', 'george', 'georges', 'gerant', 'gerard', 'gerent', 'germain', 'geste', 'gestion', 'gibier', 'gigot', 'gilet', 'gilles', 'gingembre', 'gins', 'giovanni', 'girolle', 'girolles', 'glace', 'glaces', 'glacial', 'glaciale', 'glacier', 'glacé', 'glaçons', 'glissées', 'globale', 'globalement', 'gluten', 'gnocchi', 'gnocchis', 'gogo', 'gomme', 'gorgée', 'gourmand', 'gourmande', 'gourmandes', 'gourmandise', 'gourmandises', 'gourmet', 'gourmets', 'gout', 'gouter', 'gouteuse', 'gouteux', 'gouts', 'goutte', 'gouttes', 'goutus', 'goutés', 'goût', 'goûter', 'goûteuse', 'goûteuses', 'goûteux', 'goûtez', 'goûts', 'goûté', 'grace', 'gradé', 'graisse', 'grammes', 'grand', 'grande', 'grandement', 'grandes', 'grandeur', 'grandiose', 'grandir', 'grands', 'granité', 'gransd', 'grappa', 'gras', 'grasse', 'grasses', 'gratin', 'gratinée', 'gratuit', 'grave', 'gravelax', 'graver', 'gravée', 'great', 'grec', 'green', 'grenaille', 'grenouille', 'grenouilles', 'gribiche', 'grignoter', 'grignotteries', 'grillé', 'grillée', 'grillées', 'grilléla', 'gris', 'grisonnant', 'gros', 'grosse', 'grosses', 'grossesse', 'grossière', 'grossières', 'grossièreté', 'groupe', 'gruyère', 'grâce', 'gré', 'guacamole', 'guettait', 'gueules', 'guide', 'guides', 'guidés', 'guignol', 'guimauve', 'guindé', 'guise', 'gum', 'gustatif', 'gustative', 'gustatives', 'guy', 'guéméné', 'gyosa', 'gâchis', 'gâché', 'gâchée', 'gâte', 'gâteau', 'gâteaux', 'gâtent', 'gène', 'gère', 'génant', 'génial', 'géniale', 'général', 'générale', 'généralement', 'généreuse', 'généreuses', 'généreux', 'générosité', 'géographique', 'gérant', 'gérante', 'gérants', 'gérard', 'gêne', 'gêné', 'ha', 'habilement', 'habitant', 'habitante', 'habite', 'habitons', 'habitude', 'habituel', 'habitué', 'habituée', 'habitués', 'hachée', 'had', 'haddock', 'hai', 'hais', 'halles', 'hallucine', 'halte', 'hamburger', 'hamburgers', 'hanawa', 'handicapés', 'hank', 'happycow', 'hareng', 'haricots', 'harmonie', 'harmonieux', 'harmoniques', 'hasard', 'haut', 'hautain', 'hautaine', 'haute', 'hautement', 'hauteur', 'hauts', 'herbe', 'herbes', 'heure', 'heures', 'heureusement', 'heureuses', 'heureux', 'hexagonaux', 'hexagone', 'hic', 'hier', 'hihihi', 'histoire', 'historique', 'hiver', 'homard', 'homemade', 'homme', 'hommes', 'honneur', 'honneurbravo', 'honnête', 'honorable', 'honoré', 'honte', 'honteuse', 'honteux', 'hop', 'horaires', 'hormis', 'horrible', 'hors', 'hospitalité', 'hot', 'hotel', 'houmous', 'hubert', 'hugo', 'hui', 'huile', 'huileuses', 'huit', 'huitres', 'hum', 'humanité', 'humble', 'humeur', 'humour', 'huître', 'huîtres', 'hygiène', 'hype', 'hyper', 'hypers', 'hâte', 'hélas', 'hésitantes', 'hésitation', 'hésitent', 'hésiter', 'hésitez', 'hésitions', 'hésité', 'hétéroclite', 'hôte', 'hôtel', 'hôtelière', 'hôtellerie', 'hôtels', 'hôtes', 'hôtesse', 'hôtesses', 'ici', 'identité', 'idyllique', 'idéal', 'idéale', 'idéalement', 'idéales', 'idée', 'ignoble', 'ignore', 'ignoré', 'il', 'ilion', 'illimités', 'illisible', 'illuminent', 'illustre', 'ils', 'image', 'imagination', 'imaginative', 'imagine', 'imaginé', 'imaginées', 'imangeable', 'imbattable', 'imbu', 'imbus', 'imbuvable', 'imbuvables', 'imbéciles', 'imed', 'imitant', 'imitation', 'imiter', 'immangeable', 'immense', 'immenses', 'immeuble', 'immédiatement', 'imméritées', 'impact', 'impatient', 'impatients', 'impecable', 'impeccable', 'impeccables', 'impensable', 'impersonnel', 'impertinence', 'impoli', 'impolitesse', 'importance', 'important', 'importe', 'imposait', 'impose', 'impossibilité', 'impossible', 'imposé', 'imposés', 'impression', 'impressionnant', 'impressionner', 'impressionné', 'impressionnée', 'impressionnés', 'improbablevenus', 'improvisé', 'imprécise', 'impécable', 'impérativement', 'in', 'inacceptables', 'inaccessible', 'inadmissible', 'inattendues', 'inattendus', 'incapables', 'incarnée', 'incendie', 'incipide', 'incité', 'inclus', 'incomparable', 'incompetent', 'incompréhension', 'incompétent', 'inconcevable', 'inconditionnel', 'inconfortable', 'inconnu', 'inconnue', 'inconnues', 'inconnus', 'inconsistantes', 'incontestablement', 'incontournable', 'incontournables', 'incorrecte', 'incorrection', 'incroyable', 'incroyablement', 'incroyables', 'inde', 'indean', 'indien', 'indienne', 'indiennes', 'indiens', 'indifférent', 'indifférents', 'indigne', 'indignes', 'indignés', 'indiquant', 'indique', 'indiqué', 'indispensable', 'indispensables', 'individuel', 'individuels', 'indonésie', 'industrielle', 'industrielles', 'industriels', 'indésirables', 'inefficace', 'inexistante', 'inexpérimenté', 'infamie', 'infect', 'infecte', 'infectes', 'infinite', 'influence', 'influences', 'info', 'information', 'informe', 'informes', 'informé', 'inférieures', 'ingrédient', 'ingrédients', 'inhabituel', 'inhabituelles', 'inhérentes', 'initial', 'initialement', 'injustement', 'inmanquable', 'inneficace', 'innovant', 'innovante', 'innovants', 'innovation', 'inoubliable', 'inoubliables', 'insatisfaction', 'insignifiant', 'insinué', 'insipide', 'insipides', 'insistance', 'insistante', 'insisté', 'insonorisé', 'inspecteurs', 'inspirante', 'inspiration', 'inspire', 'inspiré', 'instable', 'installe', 'installer', 'installez', 'installées', 'installés', 'instant', 'instar', 'institution', 'insuffisante', 'insulté', 'insuportablement', 'insupportable', 'insurger', 'integre', 'intelligentes', 'intensité', 'interdits', 'interet', 'interloquée', 'interminable', 'internationale', 'internet', 'interpelle', 'interpellera', 'interpellé', 'intervenir', 'intime', 'intimidant', 'intimiste', 'intimité', 'intolérance', 'intolérances', 'intolérante', 'intolérences', 'intrigues', 'introduire', 'introuvable', 'intrusif', 'intégralité', 'intéressant', 'intéressante', 'intéressantes', 'intéressants', 'intéresser', 'intérieur', 'intérêt', 'inutile', 'inutiles', 'inventer', 'inventif', 'inventifs', 'inventive', 'inventivité', 'inverse', 'invitation', 'invite', 'invitent', 'inviter', 'invitions', 'invité', 'invitée', 'invités', 'inédit', 'inédite', 'inégalable', 'inéluctable', 'ira', 'irai', 'irait', 'iran', 'iranien', 'iranienne', 'iraniennes', 'iraniens', 'iranniene', 'ironique', 'irrespectueuse', 'irrespectueux', 'irréprochable', 'irréprochablement', 'irréprochables', 'ischia', 'issus', 'italie', 'italien', 'italienne', 'italiennes', 'italiens', 'ixème', 'jaboulet', 'jacques', 'jamais', 'jambes', 'jambon', 'janin', 'janvier', 'japon', 'japonais', 'japonaise', 'japonaises', 'japonnaise', 'jardin', 'jardins', 'jarret', 'jaune', 'je', 'jean', 'jeanne', 'jeannes', 'jeter', 'jettes', 'jeté', 'jeu', 'jeudi', 'jeune', 'jeunes', 'jeunesse', 'jeux', 'jgr', 'joie', 'joies', 'joindre', 'joins', 'joli', 'jolie', 'jolies', 'joliment', 'jolis', 'josé', 'jouissif', 'jouit', 'jour', 'journée', 'jours', 'joviales', 'joyau', 'joëlle', 'jp', 'judicieuses', 'judicieux', 'jugement', 'juillet', 'juin', 'julien', 'jumin', 'jus', 'jusqu', 'jusque', 'juste', 'justes', 'justesprésentation', 'justice', 'justifiait', 'justifiant', 'justifications', 'justifie', 'justifient', 'justifier', 'justifiée', 'justifiées', 'justifiés', 'juteuse', 'juxtapositions', 'jérôme', 'kai', 'kaiser', 'kebab', 'kei', 'ketchup', 'kgb', 'kilo', 'kilomètres', 'kinzo', 'kir', 'kitchen', 'kjdhd', 'kobe', 'kobé', 'kodawari', 'kong', 'korean', 'koubide', 'kozy', 'kub', 'kugorawa', 'la', 'lafourchette', 'laid', 'laissaient', 'laissait', 'laissant', 'laisse', 'laisser', 'laissera', 'laissez', 'laissé', 'laissées', 'laissés', 'lait', 'laitiers', 'lamentable', 'lames', 'langoustine', 'langoustines', 'langue', 'lanvi', 'lanzhou', 'laquelle', 'large', 'largement', 'lasagnes', 'lasse', 'latin', 'latino', 'laure', 'lavash', 'le', 'lecture', 'ledeuil', 'leger', 'legers', 'lent', 'lente', 'lenteur', 'lentilles', 'lequel', 'lerestaurent', 'les', 'lesquelles', 'lettre', 'leur', 'leurs', 'levinson', 'libanais', 'libanaise', 'libre', 'libère', 'liegeois', 'lieu', 'lieux', 'lievre', 'light', 'ligne', 'lilas', 'lillois', 'limininaire', 'limite', 'limites', 'limité', 'limitée', 'limougeauds', 'lipp', 'liquide', 'lire', 'lis', 'lisbonne', 'liste', 'lit', 'littéralement', 'livraison', 'livre', 'livrer', 'livré', 'lièvre', 'lié', 'liés', 'local', 'localisation', 'logeait', 'loin', 'lointains', 'lois', 'lol', 'lombards', 'long', 'longtemps', 'longue', 'look', 'lors', 'lorsqu', 'lorsque', 'lot', 'louis', 'loulous', 'lounge', 'loupée', 'lourd', 'lourde', 'low', 'loyer', 'lu', 'lucas', 'lugubre', 'lui', 'lumineuse', 'lumineux', 'lumière', 'lumières', 'lundi', 'lundis', 'lunettes', 'luxe', 'luxueux', 'là', 'làplus', 'lâche', 'lève', 'lèvres', 'léchions', 'léger', 'légume', 'légumes', 'légère', 'légèrement', 'légères', 'légèreté', 'ma', 'mac', 'macadamia', 'macaroni', 'macaronis', 'macarons', 'macau', 'machine', 'madame', 'madeleine', 'madeleines', 'madère', 'madérisé', 'maestria', 'magie', 'magique', 'magnifique', 'magnifiquement', 'magnifiques', 'magné', 'magret', 'mai', 'maigre', 'mail', 'mains', 'maintenant', 'mais', 'maison', 'maisons', 'maitre', 'maitrise', 'maitrisse', 'maitrisée', 'majestueuse', 'majestueux', 'majeure', 'majoritairement', 'maki', 'makis', 'mal', 'malade', 'maladroit', 'malchance', 'malgrè', 'malgré', 'malheur', 'malheureusement', 'malpolie', 'maltraitées', 'maman', 'mamie', 'mamma', 'man', 'manager', 'mandarin', 'mandarine', 'mange', 'mangeable', 'mangeables', 'mangeait', 'manger', 'mangez', 'mangions', 'mangue', 'mangé', 'manière', 'manquait', 'manquant', 'manque', 'manquent', 'manquer', 'manquerait', 'maqnifique', 'maquereau', 'marais', 'marc', 'marchand', 'marchande', 'marche', 'marché', 'marchétout', 'marcon', 'mardi', 'margarita', 'mari', 'mariage', 'mariages', 'marie', 'marier', 'marines', 'mariné', 'marié', 'mariés', 'marmites', 'marque', 'marquer', 'marronniers', 'mars', 'marseillais', 'marx', 'masala', 'mascarpone', 'maso', 'masquant', 'masqué', 'massala', 'match', 'matcha', 'matin', 'matinée', 'matière', 'matsuri', 'maturation', 'mauvais', 'mauvaise', 'mauvaises', 'max', 'maxi', 'maximale', 'maximum', 'mayo', 'mayonnaise', 'maître', 'maîtres', 'maîtresse', 'maîtrise', 'maîtrisé', 'maîtrisée', 'mc', 'me', 'mediocre', 'meilleur', 'meilleure', 'meilleures', 'meilleurs', 'mejor', 'meme', 'menace', 'menetou', 'ment', 'menthe', 'menthetiède', 'mention', 'menu', 'menus', 'menées', 'mer', 'merci', 'merciplus', 'mercredi', 'merguez', 'meringue', 'merite', 'meriter', 'merlan', 'mersea', 'merveille', 'merveilles', 'merveilleuse', 'merveilleusement', 'merveilleuses', 'merveilleux', 'mes', 'message', 'messieurs', 'mesure', 'met', 'mets', 'mettant', 'mettez', 'mettre', 'meurette', 'mexicain', 'mexicaine', 'mexican', 'mexique', 'mia', 'miam', 'michel', 'michelin', 'micro', 'microscopiques', 'midi', 'midis', 'mie', 'miel', 'mien', 'mienne', 'mieux', 'mignardises', 'mignon', 'mignons', 'milieu', 'mille', 'millefeuille', 'milliers', 'millimetré', 'million', 'min', 'mina', 'minable', 'mine', 'mini', 'miniardises', 'minimal', 'minimaliste', 'minimalistes', 'minime', 'minimes', 'minimum', 'miniscule', 'minuscule', 'minuscules', 'minute', 'minutes', 'minutie', 'minutieux', 'minérale', 'mirabelle', 'miroirs', 'mis', 'mise', 'mises', 'miso', 'mission', 'mixte', 'miyazaki', 'mmontparnadse', 'mn', 'mob', 'mobilier', 'mobster', 'moche', 'mode', 'moderation', 'moderne', 'moderniser', 'modernité', 'modeste', 'modifications', 'modifier', 'modérée', 'moelle', 'moelleux', 'moi', 'moindre', 'moindres', 'moins', 'mois', 'moitié', 'mojito', 'mole', 'molles', 'molto', 'moment', 'moments', 'mon', 'monacale', 'monde', 'mondialement', 'monnaie', 'monsieur', 'montagnard', 'montagnes', 'montant', 'monter', 'montmartre', 'montparnasse', 'montré', 'moque', 'moquer', 'moqueur', 'moral', 'morceaux', 'moret', 'moribondes', 'mot', 'motivé', 'motivés', 'mots', 'mou', 'moucherons', 'mouffetard', 'moules', 'moulin', 'moultes', 'mousse', 'moutarde', 'moyen', 'moyenne', 'moyennement', 'moyennes', 'moyens', 'mozzarella', 'mozzas', 'mr', 'mulet', 'multiples', 'multitude', 'mumi', 'mundo', 'mur', 'mural', 'murs', 'musical', 'musique', 'must', 'musée', 'mutiste', 'my', 'myriade', 'myrtilles', 'mythique', 'mère', 'mères', 'mètre', 'mètres', 'mécanique', 'mécontents', 'médecin', 'médiatisé', 'médiocre', 'médiocres', 'méditation', 'méditerranée', 'médium', 'mélange', 'mélangeant', 'mélangent', 'mélanger', 'mélanges', 'mélangée', 'mémoire', 'mémoires', 'mémorable', 'mémorables', 'méprendre', 'méprisant', 'méritant', 'mérite', 'méritent', 'mériter', 'mériterait', 'méritées', 'mérités', 'métier', 'métiers', 'métro', 'météo', 'mêlant', 'même', 'mêmes', 'naan', 'nage', 'nagent', 'nan', 'nancy', 'nans', 'napolitaines', 'naranja', 'narcis', 'narciz', 'nata', 'nature', 'naturel', 'naturellement', 'naufrage', 'navrant', 'ne', 'nectar', 'needed', 'negatif', 'neige', 'nems', 'nerfs', 'nerveuse', 'net', 'nets', 'nettement', 'neuf', 'neutre', 'neutres', 'nez', 'ni', 'niché', 'nickel', 'nico', 'nicolas', 'night', 'niveau', 'no', 'nobles', 'noir', 'noire', 'noires', 'noirs', 'noix', 'nom', 'nombre', 'nombreuse', 'nombreuses', 'nombreux', 'nommé', 'noms', 'non', 'nonchalant', 'normal', 'norme', 'norvégienne', 'nos', 'nossa', 'notamment', 'note', 'noter', 'notes', 'notoriété', 'notre', 'noté', 'nougat', 'nouille', 'nouilles', 'nounours', 'nourriture', 'nous', 'nouveau', 'nouveautés', 'nouveaux', 'nouvel', 'nouvelle', 'nouvelles', 'novateur', 'novatrice', 'novembre', 'noyé', 'noyées', 'nuage', 'nuit', 'nuits', 'nul', 'nulle', 'numéro', 'nutella', 'nº', 'né', 'néanmoins', 'nécessaire', 'nécessairement', 'nécessité', 'négatif', 'négatifs', 'négative', 'objet', 'obligations', 'obligatoire', 'obligatoires', 'oblige', 'obliger', 'obligé', 'obscurité', 'observation', 'obséquieux', 'obséquiosité', 'obtenir', 'obtenu', 'obtiendrez', 'occasion', 'occasionnellement', 'occasions', 'occidentale', 'occupe', 'occuper', 'occupé', 'occupées', 'octobre', 'océan', 'odeur', 'odeurs', 'odieux', 'odorat', 'odyssee', 'oeil', 'oeuf', 'oeufs', 'oeuvre', 'oeuvres', 'offert', 'offerte', 'offertes', 'offerts', 'officiait', 'officiellement', 'officielles', 'officier', 'offrait', 'offre', 'offrent', 'offres', 'offrir', 'offrira', 'offrons', 'offusqué', 'ogre', 'oie', 'oignon', 'oignons', 'ok', 'olive', 'olives', 'ombre', 'omelette', 'omniprésent', 'on', 'onctueuses', 'onde', 'ondes', 'onglet', 'onions', 'ont', 'ontinu', 'opinion', 'opportunité', 'opposé', 'oppressé', 'option', 'options', 'optons', 'opté', 'opère', 'opération', 'opére', 'orange', 'orateur', 'ordre', 'oreille', 'organisant', 'organisation', 'orgie', 'orgue', 'orgueilleuse', 'orient', 'oriental', 'orientale', 'orienté', 'original', 'originale', 'originales', 'originalité', 'originalités', 'originaux', 'origine', 'orloff', 'ormeaux', 'orsay', 'os', 'ostentation', 'ostentatoire', 'ostreiculteur', 'osé', 'ou', 'oublie', 'oublier', 'oublierai', 'oublié', 'oubliée', 'ouest', 'ouf', 'oui', 'our', 'oursins', 'outre', 'outrés', 'ouvert', 'ouverte', 'ouverts', 'ouverture', 'ouvre', 'ouvrir', 'overratings', 'oxte', 'où', 'oú', 'pad', 'page', 'paie', 'paille', 'pain', 'paine', 'pains', 'pair', 'paisible', 'pakistanais', 'palace', 'palaces', 'palais', 'palece', 'palet', 'palets', 'palmiers', 'palourde', 'panais', 'panini', 'paninis', 'panna', 'pans', 'panthéon', 'papa', 'papier', 'papille', 'papilles', 'papillesl', 'papillon', 'par', 'parait', 'parallèle', 'paraît', 'parce', 'parceque', 'parcimonieusement', 'parcours', 'pardi', 'pardonner', 'pardonné', 'pareil', 'parents', 'parfais', 'parfait', 'parfaite', 'parfaitement', 'parfaites', 'parfaits', 'parfaitun', 'parfois', 'parfum', 'parfums', 'parfumé', 'parfumée', 'parfuméedenseparfaite', 'parie', 'paris', 'parisien', 'parisienne', 'parisiennes', 'parisiens', 'parisplus', 'parlait', 'parle', 'parler', 'parlé', 'parme', 'parmentier', 'parmesan', 'parmi', 'parmis', 'parsemés', 'part', 'partage', 'partageons', 'partager', 'partagé', 'partagées', 'partagés', 'partait', 'parte', 'partenaire', 'parti', 'participe', 'particularités', 'particulier', 'particulière', 'particulièrement', 'particulières', 'partie', 'partions', 'partir', 'partis', 'partons', 'partout', 'parts', 'paru', 'pas', 'passable', 'passage', 'passages', 'passait', 'passant', 'passe', 'passent', 'passer', 'passera', 'passerez', 'passez', 'passiez', 'passion', 'passionnant', 'passionné', 'passionnés', 'passons', 'passé', 'passée', 'passées', 'passés', 'pasteis', 'patate', 'pate', 'pathétique', 'patience', 'patient', 'patienter', 'patienté', 'patisseries', 'patissier', 'pato', 'patrice', 'patrimoine', 'patron', 'patronne', 'patrons', 'paul', 'pause', 'pauvre', 'pauvres', 'paye', 'payer', 'payes', 'pays', 'payé', 'paz', 'pdt', 'peine', 'peint', 'peinture', 'pendant', 'pensais', 'pensait', 'pensant', 'pense', 'pensez', 'pensions', 'pensé', 'pensées', 'peps', 'perchée', 'perd', 'perde', 'perdent', 'perdre', 'perdue', 'pere', 'perfection', 'perfide', 'periode', 'permanence', 'permanent', 'permet', 'permettant', 'permettent', 'permettrait', 'permis', 'pernand', 'pers', 'personel', 'personnage', 'personnalisation', 'personnalisé', 'personnalité', 'personnalités', 'personne', 'personnel', 'personnelle', 'personnellement', 'personnels', 'personnes', 'pertinente', 'pertinents', 'pete', 'petit', 'petite', 'petites', 'petits', 'peu', 'peuplent', 'peut', 'peuvent', 'peux', 'pg', 'pharmaceutiques', 'phase', 'philharmonie', 'pho', 'photo', 'photos', 'phrase', 'physiques', 'pianovin', 'pianovins', 'pichet', 'picon', 'piece', 'pied', 'pieds', 'piege', 'pieges', 'pierre', 'pierres', 'pigale', 'pigalle', 'pigeon', 'pigeonneau', 'piles', 'pilote', 'piments', 'pinces', 'pinot', 'pintade', 'pintes', 'piquante', 'pire', 'pistache', 'pistaches', 'pita', 'pitoyable', 'pittoresque', 'pizza', 'pizzaiolo', 'pizzas', 'pizzeria', 'pièce', 'piège', 'piètre', 'place', 'placeambiance', 'places', 'placette', 'placé', 'placécadre', 'placée', 'placés', 'plafond', 'plaindre', 'plaint', 'plaisant', 'plaisanterie', 'plaisanteries', 'plaisir', 'plaisirs', 'plaisirservice', 'plan', 'planches', 'plane', 'plans', 'planète', 'plaque', 'plaques', 'plastique', 'plat', 'plateau', 'plateaux', 'plats', 'plaît', 'plein', 'pleine', 'pleinement', 'pleins', 'pleurer', 'plongera', 'plouc', 'plu', 'pluie', 'plupart', 'plus', 'plusieurs', 'plusle', 'plutot', 'plutôt', 'pluvieux', 'poche', 'poché', 'poellé', 'poignée', 'poil', 'point', 'pointe', 'points', 'poire', 'poireaux', 'poires', 'pois', 'poisson', 'poissons', 'poitrine', 'poivrons', 'poivré', 'polie', 'politesse', 'polémique', 'pomme', 'pommes', 'pompeux', 'pompidou', 'pompon', 'ponpon', 'pop', 'populaire', 'porc', 'porte', 'portefeuille', 'porter', 'portion', 'portions', 'porté', 'portée', 'pose', 'poser', 'positif', 'positifs', 'position', 'positionnés', 'positive', 'positives', 'possibilité', 'possibilités', 'possible', 'possèdent', 'posées', 'pot', 'potagère', 'potatoes', 'potence', 'potentielle', 'potes', 'pots', 'poubelle', 'pouce', 'poulet', 'poulets', 'poulpe', 'poulpes', 'pour', 'pourboire', 'pournotre', 'pourquoi', 'pourra', 'pourraient', 'pourrait', 'pourries', 'pourtant', 'pousse', 'poussent', 'pousser', 'poussez', 'poussiéreux', 'poussé', 'poutargue', 'pouvais', 'pouvait', 'pouvant', 'pouvez', 'pouvions', 'pouvoir', 'pouvons', 'poésie', 'poêlé', 'prague', 'praliné', 'pratique', 'pratiquement', 'pre', 'preferais', 'premier', 'premiere', 'premiers', 'première', 'premièrement', 'premières', 'prenant', 'prend', 'prendre', 'prends', 'prenez', 'prenne', 'prennent', 'prennes', 'prenons', 'prepara', 'prepareé', 'pres', 'presentation', 'presente', 'presque', 'pressait', 'presser', 'pressé', 'pressée', 'pressés', 'prestance', 'prestation', 'prestations', 'prestige', 'prestigieux', 'presume', 'preuve', 'prices', 'prie', 'principal', 'principale', 'principaux', 'priori', 'priorité', 'pris', 'prise', 'prises', 'prisé', 'prit', 'privatisé', 'privilège', 'privilégiés', 'privé', 'prix', 'prixc', 'pro', 'probablement', 'problème', 'problèmes', 'processus', 'prochaine', 'prochainement', 'proche', 'proches', 'procurent', 'produit', 'produits', 'professionalisme', 'professionnalisme', 'professionnel', 'professionnelle', 'professionnels', 'profil', 'profiler', 'profit', 'profite', 'profiter', 'profiteroles', 'profité', 'profondément', 'progresser', 'progression', 'progressivement', 'prohibitifs', 'projecteur', 'promenant', 'promene', 'promesses', 'prometteur', 'promises', 'promo', 'prononcée', 'prononcées', 'proportions', 'propos', 'proposait', 'proposant', 'propose', 'proposer', 'proposition', 'propositions', 'proposé', 'proposée', 'proposées', 'proposés', 'propre', 'propres', 'propreté', 'proprio', 'proprios', 'propriétaire', 'propriétaires', 'pros', 'protocolaire', 'prouvé', 'provenant', 'province', 'proximité', 'prudent', 'près', 'pré', 'préalable', 'précieusement', 'précieux', 'précipitamment', 'précis', 'précise', 'précision', 'précisé', 'précédent', 'précédente', 'précédentes', 'précédents', 'prédis', 'préfère', 'préfèrez', 'préférable', 'préférence', 'préférer', 'préféré', 'préférée', 'préférées', 'préférés', 'prénom', 'préparation', 'préparations', 'prépare', 'préparent', 'préparer', 'préparez', 'préparé', 'préparées', 'préparés', 'prés', 'présence', 'présent', 'présentait', 'présentation', 'présentations', 'présente', 'présentent', 'présenter', 'présenterait', 'présentes', 'présents', 'présenté', 'présentés', 'prétentieuse', 'prétentieux', 'prétention', 'prétexte', 'prévenant', 'prévenir', 'prévenu', 'prévenus', 'prévoir', 'prévoyez', 'prévu', 'prévues', 'prêt', 'prête', 'pseudo', 'ptits', 'pu', 'publique', 'puent', 'puis', 'puisqu', 'puisque', 'puissante', 'puisse', 'punch', 'pupilles', 'pur', 'pure', 'pursuit', 'purée', 'pyrénées', 'pâle', 'pâte', 'pâtes', 'pâteuse', 'pâtisserie', 'pâtisseries', 'pâté', 'pâtés', 'pèse', 'pénétrons', 'pépite', 'période', 'pétales', 'pétillant', 'pêche', 'pêcher', 'qd', 'qqch', 'qqs', 'qu', 'quadragénaires', 'quais', 'qualifier', 'qualitatif', 'qualitatifs', 'qualitatives', 'qualite', 'qualité', 'qualités', 'quand', 'quant', 'quantité', 'quantités', 'quarante', 'quart', 'quartier', 'quartierplus', 'quartiers', 'quasi', 'quasiment', 'quatre', 'que', 'quel', 'quelconque', 'quelconques', 'quelle', 'quelqu', 'quelque', 'quelques', 'quels', 'quenelle', 'quenelles', 'quentin', 'quesadilla', 'question', 'questions', 'queue', 'queues', 'qui', 'quilles', 'quinoa', 'quitte', 'quitter', 'quitté', 'quoi', 'quoiqu', 'quoique', 'rables', 'raccrocher', 'raccrohe', 'rachitique', 'racine', 'racolleur', 'radieux', 'raffinement', 'raffiné', 'raffinée', 'raffinéedesserts', 'raffinées', 'raffinéetout', 'raffinés', 'rafiné', 'rafinés', 'raie', 'raisins', 'raison', 'raisonnable', 'raisonnables', 'rajoute', 'rajouter', 'rajoutez', 'rajouté', 'rajoutée', 'ramen', 'ramens', 'ramequins', 'randonnées', 'rang', 'ranger', 'rangs', 'rapide', 'rapidement', 'rapidité', 'rappeler', 'rappelle', 'rapport', 'rapprochée', 'rapprochées', 'rare', 'rarement', 'rares', 'ras', 'rassasient', 'rassasié', 'rassasiés', 'rassemble', 'rassurant', 'ratatouille', 'rate', 'rater', 'ratez', 'rations', 'rattrapé', 'raté', 'ravi', 'ravie', 'ravies', 'raviole', 'ravioles', 'ravioli', 'raviolis', 'ravira', 'ravis', 'ravissent', 'rayé', 'rdv', 'rebords', 'rebutait', 'reception', 'recette', 'recettes', 'recevoir', 'recherchant', 'recherche', 'recherches', 'recherchions', 'recherché', 'recherchée', 'recherchées', 'rechignait', 'recommandable', 'recommandation', 'recommandations', 'recommande', 'recommandeplus', 'recommander', 'recommanderai', 'recommanderais', 'recommandons', 'recommandonsplus', 'recommandé', 'recommence', 'recommende', 'reconduits', 'reconnaissez', 'reconnaître', 'reconnue', 'recours', 'recouvertes', 'recruteur', 'recréé', 'recu', 'redemande', 'redire', 'redonner', 'redécouvrir', 'refaire', 'refait', 'reflet', 'reflètes', 'refouler', 'refus', 'refusant', 'refuser', 'regal', 'regard', 'regardant', 'regarde', 'regarder', 'regards', 'regime', 'regis', 'registre', 'regorge', 'regret', 'regrets', 'regrettable', 'regrette', 'regrettera', 'regretterez', 'regrettons', 'regretté', 'rehaussée', 'reinette', 'rejetant', 'rejoindre', 'relais', 'relater', 'relative', 'relativement', 'relaxe', 'relevées', 'relish', 'relâchez', 'relèvent', 'remarquable', 'remarquablement', 'remarquableplus', 'remarquables', 'remarque', 'remarquer', 'remarques', 'remarquons', 'remarqué', 'remercie', 'remerciements', 'remettrai', 'remettrais', 'remettre', 'remise', 'remontée', 'remplacé', 'rempli', 'remplie', 'remplir', 'remplis', 'remportés', 'rencontre', 'rencontrer', 'rencontré', 'rend', 'rendez', 'rendre', 'rends', 'rendu', 'rendue', 'rendus', 'renforcer', 'renom', 'renommée', 'renouveler', 'renouveller', 'renouvelée', 'rentable', 'rentrant', 'rentrer', 'rentrez', 'rentrons', 'rentré', 'rentrés', 'renversé', 'rené', 'repartent', 'repartie', 'repartirai', 'repartis', 'repas', 'repasc', 'repeindre', 'repond', 'reportage', 'reposé', 'reprendre', 'represente', 'reprises', 'reproche', 'représentative', 'repu', 'requièrentselon', 'resa', 'reservation', 'reserve', 'reserver', 'respect', 'respectant', 'respectueux', 'respecté', 'respectées', 'respire', 'responsable', 'responsables', 'ressemblait', 'ressemblant', 'ressemble', 'ressent', 'ressenti', 'ressort', 'restant', 'restau', 'restaurant', 'restaurants', 'restaurateur', 'restaurateurs', 'restauration', 'restaurent', 'restaurer', 'restautant', 'reste', 'restent', 'rester', 'restera', 'resterez', 'restez', 'resto', 'restopolitan', 'restos', 'restreint', 'resté', 'restée', 'restés', 'resume', 'retard', 'retaurant', 'retenir', 'retenons', 'retient', 'retirer', 'retiré', 'retour', 'retourne', 'retourner', 'retournera', 'retournerai', 'retournerais', 'retournerons', 'retourné', 'retournés', 'retours', 'retrait', 'retrouve', 'retrouvent', 'retrouver', 'retrouvons', 'retrouvé', 'retrouvée', 'retrouvés', 'revalorisées', 'revanche', 'reve', 'reveiller', 'revelation', 'revenait', 'revenir', 'revenu', 'revenus', 'reviendra', 'reviendrai', 'reviendrais', 'reviendrons', 'reviennent', 'reviens', 'revient', 'revisiter', 'revisité', 'revisitée', 'revisités', 'revoir', 'revoirnous', 'rez', 'reçois', 'reçu', 'rhum', 'rhône', 'riche', 'riches', 'richesse', 'rideau', 'ridicule', 'ridicules', 'rien', 'riesling', 'rigides', 'rigolo', 'rigueur', 'rillettes', 'ringard', 'rires', 'ris', 'risotto', 'risque', 'ritz', 'rivaliser', 'rive', 'riz', 'roblochon', 'robuchon', 'rodage', 'rodées', 'rognon', 'rognons', 'roignons', 'rois', 'romantique', 'romantisme', 'ronde', 'rondelles', 'roof', 'roomies', 'roquette', 'rose', 'roses', 'rosiers', 'rostang', 'rosé', 'roti', 'roue', 'rouge', 'rouget', 'rougets', 'roulés', 'rouquette', 'routard', 'royal', 'royale', 'royaleluxueuse', 'royalement', 'royales', 'rtl', 'rue', 'ruelle', 'rues', 'rugby', 'ruiner', 'ruisseau', 'rupture', 'rustique', 'rutilante', 'rythme', 'rythmé', 'râter', 'règne', 'réactif', 'réaction', 'réactive', 'réalisations', 'réalise', 'réaliser', 'réalisé', 'réalisée', 'réalisés', 'récemment', 'récent', 'réception', 'réchauffent', 'réchauffer', 'réchauffés', 'récidivé', 'réclame', 'réclamer', 'récole', 'réconfirme', 'récupération', 'réduction', 'réduit', 'réduite', 'réel', 'réelle', 'réellement', 'réels', 'réflexion', 'réflexions', 'réforme', 'référence', 'régal', 'régale', 'régaler', 'régalé', 'régalée', 'régalés', 'régimes', 'région', 'régis', 'régler', 'réglés', 'régressives', 'régulier', 'régulièrement', 'réinventer', 'réjouis', 'réjouit', 'rénové', 'réorienté', 'réouverture', 'répits', 'répond', 'répondait', 'réponds', 'répondu', 'réponse', 'réponses', 'république', 'répugnante', 'réputation', 'réputé', 'répéter', 'réservation', 'réservations', 'réserve', 'réserver', 'réservez', 'réservé', 'réservée', 'réservées', 'réservés', 'réside', 'résidence', 'résident', 'résister', 'résolument', 'résonnent', 'résoudre', 'résultant', 'résultat', 'résume', 'résumé', 'rétorque', 'rétro', 'rétrogradé', 'réuni', 'réunies', 'réunion', 'réunis', 'réussi', 'réussie', 'réussies', 'réussite', 'réveille', 'réveillon', 'réveillé', 'révolu', 'révolue', 'révélé', 'rêvais', 'rêve', 'rêver', 'rêvions', 'rêvé', 'rôti', 'sa', 'sable', 'sac', 'sachant', 'sachet', 'sachez', 'sacoches', 'sacré', 'sacs', 'safran', 'safranée', 'saignante', 'sain', 'sains', 'saint', 'saints', 'sais', 'saison', 'saisons', 'sait', 'saj', 'saké', 'salade', 'salades', 'sale', 'salee', 'saleté', 'salive', 'salle', 'salles', 'salon', 'salons', 'saluer', 'salé', 'salée', 'salées', 'saléplus', 'salés', 'samatan', 'samedi', 'sandre', 'sandwich', 'sandwicherie', 'sandwichs', 'sanitaires', 'sans', 'saouleront', 'sardines', 'sarrasin', 'sas', 'sashimi', 'sashimis', 'satisfaire', 'satisfaisant', 'satisfaisante', 'satisfait', 'satisfaits', 'sauce', 'sauces', 'saucé', 'sauf', 'saumon', 'saura', 'saurons', 'sautait', 'sautées', 'sauvait', 'sauve', 'sauver', 'savais', 'savait', 'savant', 'savent', 'saveur', 'saveurs', 'savez', 'savions', 'savoie', 'savoir', 'savons', 'savourer', 'savoureuse', 'savoureuses', 'savoureux', 'scalpel', 'scandale', 'scandaleux', 'sceau', 'scintiller', 'scolaire', 'scotché', 'sculptes', 'scène', 'sdf', 'se', 'seasons', 'seau', 'sec', 'second', 'seconde', 'secret', 'secs', 'seduire', 'seiche', 'seine', 'seizième', 'sel', 'select', 'selection', 'selon', 'semaine', 'semaines', 'semblait', 'semblant', 'semble', 'semblent', 'semblé', 'semelle', 'semoule', 'sen', 'senderens', 'sens', 'sensation', 'sensationnel', 'sensations', 'sensibilisée', 'sensible', 'sensé', 'sent', 'sentait', 'senti', 'sentiment', 'sentions', 'sentir', 'sentis', 'sentons', 'sept', 'septembre', 'septime', 'sera', 'seraient', 'serait', 'sercice', 'serez', 'sergent', 'serré', 'serrées', 'serrés', 'sert', 'servait', 'servant', 'servent', 'serveur', 'serveurs', 'serveuse', 'serveuses', 'servi', 'serviable', 'serviables', 'service', 'services', 'servie', 'servies', 'serviette', 'servir', 'servis', 'ses', 'set', 'sets', 'seul', 'seule', 'seulement', 'seules', 'seuls', 'show', 'si', 'side', 'sidéré', 'siecle', 'sien', 'signalé', 'signature', 'signatures', 'signe', 'significative', 'signifie', 'signifié', 'silla', 'similaires', 'simple', 'simplement', 'simples', 'simplette', 'simplicité', 'sincère', 'sincèrement', 'sinon', 'siplus', 'site', 'situation', 'situe', 'situé', 'située', 'sitôt', 'six', 'siècle', 'sièges', 'slim', 'snack', 'snacké', 'snob', 'sobre', 'sociable', 'sodas', 'soeur', 'soi', 'soient', 'soigne', 'soigneusement', 'soigné', 'soignée', 'soin', 'soinplus', 'soins', 'soir', 'soiree', 'soirée', 'sois', 'soit', 'soja', 'sol', 'sole', 'soleil', 'soles', 'sollicitationcuisine', 'sombre', 'somme', 'sommelier', 'sommeliers', 'sommelière', 'sommes', 'sommet', 'somptueuse', 'somptueux', 'son', 'sonore', 'sonorités', 'sont', 'sophie', 'sorbonne', 'sors', 'sort', 'sortaient', 'sortant', 'sorte', 'sortent', 'sortes', 'sorti', 'sortie', 'sorties', 'sortir', 'sortis', 'souci', 'soucieux', 'soucis', 'soufflant', 'souffle', 'soufflé', 'soufflée', 'souffrir', 'souhait', 'souhaite', 'souhaitent', 'souhaitez', 'souhaitions', 'souhaits', 'souhaité', 'soumis', 'soupe', 'souper', 'soupes', 'soupçon', 'sourcés', 'souri', 'souriant', 'souriante', 'souriants', 'sourire', 'sourirerapiditéefficacitéqualité', 'sourires', 'souris', 'sourit', 'sous', 'souvenir', 'souvenirs', 'souvent', 'souviendra', 'soyons', 'spacieuses', 'spacieux', 'spartacus', 'spartiate', 'specialités', 'specificités', 'spectacle', 'spectaculaire', 'spiritueux', 'splendeur', 'splendide', 'spot', 'spécial', 'spéciale', 'spécialement', 'spécialisé', 'spécialité', 'spécialités', 'spécifiques', 'spécifié', 'square', 'squelettique', 'st', 'stable', 'staff', 'stagiaires', 'standards', 'standing', 'steak', 'steakhouses', 'steaks', 'stick', 'street', 'stress', 'structures', 'style', 'stéréotypes', 'su', 'subiile', 'sublime', 'sublimer', 'sublimes', 'sublimespigeon', 'sublimé', 'sublimées', 'substance', 'subtil', 'subtile', 'subtilement', 'subtiles', 'subtilité', 'subtils', 'succession', 'succulent', 'succulente', 'succulentes', 'succulents', 'succèdent', 'succès', 'sucre', 'sucrees', 'sucré', 'sucrée', 'sucrées', 'sucrés', 'sucs', 'sud', 'suffisamment', 'suffisant', 'suffisantes', 'suffit', 'suggestions', 'suggéré', 'suis', 'suit', 'suite', 'suivant', 'suivante', 'suivants', 'suivent', 'suivi', 'suivies', 'suivis', 'suivons', 'suivre', 'suki', 'sulfurisé', 'super', 'superbe', 'superbement', 'superbes', 'superlatifs', 'supermarché', 'superposé', 'supers', 'supervisée', 'supplément', 'supplémentaire', 'suppléments', 'supplémnt', 'supportable', 'supporter', 'supports', 'supposé', 'supposée', 'suprenant', 'suprise', 'suprême', 'supérieure', 'sur', 'surannée', 'surchargée', 'surcroît', 'surestimée', 'surface', 'surfait', 'surfaite', 'surgeles', 'surgelé', 'surgelés', 'surprenant', 'surprenante', 'surprenantes', 'surprenants', 'surprendre', 'surpris', 'surprise', 'surprises', 'surtout', 'suscite', 'sushi', 'sushis', 'suzette', 'suzettes', 'sylvestre', 'sympa', 'sympas', 'sympathie', 'sympathique', 'sympathiques', 'sympatique', 'symphonie', 'synchronisation', 'syrah', 'système', 'systématiquement', 'sèche', 'sèchement', 'sèches', 'séduire', 'séduisante', 'séduisants', 'séduit', 'séjour', 'séjourné', 'sélection', 'sélectionnés', 'séminaire', 'séparer', 'série', 'sérieusement', 'sérieux', 'sévère', 'sûr', 'sûre', 'sûrement', 'sœur', 'ta', 'tabasser', 'table', 'tables', 'tablesplus', 'tablette', 'tabouleh', 'taboulé', 'tabourets', 'taché', 'tacos', 'tact', 'taille', 'tailles', 'taillés', 'taire', 'takayagani', 'talent', 'talentueux', 'talons', 'tamisée', 'tandis', 'tant', 'tantes', 'tapas', 'tape', 'tapissés', 'tarbais', 'tard', 'tarif', 'tarifs', 'tarot', 'tartare', 'tartares', 'tarte', 'tartine', 'tartines', 'tas', 'tasse', 'tasty', 'tat', 'tata', 'taïwanais', 'te', 'tea', 'teamkangourou', 'technique', 'tel', 'telle', 'tellement', 'telles', 'tels', 'temps', 'tempura', 'température', 'tenait', 'tendance', 'tendre', 'tendrele', 'tendresse', 'teneur', 'teniendo', 'tentante', 'tentatives', 'tente', 'tenter', 'tenture', 'tenu', 'tenue', 'teppan', 'teppanyaki', 'terasse', 'tergiverser', 'teriyaki', 'terme', 'termes', 'terminer', 'terminé', 'terminée', 'terrail', 'terrasse', 'terre', 'terres', 'terrible', 'terrible5', 'terrines', 'terroristes', 'tes', 'test', 'teste', 'tester', 'testé', 'testés', 'textures', 'thaï', 'the', 'theâtre', 'thhis', 'thierry', 'thon', 'thème', 'thé', 'théatre', 'thélème', 'théâtre', 'théâtres', 'tibétaine', 'ticket', 'tienne', 'tiennent', 'tiens', 'tient', 'tika', 'tikka', 'time', 'timé', 'tiramisu', 'tirelire', 'tissu', 'titille', 'titre', 'titres', 'tiède', 'tièdes', 'tj', 'tjrs', 'tjs', 'toasté', 'toastés', 'toi', 'toilettes', 'toit', 'toits', 'tokyo', 'tomate', 'tomates', 'tombais', 'tombe', 'tombent', 'tomber', 'tombons', 'tombé', 'tombée', 'tombés', 'ton', 'tonitruantes', 'top', 'topinambour', 'toppersonnel', 'tops', 'toqué', 'tot', 'total', 'totale', 'totalement', 'touche', 'touchent', 'toucher', 'touches', 'touchés', 'toujours', 'toulousainesmais', 'tour', 'tourisme', 'touriste', 'touristes', 'touristiques', 'tourné', 'tourte', 'tourteau', 'tourteaux', 'tous', 'tout', 'toutain', 'toute', 'toutefois', 'toutes', 'touthenkamon', 'tradition', 'traditionnel', 'traditionnelle', 'traditionnelles', 'traditionnels', 'traditions', 'train', 'trainer', 'traite', 'traiteur', 'traité', 'traités', 'trajet', 'tranche', 'tranchent', 'tranches', 'tranquille', 'transmets', 'transormés', 'transpiration', 'transporte', 'transportée', 'transportés', 'traumatisante', 'travail', 'travaille', 'travaillez', 'travaillé', 'travaillée', 'travaillées', 'travaillés', 'travaux', 'travers', 'traverser', 'trempée', 'trente', 'tres', 'triomphe', 'trip', 'tripadvisor', 'triste', 'tristesse', 'trivial', 'trocadéro', 'trois', 'troisième', 'trompent', 'trop', 'tropez', 'trottoir', 'trouvailles', 'trouvant', 'trouve', 'trouvent', 'trouver', 'trouverez', 'trouvé', 'trouvée', 'trouvées', 'trouvés', 'truc', 'truffe', 'truffes', 'truffés', 'truite', 'très', 'trèstrèsdécevant', 'trés', 'trésor', 'trône', 'ttripadvisor', 'tu', 'tuer', 'tuerie', 'tueries', 'tuiles', 'tumulte', 'turbot', 'turnover', 'type', 'types', 'typique', 'typiques', 'tâches', 'téléphonant', 'téléphone', 'téléphones', 'télérama', 'témoin', 'témoins', 'térail', 'tête', 'tôt', 'ultra', 'un', 'unanime', 'unanimes', 'underground', 'une', 'unes', 'unique', 'uniquement', 'uniques', 'universitaire', 'uns', 'urgence', 'usage', 'usurpé', 'utilise', 'va', 'vacance', 'vacances', 'vache', 'vaguement', 'vais', 'vaisselle', 'vaissellecouvertssalle', 'valait', 'valentin', 'valeur', 'validés', 'vanille', 'vanté', 'vaqueras', 'varie', 'variee', 'varier', 'varié', 'variée', 'variées', 'variés', 'variété', 'variétés', 'vas', 'vaut', 'veau', 'veaucoquilles', 'veaux', 'vegan', 'vegeburger', 'vegetal', 'veille', 'venait', 'venant', 'vende', 'vendent', 'vendeur', 'vendeuse', 'vendeuses', 'vendredi', 'vendôme', 'venez', 'venions', 'venir', 'venons', 'vent', 'vente', 'ventre', 'venu', 'venue', 'venues', 'venus', 'verdure', 'vergelesses', 'verra', 'verre', 'verres', 'verres4', 'verrez', 'verrière', 'vers', 'versailles', 'versatile', 'version', 'versus', 'vert', 'verts', 'veste', 'vestiaire', 'vestimentaire', 'veulent', 'veut', 'veux', 'via', 'viande', 'viandes', 'victime', 'victoires', 'vide', 'vie', 'vieil', 'vieille', 'vieillot', 'viendriez', 'vienne', 'viennoiserie', 'viennoiseries', 'vienoiseries', 'viens', 'vient', 'vietnamienne', 'vieux', 'vigato', 'village', 'ville', 'vin', 'vinaigre', 'vinaigrette', 'vinaigrée', 'vincent', 'vingt', 'vingtaine', 'vinle', 'vins', 'vinsur', 'vintage', 'vire', 'virtus', 'virés', 'vis', 'visible', 'visiblement', 'vision', 'visite', 'visiter', 'visites', 'visiteurs', 'visité', 'visitée', 'visuel', 'visuelle', 'visé', 'vit', 'vite', 'vitesse', 'vitrée', 'vitrées', 'vivant', 'vivants', 'vivement', 'vivienne', 'vivons', 'vivre', 'vodka', 'voici', 'voie', 'voient', 'voila', 'voilà', 'voir', 'voire', 'vois', 'voisine', 'voisins', 'voit', 'voiture', 'voiturier', 'voix', 'vol', 'volaille', 'volontier', 'volontiers', 'volonté', 'voluptueux', 'vont', 'vos', 'vosges', 'votre', 'voudrait', 'voulais', 'voulait', 'voulant', 'voulez', 'voulions', 'voulo', 'vouloir', 'voulons', 'voulu', 'vous', 'voyage', 'voyageais', 'voyager', 'voyageurs', 'voyagez', 'voyagé', 'voyant', 'voyons', 'vrai', 'vraie', 'vraies', 'vraiment', 'vrais', 'vraissemblablement', 'vu', 'vue', 'vues', 'vulgaire', 'vulgairement', 'vulgaires', 'vécu', 'végans', 'végé', 'végés', 'végétal', 'végétaliens', 'végétarien', 'végétarienne', 'végétariennes', 'végétariens', 'végétaux', 'vélo', 'vérifier', 'vérifié', 'véritable', 'véritablement', 'vétusté', 'wagyu', 'wahoo', 'waouw', 'wc', 'we', 'web', 'week', 'weekend', 'whaou', 'wifi', 'william', 'wine', 'wines', 'with', 'wola', 'wow', 'xixe', 'xve', 'xvème', 'xxi', 'ya', 'yaki', 'yakitori', 'yaourt', 'yen', 'yeux', 'yoshitaka', 'yuzu', 'ze', 'zen', 'zkg', 'zone', 'zors', 'zouzou', 'à13', 'âges', 'âme', 'ça', 'çe', 'çi', 'çà', 'ème', 'ébahis', 'éblouissement', 'écart', 'écarter', 'échalote', 'échanger', 'échanges', 'échantillons', 'échelle', 'écho', 'échoppe', 'éclair', 'éclairage', 'éclats', 'éclectique', 'éco', 'école', 'écoles', 'économies', 'écorchant', 'écoute', 'écouter', 'écoutez', 'écrevisse', 'écrin', 'écrire', 'écris', 'écrit', 'écrits', 'écrivais', 'écœurant', 'écœurants', 'égale', 'également', 'égard', 'égayé', 'élaboration', 'élaboré', 'élaborée', 'élaborées', 'éleve', 'élevé', 'élevée', 'élevés', 'élitiste', 'éloges', 'élogieuses', 'élogieux', 'éloigner', 'éloignée', 'éloignées', 'élève', 'élégamment', 'élégance', 'élégant', 'élégante', 'élégantpersonnel', 'éléments', 'émerveille', 'émerveillement', 'émerveillé', 'émincé', 'émis', 'émission', 'émotion', 'émotions', 'émulsion', 'énergie', 'énergique', 'énergétique', 'énoncé', 'énorme', 'énormes', 'épais', 'épaisse', 'épaté', 'épatés', 'épaule', 'épicerie', 'épices', 'épicurien', 'épicuriens', 'épicé', 'épicée', 'épicéesmais', 'épicés', 'épinards', 'épisode', 'époque', 'épouse', 'époustouflante', 'époustouflantes', 'époustoufler', 'épuré', 'épurée', 'épuréz', 'équilibre', 'équilibré', 'équilibrée', 'équilibrées', 'équilibrés', 'équipe', 'équipes', 'équipé', 'équivaut', 'éric', 'érudit', 'érythréen', 'ét', 'établi', 'établissement', 'établissementidéalement', 'établissements', 'étage', 'étagères', 'étaient', 'étais', 'était', 'étant', 'étape', 'étapes', 'état', 'états', 'étendu', 'éthique', 'étions', 'étoile', 'étoiles', 'étoilé', 'étoilée', 'étoilés', 'étonnamment', 'étonnant', 'étonnante', 'étonné', 'étonnée', 'étouffante', 'étouffe', 'étranger', 'étrangers', 'étriquée', 'étroit', 'étroite', 'étroites', 'étudiant', 'étudiants', 'étudie', 'étudié', 'étudiées', 'étui', 'été', 'étés', 'évasion', 'éveillent', 'éventé', 'évidement', 'évidemment', 'évidence', 'évident', 'évitant', 'évite', 'éviter', 'évitez', 'évocateurs', 'évolue', 'évolution', 'évoque', 'événement', 'êtes', 'être', 'île', 'œil', 'œuf', 'œufs', 'œuvre']\n",
            "(1617, 6401)\n"
          ],
          "name": "stdout"
        }
      ]
    },
    {
      "cell_type": "code",
      "metadata": {
        "id": "ZNMsTVfGyvx7",
        "colab": {
          "base_uri": "https://localhost:8080/"
        },
        "outputId": "cc850dce-f3e3-4bf5-d6c5-7f6bfc71d35a"
      },
      "source": [
        "X.toarray()"
      ],
      "execution_count": null,
      "outputs": [
        {
          "output_type": "execute_result",
          "data": {
            "text/plain": [
              "array([[0., 0., 0., ..., 0., 0., 0.],\n",
              "       [0., 0., 0., ..., 0., 0., 0.],\n",
              "       [0., 0., 0., ..., 0., 0., 0.],\n",
              "       ...,\n",
              "       [0., 0., 0., ..., 0., 0., 0.],\n",
              "       [0., 0., 0., ..., 0., 0., 0.],\n",
              "       [0., 0., 0., ..., 0., 0., 0.]])"
            ]
          },
          "metadata": {
            "tags": []
          },
          "execution_count": 17
        }
      ]
    },
    {
      "cell_type": "code",
      "metadata": {
        "colab": {
          "base_uri": "https://localhost:8080/"
        },
        "id": "9cSPbp4h12tO",
        "outputId": "60c6443d-347e-4977-b3d7-d31a9d221ec8"
      },
      "source": [
        "from sklearn.preprocessing import LabelEncoder\n",
        "comment = df_texte[\"sentiment\"]\n",
        "le = LabelEncoder()\n",
        "le.fit(comment)\n",
        "list(le.classes_)\n",
        "df_texte['sentiment']=le.transform(df_texte['sentiment'])\n",
        "df_texte['sentiment']"
      ],
      "execution_count": null,
      "outputs": [
        {
          "output_type": "execute_result",
          "data": {
            "text/plain": [
              "0       1\n",
              "1       1\n",
              "2       1\n",
              "3       1\n",
              "4       1\n",
              "       ..\n",
              "1612    1\n",
              "1613    1\n",
              "1614    0\n",
              "1615    1\n",
              "1616    1\n",
              "Name: sentiment, Length: 1617, dtype: int64"
            ]
          },
          "metadata": {
            "tags": []
          },
          "execution_count": 18
        }
      ]
    },
    {
      "cell_type": "code",
      "metadata": {
        "id": "eqeiVyPds1NY",
        "colab": {
          "base_uri": "https://localhost:8080/"
        },
        "outputId": "91af1551-648a-4d4f-8703-091a4fe73cb7"
      },
      "source": [
        "y=df_texte['sentiment']\n",
        "y"
      ],
      "execution_count": null,
      "outputs": [
        {
          "output_type": "execute_result",
          "data": {
            "text/plain": [
              "0       1\n",
              "1       1\n",
              "2       1\n",
              "3       1\n",
              "4       1\n",
              "       ..\n",
              "1612    1\n",
              "1613    1\n",
              "1614    0\n",
              "1615    1\n",
              "1616    1\n",
              "Name: sentiment, Length: 1617, dtype: int64"
            ]
          },
          "metadata": {
            "tags": []
          },
          "execution_count": 19
        }
      ]
    },
    {
      "cell_type": "code",
      "metadata": {
        "id": "pqHOCNnnbxIw",
        "colab": {
          "base_uri": "https://localhost:8080/"
        },
        "outputId": "da220baf-4abc-4e57-92f1-12182b2e802b"
      },
      "source": [
        "pip = load('/content/sample_data/sentiment_pipe.joblib')\n",
        "pip"
      ],
      "execution_count": null,
      "outputs": [
        {
          "output_type": "execute_result",
          "data": {
            "text/plain": [
              "Pipeline(steps=[('tfidf', TfidfVectorizer()),\n",
              "                ('clf', SVC(C=1000, gamma=0.001))])"
            ]
          },
          "metadata": {
            "tags": []
          },
          "execution_count": 20
        }
      ]
    },
    {
      "cell_type": "code",
      "metadata": {
        "id": "SNXW9JQZcypg",
        "colab": {
          "base_uri": "https://localhost:8080/"
        },
        "outputId": "b21b4e67-0bc1-4d3b-948b-67383cc655d3"
      },
      "source": [
        "pip.predict(df_texte.comment)"
      ],
      "execution_count": null,
      "outputs": [
        {
          "output_type": "execute_result",
          "data": {
            "text/plain": [
              "array([1, 1, 1, ..., 1, 1, 1])"
            ]
          },
          "metadata": {
            "tags": []
          },
          "execution_count": 21
        }
      ]
    },
    {
      "cell_type": "code",
      "metadata": {
        "id": "nLzv7A3RzbK3",
        "colab": {
          "base_uri": "https://localhost:8080/"
        },
        "outputId": "64f59fc2-e299-40fd-ab3f-65a0d95ffc62"
      },
      "source": [
        "y"
      ],
      "execution_count": null,
      "outputs": [
        {
          "output_type": "execute_result",
          "data": {
            "text/plain": [
              "0       1\n",
              "1       1\n",
              "2       1\n",
              "3       1\n",
              "4       1\n",
              "       ..\n",
              "1612    1\n",
              "1613    1\n",
              "1614    0\n",
              "1615    1\n",
              "1616    1\n",
              "Name: sentiment, Length: 1617, dtype: int64"
            ]
          },
          "metadata": {
            "tags": []
          },
          "execution_count": 22
        }
      ]
    },
    {
      "cell_type": "code",
      "metadata": {
        "colab": {
          "base_uri": "https://localhost:8080/"
        },
        "id": "pV2GRT-dWwDY",
        "outputId": "e142c383-76b8-475e-f2da-c6c09dab9683"
      },
      "source": [
        "y_pred=pip.predict(df_texte.comment)\n",
        "y_pred"
      ],
      "execution_count": null,
      "outputs": [
        {
          "output_type": "execute_result",
          "data": {
            "text/plain": [
              "array([1, 1, 1, ..., 1, 1, 1])"
            ]
          },
          "metadata": {
            "tags": []
          },
          "execution_count": 23
        }
      ]
    },
    {
      "cell_type": "code",
      "metadata": {
        "id": "2ahQqyssA0wO"
      },
      "source": [
        "import unidecode\n",
        "import re\n",
        "def nettoyage(texte):\n",
        "    tex=[]\n",
        "    s_w=list((stopwords.words('french')+stop_words.get_stop_words('fr')))+['plus']\n",
        "    s_w=[unidecode.unidecode(elem.lower()) for elem in s_w]\n",
        "    # mettre en minuscule\n",
        "    texte=texte.lower()\n",
        "    # enlever les accents\n",
        "    texte=unidecode.unidecode(texte).replace(\"'\",\" \")\n",
        "    # enlever les chiffres et caracteres spéciaux\n",
        "    pattern=\"([a-z]+)\"\n",
        "    for elem in re.findall(pattern,texte):\n",
        "        # enlever les stop words\n",
        "        if elem in s_w:\n",
        "            continue\n",
        "        else:\n",
        "            tex.append(elem)\n",
        "    return ' '.join(tex)"
      ],
      "execution_count": null,
      "outputs": []
    },
    {
      "cell_type": "code",
      "metadata": {
        "colab": {
          "base_uri": "https://localhost:8080/"
        },
        "id": "205cerzLbMZx",
        "outputId": "a88ba708-afb6-4795-b544-5b26a0bc9cc5"
      },
      "source": [
        "load('/content/sample_data/sentiment_pipe.joblib')"
      ],
      "execution_count": null,
      "outputs": [
        {
          "output_type": "execute_result",
          "data": {
            "text/plain": [
              "Pipeline(steps=[('tfidf', TfidfVectorizer()),\n",
              "                ('clf', SVC(C=1000, gamma=0.001))])"
            ]
          },
          "metadata": {
            "tags": []
          },
          "execution_count": 25
        }
      ]
    },
    {
      "cell_type": "code",
      "metadata": {
        "colab": {
          "base_uri": "https://localhost:8080/",
          "height": 187
        },
        "id": "oTRiRWElYZRW",
        "outputId": "4065b592-a7bb-4728-9008-2b29b9ebf368"
      },
      "source": [
        "y_pred2 = pip.decision_function(X_test)\n",
        "y_pred2"
      ],
      "execution_count": null,
      "outputs": [
        {
          "output_type": "error",
          "ename": "NameError",
          "evalue": "ignored",
          "traceback": [
            "\u001b[0;31m---------------------------------------------------------------------------\u001b[0m",
            "\u001b[0;31mNameError\u001b[0m                                 Traceback (most recent call last)",
            "\u001b[0;32m<ipython-input-26-09a7f512466b>\u001b[0m in \u001b[0;36m<module>\u001b[0;34m()\u001b[0m\n\u001b[0;32m----> 1\u001b[0;31m \u001b[0my_pred2\u001b[0m \u001b[0;34m=\u001b[0m \u001b[0mpip\u001b[0m\u001b[0;34m.\u001b[0m\u001b[0mdecision_function\u001b[0m\u001b[0;34m(\u001b[0m\u001b[0mX_test\u001b[0m\u001b[0;34m)\u001b[0m\u001b[0;34m\u001b[0m\u001b[0;34m\u001b[0m\u001b[0m\n\u001b[0m\u001b[1;32m      2\u001b[0m \u001b[0my_pred2\u001b[0m\u001b[0;34m\u001b[0m\u001b[0;34m\u001b[0m\u001b[0m\n",
            "\u001b[0;31mNameError\u001b[0m: name 'X_test' is not defined"
          ]
        }
      ]
    },
    {
      "cell_type": "code",
      "metadata": {
        "colab": {
          "base_uri": "https://localhost:8080/"
        },
        "id": "vZ5Z0hPKbTG_",
        "outputId": "707520fb-2dbd-4424-b5b1-a9a6fc5b82da"
      },
      "source": [
        "pip = load('/content/sample_data/sentiment_pipe.joblib')\n",
        "pip.predict(df_texte.comment)"
      ],
      "execution_count": null,
      "outputs": [
        {
          "output_type": "execute_result",
          "data": {
            "text/plain": [
              "array([1, 1, 1, ..., 1, 1, 1])"
            ]
          },
          "metadata": {
            "tags": []
          },
          "execution_count": 27
        }
      ]
    },
    {
      "cell_type": "code",
      "metadata": {
        "colab": {
          "base_uri": "https://localhost:8080/"
        },
        "id": "LzGVYEwCbeou",
        "outputId": "c4ab0eeb-8e47-4e69-ffc9-f2765dab0292"
      },
      "source": [
        "comment = df_texte[\"sentiment\"]\n",
        "le = LabelEncoder()\n",
        "le.fit(comment)\n",
        "list(le.classes_)\n",
        "df_texte['sentiment']=le.transform(df_texte['sentiment'])\n",
        "df_texte['sentiment']"
      ],
      "execution_count": null,
      "outputs": [
        {
          "output_type": "execute_result",
          "data": {
            "text/plain": [
              "0       1\n",
              "1       1\n",
              "2       1\n",
              "3       1\n",
              "4       1\n",
              "       ..\n",
              "1612    1\n",
              "1613    1\n",
              "1614    0\n",
              "1615    1\n",
              "1616    1\n",
              "Name: sentiment, Length: 1617, dtype: int64"
            ]
          },
          "metadata": {
            "tags": []
          },
          "execution_count": 28
        }
      ]
    },
    {
      "cell_type": "code",
      "metadata": {
        "colab": {
          "base_uri": "https://localhost:8080/"
        },
        "id": "s5Z-LATabnnz",
        "outputId": "d8e65b36-294a-447f-bb34-037e69c60c2b"
      },
      "source": [
        "df_texte['sentiment'].value_counts()"
      ],
      "execution_count": null,
      "outputs": [
        {
          "output_type": "execute_result",
          "data": {
            "text/plain": [
              "1    1019\n",
              "0     598\n",
              "Name: sentiment, dtype: int64"
            ]
          },
          "metadata": {
            "tags": []
          },
          "execution_count": 29
        }
      ]
    },
    {
      "cell_type": "code",
      "metadata": {
        "colab": {
          "base_uri": "https://localhost:8080/"
        },
        "id": "HRNsJLprbxFU",
        "outputId": "566a4e5f-ffbd-4202-8f02-59ef34b1a38c"
      },
      "source": [
        "import sklearn.metrics as metrics\n",
        "from sklearn.metrics import roc_auc_score\n",
        "X=df_texte['comment']\n",
        "y=df_texte['sentiment']\n",
        "y_pred=pip.predict(X)\n",
        "print(\"AUC :\",roc_auc_score(y_pred,y))\n",
        "print('accuracy',':',metrics.accuracy_score(y, y_pred))\n",
        "print('precision',':',metrics.precision_score(y, y_pred))\n",
        "print('recall',':',metrics.recall_score(y, y_pred))\n",
        "print('f1 score',':',metrics.f1_score(y, y_pred))"
      ],
      "execution_count": null,
      "outputs": [
        {
          "output_type": "stream",
          "text": [
            "AUC : 0.7220142706749327\n",
            "accuracy : 0.6957328385899815\n",
            "precision : 0.6867469879518072\n",
            "recall : 0.9509322865554465\n",
            "f1 score : 0.7975308641975308\n"
          ],
          "name": "stdout"
        }
      ]
    },
    {
      "cell_type": "code",
      "metadata": {
        "colab": {
          "base_uri": "https://localhost:8080/"
        },
        "id": "ywGZi2j4fLW2",
        "outputId": "cfc80634-b663-44b4-f045-325bc43a61ca"
      },
      "source": [
        "X_train, X_test, y_train, y_test = train_test_split(X, y, test_size=0.33, random_state=42)\n",
        "pip.fit(X_train,y_train)\n",
        "y_pred1 = pip.predict(X_test)\n",
        "y_pred2 = pip.decision_function(X_test)\n",
        "print('AUC :',roc_auc_score(y_test,y_pred2))\n",
        "print('accuracy',':',metrics.accuracy_score(y_test,y_pred1))\n",
        "print('precision',':',metrics.precision_score(y_test,y_pred1))\n",
        "print('recall',':',metrics.recall_score(y_test,y_pred1))\n",
        "print('f1 score',':',metrics.f1_score(y_test,y_pred1))"
      ],
      "execution_count": null,
      "outputs": [
        {
          "output_type": "stream",
          "text": [
            "AUC : 0.9279046880591674\n",
            "accuracy : 0.8539325842696629\n",
            "precision : 0.8547486033519553\n",
            "recall : 0.9216867469879518\n",
            "f1 score : 0.8869565217391305\n"
          ],
          "name": "stdout"
        }
      ]
    },
    {
      "cell_type": "code",
      "metadata": {
        "colab": {
          "base_uri": "https://localhost:8080/"
        },
        "id": "kcxt05e4dOS0",
        "outputId": "37c3379b-c59a-49e8-f810-a671696e274d"
      },
      "source": [
        "X=df_texte['comment']\n",
        "X"
      ],
      "execution_count": null,
      "outputs": [
        {
          "output_type": "execute_result",
          "data": {
            "text/plain": [
              "0       J'ai réservé ma table quelques mois à l'avance...\n",
              "1       Que dire... Nicolas sale est un chef d excepti...\n",
              "2       Dans une rue tranquille non loin du Panthéon u...\n",
              "3       Rien à redire le restaurant est irréprochablem...\n",
              "4       Comme avec les autres commentaires nos repas é...\n",
              "                              ...                        \n",
              "1612    Le service a été rapide et les crêpes très bon...\n",
              "1613    Restaurant excellent bon rapport qualité-prix ...\n",
              "1614    Incroyable mais vrai 190€ la baguette ! Que di...\n",
              "1615    Un japonais assez chic des beaux quartiers. No...\n",
              "1616    Accueil très chaleureux avec un personnel jeun...\n",
              "Name: comment, Length: 1617, dtype: object"
            ]
          },
          "metadata": {
            "tags": []
          },
          "execution_count": 32
        }
      ]
    },
    {
      "cell_type": "code",
      "metadata": {
        "colab": {
          "base_uri": "https://localhost:8080/",
          "height": 416
        },
        "id": "yRoJgzSFlp9B",
        "outputId": "6abd1f3e-50a1-4401-bbc5-f3c794107bdd"
      },
      "source": [
        "df_texte['comment'] = df_texte['comment'].str.lower()\n",
        "df_texte"
      ],
      "execution_count": null,
      "outputs": [
        {
          "output_type": "execute_result",
          "data": {
            "text/html": [
              "<div>\n",
              "<style scoped>\n",
              "    .dataframe tbody tr th:only-of-type {\n",
              "        vertical-align: middle;\n",
              "    }\n",
              "\n",
              "    .dataframe tbody tr th {\n",
              "        vertical-align: top;\n",
              "    }\n",
              "\n",
              "    .dataframe thead th {\n",
              "        text-align: right;\n",
              "    }\n",
              "</style>\n",
              "<table border=\"1\" class=\"dataframe\">\n",
              "  <thead>\n",
              "    <tr style=\"text-align: right;\">\n",
              "      <th></th>\n",
              "      <th>comment</th>\n",
              "      <th>sentiment</th>\n",
              "    </tr>\n",
              "  </thead>\n",
              "  <tbody>\n",
              "    <tr>\n",
              "      <th>0</th>\n",
              "      <td>j'ai réservé ma table quelques mois à l'avance...</td>\n",
              "      <td>1</td>\n",
              "    </tr>\n",
              "    <tr>\n",
              "      <th>1</th>\n",
              "      <td>que dire... nicolas sale est un chef d excepti...</td>\n",
              "      <td>1</td>\n",
              "    </tr>\n",
              "    <tr>\n",
              "      <th>2</th>\n",
              "      <td>dans une rue tranquille non loin du panthéon u...</td>\n",
              "      <td>1</td>\n",
              "    </tr>\n",
              "    <tr>\n",
              "      <th>3</th>\n",
              "      <td>rien à redire le restaurant est irréprochablem...</td>\n",
              "      <td>1</td>\n",
              "    </tr>\n",
              "    <tr>\n",
              "      <th>4</th>\n",
              "      <td>comme avec les autres commentaires nos repas é...</td>\n",
              "      <td>1</td>\n",
              "    </tr>\n",
              "    <tr>\n",
              "      <th>...</th>\n",
              "      <td>...</td>\n",
              "      <td>...</td>\n",
              "    </tr>\n",
              "    <tr>\n",
              "      <th>1612</th>\n",
              "      <td>le service a été rapide et les crêpes très bon...</td>\n",
              "      <td>1</td>\n",
              "    </tr>\n",
              "    <tr>\n",
              "      <th>1613</th>\n",
              "      <td>restaurant excellent bon rapport qualité-prix ...</td>\n",
              "      <td>1</td>\n",
              "    </tr>\n",
              "    <tr>\n",
              "      <th>1614</th>\n",
              "      <td>incroyable mais vrai 190€ la baguette ! que di...</td>\n",
              "      <td>0</td>\n",
              "    </tr>\n",
              "    <tr>\n",
              "      <th>1615</th>\n",
              "      <td>un japonais assez chic des beaux quartiers. no...</td>\n",
              "      <td>1</td>\n",
              "    </tr>\n",
              "    <tr>\n",
              "      <th>1616</th>\n",
              "      <td>accueil très chaleureux avec un personnel jeun...</td>\n",
              "      <td>1</td>\n",
              "    </tr>\n",
              "  </tbody>\n",
              "</table>\n",
              "<p>1617 rows × 2 columns</p>\n",
              "</div>"
            ],
            "text/plain": [
              "                                                comment  sentiment\n",
              "0     j'ai réservé ma table quelques mois à l'avance...          1\n",
              "1     que dire... nicolas sale est un chef d excepti...          1\n",
              "2     dans une rue tranquille non loin du panthéon u...          1\n",
              "3     rien à redire le restaurant est irréprochablem...          1\n",
              "4     comme avec les autres commentaires nos repas é...          1\n",
              "...                                                 ...        ...\n",
              "1612  le service a été rapide et les crêpes très bon...          1\n",
              "1613  restaurant excellent bon rapport qualité-prix ...          1\n",
              "1614  incroyable mais vrai 190€ la baguette ! que di...          0\n",
              "1615  un japonais assez chic des beaux quartiers. no...          1\n",
              "1616  accueil très chaleureux avec un personnel jeun...          1\n",
              "\n",
              "[1617 rows x 2 columns]"
            ]
          },
          "metadata": {
            "tags": []
          },
          "execution_count": 33
        }
      ]
    },
    {
      "cell_type": "code",
      "metadata": {
        "id": "3A-aSAgTvGc4",
        "colab": {
          "base_uri": "https://localhost:8080/"
        },
        "outputId": "1144fe50-0885-49b6-e38c-e1ac437e6b40"
      },
      "source": [
        "y=df_texte['sentiment']\n",
        "y"
      ],
      "execution_count": null,
      "outputs": [
        {
          "output_type": "execute_result",
          "data": {
            "text/plain": [
              "0       1\n",
              "1       1\n",
              "2       1\n",
              "3       1\n",
              "4       1\n",
              "       ..\n",
              "1612    1\n",
              "1613    1\n",
              "1614    0\n",
              "1615    1\n",
              "1616    1\n",
              "Name: sentiment, Length: 1617, dtype: int64"
            ]
          },
          "metadata": {
            "tags": []
          },
          "execution_count": 34
        }
      ]
    },
    {
      "cell_type": "code",
      "metadata": {
        "id": "DBx4ymNZ6Fb3"
      },
      "source": [
        "X_train, X_test, y_train, y_test = train_test_split(X, y, test_size=0.33, random_state=42)"
      ],
      "execution_count": null,
      "outputs": []
    },
    {
      "cell_type": "code",
      "metadata": {
        "colab": {
          "base_uri": "https://localhost:8080/"
        },
        "id": "byADQgePDWEu",
        "outputId": "b96ae647-3577-4e2e-8368-9e3b6dda3936"
      },
      "source": [
        "X_train"
      ],
      "execution_count": null,
      "outputs": [
        {
          "output_type": "execute_result",
          "data": {
            "text/plain": [
              "377     un grand bravo à toute l'équipe ! je n'ai jama...\n",
              "836     excellent dîner saveurs recherchées et agréabl...\n",
              "126     nombreuses mises en bouche plus belles et plus...\n",
              "1231    arrivé la journée même  application the fork p...\n",
              "1509    petite salle musique sympa. un service sans pl...\n",
              "                              ...                        \n",
              "1130    nous étions venu au kgb il y a quelques années...\n",
              "1294    je suis furieux de cette soirée absolument gâc...\n",
              "860     ce fut un merveilleux moment une grande découv...\n",
              "1459    très bon brunch à 42€ / personne. les plats so...\n",
              "1126    c étais un très bon restaurant ou je suis venu...\n",
              "Name: comment, Length: 1083, dtype: object"
            ]
          },
          "metadata": {
            "tags": []
          },
          "execution_count": 36
        }
      ]
    },
    {
      "cell_type": "code",
      "metadata": {
        "colab": {
          "base_uri": "https://localhost:8080/"
        },
        "id": "CskcEHMrDhQQ",
        "outputId": "e9b9fdaa-f2cc-490a-c823-1abd2018bdcc"
      },
      "source": [
        "X_test"
      ],
      "execution_count": null,
      "outputs": [
        {
          "output_type": "execute_result",
          "data": {
            "text/plain": [
              "135     les galettes n'ont rien de fantastiques les pr...\n",
              "478     c'est bon mais très gras et les serveurs sembl...\n",
              "1193    les plats ont vraiment recherché c'est tres ag...\n",
              "566     oui je confirme tout les excellents commentair...\n",
              "626     excellente pizzas pâte parfaite garniture d un...\n",
              "                              ...                        \n",
              "296     nous avions privatisé le restaurant cezembre p...\n",
              "602     après avoir laissé de nombreux commentaires su...\n",
              "461     un décor très ancien avec du tissu mural taché...\n",
              "1054    petit bistro divin! prendre le menu évasion de...\n",
              "798     après un court spectacle un excellent diner br...\n",
              "Name: comment, Length: 534, dtype: object"
            ]
          },
          "metadata": {
            "tags": []
          },
          "execution_count": 37
        }
      ]
    },
    {
      "cell_type": "code",
      "metadata": {
        "colab": {
          "base_uri": "https://localhost:8080/"
        },
        "id": "CJLt_YOYDHdc",
        "outputId": "f7e81152-7e91-4311-d05d-2c2a1faa1c51"
      },
      "source": [
        "y_train"
      ],
      "execution_count": null,
      "outputs": [
        {
          "output_type": "execute_result",
          "data": {
            "text/plain": [
              "377     1\n",
              "836     1\n",
              "126     1\n",
              "1231    1\n",
              "1509    0\n",
              "       ..\n",
              "1130    0\n",
              "1294    0\n",
              "860     1\n",
              "1459    1\n",
              "1126    0\n",
              "Name: sentiment, Length: 1083, dtype: int64"
            ]
          },
          "metadata": {
            "tags": []
          },
          "execution_count": 38
        }
      ]
    },
    {
      "cell_type": "code",
      "metadata": {
        "colab": {
          "base_uri": "https://localhost:8080/"
        },
        "id": "iPylCNkoDLhh",
        "outputId": "42c3bcd5-4305-4a26-c64e-432dee38e6d6"
      },
      "source": [
        "y_test"
      ],
      "execution_count": null,
      "outputs": [
        {
          "output_type": "execute_result",
          "data": {
            "text/plain": [
              "135     0\n",
              "478     0\n",
              "1193    1\n",
              "566     1\n",
              "626     1\n",
              "       ..\n",
              "296     1\n",
              "602     0\n",
              "461     0\n",
              "1054    1\n",
              "798     1\n",
              "Name: sentiment, Length: 534, dtype: int64"
            ]
          },
          "metadata": {
            "tags": []
          },
          "execution_count": 39
        }
      ]
    },
    {
      "cell_type": "code",
      "metadata": {
        "colab": {
          "base_uri": "https://localhost:8080/"
        },
        "id": "FPgCXEUjk2lK",
        "outputId": "26f8141c-9550-4714-f091-cb88ed76aae2"
      },
      "source": [
        "y=df_texte['sentiment']\n",
        "y"
      ],
      "execution_count": null,
      "outputs": [
        {
          "output_type": "execute_result",
          "data": {
            "text/plain": [
              "0       1\n",
              "1       1\n",
              "2       1\n",
              "3       1\n",
              "4       1\n",
              "       ..\n",
              "1612    1\n",
              "1613    1\n",
              "1614    0\n",
              "1615    1\n",
              "1616    1\n",
              "Name: sentiment, Length: 1617, dtype: int64"
            ]
          },
          "metadata": {
            "tags": []
          },
          "execution_count": 40
        }
      ]
    },
    {
      "cell_type": "code",
      "metadata": {
        "id": "MmIMrjzRdiym"
      },
      "source": [
        "Ypred= pip"
      ],
      "execution_count": null,
      "outputs": []
    },
    {
      "cell_type": "code",
      "metadata": {
        "colab": {
          "base_uri": "https://localhost:8080/"
        },
        "id": "MJ5-98w4mkCR",
        "outputId": "a9ee54ea-1e72-4cfc-bdca-dcb6c0dfb747"
      },
      "source": [
        "from sklearn.model_selection import GridSearchCV\n",
        "\n",
        "param_svc={\n",
        "    'clf__kernel': ['rbf'],\n",
        "    'clf__C': [1000],\n",
        "    'clf__gamma': [0.001],\n",
        "    'clf__random_state': [None]}\n",
        "clf=GridSearchCV(pip,param_svc,n_jobs=1,verbose=3)\n",
        "clf.fit(X_train,y_train)\n",
        "print(clf.best_params_)"
      ],
      "execution_count": null,
      "outputs": [
        {
          "output_type": "stream",
          "text": [
            "Fitting 5 folds for each of 1 candidates, totalling 5 fits\n",
            "[CV] clf__C=1000, clf__gamma=0.001, clf__kernel=rbf, clf__random_state=None \n"
          ],
          "name": "stdout"
        },
        {
          "output_type": "stream",
          "text": [
            "[Parallel(n_jobs=1)]: Using backend SequentialBackend with 1 concurrent workers.\n"
          ],
          "name": "stderr"
        },
        {
          "output_type": "stream",
          "text": [
            "[CV]  clf__C=1000, clf__gamma=0.001, clf__kernel=rbf, clf__random_state=None, score=0.825, total=   0.4s\n",
            "[CV] clf__C=1000, clf__gamma=0.001, clf__kernel=rbf, clf__random_state=None \n"
          ],
          "name": "stdout"
        },
        {
          "output_type": "stream",
          "text": [
            "[Parallel(n_jobs=1)]: Done   1 out of   1 | elapsed:    0.4s remaining:    0.0s\n"
          ],
          "name": "stderr"
        },
        {
          "output_type": "stream",
          "text": [
            "[CV]  clf__C=1000, clf__gamma=0.001, clf__kernel=rbf, clf__random_state=None, score=0.857, total=   0.4s\n",
            "[CV] clf__C=1000, clf__gamma=0.001, clf__kernel=rbf, clf__random_state=None \n"
          ],
          "name": "stdout"
        },
        {
          "output_type": "stream",
          "text": [
            "[Parallel(n_jobs=1)]: Done   2 out of   2 | elapsed:    0.8s remaining:    0.0s\n"
          ],
          "name": "stderr"
        },
        {
          "output_type": "stream",
          "text": [
            "[CV]  clf__C=1000, clf__gamma=0.001, clf__kernel=rbf, clf__random_state=None, score=0.871, total=   0.4s\n",
            "[CV] clf__C=1000, clf__gamma=0.001, clf__kernel=rbf, clf__random_state=None \n",
            "[CV]  clf__C=1000, clf__gamma=0.001, clf__kernel=rbf, clf__random_state=None, score=0.847, total=   0.4s\n",
            "[CV] clf__C=1000, clf__gamma=0.001, clf__kernel=rbf, clf__random_state=None \n",
            "[CV]  clf__C=1000, clf__gamma=0.001, clf__kernel=rbf, clf__random_state=None, score=0.898, total=   0.4s\n"
          ],
          "name": "stdout"
        },
        {
          "output_type": "stream",
          "text": [
            "[Parallel(n_jobs=1)]: Done   5 out of   5 | elapsed:    1.9s finished\n"
          ],
          "name": "stderr"
        },
        {
          "output_type": "stream",
          "text": [
            "{'clf__C': 1000, 'clf__gamma': 0.001, 'clf__kernel': 'rbf', 'clf__random_state': None}\n"
          ],
          "name": "stdout"
        }
      ]
    },
    {
      "cell_type": "code",
      "metadata": {
        "id": "FEGV2n2vdeSm"
      },
      "source": [
        "y_pred1=pip.predict(X_test)\n",
        "y_pred2=clf.decision_function(X_test)"
      ],
      "execution_count": null,
      "outputs": []
    },
    {
      "cell_type": "code",
      "metadata": {
        "id": "s-V2HeeOmvqI"
      },
      "source": [
        "#print(gscv.best_params_)"
      ],
      "execution_count": null,
      "outputs": []
    },
    {
      "cell_type": "code",
      "metadata": {
        "id": "XDdhND-cN-xE"
      },
      "source": [
        "from sklearn.naive_bayes import GaussianNB\n",
        "param_grid = {'var_smoothing': np.logspace(0,-9, num=4)}\n",
        "param_grid\n",
        "#2 fit\n",
        "gscv = GridSearchCV(\n",
        "    GaussianNB(),\n",
        "    param_grid,\n",
        "    cv = 3)"
      ],
      "execution_count": null,
      "outputs": []
    },
    {
      "cell_type": "code",
      "metadata": {
        "colab": {
          "base_uri": "https://localhost:8080/"
        },
        "id": "q13Sxlplp9FG",
        "outputId": "612ac578-0513-4627-ab67-906ca620cac7"
      },
      "source": [
        "gscv"
      ],
      "execution_count": null,
      "outputs": [
        {
          "output_type": "execute_result",
          "data": {
            "text/plain": [
              "GridSearchCV(cv=3, estimator=GaussianNB(),\n",
              "             param_grid={'var_smoothing': array([1.e+00, 1.e-03, 1.e-06, 1.e-09])})"
            ]
          },
          "metadata": {
            "tags": []
          },
          "execution_count": 45
        }
      ]
    },
    {
      "cell_type": "code",
      "metadata": {
        "colab": {
          "base_uri": "https://localhost:8080/"
        },
        "id": "6RFJu38dqJMS",
        "outputId": "615e5de8-35ac-4385-f141-a563eb8b974a"
      },
      "source": [
        "y=df_texte['sentiment']\n",
        "y"
      ],
      "execution_count": null,
      "outputs": [
        {
          "output_type": "execute_result",
          "data": {
            "text/plain": [
              "0       1\n",
              "1       1\n",
              "2       1\n",
              "3       1\n",
              "4       1\n",
              "       ..\n",
              "1612    1\n",
              "1613    1\n",
              "1614    0\n",
              "1615    1\n",
              "1616    1\n",
              "Name: sentiment, Length: 1617, dtype: int64"
            ]
          },
          "metadata": {
            "tags": []
          },
          "execution_count": 46
        }
      ]
    },
    {
      "cell_type": "code",
      "metadata": {
        "id": "HrXmNHWSqi_z"
      },
      "source": [
        "x_train, X_test, y_train, y_test = train_test_split(X, y, test_size=0.3,random_state=1,stratify=y)"
      ],
      "execution_count": null,
      "outputs": []
    },
    {
      "cell_type": "code",
      "metadata": {
        "colab": {
          "base_uri": "https://localhost:8080/"
        },
        "id": "l-PDRALQshHo",
        "outputId": "476ae52a-9045-4efd-c44c-60be42f8a5b8"
      },
      "source": [
        "from sklearn.naive_bayes import GaussianNB, MultinomialNB, ComplementNB, BernoulliNB, CategoricalNB\n",
        "param_grid = {'alpha': np.linspace(0.25,1, num=4)}\n",
        "param_grid\n",
        "#2 fit\n",
        "gscv = GridSearchCV(\n",
        "    MultinomialNB(),\n",
        "    param_grid,\n",
        "    cv = 3)\n",
        "gscv"
      ],
      "execution_count": null,
      "outputs": [
        {
          "output_type": "execute_result",
          "data": {
            "text/plain": [
              "GridSearchCV(cv=3, estimator=MultinomialNB(),\n",
              "             param_grid={'alpha': array([0.25, 0.5 , 0.75, 1.  ])})"
            ]
          },
          "metadata": {
            "tags": []
          },
          "execution_count": 48
        }
      ]
    },
    {
      "cell_type": "code",
      "metadata": {
        "id": "FcrzqenluXzE"
      },
      "source": [
        "from sklearn.model_selection import KFold\n",
        "from sklearn.neural_network import MLPClassifier\n",
        "cv_method = KFold(n_splits=4, shuffle=True)\n",
        "model = MLPClassifier()"
      ],
      "execution_count": null,
      "outputs": []
    },
    {
      "cell_type": "code",
      "metadata": {
        "id": "RKARzjB5wXbb"
      },
      "source": [
        "tuned_params = [{'solver': ['sgd'], 'learning_rate': ['constant'], \"learning_rate_init\" : [0.001, 0.01, 0.05, 0.1]},\n",
        "                {\"learning_rate_init\" : [0.001, 0.01, 0.05, 0.1]}]"
      ],
      "execution_count": null,
      "outputs": []
    },
    {
      "cell_type": "code",
      "metadata": {
        "id": "nV06cAIQwcKx"
      },
      "source": [
        "cv_method = KFold(n_splits=4, shuffle=True)\n",
        "model = MLPClassifier()"
      ],
      "execution_count": null,
      "outputs": []
    },
    {
      "cell_type": "code",
      "metadata": {
        "colab": {
          "base_uri": "https://localhost:8080/"
        },
        "id": "Pgf5SsVGx9Qn",
        "outputId": "bcff11b2-0766-439a-c2bf-5adc53ea2bc8"
      },
      "source": [
        "y_test"
      ],
      "execution_count": null,
      "outputs": [
        {
          "output_type": "execute_result",
          "data": {
            "text/plain": [
              "1039    1\n",
              "1523    0\n",
              "223     1\n",
              "1438    0\n",
              "1000    0\n",
              "       ..\n",
              "348     0\n",
              "309     1\n",
              "680     0\n",
              "839     1\n",
              "226     1\n",
              "Name: sentiment, Length: 486, dtype: int64"
            ]
          },
          "metadata": {
            "tags": []
          },
          "execution_count": 54
        }
      ]
    },
    {
      "cell_type": "code",
      "metadata": {
        "colab": {
          "base_uri": "https://localhost:8080/"
        },
        "id": "hhgg60ePMEN2",
        "outputId": "d1041670-8b3f-4a45-b3f6-d6783be8d397"
      },
      "source": [
        "from sklearn.metrics import classification_report, confusion_matrix\n",
        " #print(confusion_matrix(y_test, y_pred))\n",
        "from sklearn import metrics\n",
        "print('accuracy joblib = 0.6957')"
      ],
      "execution_count": null,
      "outputs": [
        {
          "output_type": "stream",
          "text": [
            "accuracy joblib = 0.6957\n"
          ],
          "name": "stdout"
        }
      ]
    },
    {
      "cell_type": "code",
      "metadata": {
        "colab": {
          "base_uri": "https://localhost:8080/",
          "height": 416
        },
        "id": "ibEe_vzLvQxH",
        "outputId": "6c8e1f6a-44be-42ec-eaea-ceabfa8d6cab"
      },
      "source": [
        "import pandas as pd\n",
        "df_texte=pd.read_csv('/content/sample_data/comments_train (1).csv')\n",
        "df_texte"
      ],
      "execution_count": null,
      "outputs": [
        {
          "output_type": "execute_result",
          "data": {
            "text/html": [
              "<div>\n",
              "<style scoped>\n",
              "    .dataframe tbody tr th:only-of-type {\n",
              "        vertical-align: middle;\n",
              "    }\n",
              "\n",
              "    .dataframe tbody tr th {\n",
              "        vertical-align: top;\n",
              "    }\n",
              "\n",
              "    .dataframe thead th {\n",
              "        text-align: right;\n",
              "    }\n",
              "</style>\n",
              "<table border=\"1\" class=\"dataframe\">\n",
              "  <thead>\n",
              "    <tr style=\"text-align: right;\">\n",
              "      <th></th>\n",
              "      <th>comment</th>\n",
              "      <th>sentiment</th>\n",
              "    </tr>\n",
              "  </thead>\n",
              "  <tbody>\n",
              "    <tr>\n",
              "      <th>0</th>\n",
              "      <td>J'ai réservé ma table quelques mois à l'avance...</td>\n",
              "      <td>Positive</td>\n",
              "    </tr>\n",
              "    <tr>\n",
              "      <th>1</th>\n",
              "      <td>Que dire... Nicolas sale est un chef d excepti...</td>\n",
              "      <td>Positive</td>\n",
              "    </tr>\n",
              "    <tr>\n",
              "      <th>2</th>\n",
              "      <td>Dans une rue tranquille non loin du Panthéon u...</td>\n",
              "      <td>Positive</td>\n",
              "    </tr>\n",
              "    <tr>\n",
              "      <th>3</th>\n",
              "      <td>Rien à redire le restaurant est irréprochablem...</td>\n",
              "      <td>Positive</td>\n",
              "    </tr>\n",
              "    <tr>\n",
              "      <th>4</th>\n",
              "      <td>Comme avec les autres commentaires nos repas é...</td>\n",
              "      <td>Positive</td>\n",
              "    </tr>\n",
              "    <tr>\n",
              "      <th>...</th>\n",
              "      <td>...</td>\n",
              "      <td>...</td>\n",
              "    </tr>\n",
              "    <tr>\n",
              "      <th>1612</th>\n",
              "      <td>Le service a été rapide et les crêpes très bon...</td>\n",
              "      <td>Positive</td>\n",
              "    </tr>\n",
              "    <tr>\n",
              "      <th>1613</th>\n",
              "      <td>Restaurant excellent bon rapport qualité-prix ...</td>\n",
              "      <td>Positive</td>\n",
              "    </tr>\n",
              "    <tr>\n",
              "      <th>1614</th>\n",
              "      <td>Incroyable mais vrai 190€ la baguette ! Que di...</td>\n",
              "      <td>Negative</td>\n",
              "    </tr>\n",
              "    <tr>\n",
              "      <th>1615</th>\n",
              "      <td>Un japonais assez chic des beaux quartiers. No...</td>\n",
              "      <td>Positive</td>\n",
              "    </tr>\n",
              "    <tr>\n",
              "      <th>1616</th>\n",
              "      <td>Accueil très chaleureux avec un personnel jeun...</td>\n",
              "      <td>Positive</td>\n",
              "    </tr>\n",
              "  </tbody>\n",
              "</table>\n",
              "<p>1617 rows × 2 columns</p>\n",
              "</div>"
            ],
            "text/plain": [
              "                                                comment sentiment\n",
              "0     J'ai réservé ma table quelques mois à l'avance...  Positive\n",
              "1     Que dire... Nicolas sale est un chef d excepti...  Positive\n",
              "2     Dans une rue tranquille non loin du Panthéon u...  Positive\n",
              "3     Rien à redire le restaurant est irréprochablem...  Positive\n",
              "4     Comme avec les autres commentaires nos repas é...  Positive\n",
              "...                                                 ...       ...\n",
              "1612  Le service a été rapide et les crêpes très bon...  Positive\n",
              "1613  Restaurant excellent bon rapport qualité-prix ...  Positive\n",
              "1614  Incroyable mais vrai 190€ la baguette ! Que di...  Negative\n",
              "1615  Un japonais assez chic des beaux quartiers. No...  Positive\n",
              "1616  Accueil très chaleureux avec un personnel jeun...  Positive\n",
              "\n",
              "[1617 rows x 2 columns]"
            ]
          },
          "metadata": {
            "tags": []
          },
          "execution_count": 56
        }
      ]
    },
    {
      "cell_type": "code",
      "metadata": {
        "id": "EiDgVRd80-Fr"
      },
      "source": [
        "import unidecode\n",
        "import re\n",
        "def nettoyage(texte):\n",
        "    tex=[]\n",
        "    s_w=list((stopwords.words('french')+stop_words.get_stop_words('fr')))+['plus']\n",
        "    s_w=[unidecode.unidecode(elem.lower()) for elem in s_w]\n",
        "    # mettre en minuscule\n",
        "    texte=texte.lower()\n",
        "    # enlever les accents\n",
        "    texte=unidecode.unidecode(texte).replace(\"'\",\" \")\n",
        "    # enlever les chiffres et caracteres spéciaux\n",
        "    pattern=\"([a-z]+)\"\n",
        "    for elem in re.findall(pattern,texte):\n",
        "        # enlever les stop words\n",
        "        if elem in s_w:\n",
        "            continue\n",
        "        else:\n",
        "            tex.append(elem)\n",
        "    return ' '.join(tex)"
      ],
      "execution_count": null,
      "outputs": []
    },
    {
      "cell_type": "code",
      "metadata": {
        "id": "xKv6TlZgu8EZ",
        "colab": {
          "base_uri": "https://localhost:8080/"
        },
        "outputId": "1f793bc9-3c16-4a50-a8e2-843a29a96847"
      },
      "source": [
        "# Enlever les lignes identiques\n",
        "print(len(df_texte))\n",
        "df_texte.drop_duplicates('comment',inplace=True)\n",
        "print(len(df_texte))"
      ],
      "execution_count": null,
      "outputs": [
        {
          "output_type": "stream",
          "text": [
            "1617\n",
            "1534\n"
          ],
          "name": "stdout"
        }
      ]
    },
    {
      "cell_type": "code",
      "metadata": {
        "colab": {
          "base_uri": "https://localhost:8080/"
        },
        "id": "PR5RTBo5eo6d",
        "outputId": "8ca68fcc-59dd-49b9-dc86-496185678285"
      },
      "source": [
        "!pip install  nltk"
      ],
      "execution_count": null,
      "outputs": [
        {
          "output_type": "stream",
          "text": [
            "Requirement already satisfied: nltk in /usr/local/lib/python3.7/dist-packages (3.2.5)\n",
            "Requirement already satisfied: six in /usr/local/lib/python3.7/dist-packages (from nltk) (1.15.0)\n"
          ],
          "name": "stdout"
        }
      ]
    },
    {
      "cell_type": "code",
      "metadata": {
        "colab": {
          "base_uri": "https://localhost:8080/"
        },
        "id": "9B4aCTeItdoT",
        "outputId": "5badb6af-57f9-46b0-fd16-b8636f358a19"
      },
      "source": [
        "!pip install unidecode"
      ],
      "execution_count": null,
      "outputs": [
        {
          "output_type": "stream",
          "text": [
            "Requirement already satisfied: unidecode in /usr/local/lib/python3.7/dist-packages (1.2.0)\n"
          ],
          "name": "stdout"
        }
      ]
    },
    {
      "cell_type": "code",
      "metadata": {
        "colab": {
          "base_uri": "https://localhost:8080/"
        },
        "id": "rpB2W72y6f_C",
        "outputId": "689eb38d-56be-4d15-a51b-c1d30eb3c678"
      },
      "source": [
        "!pip install stop_words"
      ],
      "execution_count": null,
      "outputs": [
        {
          "output_type": "stream",
          "text": [
            "Collecting stop_words\n",
            "  Downloading https://files.pythonhosted.org/packages/1c/cb/d58290804b7a4c5daa42abbbe2a93c477ae53e45541b1825e86f0dfaaf63/stop-words-2018.7.23.tar.gz\n",
            "Building wheels for collected packages: stop-words\n",
            "  Building wheel for stop-words (setup.py) ... \u001b[?25l\u001b[?25hdone\n",
            "  Created wheel for stop-words: filename=stop_words-2018.7.23-cp37-none-any.whl size=32913 sha256=db25349029c1b61a3f46f235836afc1248aff9fe4cd7541975ba0c4356c942ca\n",
            "  Stored in directory: /root/.cache/pip/wheels/75/37/6a/2b295e03bd07290f0da95c3adb9a74ba95fbc333aa8b0c7c78\n",
            "Successfully built stop-words\n",
            "Installing collected packages: stop-words\n",
            "Successfully installed stop-words-2018.7.23\n"
          ],
          "name": "stdout"
        }
      ]
    },
    {
      "cell_type": "code",
      "metadata": {
        "id": "68NJoAUkwITR",
        "colab": {
          "base_uri": "https://localhost:8080/"
        },
        "outputId": "5c6d112d-c96b-41b4-e256-a46061746471"
      },
      "source": [
        "#NETTOYAGE DONNÉES\n",
        "from unidecode import unidecode\n",
        "import re\n",
        "import nltk\n",
        "from nltk.corpus import stopwords\n",
        "nltk.download('stopwords')\n",
        "stopwords = stopwords.words('french')\n",
        "def nettoyage(texte):\n",
        "    tex=[]\n",
        "    s_w=list(set(stopwords.words('french')+stop_words.get_stop_words('fr')))+['plus']\n",
        "    s_w=[unidecode(elem.lower()) for elem in s_w]\n",
        "    # mettre en minuscule\n",
        "    texte=texte.lower()\n",
        "    # enlever les accents\n",
        "    texte=unidecode(texte).replace(\"'\",\" \")\n",
        "    \n",
        "    # Lematize/Stem\n",
        "    \n",
        "    # enlever les chiffres et caracteres spéciaux\n",
        "    pattern=\"([a-z]+)\"\n",
        "    \n",
        "    for elem in re.findall(pattern,texte):\n",
        "        # enlever les stop words\n",
        "        if elem in s_w:\n",
        "            continue\n",
        "        else:\n",
        "            tex.append(elem)\n",
        "    return ' '.join(tex)"
      ],
      "execution_count": null,
      "outputs": [
        {
          "output_type": "stream",
          "text": [
            "[nltk_data] Downloading package stopwords to /root/nltk_data...\n",
            "[nltk_data]   Unzipping corpora/stopwords.zip.\n"
          ],
          "name": "stdout"
        }
      ]
    },
    {
      "cell_type": "code",
      "metadata": {
        "id": "-6NNSljywPA4"
      },
      "source": [
        "#df_texte['comment'] = df_texte['comment'].apply(nettoyage)\n",
        "#df_texte.head()"
      ],
      "execution_count": null,
      "outputs": []
    },
    {
      "cell_type": "code",
      "metadata": {
        "colab": {
          "base_uri": "https://localhost:8080/",
          "height": 416
        },
        "id": "QABbU-TiwdIh",
        "outputId": "80601260-fb68-4860-b62f-bafb6a2c10cb"
      },
      "source": [
        "comment = df_texte[\"sentiment\"]\n",
        "le = LabelEncoder()\n",
        "le.fit(comment)\n",
        "list(le.classes_)\n",
        "df_texte['sentiment']=le.transform(df_texte['sentiment'])\n",
        "df_texte"
      ],
      "execution_count": null,
      "outputs": [
        {
          "output_type": "execute_result",
          "data": {
            "text/html": [
              "<div>\n",
              "<style scoped>\n",
              "    .dataframe tbody tr th:only-of-type {\n",
              "        vertical-align: middle;\n",
              "    }\n",
              "\n",
              "    .dataframe tbody tr th {\n",
              "        vertical-align: top;\n",
              "    }\n",
              "\n",
              "    .dataframe thead th {\n",
              "        text-align: right;\n",
              "    }\n",
              "</style>\n",
              "<table border=\"1\" class=\"dataframe\">\n",
              "  <thead>\n",
              "    <tr style=\"text-align: right;\">\n",
              "      <th></th>\n",
              "      <th>comment</th>\n",
              "      <th>sentiment</th>\n",
              "    </tr>\n",
              "  </thead>\n",
              "  <tbody>\n",
              "    <tr>\n",
              "      <th>0</th>\n",
              "      <td>J'ai réservé ma table quelques mois à l'avance...</td>\n",
              "      <td>1</td>\n",
              "    </tr>\n",
              "    <tr>\n",
              "      <th>1</th>\n",
              "      <td>Que dire... Nicolas sale est un chef d excepti...</td>\n",
              "      <td>1</td>\n",
              "    </tr>\n",
              "    <tr>\n",
              "      <th>2</th>\n",
              "      <td>Dans une rue tranquille non loin du Panthéon u...</td>\n",
              "      <td>1</td>\n",
              "    </tr>\n",
              "    <tr>\n",
              "      <th>3</th>\n",
              "      <td>Rien à redire le restaurant est irréprochablem...</td>\n",
              "      <td>1</td>\n",
              "    </tr>\n",
              "    <tr>\n",
              "      <th>4</th>\n",
              "      <td>Comme avec les autres commentaires nos repas é...</td>\n",
              "      <td>1</td>\n",
              "    </tr>\n",
              "    <tr>\n",
              "      <th>...</th>\n",
              "      <td>...</td>\n",
              "      <td>...</td>\n",
              "    </tr>\n",
              "    <tr>\n",
              "      <th>1612</th>\n",
              "      <td>Le service a été rapide et les crêpes très bon...</td>\n",
              "      <td>1</td>\n",
              "    </tr>\n",
              "    <tr>\n",
              "      <th>1613</th>\n",
              "      <td>Restaurant excellent bon rapport qualité-prix ...</td>\n",
              "      <td>1</td>\n",
              "    </tr>\n",
              "    <tr>\n",
              "      <th>1614</th>\n",
              "      <td>Incroyable mais vrai 190€ la baguette ! Que di...</td>\n",
              "      <td>0</td>\n",
              "    </tr>\n",
              "    <tr>\n",
              "      <th>1615</th>\n",
              "      <td>Un japonais assez chic des beaux quartiers. No...</td>\n",
              "      <td>1</td>\n",
              "    </tr>\n",
              "    <tr>\n",
              "      <th>1616</th>\n",
              "      <td>Accueil très chaleureux avec un personnel jeun...</td>\n",
              "      <td>1</td>\n",
              "    </tr>\n",
              "  </tbody>\n",
              "</table>\n",
              "<p>1534 rows × 2 columns</p>\n",
              "</div>"
            ],
            "text/plain": [
              "                                                comment  sentiment\n",
              "0     J'ai réservé ma table quelques mois à l'avance...          1\n",
              "1     Que dire... Nicolas sale est un chef d excepti...          1\n",
              "2     Dans une rue tranquille non loin du Panthéon u...          1\n",
              "3     Rien à redire le restaurant est irréprochablem...          1\n",
              "4     Comme avec les autres commentaires nos repas é...          1\n",
              "...                                                 ...        ...\n",
              "1612  Le service a été rapide et les crêpes très bon...          1\n",
              "1613  Restaurant excellent bon rapport qualité-prix ...          1\n",
              "1614  Incroyable mais vrai 190€ la baguette ! Que di...          0\n",
              "1615  Un japonais assez chic des beaux quartiers. No...          1\n",
              "1616  Accueil très chaleureux avec un personnel jeun...          1\n",
              "\n",
              "[1534 rows x 2 columns]"
            ]
          },
          "metadata": {
            "tags": []
          },
          "execution_count": 67
        }
      ]
    },
    {
      "cell_type": "code",
      "metadata": {
        "colab": {
          "base_uri": "https://localhost:8080/"
        },
        "id": "HgFKCnFtxUER",
        "outputId": "8d8bedc6-eebd-4231-c194-754c3787bd3c"
      },
      "source": [
        "from sklearn.feature_extraction.text import CountVectorizer\n",
        "vectorizer = CountVectorizer()\n",
        "X = vectorizer.fit_transform(df_texte['comment'])\n",
        "print(vectorizer.get_feature_names(),len(vectorizer.get_feature_names()))\n",
        "print(X.toarray())"
      ],
      "execution_count": null,
      "outputs": [
        {
          "output_type": "stream",
          "text": [
            "['00', '00h', '01', '03', '06', '08', '10', '100', '1000', '100000', '100g', '109', '11', '110', '114', '11h45', '12', '12460', '12e', '12h25', '13', '13eme', '13h', '13h30', '14', '145', '14h', '14h30', '15', '150', '15h', '15j', '15km', '16', '165', '16em', '17', '170', '172', '179', '17h40', '18', '185', '1880', '19', '190', '1900', '1920', '195', '19eme', '19h', '19h30', '1bol', '1er', '1ere', '1h', '1h30', '1h45', '1minutes', '20', '200', '2001', '2002', '2006', '2009', '200euros', '2011', '2012', '2014', '2015', '2016', '2017', '2018', '20h', '20h00', '20h30', '21', '2190', '21h30', '21h50', '22', '220', '222g', '22h', '22h00', '22h15', '22h25', '22h30', '23', '23h', '23h30', '24', '25', '26', '27', '27ème', '28', '280', '29', '2e', '2eme', '2emefois', '2emme', '2h30', '30', '300g', '30min', '30ème', '31', '310', '33', '330', '34', '35', '350', '36', '38', '39', '39v', '3cl', '3cm', '3e', '3h', '3h30', '3heures', '3légumes', '3ème', '40', '400', '42', '43', '45', '450', '48', '49', '49cl', '4ieme', '4ème', '50', '500', '52', '55', '59', '5min', '5plus', '5ème', '60', '600', '61', '62', '64', '650', '68', '69', '6e', '6eme', '6ieme', '70', '710', '75008', '78', '79', '7ème', '80', '800m', '85', '8eme', '8ème', '90', '900', '92', '9eme', '9h30', '9ème', 'abasourdi', 'abeille', 'abondance', 'abord', 'abordable', 'abordables', 'aborde', 'aboyer', 'abricot', 'abris', 'absence', 'absent', 'absolue', 'absolument', 'abus', 'abuse', 'accent', 'accepte', 'accepter', 'accepté', 'accessible', 'acceuil', 'acceuillis', 'acceuilservice', 'accommodées', 'accompagnait', 'accompagnant', 'accompagne', 'accompagnement', 'accompagnements', 'accompagnent', 'accompagner', 'accompagné', 'accompagnée', 'accompagnées', 'accompagnés', 'accord', 'accords', 'accueil', 'accueillant', 'accueillante', 'accueillantes', 'accueillants', 'accueille', 'accueillent', 'accueilli', 'accueillie', 'accueillies', 'accueillir', 'accueillis', 'accès', 'accéder', 'achalandé', 'achar', 'achat', 'acheter', 'acheté', 'achetés', 'achever', 'acidité', 'acidulé', 'acollée', 'actif', 'actualisée', 'actuelle', 'actuelles', 'adam', 'adaptent', 'adapté', 'adaptés', 'addition', 'adepte', 'adition', 'adjectif', 'adjuger', 'admettre', 'admiratif', 'admissible', 'adorable', 'adorables', 'adore', 'adorent', 'adoré', 'adossé', 'adresse', 'adresses', 'adressée', 'advisor', 'adéquat', 'affabilité', 'affaire', 'affaires', 'affamé', 'affecté', 'afficher', 'affiché', 'affichés', 'affinent', 'affirmer', 'affirmées', 'affluence', 'affordable', 'affèteries', 'afin', 'agacés', 'agapé', 'agar', 'agassé', 'agenda', 'agissait', 'agneau', 'agrandissent', 'agreable', 'agreablement', 'agreeable', 'agressive', 'agrumes', 'agréable', 'agréablement', 'agréables', 'agréableserveurs', 'agrémentée', 'ah', 'ai', 'aie', 'aient', 'aigu', 'ail', 'ailleurs', 'aimable', 'aimables', 'aimais', 'aime', 'aimer', 'aimerait', 'aimez', 'aimions', 'aimé', 'aimés', 'ainsi', 'aions', 'air', 'airs', 'aisance', 'aise', 'ait', 'ajouter', 'ajouté', 'ajoutées', 'ajuster', 'aki', 'al', 'alain', 'albion', 'alchimie', 'alcool', 'alegria', 'alentours', 'alerte', 'alexandre', 'algue', 'algues', 'aligne', 'alimentaire', 'alimentaires', 'aliments', 'all', 'allaient', 'allais', 'allait', 'allant', 'allechante', 'aller', 'allergies', 'allergique', 'allez', 'alliance', 'alliant', 'allie', 'allier', 'allions', 'allié', 'allons', 'allume', 'allé', 'alléchant', 'alléchante', 'alléchantes', 'allée', 'allés', 'alma', 'alors', 'alternative', 'alternatives', 'altèré', 'amabilité', 'amandes', 'amandiers', 'amateur', 'amateurs', 'amazonie', 'ambiance', 'ambiances', 'ambiant', 'ambiante', 'ame', 'amenés', 'amer', 'americains', 'amertume', 'amex', 'ami', 'amicale', 'amie', 'amies', 'amis', 'amispour', 'amitiés', 'amour', 'amoureux', 'amplement', 'amusante', 'amuse', 'amuses', 'amère', 'améliorations', 'améliorée', 'aménagements', 'aménagé', 'américain', 'américaine', 'an', 'ananas', 'anchois', 'ancien', 'ancienne', 'and', 'andouille', 'ange', 'anges', 'angevin', 'anglais', 'angleterre', 'anguille', 'angus', 'animé', 'ann', 'anne', 'anniversaire', 'anniversaires', 'annonce', 'annoncé', 'annoncées', 'annonçait', 'annulation', 'annulé', 'année', 'années', 'anomalie', 'anormal', 'ans', 'anti', 'antipasti', 'antipathique', 'antoine', 'anton', 'août', 'apaisante', 'apaisé', 'aperitif', 'apero', 'app', 'apparaitre', 'appareil', 'apparemment', 'apparence', 'apparences', 'appartant', 'appartement', 'appartenantba', 'appel', 'appelant', 'appelees', 'appeler', 'appelez', 'appellation', 'appelle', 'appellent', 'appelé', 'appercu', 'application', 'applique', 'appliquée', 'apporte', 'apportent', 'apporter', 'apporté', 'apportés', 'apprecie', 'apprehendais', 'apprenne', 'apprentie', 'appriori', 'approche', 'approprié', 'approximatif', 'appréciable', 'apprécie', 'apprécier', 'apprécions', 'apprécié', 'appréciée', 'appréciés', 'appréhension', 'appui', 'appuyant', 'appuyée', 'appétissant', 'appétissants', 'appétit', 'apres', 'après', 'apéritif', 'apéritifs', 'araignée', 'arc', 'arcane', 'argent', 'argenteuil', 'arménien', 'arnaque', 'arnaquer', 'arnaqué', 'arnaud', 'aromatisee', 'arome', 'arraché', 'arrangeant', 'arrangeants', 'arrangement', 'arrangé', 'arretter', 'arrivait', 'arrivant', 'arrive', 'arrivederci', 'arrivee', 'arrivent', 'arriver', 'arrives', 'arrivez', 'arrivons', 'arrivé', 'arrivée', 'arrivées', 'arrivés', 'arrière', 'arrogant', 'arrondissement', 'arrosé', 'arrêt', 'arrêtait', 'arrête', 'arrêter', 'arrêté', 'arrêtés', 'art', 'artichaut', 'artichauts', 'articulé', 'artifice', 'artificiels', 'artisanales', 'artiste', 'artistes', 'arts', 'arty', 'arôme', 'arômes', 'as', 'asap', 'asiatique', 'asiatiques', 'asiatisante', 'asie', 'asif', 'asperge', 'asperges', 'aspic', 'assaisonnement', 'assaisonnements', 'assaisonné', 'assaisonnés', 'assaut', 'assemblage', 'assemblages', 'asseoir', 'assez', 'assiette', 'assiettes', 'assis', 'assisté', 'association', 'associations', 'associer', 'associés', 'assortie', 'assortiment', 'assortiments', 'assortis', 'assurent', 'assurer', 'atelier', 'atmosphère', 'atours', 'atteindre', 'attend', 'attendais', 'attendait', 'attendant', 'attendent', 'attendez', 'attendions', 'attendons', 'attendre', 'attends', 'attendu', 'attendus', 'attente', 'attentes', 'attentif', 'attentifs', 'attention', 'attentionné', 'attentionnée', 'attentionnés', 'attentionnéun', 'attentions', 'atterri', 'attire', 'attiré', 'attirées', 'attirés', 'attiser', 'attitude', 'attractif', 'attractifs', 'attrape', 'attribué', 'attribuées', 'attribués', 'atypique', 'au', 'auberge', 'aubergines', 'aucum', 'aucun', 'aucune', 'audaces', 'audacieux', 'audieux', 'audrey', 'augmentation', 'augmenter', 'augurer', 'auguré', 'aujourd', 'auparavant', 'auprès', 'auquel', 'aura', 'aurai', 'aurais', 'aurait', 'aurez', 'aurions', 'aurons', 'auront', 'aussi', 'austère', 'autaient', 'autant', 'auteur', 'authentique', 'authentiques', 'automne', 'autorise', 'autour', 'autre', 'autres', 'auvergnats', 'auvergne', 'aux', 'avaient', 'avais', 'avaisi', 'avait', 'avalée', 'avance', 'avancée', 'avant', 'avantage', 'avarié', 'avce', 'avec', 'avenant', 'avenir', 'avent', 'aventure', 'aventurez', 'aversions', 'aveugle', 'aveyron', 'avez', 'avide', 'avion', 'avions', 'avis', 'avise', 'avises', 'avisplus', 'avisé', 'avisée', 'avisés', 'avoir', 'avon', 'avons', 'avont', 'avoue', 'avril', 'avère', 'avéré', 'avérée', 'ayant', 'ayons', 'aérien', 'aérienne', 'aériens', 'babines', 'bachir', 'bacon', 'bad', 'bagel', 'bagels', 'baguette', 'baies', 'baignant', 'baigné', 'baisser', 'baissé', 'bajhi', 'balade', 'balbutiant', 'ballade', 'balustrade', 'balzar', 'ban', 'banal', 'banale', 'banales', 'banalité', 'bancaire', 'bancaires', 'banctel', 'bannir', 'bao', 'baptiste', 'bar', 'barbue', 'bardolino', 'barman', 'barquette', 'barrage', 'bars', 'barème', 'bas', 'basant', 'base', 'bases', 'basic', 'basique', 'basiques', 'basmati', 'basque', 'basse', 'bastille', 'basés', 'bateau', 'batiment', 'battante', 'battent', 'bcp', 'beacoup', 'beau', 'beaucoup', 'beauté', 'beaux', 'beef', 'bel', 'belges', 'belle', 'belles', 'bemol', 'bercy', 'bernés', 'besoin', 'betterave', 'beuf', 'beurre', 'bichonné', 'bien', 'bienplus', 'bientot', 'bientôt', 'bienveillance', 'bienveillant', 'bienvenue', 'bienvenus', 'big', 'bijou', 'bilingue', 'bio', 'bios', 'bip', 'bis', 'biscuit', 'bisque', 'bistro', 'bistros', 'bistrot', 'bistrots', 'bitter', 'bizarre', 'bière', 'bières', 'bla', 'black', 'blague', 'blaguent', 'blagueur', 'blanc', 'blanche', 'blancs', 'blanquette', 'blend', 'bleu', 'bleues', 'bleuté', 'blindé', 'bling', 'bluffant', 'bluffée', 'blé', 'bo', 'bobo', 'bobun', 'bocaux', 'boeuf', 'bof', 'boire', 'bois', 'boise', 'boiseries', 'boisson', 'boissons', 'boites', 'bol', 'bolly', 'bollynan', 'bols', 'bon', 'bonheur', 'bonheurs', 'bonjour', 'bonne', 'bonnement', 'bonnes', 'bons', 'bonus', 'bord', 'boschman', 'bouche', 'bouches', 'bouchée', 'boucle', 'boucler', 'boudin', 'bouffe', 'bougies', 'bouillon', 'bouillons', 'boulanger', 'boulangerie', 'boulangers', 'boules', 'boulettes', 'boulevard', 'boulogne', 'boulot', 'bouquet', 'bouquets', 'bourget', 'bourgogne', 'bourratif', 'bourse', 'bout', 'boutary', 'bouteille', 'bouteilles', 'boutique', 'bouts', 'boyau', 'boîte', 'branché', 'bras', 'brasserie', 'brasseries', 'bravo', 'bravoplus', 'brebis', 'bref', 'brestois', 'bretagne', 'breton', 'bretonnes', 'brice', 'brigade', 'brigades', 'brillant', 'brin', 'brins', 'brio', 'brioches', 'brioché', 'brion', 'bristol', 'brochet', 'brochette', 'brochettes', 'brouillon', 'brua', 'bruit', 'bruitages', 'brulé', 'brulée', 'brulés', 'brunch', 'bruncher', 'brunché', 'brune', 'brunes', 'brut', 'bruxelles', 'bruyant', 'bruyante', 'bruyantes', 'bruyère', 'brésil', 'brésilienne', 'brûlée', 'budget', 'buffet', 'buffets', 'bun', 'buns', 'buono', 'burger', 'burgers', 'burrata', 'bus', 'but', 'butter', 'buvant', 'buzz', 'by', 'béatitude', 'bébé', 'bécassines', 'bémol', 'bénéficie', 'bœuf', 'ca', 'cabillaud', 'cacahuète', 'cacao', 'cacaotée', 'cache', 'cacher', 'caché', 'cadeau', 'cadre', 'cadres', 'cafard', 'cafe', 'café', 'cafétéria', 'cage', 'cagibi', 'cahotique', 'caille', 'cailles', 'caisse', 'cakes', 'calamars', 'cales', 'calibré', 'calme', 'calzone', 'cambodgien', 'cambodgienne', 'camembert', 'camouflé', 'campari', 'can', 'canard', 'candeborde', 'canette', 'canettes', 'canne', 'cannelle', 'cannelloni', 'cantine', 'caoutchouteuse', 'caoutchouteux', 'capable', 'capacité', 'capital', 'capitale', 'cappuccino', 'capter', 'car', 'caractère', 'caractériel', 'caractérise', 'caractérisé', 'carafe', 'carambar', 'caramel', 'carbonisée', 'carbonisés', 'cardamome', 'caricatural', 'caricature', 'carnassiers', 'carnet', 'carotte', 'carottes', 'carpaccio', 'carrefour', 'carré', 'carrée', 'carrées', 'carrément', 'carrés', 'carte', 'carteplus', 'cartes', 'carton', 'cas', 'cases', 'cash', 'cassant', 'casse', 'casser', 'castratophique', 'catalan', 'catastrophe', 'catastrophique', 'catelan', 'cathy', 'catégorie', 'catégorique', 'cauchemar', 'cause', 'cave', 'caviar', 'caviste', 'cb', 'ce', 'ceci', 'cela', 'celle', 'celles', 'celui', 'celà', 'cendrier', 'censé', 'centaines', 'centime', 'centre', 'cependant', 'cerise', 'cerises', 'cerisier', 'certain', 'certaine', 'certainement', 'certaines', 'certains', 'certe', 'certes', 'certificat', 'certifier', 'ces', 'cesse', 'cessé', 'cest', 'cet', 'cette', 'ceux', 'cezembre', 'chacun', 'chacune', 'chacunes', 'chaine', 'chaines', 'chair', 'chalance', 'chaland', 'chalereux', 'chaleuleuse', 'chaleur', 'chaleureuse', 'chaleureusement', 'chaleureux', 'chaleureuxavec', 'chambre', 'champagne', 'champagnes', 'champignons', 'champions', 'champs', 'chance', 'change', 'changement', 'changent', 'changer', 'changez', 'changé', 'chantaient', 'chanterelles', 'chanteurs', 'chanteuses', 'chantilly', 'chaotique', 'chapeau', 'chaque', 'charcuterie', 'charcuteries', 'chargé', 'charisme', 'charles', 'charmant', 'charmante', 'charmantes', 'charmants', 'charme', 'charmeront', 'charmé', 'chasse', 'chateaubriand', 'chaud', 'chaude', 'chaudes', 'chauds', 'chauffage', 'chauffages', 'chaussures', 'chaussée', 'chawarma', 'cheddar', 'cheesnan', 'chef', 'chefs', 'chelou', 'chemin', 'cheminplus', 'chemise', 'chene', 'chenin', 'cher', 'cherchait', 'cherchant', 'cherche', 'cherchent', 'chercher', 'cherchez', 'cherchions', 'chere', 'cheres', 'chers', 'chevreuil', 'chewing', 'chez', 'chic', 'chicago', 'chichi', 'chichis', 'chicken', 'chien', 'chiens', 'chiffre', 'chiffres', 'chiken', 'chine', 'chinois', 'chinoisants', 'chips', 'chique', 'chirashi', 'chloé', 'chocolat', 'choice', 'choisi', 'choisie', 'choisir', 'choisis', 'choisissez', 'choisissons', 'choisit', 'choix', 'chopin', 'choquant', 'choqué', 'chose', 'choses', 'chou', 'choucroute', 'chouette', 'choux', 'christian', 'chypriote', 'châtaignes', 'château', 'châteaux', 'chère', 'chères', 'chêne', 'ci', 'ciboulettes', 'cidre', 'cieltourne', 'cigare', 'cinq', 'cinquantaine', 'circuits', 'circulaire', 'citations', 'citron', 'citronelle', 'citronnelle', 'citrus', 'civet', 'clair', 'claire', 'clairement', 'claquer', 'classe', 'classement', 'classicisme', 'classique', 'classiques', 'classé', 'classées', 'claude', 'clean', 'clichy', 'client', 'clientele', 'clients', 'clientèle', 'climatisation', 'clochettes', 'clos', 'closerie', 'clou', 'cloud', 'club', 'clés', 'cnsm', 'cobea', 'cobéa', 'coche', 'cochon', 'cochonne', 'cocktail', 'cocktails', 'coco', 'cocon', 'cocooning', 'cocotte', 'coeur', 'cognac', 'coin', 'coincées', 'cois', 'colbert', 'coleslaw', 'collègue', 'collègues', 'collées', 'coloré', 'colorés', 'com', 'combinaison', 'combler', 'comblés', 'commandaria', 'commande', 'commander', 'commandes', 'commandions', 'commandons', 'commandé', 'commandée', 'comme', 'commence', 'commencer', 'commencé', 'commencée', 'commencés', 'comment', 'commentaire', 'commentaires', 'commentateurs', 'commenter', 'commenté', 'commençait', 'commençons', 'commercial', 'commerciale', 'commerçant', 'commerçants', 'commun', 'commune', 'communiquer', 'communiqués', 'compact', 'compagne', 'compagnie', 'compagnon', 'compagnons', 'comparaison', 'comparativement', 'comparé', 'compassion', 'competent', 'competitif', 'complet', 'complets', 'complexe', 'complexité', 'complique', 'compliqué', 'compliquée', 'complète', 'complètement', 'complétés', 'comportant', 'comporte', 'comportent', 'comporter', 'composer', 'composition', 'compositions', 'composé', 'composée', 'compote', 'compotée', 'comprenant', 'comprend', 'comprendre', 'comprends', 'comprenne', 'comprennent', 'compris', 'comprise', 'compromis', 'comptables', 'compte', 'compter', 'comptes', 'comptoir', 'compétences', 'compétent', 'compétente', 'compétitif', 'compétitifs', 'concentré', 'concept', 'concernant', 'concerne', 'concert', 'concevoir', 'concierge', 'conciergerie', 'concivial', 'conclu', 'concocte', 'concocter', 'concocté', 'concombre', 'concourait', 'concurrence', 'condiment', 'condition', 'conditions', 'conduire', 'conduit', 'conduits', 'confiance', 'confiante', 'confidentiel', 'configuration', 'confinée', 'confirmation', 'confirme', 'confirmer', 'confirmé', 'confirmée', 'confiseries', 'confit', 'confite', 'confiture', 'confondu', 'conforme', 'conformes', 'confort', 'confortable', 'confortablement', 'conforté', 'confrères', 'confusion', 'congelé', 'congelées', 'congrue', 'congrues', 'conjoint', 'conjointe', 'connais', 'connaissais', 'connaissance', 'connaissances', 'connaissant', 'connaissent', 'connaisseur', 'connaisseurs', 'connaissons', 'connait', 'connaît', 'connaître', 'connection', 'connexion', 'connu', 'connue', 'conquis', 'consacrer', 'consciencieux', 'conseil', 'conseille', 'conseiller', 'conseillons', 'conseillé', 'conseillée', 'conseillées', 'conseillés', 'conseils', 'conserve', 'considération', 'consistance', 'consistant', 'consiste', 'consommation', 'consommé', 'conspuent', 'constater', 'constaté', 'consterné', 'constitue', 'constituée', 'conséquence', 'contact', 'contemporain', 'contemporaine', 'content', 'contents', 'contenté', 'contenu', 'contexte', 'contient', 'continu', 'continue', 'continuellement', 'continuent', 'continuer', 'continuez', 'continué', 'contourner', 'contradiction', 'contraint', 'contraire', 'contrairement', 'contre', 'contrefaçon', 'contrefou', 'contretemps', 'contrevous', 'contribue', 'convaincues', 'convenable', 'convenables', 'convenant', 'convenir', 'conventionnelles', 'convenus', 'conversation', 'converser', 'conviction', 'conviendra', 'convient', 'convive', 'convives', 'convivial', 'conviviale', 'convivialité', 'convié', 'conçu', 'cookie', 'cookies', 'cool', 'coolplus', 'cools', 'copains', 'copie', 'copieuse', 'copieuses', 'copieux', 'copine', 'copines', 'coquillages', 'coquilles', 'coquillettes', 'coquine', 'corail', 'cordeau', 'cordial', 'cordialité', 'cordiaux', 'cordoue', 'coriandre', 'cornet', 'cornish', 'correct', 'correcte', 'correctement', 'correctes', 'correctesplus', 'corrects', 'correspond', 'correspondantes', 'correspondent', 'correspondre', 'corriger', 'corsent', 'corses', 'coréen', 'coréenne', 'coréens', 'cosi', 'cossu', 'cost', 'cosy', 'cote', 'cotta', 'coté', 'coucher', 'coucous', 'couleur', 'couleurs', 'coulis', 'couloir', 'coup', 'coupe', 'couper', 'coupes', 'couple', 'couples', 'coupole', 'coups', 'coupés', 'couraient', 'couramment', 'courbettes', 'courchevel', 'courez', 'courge', 'couronner', 'courrez', 'cours', 'course', 'court', 'courte', 'courtois', 'courtoise', 'courtoisie', 'courts', 'couscous', 'couteaux', 'coutumière', 'couverte', 'couverts', 'couvrir', 'coïncidence', 'crabe', 'craméeratéeimmangeable', 'cramés', 'crasseux', 'creatifs', 'creative', 'crepe', 'crepes', 'crevant', 'crevettes', 'criarde', 'cris', 'critique', 'critiquer', 'critiques', 'croirait', 'croire', 'crois', 'croissant', 'croissants', 'croque', 'croustillant', 'croustillante', 'croustillantes', 'croustillants', 'croyais', 'croûte', 'cruelle', 'cruellement', 'crues', 'crus', 'crème', 'crèpes', 'créatif', 'création', 'créative', 'créativité', 'créatrice', 'créditer', 'crémeux', 'crépinettes', 'crêpe', 'crêperie', 'crêpes', 'crêques', 'cuenta', 'cuillères', 'cuir', 'cuisine', 'cuisiner', 'cuisines', 'cuisinier', 'cuisiniers', 'cuisiné', 'cuisinées', 'cuisinés', 'cuisisiner', 'cuisse', 'cuisses', 'cuisson', 'cuissons', 'cuit', 'cuite', 'cuites', 'cuits', 'cuivrées', 'culinaire', 'culinaires', 'culottée', 'culpabilisant', 'curieuse', 'curieux', 'curiosité', 'curry', 'custom', 'cygne', 'cède', 'cèpes', 'céder', 'célèbre', 'célébrer', 'célébrités', 'céramique', 'cêpes', 'cône', 'côte', 'côté', 'côtéplus', 'cœur', 'da', 'daigne', 'daigné', 'dame', 'dames', 'dangeureux', 'daniela', 'dans', 'dar', 'dasn', 'datant', 'daubée', 'dauphinois', 'daurade', 'david', 'de', 'debout', 'debut', 'deception', 'decerestaurant', 'decide', 'deco', 'decor', 'decoration', 'decorés', 'decouvert', 'decouverte', 'decouvrir', 'decu', 'dedans', 'definetely', 'degeu', 'degeulasse', 'degrésplus', 'degustation', 'deguster', 'dehors', 'dej', 'deja', 'dejeuner', 'dejeuné', 'del', 'delavées', 'delicieuse', 'delicieuses', 'delicieux', 'deliveroo', 'delivrait', 'delà', 'demain', 'demande', 'demandent', 'demander', 'demandes', 'demandons', 'demandé', 'demandés', 'demi', 'demie', 'den', 'denis', 'dente', 'depaysant', 'deplace', 'deplorable', 'depose', 'depuis', 'dernier', 'dernière', 'dernièrement', 'dernières', 'derrière', 'des', 'desagreable', 'descente', 'design', 'dessert', 'desserts', 'desservir', 'dessins', 'dessous', 'dessus', 'detour', 'deux', 'deuxieme', 'deuxième', 'devais', 'devait', 'devant', 'devanture', 'devenu', 'devenue', 'devenus', 'devez', 'deviennent', 'devient', 'deviner', 'devions', 'devoir', 'devrait', 'deçeption', 'deçue', 'di', 'diarrhée', 'diego', 'difference', 'difficile', 'difficulté', 'difficultés', 'diffusé', 'différence', 'différencier', 'différent', 'différente', 'différentes', 'différents', 'digestif', 'digne', 'dignes', 'dimanche', 'diminutif', 'diminué', 'diner', 'dinette', 'dingue', 'dinner', 'diné', 'diponible', 'dirai', 'dirais', 'dirait', 'dire', 'direct', 'directement', 'directeur', 'direction', 'directive', 'directrice', 'dirigé', 'dirigés', 'dis', 'disait', 'disant', 'discret', 'discrets', 'discrète', 'discrètement', 'discrétion', 'discussion', 'discussions', 'discuter', 'discuté', 'dise', 'disent', 'disons', 'disparaître', 'disparition', 'dispo', 'disponibilité', 'disponible', 'disponibles', 'disposer', 'disposition', 'disserter', 'dissuader', 'distance', 'distant', 'distillée', 'distingue', 'distinguée', 'distrait', 'distribution', 'dit', 'dites', 'dithyrambiques', 'dits', 'dityrambiques', 'divers', 'diversifié', 'diversité', 'divin', 'divine', 'divines', 'divins', 'divisé', 'divray', 'dix', 'dizaine', 'dizaines', 'diététiques', 'dj', 'djouje', 'dogs', 'doigt', 'doigts', 'dois', 'doit', 'doive', 'doivent', 'dollars', 'domaines', 'domenico', 'dominical', 'dominicale', 'dommage', 'donald', 'donc', 'donnait', 'donnant', 'donne', 'donnent', 'donner', 'donnerait', 'donné', 'donnée', 'donnés', 'dont', 'dormir', 'dorures', 'dosage', 'dosé', 'dosées', 'double', 'doublement', 'douce', 'douceur', 'douleurs', 'doute', 'douterplus', 'douteuse', 'douzaine', 'doué', 'draguer', 'dressage', 'dressée', 'dressées', 'droit', 'drole', 'ds', 'dsk', 'du', 'duke', 'dumas', 'duo', 'dur', 'durant', 'dure', 'dures', 'duré', 'durée', 'duxelle', 'dynamique', 'dynamisme', 'dècorèes', 'dès', 'débarrasser', 'débarrassées', 'débité', 'débordé', 'débordée', 'débordés', 'début', 'débutant', 'débuter', 'décalage', 'décalé', 'décembre', 'déception', 'déceptions', 'déceptionà', 'décevant', 'décevante', 'décevantes', 'décevantmacaron', 'décevants', 'décevra', 'décibels', 'décide', 'décider', 'décidons', 'décidé', 'décidément', 'décliner', 'décliné', 'déclinées', 'déclinés', 'déco', 'déconcertante', 'déconseille', 'déconseilles', 'déconseillons', 'décontracté', 'décontractée', 'décontractés', 'décor', 'décoration', 'décorations', 'décorer', 'décorum', 'décoré', 'décorée', 'décoréel', 'découpe', 'découvert', 'découverte', 'découvertes', 'découvrant', 'découvre', 'découvrir', 'découvrons', 'décrire', 'décrocher', 'décru', 'décu', 'décès', 'dédaigneux', 'dédié', 'dédiée', 'défaillant', 'défavorable', 'défendait', 'définitivement', 'défraîchis', 'dégage', 'dégageaient', 'dégout', 'dégoûtant', 'dégoûtante', 'dégoûtée', 'dégrader', 'dégueulasses', 'dégustation', 'dégustations', 'déguste', 'déguster', 'dégusté', 'dégât', 'déjeuner', 'déjeuné', 'déjà', 'délaisser', 'délibérément', 'délicat', 'délicate', 'délicatement', 'délicates', 'délicatesse', 'délicats', 'délice', 'délices', 'délicieuse', 'délicieusement', 'délicieuses', 'délicieux', 'délier', 'délirant', 'délivre', 'déloger', 'déléguer', 'démarrage', 'démentent', 'démentes', 'dénégations', 'départ', 'départc', 'dépaysement', 'dépit', 'déplace', 'déplacement', 'déplaisant', 'déplorable', 'déplorables', 'déplu', 'déposée', 'déranger', 'dérouler', 'déroulé', 'dés', 'désagréable', 'désagréables', 'désagrément', 'désagréments', 'désastreux', 'désert', 'désespérément', 'désign', 'désirant', 'désirer', 'désirez', 'désirs', 'désistement', 'désolé', 'désordonné', 'désorganisation', 'désoriente', 'désormais', 'déssert', 'désuet', 'déséquilibrés', 'détail', 'détails', 'détendu', 'détendue', 'détente', 'détestable', 'détestant', 'détour', 'détrempé', 'détriment', 'dévolu', 'dévoué', 'déçu', 'déçue', 'déçues', 'déçus', 'dînatoire', 'dîne', 'dîner', 'dîners', 'dîné', 'dû', 'east', 'easy', 'eat', 'eau', 'eauapéro', 'eaux', 'ecailler', 'eclairs', 'ecole', 'edern', 'effacer', 'effacé', 'effectivement', 'effeil', 'effervescence', 'effet', 'effets', 'efficace', 'efficaces', 'efficaceun', 'efficacité', 'effort', 'efforts', 'egalement', 'eh', 'eiffel', 'el', 'elan', 'elegant', 'element', 'elisamulys', 'elizabeth', 'elle', 'elles', 'eloges', 'elvis', 'elysees', 'elysées', 'email', 'emballage', 'emballés', 'embarque', 'embarras', 'emblée', 'embrassades', 'eme', 'emission', 'emmener', 'emmené', 'empesée', 'emplacement', 'employés', 'emporter', 'emporté', 'empresse', 'empressés', 'empêche', 'en', 'enc', 'encadrés', 'encaisse', 'enceinte', 'encensé', 'enchainement', 'enchantement', 'enchanteur', 'enchanté', 'enchantés', 'enchaînent', 'encombré', 'encontre', 'encore', 'encornet', 'encornets', 'encourager', 'encre', 'end', 'endroit', 'endroits', 'enfant', 'enfantin', 'enfants', 'enfer', 'enfin', 'engouement', 'enjoint', 'enlever', 'enlevé', 'enlèvee', 'ennuyeux', 'enregistrement', 'enregistrée', 'enrobées', 'enseigne', 'ensemble', 'ensoleillé', 'ensoleillée', 'ensuite', 'entamé', 'entassés', 'entend', 'entendait', 'entendez', 'entendre', 'entendu', 'enterrement', 'enthousiasme', 'enthousiaste', 'enthousiastes', 'entier', 'entièrement', 'entrant', 'entre', 'entrecôte', 'entree', 'entrees', 'entremets', 'entrer', 'entres', 'entretenu', 'entretien', 'entrez', 'entrons', 'entré', 'entrée', 'entrées', 'entrés', 'envahis', 'envahissant', 'envahit', 'envers', 'envie', 'envies', 'environ', 'environnants', 'environnement', 'envisagez', 'envoûtant', 'epaisseur', 'epices', 'epicure', 'epie', 'epinards', 'epuré', 'equipaplus', 'equipe', 'er', 'eric', 'erithréen', 'errance', 'erreur', 'erreurs', 'erythreennes', 'es', 'escape', 'escargot', 'escargots', 'espace', 'espacement', 'espaces', 'espacées', 'espacés', 'espadon', 'especialmente', 'espoir', 'esprit', 'esprits', 'espèce', 'espère', 'espérances', 'espérer', 'espérons', 'espéré', 'espérée', 'essaye', 'essayer', 'essayez', 'essayons', 'essayé', 'essentiel', 'essentiellement', 'est', 'estampillés', 'estelle', 'esthetique', 'esthètes', 'esthétiquement', 'estomac', 'et', 'etablissement', 'etage', 'etaient', 'etais', 'etait', 'etant', 'etc', 'etes', 'etions', 'etoile', 'etoiles', 'etonnante', 'etre', 'etude', 'eté', 'eu', 'eudes', 'eue', 'eues', 'eugène', 'eur', 'euro', 'europe', 'européen', 'euros', 'eut', 'eux', 'evening', 'eveningfilling', 'event', 'eviter', 'ex', 'exactement', 'exacts', 'exagère', 'excelent', 'excelle', 'excellemment', 'excellence', 'excellent', 'excellente', 'excellentes', 'excellentje', 'excellents', 'exception', 'exceptionnel', 'exceptionnelle', 'exceptionnellement', 'exceptionnelles', 'exceptionnels', 'exceptionnous', 'excepté', 'excessif', 'excessifs', 'excessives', 'excité', 'exclusivement', 'excursion', 'excuse', 'excusez', 'excusés', 'excès', 'exelent', 'exemplaire', 'exemple', 'exeptionnelle', 'exergue', 'exhorbitant', 'exhorbitante', 'exigeant', 'exigeants', 'exigence', 'exigences', 'exigu', 'exiguë', 'existe', 'existence', 'existé', 'exorbitant', 'exorbitants', 'exotiques', 'experience', 'experiences', 'expert', 'expertise', 'explicatif', 'explication', 'explications', 'expliquant', 'expliquants', 'explique', 'expliquer', 'expliquera', 'expliqués', 'explorer', 'explosent', 'explosion', 'expo', 'exposition', 'expositions', 'exprès', 'expédie', 'expédié', 'expérience', 'expériences', 'exquis', 'exquise', 'exquises', 'exsite', 'exterieur', 'exterminent', 'externe', 'extra', 'extraordinaire', 'extraordinairement', 'extraordinaires', 'extrême', 'extrêmement', 'extérieur', 'extérieure', 'exécrable', 'exécutants', 'exécution', 'exécuté', 'exécutée', 'exécutés', 'fabien', 'fabuleuse', 'fabuleuses', 'fabuleux', 'face', 'facebook', 'facile', 'facilement', 'facilité', 'facture', 'facturé', 'fad', 'fadace', 'fade', 'fades', 'faham', 'faible', 'faille', 'faim', 'fain', 'faire', 'fais', 'faisaient', 'faisais', 'faisait', 'faisant', 'faisions', 'faisons', 'fait', 'faite', 'faites', 'faits', 'falafel', 'falafels', 'fallafel', 'fallafels', 'fallait', 'fallu', 'fameux', 'familial', 'familiale', 'familiarisé', 'familiarité', 'familier', 'familière', 'famille', 'fan', 'fans', 'fantasmais', 'fantastique', 'fantastiques', 'farandole', 'farci', 'farcie', 'farfelue', 'fast', 'fatidique', 'fatigué', 'fatigués', 'faubourg', 'faudra', 'fausse', 'faussement', 'fausses', 'faut', 'faute', 'fautes', 'fauteuils', 'faux', 'faveurs', 'favorablement', 'favorables', 'favoris', 'favorite', 'fayette', 'façade', 'façon', 'façons', 'faîtes', 'fb', 'fe', 'felicitations', 'felipe', 'femme', 'femmes', 'fenêtre', 'fenêtres', 'fera', 'feraient', 'ferme', 'fermer', 'fermes', 'fermier', 'fermé', 'fermée', 'fermés', 'fernando', 'festif', 'festival', 'festive', 'feu', 'feuille', 'feuilles', 'feuilletage', 'feutrer', 'feutré', 'feutrée', 'feux', 'fiable', 'fiables', 'fiancé', 'fiancée', 'fiasco', 'fiche', 'fidèle', 'fidèles', 'fier', 'fiez', 'figue', 'figues', 'figure', 'fil', 'file', 'filet', 'filets', 'filipé', 'fille', 'filles', 'film', 'films', 'fils', 'fin', 'final', 'finale', 'finalement', 'find', 'fine', 'finement', 'fineparfaitement', 'fines', 'finesse', 'fini', 'finie', 'finir', 'finis', 'finit', 'fins', 'fioriture', 'fish', 'fishbals', 'fièrement', 'flacons', 'flambé', 'flammes', 'flan', 'flatteur', 'flemme', 'fleur', 'fleuri', 'fleurs', 'florale', 'florales', 'flotte', 'fluide', 'fléchi', 'fléché', 'flûte', 'foi', 'foie', 'foies', 'fois', 'foisc', 'folichon', 'folie', 'folies', 'folles', 'foncez', 'fonction', 'fond', 'fondamentaux', 'fondant', 'fondre', 'fonds', 'fondu', 'fondue', 'fondé', 'font', 'food', 'foodsurprising', 'for', 'force', 'forcé', 'forcément', 'forfait', 'fork', 'formalité', 'forme', 'formes', 'formidable', 'formidableune', 'formuka', 'formule', 'formules', 'fort', 'forte', 'fortement', 'fortes', 'forts', 'fouillis', 'foule', 'four', 'fourchette', 'fourneaux', 'fourni', 'fournie', 'fournir', 'fout', 'foutage', 'foutiste', 'fraiches', 'fraicheur', 'frais', 'francais', 'francaise', 'france', 'franchement', 'franchisée', 'franco', 'franquette', 'français', 'française', 'frappante', 'frappe', 'frappé', 'fraçais', 'fraîche', 'fraîches', 'fraîcheur', 'frechon', 'free', 'french', 'fric', 'fricassée', 'friendly', 'frigo', 'frire', 'frise', 'frisé', 'frite', 'frites', 'frits', 'frittes', 'friture', 'frog', 'froid', 'froide', 'froidement', 'froides', 'froideur', 'fromage', 'fromages', 'frugal', 'fruit', 'fruits', 'frère', 'fréchon', 'frédérique', 'fréquentant', 'fréquentation', 'fréquente', 'fréquenté', 'fréquentée', 'fubuleux', 'fuir', 'fuite', 'fument', 'fumoir', 'furent', 'furieux', 'fusil', 'fusion', 'fut', 'futur', 'futuriste', 'fuyez', 'fèves', 'féminine', 'férié', 'féru', 'fétiches', 'février', 'fêta', 'fêtait', 'fête', 'fêter', 'fêtions', 'fêté', 'fûmes', 'fût', 'gabriel', 'gaché', 'gadgets', 'gaffes', 'gagnaire', 'galerie', 'galette', 'galettes', 'gall', 'gambas', 'game', 'gamme', 'garanti', 'garantie', 'garcia', 'garde', 'garder', 'gardez', 'gardions', 'gardons', 'gardé', 'gardée', 'gare', 'garnies', 'garniesrien', 'garnis', 'garniture', 'garnitures', 'gars', 'garçon', 'gaspiller', 'gastro', 'gastronomes', 'gastronomic', 'gastronomie', 'gastronomique', 'gastronomiques', 'gauche', 'gaufré', 'gavotte', 'gay', 'gazeuse', 'gelati', 'genereux', 'genia', 'genialissime', 'genre', 'gens', 'gentil', 'gentille', 'gentillesse', 'gentils', 'gentiment', 'george', 'georges', 'gerant', 'gerard', 'gerent', 'germain', 'geste', 'gestion', 'gibier', 'gigot', 'gilet', 'gilles', 'gingembre', 'gins', 'giovanni', 'girolle', 'girolles', 'glace', 'glaces', 'glacial', 'glaciale', 'glacier', 'glacé', 'glaçons', 'glissées', 'globale', 'globalement', 'gluten', 'gnocchi', 'gnocchis', 'gogo', 'gomme', 'gorgée', 'gourmand', 'gourmande', 'gourmandes', 'gourmandise', 'gourmandises', 'gourmet', 'gourmets', 'gout', 'gouter', 'gouteuse', 'gouteux', 'gouts', 'goutte', 'gouttes', 'goutus', 'goutés', 'goût', 'goûter', 'goûteuse', 'goûteuses', 'goûteux', 'goûtez', 'goûts', 'goûté', 'grace', 'gradé', 'graisse', 'grammes', 'grand', 'grande', 'grandement', 'grandes', 'grandeur', 'grandiose', 'grandir', 'grands', 'granité', 'gransd', 'grappa', 'gras', 'grasse', 'grasses', 'gratin', 'gratinée', 'gratuit', 'grave', 'gravelax', 'graver', 'gravée', 'great', 'grec', 'green', 'grenaille', 'grenouille', 'grenouilles', 'gribiche', 'grignoter', 'grignotteries', 'grillé', 'grillée', 'grillées', 'grilléla', 'gris', 'grisonnant', 'gros', 'grosse', 'grosses', 'grossesse', 'grossière', 'grossières', 'grossièreté', 'groupe', 'gruyère', 'grâce', 'gré', 'guacamole', 'guettait', 'gueules', 'guide', 'guides', 'guidés', 'guignol', 'guimauve', 'guindé', 'guise', 'gum', 'gustatif', 'gustative', 'gustatives', 'guy', 'guéméné', 'gyosa', 'gâchis', 'gâché', 'gâchée', 'gâte', 'gâteau', 'gâteaux', 'gâtent', 'gène', 'gère', 'génant', 'génial', 'géniale', 'général', 'générale', 'généralement', 'généreuse', 'généreuses', 'généreux', 'générosité', 'géographique', 'gérant', 'gérante', 'gérants', 'gérard', 'gêne', 'gêné', 'ha', 'habilement', 'habitant', 'habitante', 'habite', 'habitons', 'habitude', 'habituel', 'habitué', 'habituée', 'habitués', 'hachée', 'had', 'haddock', 'hai', 'hais', 'halles', 'hallucine', 'halte', 'hamburger', 'hamburgers', 'hanawa', 'handicapés', 'hank', 'happycow', 'hareng', 'haricots', 'harmonie', 'harmonieux', 'harmoniques', 'hasard', 'haut', 'hautain', 'hautaine', 'haute', 'hautement', 'hauteur', 'hauts', 'herbe', 'herbes', 'heure', 'heures', 'heureusement', 'heureuses', 'heureux', 'hexagonaux', 'hexagone', 'hic', 'hier', 'hihihi', 'histoire', 'historique', 'hiver', 'homard', 'homemade', 'homme', 'hommes', 'honneur', 'honneurbravo', 'honnête', 'honorable', 'honoré', 'honte', 'honteuse', 'honteux', 'hop', 'horaires', 'hormis', 'horrible', 'hors', 'hospitalité', 'hot', 'hotel', 'houmous', 'hubert', 'hugo', 'hui', 'huile', 'huileuses', 'huit', 'huitres', 'hum', 'humanité', 'humble', 'humeur', 'humour', 'huître', 'huîtres', 'hygiène', 'hype', 'hyper', 'hypers', 'hâte', 'hélas', 'hésitantes', 'hésitation', 'hésitent', 'hésiter', 'hésitez', 'hésitions', 'hésité', 'hétéroclite', 'hôte', 'hôtel', 'hôtelière', 'hôtellerie', 'hôtels', 'hôtes', 'hôtesse', 'hôtesses', 'ici', 'identité', 'idyllique', 'idéal', 'idéale', 'idéalement', 'idéales', 'idée', 'ignoble', 'ignore', 'ignoré', 'il', 'ilion', 'illimités', 'illisible', 'illuminent', 'illustre', 'ils', 'image', 'imagination', 'imaginative', 'imagine', 'imaginé', 'imaginées', 'imangeable', 'imbattable', 'imbu', 'imbus', 'imbuvable', 'imbuvables', 'imbéciles', 'imed', 'imitant', 'imitation', 'imiter', 'immangeable', 'immense', 'immenses', 'immeuble', 'immédiatement', 'imméritées', 'impact', 'impatient', 'impatients', 'impecable', 'impeccable', 'impeccables', 'impensable', 'impersonnel', 'impertinence', 'impoli', 'impolitesse', 'importance', 'important', 'importe', 'imposait', 'impose', 'impossibilité', 'impossible', 'imposé', 'imposés', 'impression', 'impressionnant', 'impressionner', 'impressionné', 'impressionnée', 'impressionnés', 'improbablevenus', 'improvisé', 'imprécise', 'impécable', 'impérativement', 'in', 'inacceptables', 'inaccessible', 'inadmissible', 'inattendues', 'inattendus', 'incapables', 'incarnée', 'incendie', 'incipide', 'incité', 'inclus', 'incomparable', 'incompetent', 'incompréhension', 'incompétent', 'inconcevable', 'inconditionnel', 'inconfortable', 'inconnu', 'inconnue', 'inconnues', 'inconnus', 'inconsistantes', 'incontestablement', 'incontournable', 'incontournables', 'incorrecte', 'incorrection', 'incroyable', 'incroyablement', 'incroyables', 'inde', 'indean', 'indien', 'indienne', 'indiennes', 'indiens', 'indifférent', 'indifférents', 'indigne', 'indignes', 'indignés', 'indiquant', 'indique', 'indiqué', 'indispensable', 'indispensables', 'individuel', 'individuels', 'indonésie', 'industrielle', 'industrielles', 'industriels', 'indésirables', 'inefficace', 'inexistante', 'inexpérimenté', 'infamie', 'infect', 'infecte', 'infectes', 'infinite', 'influence', 'influences', 'info', 'information', 'informe', 'informes', 'informé', 'inférieures', 'ingrédient', 'ingrédients', 'inhabituel', 'inhabituelles', 'inhérentes', 'initial', 'initialement', 'injustement', 'inmanquable', 'inneficace', 'innovant', 'innovante', 'innovants', 'innovation', 'inoubliable', 'inoubliables', 'insatisfaction', 'insignifiant', 'insinué', 'insipide', 'insipides', 'insistance', 'insistante', 'insisté', 'insonorisé', 'inspecteurs', 'inspirante', 'inspiration', 'inspire', 'inspiré', 'instable', 'installe', 'installer', 'installez', 'installées', 'installés', 'instant', 'instar', 'institution', 'insuffisante', 'insulté', 'insuportablement', 'insupportable', 'insurger', 'integre', 'intelligentes', 'intensité', 'interdits', 'interet', 'interloquée', 'interminable', 'internationale', 'internet', 'interpelle', 'interpellera', 'interpellé', 'intervenir', 'intime', 'intimidant', 'intimiste', 'intimité', 'intolérance', 'intolérances', 'intolérante', 'intolérences', 'intrigues', 'introduire', 'introuvable', 'intrusif', 'intégralité', 'intéressant', 'intéressante', 'intéressantes', 'intéressants', 'intéresser', 'intérieur', 'intérêt', 'inutile', 'inutiles', 'inventer', 'inventif', 'inventifs', 'inventive', 'inventivité', 'inverse', 'invitation', 'invite', 'invitent', 'inviter', 'invitions', 'invité', 'invitée', 'invités', 'inédit', 'inédite', 'inégalable', 'inéluctable', 'ira', 'irai', 'irait', 'iran', 'iranien', 'iranienne', 'iraniennes', 'iraniens', 'iranniene', 'ironique', 'irrespectueuse', 'irrespectueux', 'irréprochable', 'irréprochablement', 'irréprochables', 'ischia', 'issus', 'italie', 'italien', 'italienne', 'italiennes', 'italiens', 'ixème', 'jaboulet', 'jacques', 'jamais', 'jambes', 'jambon', 'janin', 'janvier', 'japon', 'japonais', 'japonaise', 'japonaises', 'japonnaise', 'jardin', 'jardins', 'jarret', 'jaune', 'je', 'jean', 'jeanne', 'jeannes', 'jeter', 'jettes', 'jeté', 'jeu', 'jeudi', 'jeune', 'jeunes', 'jeunesse', 'jeux', 'jgr', 'joie', 'joies', 'joindre', 'joins', 'joli', 'jolie', 'jolies', 'joliment', 'jolis', 'josé', 'jouissif', 'jouit', 'jour', 'journée', 'jours', 'joviales', 'joyau', 'joëlle', 'jp', 'judicieuses', 'judicieux', 'jugement', 'juillet', 'juin', 'julien', 'jumin', 'jus', 'jusqu', 'jusque', 'juste', 'justes', 'justesprésentation', 'justice', 'justifiait', 'justifiant', 'justifications', 'justifie', 'justifient', 'justifier', 'justifiée', 'justifiées', 'justifiés', 'juteuse', 'juxtapositions', 'jérôme', 'kai', 'kaiser', 'kebab', 'kei', 'ketchup', 'kgb', 'kilo', 'kilomètres', 'kinzo', 'kir', 'kitchen', 'kjdhd', 'kobe', 'kobé', 'kodawari', 'kong', 'korean', 'koubide', 'kozy', 'kub', 'kugorawa', 'la', 'lafourchette', 'laid', 'laissaient', 'laissait', 'laissant', 'laisse', 'laisser', 'laissera', 'laissez', 'laissé', 'laissées', 'laissés', 'lait', 'laitiers', 'lamentable', 'lames', 'langoustine', 'langoustines', 'langue', 'lanvi', 'lanzhou', 'laquelle', 'large', 'largement', 'lasagnes', 'lasse', 'latin', 'latino', 'laure', 'lavash', 'le', 'lecture', 'ledeuil', 'leger', 'legers', 'lent', 'lente', 'lenteur', 'lentilles', 'lequel', 'lerestaurent', 'les', 'lesquelles', 'lettre', 'leur', 'leurs', 'levinson', 'libanais', 'libanaise', 'libre', 'libère', 'liegeois', 'lieu', 'lieux', 'lievre', 'light', 'ligne', 'lilas', 'lillois', 'limininaire', 'limite', 'limites', 'limité', 'limitée', 'limougeauds', 'lipp', 'liquide', 'lire', 'lis', 'lisbonne', 'liste', 'lit', 'littéralement', 'livraison', 'livre', 'livrer', 'livré', 'lièvre', 'lié', 'liés', 'local', 'localisation', 'logeait', 'loin', 'lointains', 'lois', 'lol', 'lombards', 'long', 'longtemps', 'longue', 'look', 'lors', 'lorsqu', 'lorsque', 'lot', 'louis', 'loulous', 'lounge', 'loupée', 'lourd', 'lourde', 'low', 'loyer', 'lu', 'lucas', 'lugubre', 'lui', 'lumineuse', 'lumineux', 'lumière', 'lumières', 'lundi', 'lundis', 'lunettes', 'luxe', 'luxueux', 'là', 'làplus', 'lâche', 'lève', 'lèvres', 'léchions', 'léger', 'légume', 'légumes', 'légère', 'légèrement', 'légères', 'légèreté', 'ma', 'mac', 'macadamia', 'macaroni', 'macaronis', 'macarons', 'macau', 'machine', 'madame', 'madeleine', 'madeleines', 'madère', 'madérisé', 'maestria', 'magie', 'magique', 'magnifique', 'magnifiquement', 'magnifiques', 'magné', 'magret', 'mai', 'maigre', 'mail', 'mains', 'maintenant', 'mais', 'maison', 'maisons', 'maitre', 'maitrise', 'maitrisse', 'maitrisée', 'majestueuse', 'majestueux', 'majeure', 'majoritairement', 'maki', 'makis', 'mal', 'malade', 'maladroit', 'malchance', 'malgrè', 'malgré', 'malheur', 'malheureusement', 'malpolie', 'maltraitées', 'maman', 'mamie', 'mamma', 'man', 'manager', 'mandarin', 'mandarine', 'mange', 'mangeable', 'mangeables', 'mangeait', 'manger', 'mangez', 'mangions', 'mangue', 'mangé', 'manière', 'manquait', 'manquant', 'manque', 'manquent', 'manquer', 'manquerait', 'maqnifique', 'maquereau', 'marais', 'marc', 'marchand', 'marchande', 'marche', 'marché', 'marchétout', 'marcon', 'mardi', 'margarita', 'mari', 'mariage', 'mariages', 'marie', 'marier', 'marines', 'mariné', 'marié', 'mariés', 'marmites', 'marque', 'marquer', 'marronniers', 'mars', 'marseillais', 'marx', 'masala', 'mascarpone', 'maso', 'masquant', 'masqué', 'massala', 'match', 'matcha', 'matin', 'matinée', 'matière', 'matsuri', 'maturation', 'mauvais', 'mauvaise', 'mauvaises', 'max', 'maxi', 'maximale', 'maximum', 'mayo', 'mayonnaise', 'maître', 'maîtres', 'maîtresse', 'maîtrise', 'maîtrisé', 'maîtrisée', 'mc', 'me', 'mediocre', 'meilleur', 'meilleure', 'meilleures', 'meilleurs', 'mejor', 'meme', 'menace', 'menetou', 'ment', 'menthe', 'menthetiède', 'mention', 'menu', 'menus', 'menées', 'mer', 'merci', 'merciplus', 'mercredi', 'merguez', 'meringue', 'merite', 'meriter', 'merlan', 'mersea', 'merveille', 'merveilles', 'merveilleuse', 'merveilleusement', 'merveilleuses', 'merveilleux', 'mes', 'message', 'messieurs', 'mesure', 'met', 'mets', 'mettant', 'mettez', 'mettre', 'meurette', 'mexicain', 'mexicaine', 'mexican', 'mexique', 'mia', 'miam', 'michel', 'michelin', 'micro', 'microscopiques', 'midi', 'midis', 'mie', 'miel', 'mien', 'mienne', 'mieux', 'mignardises', 'mignon', 'mignons', 'milieu', 'mille', 'millefeuille', 'milliers', 'millimetré', 'million', 'min', 'mina', 'minable', 'mine', 'mini', 'miniardises', 'minimal', 'minimaliste', 'minimalistes', 'minime', 'minimes', 'minimum', 'miniscule', 'minuscule', 'minuscules', 'minute', 'minutes', 'minutie', 'minutieux', 'minérale', 'mirabelle', 'miroirs', 'mis', 'mise', 'mises', 'miso', 'mission', 'mixte', 'miyazaki', 'mmontparnadse', 'mn', 'mob', 'mobilier', 'mobster', 'moche', 'mode', 'moderation', 'moderne', 'moderniser', 'modernité', 'modeste', 'modifications', 'modifier', 'modérée', 'moelle', 'moelleux', 'moi', 'moindre', 'moindres', 'moins', 'mois', 'moitié', 'mojito', 'mole', 'molles', 'molto', 'moment', 'moments', 'mon', 'monacale', 'monde', 'mondialement', 'monnaie', 'monsieur', 'montagnard', 'montagnes', 'montant', 'monter', 'montmartre', 'montparnasse', 'montré', 'moque', 'moquer', 'moqueur', 'moral', 'morceaux', 'moret', 'moribondes', 'mot', 'motivé', 'motivés', 'mots', 'mou', 'moucherons', 'mouffetard', 'moules', 'moulin', 'moultes', 'mousse', 'moutarde', 'moyen', 'moyenne', 'moyennement', 'moyennes', 'moyens', 'mozzarella', 'mozzas', 'mr', 'mulet', 'multiples', 'multitude', 'mumi', 'mundo', 'mur', 'mural', 'murs', 'musical', 'musique', 'must', 'musée', 'mutiste', 'my', 'myriade', 'myrtilles', 'mythique', 'mère', 'mères', 'mètre', 'mètres', 'mécanique', 'mécontents', 'médecin', 'médiatisé', 'médiocre', 'médiocres', 'méditation', 'méditerranée', 'médium', 'mélange', 'mélangeant', 'mélangent', 'mélanger', 'mélanges', 'mélangée', 'mémoire', 'mémoires', 'mémorable', 'mémorables', 'méprendre', 'méprisant', 'méritant', 'mérite', 'méritent', 'mériter', 'mériterait', 'méritées', 'mérités', 'métier', 'métiers', 'métro', 'météo', 'mêlant', 'même', 'mêmes', 'naan', 'nage', 'nagent', 'nan', 'nancy', 'nans', 'napolitaines', 'naranja', 'narcis', 'narciz', 'nata', 'nature', 'naturel', 'naturellement', 'naufrage', 'navrant', 'ne', 'nectar', 'needed', 'negatif', 'neige', 'nems', 'nerfs', 'nerveuse', 'net', 'nets', 'nettement', 'neuf', 'neutre', 'neutres', 'nez', 'ni', 'niché', 'nickel', 'nico', 'nicolas', 'night', 'niveau', 'no', 'nobles', 'noir', 'noire', 'noires', 'noirs', 'noix', 'nom', 'nombre', 'nombreuse', 'nombreuses', 'nombreux', 'nommé', 'noms', 'non', 'nonchalant', 'normal', 'norme', 'norvégienne', 'nos', 'nossa', 'notamment', 'note', 'noter', 'notes', 'notoriété', 'notre', 'noté', 'nougat', 'nouille', 'nouilles', 'nounours', 'nourriture', 'nous', 'nouveau', 'nouveautés', 'nouveaux', 'nouvel', 'nouvelle', 'nouvelles', 'novateur', 'novatrice', 'novembre', 'noyé', 'noyées', 'nuage', 'nuit', 'nuits', 'nul', 'nulle', 'numéro', 'nutella', 'nº', 'né', 'néanmoins', 'nécessaire', 'nécessairement', 'nécessité', 'négatif', 'négatifs', 'négative', 'objet', 'obligations', 'obligatoire', 'obligatoires', 'oblige', 'obliger', 'obligé', 'obscurité', 'observation', 'obséquieux', 'obséquiosité', 'obtenir', 'obtenu', 'obtiendrez', 'occasion', 'occasionnellement', 'occasions', 'occidentale', 'occupe', 'occuper', 'occupé', 'occupées', 'octobre', 'océan', 'odeur', 'odeurs', 'odieux', 'odorat', 'odyssee', 'oeil', 'oeuf', 'oeufs', 'oeuvre', 'oeuvres', 'offert', 'offerte', 'offertes', 'offerts', 'officiait', 'officiellement', 'officielles', 'officier', 'offrait', 'offre', 'offrent', 'offres', 'offrir', 'offrira', 'offrons', 'offusqué', 'ogre', 'oie', 'oignon', 'oignons', 'ok', 'olive', 'olives', 'ombre', 'omelette', 'omniprésent', 'on', 'onctueuses', 'onde', 'ondes', 'onglet', 'onions', 'ont', 'ontinu', 'opinion', 'opportunité', 'opposé', 'oppressé', 'option', 'options', 'optons', 'opté', 'opère', 'opération', 'opére', 'orange', 'orateur', 'ordre', 'oreille', 'organisant', 'organisation', 'orgie', 'orgue', 'orgueilleuse', 'orient', 'oriental', 'orientale', 'orienté', 'original', 'originale', 'originales', 'originalité', 'originalités', 'originaux', 'origine', 'orloff', 'ormeaux', 'orsay', 'os', 'ostentation', 'ostentatoire', 'ostreiculteur', 'osé', 'ou', 'oublie', 'oublier', 'oublierai', 'oublié', 'oubliée', 'ouest', 'ouf', 'oui', 'our', 'oursins', 'outre', 'outrés', 'ouvert', 'ouverte', 'ouverts', 'ouverture', 'ouvre', 'ouvrir', 'overratings', 'oxte', 'où', 'oú', 'pad', 'page', 'paie', 'paille', 'pain', 'paine', 'pains', 'pair', 'paisible', 'pakistanais', 'palace', 'palaces', 'palais', 'palece', 'palet', 'palets', 'palmiers', 'palourde', 'panais', 'panini', 'paninis', 'panna', 'pans', 'panthéon', 'papa', 'papier', 'papille', 'papilles', 'papillesl', 'papillon', 'par', 'parait', 'parallèle', 'paraît', 'parce', 'parceque', 'parcimonieusement', 'parcours', 'pardi', 'pardonner', 'pardonné', 'pareil', 'parents', 'parfais', 'parfait', 'parfaite', 'parfaitement', 'parfaites', 'parfaits', 'parfaitun', 'parfois', 'parfum', 'parfums', 'parfumé', 'parfumée', 'parfuméedenseparfaite', 'parie', 'paris', 'parisien', 'parisienne', 'parisiennes', 'parisiens', 'parisplus', 'parlait', 'parle', 'parler', 'parlé', 'parme', 'parmentier', 'parmesan', 'parmi', 'parmis', 'parsemés', 'part', 'partage', 'partageons', 'partager', 'partagé', 'partagées', 'partagés', 'partait', 'parte', 'partenaire', 'parti', 'participe', 'particularités', 'particulier', 'particulière', 'particulièrement', 'particulières', 'partie', 'partions', 'partir', 'partis', 'partons', 'partout', 'parts', 'paru', 'pas', 'passable', 'passage', 'passages', 'passait', 'passant', 'passe', 'passent', 'passer', 'passera', 'passerez', 'passez', 'passiez', 'passion', 'passionnant', 'passionné', 'passionnés', 'passons', 'passé', 'passée', 'passées', 'passés', 'pasteis', 'patate', 'pate', 'pathétique', 'patience', 'patient', 'patienter', 'patienté', 'patisseries', 'patissier', 'pato', 'patrice', 'patrimoine', 'patron', 'patronne', 'patrons', 'paul', 'pause', 'pauvre', 'pauvres', 'paye', 'payer', 'payes', 'pays', 'payé', 'paz', 'pdt', 'peine', 'peint', 'peinture', 'pendant', 'pensais', 'pensait', 'pensant', 'pense', 'pensez', 'pensions', 'pensé', 'pensées', 'peps', 'perchée', 'perd', 'perde', 'perdent', 'perdre', 'perdue', 'pere', 'perfection', 'perfide', 'periode', 'permanence', 'permanent', 'permet', 'permettant', 'permettent', 'permettrait', 'permis', 'pernand', 'pers', 'personel', 'personnage', 'personnalisation', 'personnalisé', 'personnalité', 'personnalités', 'personne', 'personnel', 'personnelle', 'personnellement', 'personnels', 'personnes', 'pertinente', 'pertinents', 'pete', 'petit', 'petite', 'petites', 'petits', 'peu', 'peuplent', 'peut', 'peuvent', 'peux', 'pg', 'pharmaceutiques', 'phase', 'philharmonie', 'pho', 'photo', 'photos', 'phrase', 'physiques', 'pianovin', 'pianovins', 'pichet', 'picon', 'piece', 'pied', 'pieds', 'piege', 'pieges', 'pierre', 'pierres', 'pigale', 'pigalle', 'pigeon', 'pigeonneau', 'piles', 'pilote', 'piments', 'pinces', 'pinot', 'pintade', 'pintes', 'piquante', 'pire', 'pistache', 'pistaches', 'pita', 'pitoyable', 'pittoresque', 'pizza', 'pizzaiolo', 'pizzas', 'pizzeria', 'pièce', 'piège', 'piètre', 'place', 'placeambiance', 'places', 'placette', 'placé', 'placécadre', 'placée', 'placés', 'plafond', 'plaindre', 'plaint', 'plaisant', 'plaisanterie', 'plaisanteries', 'plaisir', 'plaisirs', 'plaisirservice', 'plan', 'planches', 'plane', 'plans', 'planète', 'plaque', 'plaques', 'plastique', 'plat', 'plateau', 'plateaux', 'plats', 'plaît', 'plein', 'pleine', 'pleinement', 'pleins', 'pleurer', 'plongera', 'plouc', 'plu', 'pluie', 'plupart', 'plus', 'plusieurs', 'plusle', 'plutot', 'plutôt', 'pluvieux', 'poche', 'poché', 'poellé', 'poignée', 'poil', 'point', 'pointe', 'points', 'poire', 'poireaux', 'poires', 'pois', 'poisson', 'poissons', 'poitrine', 'poivrons', 'poivré', 'polie', 'politesse', 'polémique', 'pomme', 'pommes', 'pompeux', 'pompidou', 'pompon', 'ponpon', 'pop', 'populaire', 'porc', 'porte', 'portefeuille', 'porter', 'portion', 'portions', 'porté', 'portée', 'pose', 'poser', 'positif', 'positifs', 'position', 'positionnés', 'positive', 'positives', 'possibilité', 'possibilités', 'possible', 'possèdent', 'posées', 'pot', 'potagère', 'potatoes', 'potence', 'potentielle', 'potes', 'pots', 'poubelle', 'pouce', 'poulet', 'poulets', 'poulpe', 'poulpes', 'pour', 'pourboire', 'pournotre', 'pourquoi', 'pourra', 'pourraient', 'pourrait', 'pourries', 'pourtant', 'pousse', 'poussent', 'pousser', 'poussez', 'poussiéreux', 'poussé', 'poutargue', 'pouvais', 'pouvait', 'pouvant', 'pouvez', 'pouvions', 'pouvoir', 'pouvons', 'poésie', 'poêlé', 'prague', 'praliné', 'pratique', 'pratiquement', 'pre', 'preferais', 'premier', 'premiere', 'premiers', 'première', 'premièrement', 'premières', 'prenant', 'prend', 'prendre', 'prends', 'prenez', 'prenne', 'prennent', 'prennes', 'prenons', 'prepara', 'prepareé', 'pres', 'presentation', 'presente', 'presque', 'pressait', 'presser', 'pressé', 'pressée', 'pressés', 'prestance', 'prestation', 'prestations', 'prestige', 'prestigieux', 'presume', 'preuve', 'prices', 'prie', 'principal', 'principale', 'principaux', 'priori', 'priorité', 'pris', 'prise', 'prises', 'prisé', 'prit', 'privatisé', 'privilège', 'privilégiés', 'privé', 'prix', 'prixc', 'pro', 'probablement', 'problème', 'problèmes', 'processus', 'prochaine', 'prochainement', 'proche', 'proches', 'procurent', 'produit', 'produits', 'professionalisme', 'professionnalisme', 'professionnel', 'professionnelle', 'professionnels', 'profil', 'profiler', 'profit', 'profite', 'profiter', 'profiteroles', 'profité', 'profondément', 'progresser', 'progression', 'progressivement', 'prohibitifs', 'projecteur', 'promenant', 'promene', 'promesses', 'prometteur', 'promises', 'promo', 'prononcée', 'prononcées', 'proportions', 'propos', 'proposait', 'proposant', 'propose', 'proposer', 'proposition', 'propositions', 'proposé', 'proposée', 'proposées', 'proposés', 'propre', 'propres', 'propreté', 'proprio', 'proprios', 'propriétaire', 'propriétaires', 'pros', 'protocolaire', 'prouvé', 'provenant', 'province', 'proximité', 'prudent', 'près', 'pré', 'préalable', 'précieusement', 'précieux', 'précipitamment', 'précis', 'précise', 'précision', 'précisé', 'précédent', 'précédente', 'précédentes', 'précédents', 'prédis', 'préfère', 'préfèrez', 'préférable', 'préférence', 'préférer', 'préféré', 'préférée', 'préférées', 'préférés', 'prénom', 'préparation', 'préparations', 'prépare', 'préparent', 'préparer', 'préparez', 'préparé', 'préparées', 'préparés', 'prés', 'présence', 'présent', 'présentait', 'présentation', 'présentations', 'présente', 'présentent', 'présenter', 'présenterait', 'présentes', 'présents', 'présenté', 'présentés', 'prétentieuse', 'prétentieux', 'prétention', 'prétexte', 'prévenant', 'prévenir', 'prévenu', 'prévenus', 'prévoir', 'prévoyez', 'prévu', 'prévues', 'prêt', 'prête', 'pseudo', 'ptits', 'pu', 'publique', 'puent', 'puis', 'puisqu', 'puisque', 'puissante', 'puisse', 'punch', 'pupilles', 'pur', 'pure', 'pursuit', 'purée', 'pyrénées', 'pâle', 'pâte', 'pâtes', 'pâteuse', 'pâtisserie', 'pâtisseries', 'pâté', 'pâtés', 'pèse', 'pénétrons', 'pépite', 'période', 'pétales', 'pétillant', 'pêche', 'pêcher', 'qd', 'qqch', 'qqs', 'qu', 'quadragénaires', 'quais', 'qualifier', 'qualitatif', 'qualitatifs', 'qualitatives', 'qualite', 'qualité', 'qualités', 'quand', 'quant', 'quantité', 'quantités', 'quarante', 'quart', 'quartier', 'quartierplus', 'quartiers', 'quasi', 'quasiment', 'quatre', 'que', 'quel', 'quelconque', 'quelconques', 'quelle', 'quelqu', 'quelque', 'quelques', 'quels', 'quenelle', 'quenelles', 'quentin', 'quesadilla', 'question', 'questions', 'queue', 'queues', 'qui', 'quilles', 'quinoa', 'quitte', 'quitter', 'quitté', 'quoi', 'quoiqu', 'quoique', 'rables', 'raccrocher', 'raccrohe', 'rachitique', 'racine', 'racolleur', 'radieux', 'raffinement', 'raffiné', 'raffinée', 'raffinéedesserts', 'raffinées', 'raffinéetout', 'raffinés', 'rafiné', 'rafinés', 'raie', 'raisins', 'raison', 'raisonnable', 'raisonnables', 'rajoute', 'rajouter', 'rajoutez', 'rajouté', 'rajoutée', 'ramen', 'ramens', 'ramequins', 'randonnées', 'rang', 'ranger', 'rangs', 'rapide', 'rapidement', 'rapidité', 'rappeler', 'rappelle', 'rapport', 'rapprochée', 'rapprochées', 'rare', 'rarement', 'rares', 'ras', 'rassasient', 'rassasié', 'rassasiés', 'rassemble', 'rassurant', 'ratatouille', 'rate', 'rater', 'ratez', 'rations', 'rattrapé', 'raté', 'ravi', 'ravie', 'ravies', 'raviole', 'ravioles', 'ravioli', 'raviolis', 'ravira', 'ravis', 'ravissent', 'rayé', 'rdv', 'rebords', 'rebutait', 'reception', 'recette', 'recettes', 'recevoir', 'recherchant', 'recherche', 'recherches', 'recherchions', 'recherché', 'recherchée', 'recherchées', 'rechignait', 'recommandable', 'recommandation', 'recommandations', 'recommande', 'recommandeplus', 'recommander', 'recommanderai', 'recommanderais', 'recommandons', 'recommandonsplus', 'recommandé', 'recommence', 'recommende', 'reconduits', 'reconnaissez', 'reconnaître', 'reconnue', 'recours', 'recouvertes', 'recruteur', 'recréé', 'recu', 'redemande', 'redire', 'redonner', 'redécouvrir', 'refaire', 'refait', 'reflet', 'reflètes', 'refouler', 'refus', 'refusant', 'refuser', 'regal', 'regard', 'regardant', 'regarde', 'regarder', 'regards', 'regime', 'regis', 'registre', 'regorge', 'regret', 'regrets', 'regrettable', 'regrette', 'regrettera', 'regretterez', 'regrettons', 'regretté', 'rehaussée', 'reinette', 'rejetant', 'rejoindre', 'relais', 'relater', 'relative', 'relativement', 'relaxe', 'relevées', 'relish', 'relâchez', 'relèvent', 'remarquable', 'remarquablement', 'remarquableplus', 'remarquables', 'remarque', 'remarquer', 'remarques', 'remarquons', 'remarqué', 'remercie', 'remerciements', 'remettrai', 'remettrais', 'remettre', 'remise', 'remontée', 'remplacé', 'rempli', 'remplie', 'remplir', 'remplis', 'remportés', 'rencontre', 'rencontrer', 'rencontré', 'rend', 'rendez', 'rendre', 'rends', 'rendu', 'rendue', 'rendus', 'renforcer', 'renom', 'renommée', 'renouveler', 'renouveller', 'renouvelée', 'rentable', 'rentrant', 'rentrer', 'rentrez', 'rentrons', 'rentré', 'rentrés', 'renversé', 'rené', 'repartent', 'repartie', 'repartirai', 'repartis', 'repas', 'repasc', 'repeindre', 'repond', 'reportage', 'reposé', 'reprendre', 'represente', 'reprises', 'reproche', 'représentative', 'repu', 'requièrentselon', 'resa', 'reservation', 'reserve', 'reserver', 'respect', 'respectant', 'respectueux', 'respecté', 'respectées', 'respire', 'responsable', 'responsables', 'ressemblait', 'ressemblant', 'ressemble', 'ressent', 'ressenti', 'ressort', 'restant', 'restau', 'restaurant', 'restaurants', 'restaurateur', 'restaurateurs', 'restauration', 'restaurent', 'restaurer', 'restautant', 'reste', 'restent', 'rester', 'restera', 'resterez', 'restez', 'resto', 'restopolitan', 'restos', 'restreint', 'resté', 'restée', 'restés', 'resume', 'retard', 'retaurant', 'retenir', 'retenons', 'retient', 'retirer', 'retiré', 'retour', 'retourne', 'retourner', 'retournera', 'retournerai', 'retournerais', 'retournerons', 'retourné', 'retournés', 'retours', 'retrait', 'retrouve', 'retrouvent', 'retrouver', 'retrouvons', 'retrouvé', 'retrouvée', 'retrouvés', 'revalorisées', 'revanche', 'reve', 'reveiller', 'revelation', 'revenait', 'revenir', 'revenu', 'revenus', 'reviendra', 'reviendrai', 'reviendrais', 'reviendrons', 'reviennent', 'reviens', 'revient', 'revisiter', 'revisité', 'revisitée', 'revisités', 'revoir', 'revoirnous', 'rez', 'reçois', 'reçu', 'rhum', 'rhône', 'riche', 'riches', 'richesse', 'rideau', 'ridicule', 'ridicules', 'rien', 'riesling', 'rigides', 'rigolo', 'rigueur', 'rillettes', 'ringard', 'rires', 'ris', 'risotto', 'risque', 'ritz', 'rivaliser', 'rive', 'riz', 'roblochon', 'robuchon', 'rodage', 'rodées', 'rognon', 'rognons', 'roignons', 'rois', 'romantique', 'romantisme', 'ronde', 'rondelles', 'roof', 'roomies', 'roquette', 'rose', 'roses', 'rosiers', 'rostang', 'rosé', 'roti', 'roue', 'rouge', 'rouget', 'rougets', 'roulés', 'rouquette', 'routard', 'royal', 'royale', 'royaleluxueuse', 'royalement', 'royales', 'rtl', 'rue', 'ruelle', 'rues', 'rugby', 'ruiner', 'ruisseau', 'rupture', 'rustique', 'rutilante', 'rythme', 'rythmé', 'râter', 'règne', 'réactif', 'réaction', 'réactive', 'réalisations', 'réalise', 'réaliser', 'réalisé', 'réalisée', 'réalisés', 'récemment', 'récent', 'réception', 'réchauffent', 'réchauffer', 'réchauffés', 'récidivé', 'réclame', 'réclamer', 'récole', 'réconfirme', 'récupération', 'réduction', 'réduit', 'réduite', 'réel', 'réelle', 'réellement', 'réels', 'réflexion', 'réflexions', 'réforme', 'référence', 'régal', 'régale', 'régaler', 'régalé', 'régalée', 'régalés', 'régimes', 'région', 'régis', 'régler', 'réglés', 'régressives', 'régulier', 'régulièrement', 'réinventer', 'réjouis', 'réjouit', 'rénové', 'réorienté', 'réouverture', 'répits', 'répond', 'répondait', 'réponds', 'répondu', 'réponse', 'réponses', 'république', 'répugnante', 'réputation', 'réputé', 'répéter', 'réservation', 'réservations', 'réserve', 'réserver', 'réservez', 'réservé', 'réservée', 'réservées', 'réservés', 'réside', 'résidence', 'résident', 'résister', 'résolument', 'résonnent', 'résoudre', 'résultant', 'résultat', 'résume', 'résumé', 'rétorque', 'rétro', 'rétrogradé', 'réuni', 'réunies', 'réunion', 'réunis', 'réussi', 'réussie', 'réussies', 'réussite', 'réveille', 'réveillon', 'réveillé', 'révolu', 'révolue', 'révélé', 'rêvais', 'rêve', 'rêver', 'rêvions', 'rêvé', 'rôti', 'sa', 'sable', 'sac', 'sachant', 'sachet', 'sachez', 'sacoches', 'sacré', 'sacs', 'safran', 'safranée', 'saignante', 'sain', 'sains', 'saint', 'saints', 'sais', 'saison', 'saisons', 'sait', 'saj', 'saké', 'salade', 'salades', 'sale', 'salee', 'saleté', 'salive', 'salle', 'salles', 'salon', 'salons', 'saluer', 'salé', 'salée', 'salées', 'saléplus', 'salés', 'samatan', 'samedi', 'sandre', 'sandwich', 'sandwicherie', 'sandwichs', 'sanitaires', 'sans', 'saouleront', 'sardines', 'sarrasin', 'sas', 'sashimi', 'sashimis', 'satisfaire', 'satisfaisant', 'satisfaisante', 'satisfait', 'satisfaits', 'sauce', 'sauces', 'saucé', 'sauf', 'saumon', 'saura', 'saurons', 'sautait', 'sautées', 'sauvait', 'sauve', 'sauver', 'savais', 'savait', 'savant', 'savent', 'saveur', 'saveurs', 'savez', 'savions', 'savoie', 'savoir', 'savons', 'savourer', 'savoureuse', 'savoureuses', 'savoureux', 'scalpel', 'scandale', 'scandaleux', 'sceau', 'scintiller', 'scolaire', 'scotché', 'sculptes', 'scène', 'sdf', 'se', 'seasons', 'seau', 'sec', 'second', 'seconde', 'secret', 'secs', 'seduire', 'seiche', 'seine', 'seizième', 'sel', 'select', 'selection', 'selon', 'semaine', 'semaines', 'semblait', 'semblant', 'semble', 'semblent', 'semblé', 'semelle', 'semoule', 'sen', 'senderens', 'sens', 'sensation', 'sensationnel', 'sensations', 'sensibilisée', 'sensible', 'sensé', 'sent', 'sentait', 'senti', 'sentiment', 'sentions', 'sentir', 'sentis', 'sentons', 'sept', 'septembre', 'septime', 'sera', 'seraient', 'serait', 'sercice', 'serez', 'sergent', 'serré', 'serrées', 'serrés', 'sert', 'servait', 'servant', 'servent', 'serveur', 'serveurs', 'serveuse', 'serveuses', 'servi', 'serviable', 'serviables', 'service', 'services', 'servie', 'servies', 'serviette', 'servir', 'servis', 'ses', 'set', 'sets', 'seul', 'seule', 'seulement', 'seules', 'seuls', 'show', 'si', 'side', 'sidéré', 'siecle', 'sien', 'signalé', 'signature', 'signatures', 'signe', 'significative', 'signifie', 'signifié', 'silla', 'similaires', 'simple', 'simplement', 'simples', 'simplette', 'simplicité', 'sincère', 'sincèrement', 'sinon', 'siplus', 'site', 'situation', 'situe', 'situé', 'située', 'sitôt', 'six', 'siècle', 'sièges', 'slim', 'snack', 'snacké', 'snob', 'sobre', 'sociable', 'sodas', 'soeur', 'soi', 'soient', 'soigne', 'soigneusement', 'soigné', 'soignée', 'soin', 'soinplus', 'soins', 'soir', 'soiree', 'soirée', 'sois', 'soit', 'soja', 'sol', 'sole', 'soleil', 'soles', 'sollicitationcuisine', 'sombre', 'somme', 'sommelier', 'sommeliers', 'sommelière', 'sommes', 'sommet', 'somptueuse', 'somptueux', 'son', 'sonore', 'sonorités', 'sont', 'sophie', 'sorbonne', 'sors', 'sort', 'sortaient', 'sortant', 'sorte', 'sortent', 'sortes', 'sorti', 'sortie', 'sorties', 'sortir', 'sortis', 'souci', 'soucieux', 'soucis', 'soufflant', 'souffle', 'soufflé', 'soufflée', 'souffrir', 'souhait', 'souhaite', 'souhaitent', 'souhaitez', 'souhaitions', 'souhaits', 'souhaité', 'soumis', 'soupe', 'souper', 'soupes', 'soupçon', 'sourcés', 'souri', 'souriant', 'souriante', 'souriants', 'sourire', 'sourirerapiditéefficacitéqualité', 'sourires', 'souris', 'sourit', 'sous', 'souvenir', 'souvenirs', 'souvent', 'souviendra', 'soyons', 'spacieuses', 'spacieux', 'spartacus', 'spartiate', 'specialités', 'specificités', 'spectacle', 'spectaculaire', 'spiritueux', 'splendeur', 'splendide', 'spot', 'spécial', 'spéciale', 'spécialement', 'spécialisé', 'spécialité', 'spécialités', 'spécifiques', 'spécifié', 'square', 'squelettique', 'st', 'stable', 'staff', 'stagiaires', 'standards', 'standing', 'steak', 'steakhouses', 'steaks', 'stick', 'street', 'stress', 'structures', 'style', 'stéréotypes', 'su', 'subiile', 'sublime', 'sublimer', 'sublimes', 'sublimespigeon', 'sublimé', 'sublimées', 'substance', 'subtil', 'subtile', 'subtilement', 'subtiles', 'subtilité', 'subtils', 'succession', 'succulent', 'succulente', 'succulentes', 'succulents', 'succèdent', 'succès', 'sucre', 'sucrees', 'sucré', 'sucrée', 'sucrées', 'sucrés', 'sucs', 'sud', 'suffisamment', 'suffisant', 'suffisantes', 'suffit', 'suggestions', 'suggéré', 'suis', 'suit', 'suite', 'suivant', 'suivante', 'suivants', 'suivent', 'suivi', 'suivies', 'suivis', 'suivons', 'suivre', 'suki', 'sulfurisé', 'super', 'superbe', 'superbement', 'superbes', 'superlatifs', 'supermarché', 'superposé', 'supers', 'supervisée', 'supplément', 'supplémentaire', 'suppléments', 'supplémnt', 'supportable', 'supporter', 'supports', 'supposé', 'supposée', 'suprenant', 'suprise', 'suprême', 'supérieure', 'sur', 'surannée', 'surchargée', 'surcroît', 'surestimée', 'surface', 'surfait', 'surfaite', 'surgeles', 'surgelé', 'surgelés', 'surprenant', 'surprenante', 'surprenantes', 'surprenants', 'surprendre', 'surpris', 'surprise', 'surprises', 'surtout', 'suscite', 'sushi', 'sushis', 'suzette', 'suzettes', 'sylvestre', 'sympa', 'sympas', 'sympathie', 'sympathique', 'sympathiques', 'sympatique', 'symphonie', 'synchronisation', 'syrah', 'système', 'systématiquement', 'sèche', 'sèchement', 'sèches', 'séduire', 'séduisante', 'séduisants', 'séduit', 'séjour', 'séjourné', 'sélection', 'sélectionnés', 'séminaire', 'séparer', 'série', 'sérieusement', 'sérieux', 'sévère', 'sûr', 'sûre', 'sûrement', 'sœur', 'ta', 'tabasser', 'table', 'tables', 'tablesplus', 'tablette', 'tabouleh', 'taboulé', 'tabourets', 'taché', 'tacos', 'tact', 'taille', 'tailles', 'taillés', 'taire', 'takayagani', 'talent', 'talentueux', 'talons', 'tamisée', 'tandis', 'tant', 'tantes', 'tapas', 'tape', 'tapissés', 'tarbais', 'tard', 'tarif', 'tarifs', 'tarot', 'tartare', 'tartares', 'tarte', 'tartine', 'tartines', 'tas', 'tasse', 'tasty', 'tat', 'tata', 'taïwanais', 'te', 'tea', 'teamkangourou', 'technique', 'tel', 'telle', 'tellement', 'telles', 'tels', 'temps', 'tempura', 'température', 'tenait', 'tendance', 'tendre', 'tendrele', 'tendresse', 'teneur', 'teniendo', 'tentante', 'tentatives', 'tente', 'tenter', 'tenture', 'tenu', 'tenue', 'teppan', 'teppanyaki', 'terasse', 'tergiverser', 'teriyaki', 'terme', 'termes', 'terminer', 'terminé', 'terminée', 'terrail', 'terrasse', 'terre', 'terres', 'terrible', 'terrible5', 'terrines', 'terroristes', 'tes', 'test', 'teste', 'tester', 'testé', 'testés', 'textures', 'thaï', 'the', 'theâtre', 'thhis', 'thierry', 'thon', 'thème', 'thé', 'théatre', 'thélème', 'théâtre', 'théâtres', 'tibétaine', 'ticket', 'tienne', 'tiennent', 'tiens', 'tient', 'tika', 'tikka', 'time', 'timé', 'tiramisu', 'tirelire', 'tissu', 'titille', 'titre', 'titres', 'tiède', 'tièdes', 'tj', 'tjrs', 'tjs', 'toasté', 'toastés', 'toi', 'toilettes', 'toit', 'toits', 'tokyo', 'tomate', 'tomates', 'tombais', 'tombe', 'tombent', 'tomber', 'tombons', 'tombé', 'tombée', 'tombés', 'ton', 'tonitruantes', 'top', 'topinambour', 'toppersonnel', 'tops', 'toqué', 'tot', 'total', 'totale', 'totalement', 'touche', 'touchent', 'toucher', 'touches', 'touchés', 'toujours', 'toulousainesmais', 'tour', 'tourisme', 'touriste', 'touristes', 'touristiques', 'tourné', 'tourte', 'tourteau', 'tourteaux', 'tous', 'tout', 'toutain', 'toute', 'toutefois', 'toutes', 'touthenkamon', 'tradition', 'traditionnel', 'traditionnelle', 'traditionnelles', 'traditionnels', 'traditions', 'train', 'trainer', 'traite', 'traiteur', 'traité', 'traités', 'trajet', 'tranche', 'tranchent', 'tranches', 'tranquille', 'transmets', 'transormés', 'transpiration', 'transporte', 'transportée', 'transportés', 'traumatisante', 'travail', 'travaille', 'travaillez', 'travaillé', 'travaillée', 'travaillées', 'travaillés', 'travaux', 'travers', 'traverser', 'trempée', 'trente', 'tres', 'triomphe', 'trip', 'tripadvisor', 'triste', 'tristesse', 'trivial', 'trocadéro', 'trois', 'troisième', 'trompent', 'trop', 'tropez', 'trottoir', 'trouvailles', 'trouvant', 'trouve', 'trouvent', 'trouver', 'trouverez', 'trouvé', 'trouvée', 'trouvées', 'trouvés', 'truc', 'truffe', 'truffes', 'truffés', 'truite', 'très', 'trèstrèsdécevant', 'trés', 'trésor', 'trône', 'ttripadvisor', 'tu', 'tuer', 'tuerie', 'tueries', 'tuiles', 'tumulte', 'turbot', 'turnover', 'type', 'types', 'typique', 'typiques', 'tâches', 'téléphonant', 'téléphone', 'téléphones', 'télérama', 'témoin', 'témoins', 'térail', 'tête', 'tôt', 'ultra', 'un', 'unanime', 'unanimes', 'underground', 'une', 'unes', 'unique', 'uniquement', 'uniques', 'universitaire', 'uns', 'urgence', 'usage', 'usurpé', 'utilise', 'va', 'vacance', 'vacances', 'vache', 'vaguement', 'vais', 'vaisselle', 'vaissellecouvertssalle', 'valait', 'valentin', 'valeur', 'validés', 'vanille', 'vanté', 'vaqueras', 'varie', 'variee', 'varier', 'varié', 'variée', 'variées', 'variés', 'variété', 'variétés', 'vas', 'vaut', 'veau', 'veaucoquilles', 'veaux', 'vegan', 'vegeburger', 'vegetal', 'veille', 'venait', 'venant', 'vende', 'vendent', 'vendeur', 'vendeuse', 'vendeuses', 'vendredi', 'vendôme', 'venez', 'venions', 'venir', 'venons', 'vent', 'vente', 'ventre', 'venu', 'venue', 'venues', 'venus', 'verdure', 'vergelesses', 'verra', 'verre', 'verres', 'verres4', 'verrez', 'verrière', 'vers', 'versailles', 'versatile', 'version', 'versus', 'vert', 'verts', 'veste', 'vestiaire', 'vestimentaire', 'veulent', 'veut', 'veux', 'via', 'viande', 'viandes', 'victime', 'victoires', 'vide', 'vie', 'vieil', 'vieille', 'vieillot', 'viendriez', 'vienne', 'viennoiserie', 'viennoiseries', 'vienoiseries', 'viens', 'vient', 'vietnamienne', 'vieux', 'vigato', 'village', 'ville', 'vin', 'vinaigre', 'vinaigrette', 'vinaigrée', 'vincent', 'vingt', 'vingtaine', 'vinle', 'vins', 'vinsur', 'vintage', 'vire', 'virtus', 'virés', 'vis', 'visible', 'visiblement', 'vision', 'visite', 'visiter', 'visites', 'visiteurs', 'visité', 'visitée', 'visuel', 'visuelle', 'visé', 'vit', 'vite', 'vitesse', 'vitrée', 'vitrées', 'vivant', 'vivants', 'vivement', 'vivienne', 'vivons', 'vivre', 'vodka', 'voici', 'voie', 'voient', 'voila', 'voilà', 'voir', 'voire', 'vois', 'voisine', 'voisins', 'voit', 'voiture', 'voiturier', 'voix', 'vol', 'volaille', 'volontier', 'volontiers', 'volonté', 'voluptueux', 'vont', 'vos', 'vosges', 'votre', 'voudrait', 'voulais', 'voulait', 'voulant', 'voulez', 'voulions', 'voulo', 'vouloir', 'voulons', 'voulu', 'vous', 'voyage', 'voyageais', 'voyager', 'voyageurs', 'voyagez', 'voyagé', 'voyant', 'voyons', 'vrai', 'vraie', 'vraies', 'vraiment', 'vrais', 'vraissemblablement', 'vu', 'vue', 'vues', 'vulgaire', 'vulgairement', 'vulgaires', 'vécu', 'végans', 'végé', 'végés', 'végétal', 'végétaliens', 'végétarien', 'végétarienne', 'végétariennes', 'végétariens', 'végétaux', 'vélo', 'vérifier', 'vérifié', 'véritable', 'véritablement', 'vétusté', 'wagyu', 'wahoo', 'waouw', 'wc', 'we', 'web', 'week', 'weekend', 'whaou', 'wifi', 'william', 'wine', 'wines', 'with', 'wola', 'wow', 'xixe', 'xve', 'xvème', 'xxi', 'ya', 'yaki', 'yakitori', 'yaourt', 'yen', 'yeux', 'yoshitaka', 'yuzu', 'ze', 'zen', 'zkg', 'zone', 'zors', 'zouzou', 'à13', 'âges', 'âme', 'ça', 'çe', 'çi', 'çà', 'ème', 'ébahis', 'éblouissement', 'écart', 'écarter', 'échalote', 'échanger', 'échanges', 'échantillons', 'échelle', 'écho', 'échoppe', 'éclair', 'éclairage', 'éclats', 'éclectique', 'éco', 'école', 'écoles', 'économies', 'écorchant', 'écoute', 'écouter', 'écoutez', 'écrevisse', 'écrin', 'écrire', 'écris', 'écrit', 'écrits', 'écrivais', 'écœurant', 'écœurants', 'égale', 'également', 'égard', 'égayé', 'élaboration', 'élaboré', 'élaborée', 'élaborées', 'éleve', 'élevé', 'élevée', 'élevés', 'élitiste', 'éloges', 'élogieuses', 'élogieux', 'éloigner', 'éloignée', 'éloignées', 'élève', 'élégamment', 'élégance', 'élégant', 'élégante', 'élégantpersonnel', 'éléments', 'émerveille', 'émerveillement', 'émerveillé', 'émincé', 'émis', 'émission', 'émotion', 'émotions', 'émulsion', 'énergie', 'énergique', 'énergétique', 'énoncé', 'énorme', 'énormes', 'épais', 'épaisse', 'épaté', 'épatés', 'épaule', 'épicerie', 'épices', 'épicurien', 'épicuriens', 'épicé', 'épicée', 'épicéesmais', 'épicés', 'épinards', 'épisode', 'époque', 'épouse', 'époustouflante', 'époustouflantes', 'époustoufler', 'épuré', 'épurée', 'épuréz', 'équilibre', 'équilibré', 'équilibrée', 'équilibrées', 'équilibrés', 'équipe', 'équipes', 'équipé', 'équivaut', 'éric', 'érudit', 'érythréen', 'ét', 'établi', 'établissement', 'établissementidéalement', 'établissements', 'étage', 'étagères', 'étaient', 'étais', 'était', 'étant', 'étape', 'étapes', 'état', 'états', 'étendu', 'éthique', 'étions', 'étoile', 'étoiles', 'étoilé', 'étoilée', 'étoilés', 'étonnamment', 'étonnant', 'étonnante', 'étonné', 'étonnée', 'étouffante', 'étouffe', 'étranger', 'étrangers', 'étriquée', 'étroit', 'étroite', 'étroites', 'étudiant', 'étudiants', 'étudie', 'étudié', 'étudiées', 'étui', 'été', 'étés', 'évasion', 'éveillent', 'éventé', 'évidement', 'évidemment', 'évidence', 'évident', 'évitant', 'évite', 'éviter', 'évitez', 'évocateurs', 'évolue', 'évolution', 'évoque', 'événement', 'êtes', 'être', 'île', 'œil', 'œuf', 'œufs', 'œuvre'] 6401\n",
            "[[0 0 0 ... 0 0 0]\n",
            " [0 0 0 ... 0 0 0]\n",
            " [0 0 0 ... 0 0 0]\n",
            " ...\n",
            " [0 0 0 ... 0 0 0]\n",
            " [0 0 0 ... 0 0 0]\n",
            " [0 0 0 ... 0 0 0]]\n"
          ],
          "name": "stdout"
        }
      ]
    },
    {
      "cell_type": "code",
      "metadata": {
        "colab": {
          "base_uri": "https://localhost:8080/"
        },
        "id": "owKPknx19-sF",
        "outputId": "406ee817-ee84-4f76-8bb4-a09e29b19502"
      },
      "source": [
        "from sklearn.feature_extraction.text import TfidfVectorizer\n",
        "tfidf_vec = TfidfVectorizer()\n",
        "Y = tfidf_vec.fit_transform(df_texte['comment'])\n",
        "print(tfidf_vec.get_feature_names())\n",
        "print(Y.toarray())"
      ],
      "execution_count": null,
      "outputs": [
        {
          "output_type": "stream",
          "text": [
            "['00', '00h', '01', '03', '06', '08', '10', '100', '1000', '100000', '100g', '109', '11', '110', '114', '11h45', '12', '12460', '12e', '12h25', '13', '13eme', '13h', '13h30', '14', '145', '14h', '14h30', '15', '150', '15h', '15j', '15km', '16', '165', '16em', '17', '170', '172', '179', '17h40', '18', '185', '1880', '19', '190', '1900', '1920', '195', '19eme', '19h', '19h30', '1bol', '1er', '1ere', '1h', '1h30', '1h45', '1minutes', '20', '200', '2001', '2002', '2006', '2009', '200euros', '2011', '2012', '2014', '2015', '2016', '2017', '2018', '20h', '20h00', '20h30', '21', '2190', '21h30', '21h50', '22', '220', '222g', '22h', '22h00', '22h15', '22h25', '22h30', '23', '23h', '23h30', '24', '25', '26', '27', '27ème', '28', '280', '29', '2e', '2eme', '2emefois', '2emme', '2h30', '30', '300g', '30min', '30ème', '31', '310', '33', '330', '34', '35', '350', '36', '38', '39', '39v', '3cl', '3cm', '3e', '3h', '3h30', '3heures', '3légumes', '3ème', '40', '400', '42', '43', '45', '450', '48', '49', '49cl', '4ieme', '4ème', '50', '500', '52', '55', '59', '5min', '5plus', '5ème', '60', '600', '61', '62', '64', '650', '68', '69', '6e', '6eme', '6ieme', '70', '710', '75008', '78', '79', '7ème', '80', '800m', '85', '8eme', '8ème', '90', '900', '92', '9eme', '9h30', '9ème', 'abasourdi', 'abeille', 'abondance', 'abord', 'abordable', 'abordables', 'aborde', 'aboyer', 'abricot', 'abris', 'absence', 'absent', 'absolue', 'absolument', 'abus', 'abuse', 'accent', 'accepte', 'accepter', 'accepté', 'accessible', 'acceuil', 'acceuillis', 'acceuilservice', 'accommodées', 'accompagnait', 'accompagnant', 'accompagne', 'accompagnement', 'accompagnements', 'accompagnent', 'accompagner', 'accompagné', 'accompagnée', 'accompagnées', 'accompagnés', 'accord', 'accords', 'accueil', 'accueillant', 'accueillante', 'accueillantes', 'accueillants', 'accueille', 'accueillent', 'accueilli', 'accueillie', 'accueillies', 'accueillir', 'accueillis', 'accès', 'accéder', 'achalandé', 'achar', 'achat', 'acheter', 'acheté', 'achetés', 'achever', 'acidité', 'acidulé', 'acollée', 'actif', 'actualisée', 'actuelle', 'actuelles', 'adam', 'adaptent', 'adapté', 'adaptés', 'addition', 'adepte', 'adition', 'adjectif', 'adjuger', 'admettre', 'admiratif', 'admissible', 'adorable', 'adorables', 'adore', 'adorent', 'adoré', 'adossé', 'adresse', 'adresses', 'adressée', 'advisor', 'adéquat', 'affabilité', 'affaire', 'affaires', 'affamé', 'affecté', 'afficher', 'affiché', 'affichés', 'affinent', 'affirmer', 'affirmées', 'affluence', 'affordable', 'affèteries', 'afin', 'agacés', 'agapé', 'agar', 'agassé', 'agenda', 'agissait', 'agneau', 'agrandissent', 'agreable', 'agreablement', 'agreeable', 'agressive', 'agrumes', 'agréable', 'agréablement', 'agréables', 'agréableserveurs', 'agrémentée', 'ah', 'ai', 'aie', 'aient', 'aigu', 'ail', 'ailleurs', 'aimable', 'aimables', 'aimais', 'aime', 'aimer', 'aimerait', 'aimez', 'aimions', 'aimé', 'aimés', 'ainsi', 'aions', 'air', 'airs', 'aisance', 'aise', 'ait', 'ajouter', 'ajouté', 'ajoutées', 'ajuster', 'aki', 'al', 'alain', 'albion', 'alchimie', 'alcool', 'alegria', 'alentours', 'alerte', 'alexandre', 'algue', 'algues', 'aligne', 'alimentaire', 'alimentaires', 'aliments', 'all', 'allaient', 'allais', 'allait', 'allant', 'allechante', 'aller', 'allergies', 'allergique', 'allez', 'alliance', 'alliant', 'allie', 'allier', 'allions', 'allié', 'allons', 'allume', 'allé', 'alléchant', 'alléchante', 'alléchantes', 'allée', 'allés', 'alma', 'alors', 'alternative', 'alternatives', 'altèré', 'amabilité', 'amandes', 'amandiers', 'amateur', 'amateurs', 'amazonie', 'ambiance', 'ambiances', 'ambiant', 'ambiante', 'ame', 'amenés', 'amer', 'americains', 'amertume', 'amex', 'ami', 'amicale', 'amie', 'amies', 'amis', 'amispour', 'amitiés', 'amour', 'amoureux', 'amplement', 'amusante', 'amuse', 'amuses', 'amère', 'améliorations', 'améliorée', 'aménagements', 'aménagé', 'américain', 'américaine', 'an', 'ananas', 'anchois', 'ancien', 'ancienne', 'and', 'andouille', 'ange', 'anges', 'angevin', 'anglais', 'angleterre', 'anguille', 'angus', 'animé', 'ann', 'anne', 'anniversaire', 'anniversaires', 'annonce', 'annoncé', 'annoncées', 'annonçait', 'annulation', 'annulé', 'année', 'années', 'anomalie', 'anormal', 'ans', 'anti', 'antipasti', 'antipathique', 'antoine', 'anton', 'août', 'apaisante', 'apaisé', 'aperitif', 'apero', 'app', 'apparaitre', 'appareil', 'apparemment', 'apparence', 'apparences', 'appartant', 'appartement', 'appartenantba', 'appel', 'appelant', 'appelees', 'appeler', 'appelez', 'appellation', 'appelle', 'appellent', 'appelé', 'appercu', 'application', 'applique', 'appliquée', 'apporte', 'apportent', 'apporter', 'apporté', 'apportés', 'apprecie', 'apprehendais', 'apprenne', 'apprentie', 'appriori', 'approche', 'approprié', 'approximatif', 'appréciable', 'apprécie', 'apprécier', 'apprécions', 'apprécié', 'appréciée', 'appréciés', 'appréhension', 'appui', 'appuyant', 'appuyée', 'appétissant', 'appétissants', 'appétit', 'apres', 'après', 'apéritif', 'apéritifs', 'araignée', 'arc', 'arcane', 'argent', 'argenteuil', 'arménien', 'arnaque', 'arnaquer', 'arnaqué', 'arnaud', 'aromatisee', 'arome', 'arraché', 'arrangeant', 'arrangeants', 'arrangement', 'arrangé', 'arretter', 'arrivait', 'arrivant', 'arrive', 'arrivederci', 'arrivee', 'arrivent', 'arriver', 'arrives', 'arrivez', 'arrivons', 'arrivé', 'arrivée', 'arrivées', 'arrivés', 'arrière', 'arrogant', 'arrondissement', 'arrosé', 'arrêt', 'arrêtait', 'arrête', 'arrêter', 'arrêté', 'arrêtés', 'art', 'artichaut', 'artichauts', 'articulé', 'artifice', 'artificiels', 'artisanales', 'artiste', 'artistes', 'arts', 'arty', 'arôme', 'arômes', 'as', 'asap', 'asiatique', 'asiatiques', 'asiatisante', 'asie', 'asif', 'asperge', 'asperges', 'aspic', 'assaisonnement', 'assaisonnements', 'assaisonné', 'assaisonnés', 'assaut', 'assemblage', 'assemblages', 'asseoir', 'assez', 'assiette', 'assiettes', 'assis', 'assisté', 'association', 'associations', 'associer', 'associés', 'assortie', 'assortiment', 'assortiments', 'assortis', 'assurent', 'assurer', 'atelier', 'atmosphère', 'atours', 'atteindre', 'attend', 'attendais', 'attendait', 'attendant', 'attendent', 'attendez', 'attendions', 'attendons', 'attendre', 'attends', 'attendu', 'attendus', 'attente', 'attentes', 'attentif', 'attentifs', 'attention', 'attentionné', 'attentionnée', 'attentionnés', 'attentionnéun', 'attentions', 'atterri', 'attire', 'attiré', 'attirées', 'attirés', 'attiser', 'attitude', 'attractif', 'attractifs', 'attrape', 'attribué', 'attribuées', 'attribués', 'atypique', 'au', 'auberge', 'aubergines', 'aucum', 'aucun', 'aucune', 'audaces', 'audacieux', 'audieux', 'audrey', 'augmentation', 'augmenter', 'augurer', 'auguré', 'aujourd', 'auparavant', 'auprès', 'auquel', 'aura', 'aurai', 'aurais', 'aurait', 'aurez', 'aurions', 'aurons', 'auront', 'aussi', 'austère', 'autaient', 'autant', 'auteur', 'authentique', 'authentiques', 'automne', 'autorise', 'autour', 'autre', 'autres', 'auvergnats', 'auvergne', 'aux', 'avaient', 'avais', 'avaisi', 'avait', 'avalée', 'avance', 'avancée', 'avant', 'avantage', 'avarié', 'avce', 'avec', 'avenant', 'avenir', 'avent', 'aventure', 'aventurez', 'aversions', 'aveugle', 'aveyron', 'avez', 'avide', 'avion', 'avions', 'avis', 'avise', 'avises', 'avisplus', 'avisé', 'avisée', 'avisés', 'avoir', 'avon', 'avons', 'avont', 'avoue', 'avril', 'avère', 'avéré', 'avérée', 'ayant', 'ayons', 'aérien', 'aérienne', 'aériens', 'babines', 'bachir', 'bacon', 'bad', 'bagel', 'bagels', 'baguette', 'baies', 'baignant', 'baigné', 'baisser', 'baissé', 'bajhi', 'balade', 'balbutiant', 'ballade', 'balustrade', 'balzar', 'ban', 'banal', 'banale', 'banales', 'banalité', 'bancaire', 'bancaires', 'banctel', 'bannir', 'bao', 'baptiste', 'bar', 'barbue', 'bardolino', 'barman', 'barquette', 'barrage', 'bars', 'barème', 'bas', 'basant', 'base', 'bases', 'basic', 'basique', 'basiques', 'basmati', 'basque', 'basse', 'bastille', 'basés', 'bateau', 'batiment', 'battante', 'battent', 'bcp', 'beacoup', 'beau', 'beaucoup', 'beauté', 'beaux', 'beef', 'bel', 'belges', 'belle', 'belles', 'bemol', 'bercy', 'bernés', 'besoin', 'betterave', 'beuf', 'beurre', 'bichonné', 'bien', 'bienplus', 'bientot', 'bientôt', 'bienveillance', 'bienveillant', 'bienvenue', 'bienvenus', 'big', 'bijou', 'bilingue', 'bio', 'bios', 'bip', 'bis', 'biscuit', 'bisque', 'bistro', 'bistros', 'bistrot', 'bistrots', 'bitter', 'bizarre', 'bière', 'bières', 'bla', 'black', 'blague', 'blaguent', 'blagueur', 'blanc', 'blanche', 'blancs', 'blanquette', 'blend', 'bleu', 'bleues', 'bleuté', 'blindé', 'bling', 'bluffant', 'bluffée', 'blé', 'bo', 'bobo', 'bobun', 'bocaux', 'boeuf', 'bof', 'boire', 'bois', 'boise', 'boiseries', 'boisson', 'boissons', 'boites', 'bol', 'bolly', 'bollynan', 'bols', 'bon', 'bonheur', 'bonheurs', 'bonjour', 'bonne', 'bonnement', 'bonnes', 'bons', 'bonus', 'bord', 'boschman', 'bouche', 'bouches', 'bouchée', 'boucle', 'boucler', 'boudin', 'bouffe', 'bougies', 'bouillon', 'bouillons', 'boulanger', 'boulangerie', 'boulangers', 'boules', 'boulettes', 'boulevard', 'boulogne', 'boulot', 'bouquet', 'bouquets', 'bourget', 'bourgogne', 'bourratif', 'bourse', 'bout', 'boutary', 'bouteille', 'bouteilles', 'boutique', 'bouts', 'boyau', 'boîte', 'branché', 'bras', 'brasserie', 'brasseries', 'bravo', 'bravoplus', 'brebis', 'bref', 'brestois', 'bretagne', 'breton', 'bretonnes', 'brice', 'brigade', 'brigades', 'brillant', 'brin', 'brins', 'brio', 'brioches', 'brioché', 'brion', 'bristol', 'brochet', 'brochette', 'brochettes', 'brouillon', 'brua', 'bruit', 'bruitages', 'brulé', 'brulée', 'brulés', 'brunch', 'bruncher', 'brunché', 'brune', 'brunes', 'brut', 'bruxelles', 'bruyant', 'bruyante', 'bruyantes', 'bruyère', 'brésil', 'brésilienne', 'brûlée', 'budget', 'buffet', 'buffets', 'bun', 'buns', 'buono', 'burger', 'burgers', 'burrata', 'bus', 'but', 'butter', 'buvant', 'buzz', 'by', 'béatitude', 'bébé', 'bécassines', 'bémol', 'bénéficie', 'bœuf', 'ca', 'cabillaud', 'cacahuète', 'cacao', 'cacaotée', 'cache', 'cacher', 'caché', 'cadeau', 'cadre', 'cadres', 'cafard', 'cafe', 'café', 'cafétéria', 'cage', 'cagibi', 'cahotique', 'caille', 'cailles', 'caisse', 'cakes', 'calamars', 'cales', 'calibré', 'calme', 'calzone', 'cambodgien', 'cambodgienne', 'camembert', 'camouflé', 'campari', 'can', 'canard', 'candeborde', 'canette', 'canettes', 'canne', 'cannelle', 'cannelloni', 'cantine', 'caoutchouteuse', 'caoutchouteux', 'capable', 'capacité', 'capital', 'capitale', 'cappuccino', 'capter', 'car', 'caractère', 'caractériel', 'caractérise', 'caractérisé', 'carafe', 'carambar', 'caramel', 'carbonisée', 'carbonisés', 'cardamome', 'caricatural', 'caricature', 'carnassiers', 'carnet', 'carotte', 'carottes', 'carpaccio', 'carrefour', 'carré', 'carrée', 'carrées', 'carrément', 'carrés', 'carte', 'carteplus', 'cartes', 'carton', 'cas', 'cases', 'cash', 'cassant', 'casse', 'casser', 'castratophique', 'catalan', 'catastrophe', 'catastrophique', 'catelan', 'cathy', 'catégorie', 'catégorique', 'cauchemar', 'cause', 'cave', 'caviar', 'caviste', 'cb', 'ce', 'ceci', 'cela', 'celle', 'celles', 'celui', 'celà', 'cendrier', 'censé', 'centaines', 'centime', 'centre', 'cependant', 'cerise', 'cerises', 'cerisier', 'certain', 'certaine', 'certainement', 'certaines', 'certains', 'certe', 'certes', 'certificat', 'certifier', 'ces', 'cesse', 'cessé', 'cest', 'cet', 'cette', 'ceux', 'cezembre', 'chacun', 'chacune', 'chacunes', 'chaine', 'chaines', 'chair', 'chalance', 'chaland', 'chalereux', 'chaleuleuse', 'chaleur', 'chaleureuse', 'chaleureusement', 'chaleureux', 'chaleureuxavec', 'chambre', 'champagne', 'champagnes', 'champignons', 'champions', 'champs', 'chance', 'change', 'changement', 'changent', 'changer', 'changez', 'changé', 'chantaient', 'chanterelles', 'chanteurs', 'chanteuses', 'chantilly', 'chaotique', 'chapeau', 'chaque', 'charcuterie', 'charcuteries', 'chargé', 'charisme', 'charles', 'charmant', 'charmante', 'charmantes', 'charmants', 'charme', 'charmeront', 'charmé', 'chasse', 'chateaubriand', 'chaud', 'chaude', 'chaudes', 'chauds', 'chauffage', 'chauffages', 'chaussures', 'chaussée', 'chawarma', 'cheddar', 'cheesnan', 'chef', 'chefs', 'chelou', 'chemin', 'cheminplus', 'chemise', 'chene', 'chenin', 'cher', 'cherchait', 'cherchant', 'cherche', 'cherchent', 'chercher', 'cherchez', 'cherchions', 'chere', 'cheres', 'chers', 'chevreuil', 'chewing', 'chez', 'chic', 'chicago', 'chichi', 'chichis', 'chicken', 'chien', 'chiens', 'chiffre', 'chiffres', 'chiken', 'chine', 'chinois', 'chinoisants', 'chips', 'chique', 'chirashi', 'chloé', 'chocolat', 'choice', 'choisi', 'choisie', 'choisir', 'choisis', 'choisissez', 'choisissons', 'choisit', 'choix', 'chopin', 'choquant', 'choqué', 'chose', 'choses', 'chou', 'choucroute', 'chouette', 'choux', 'christian', 'chypriote', 'châtaignes', 'château', 'châteaux', 'chère', 'chères', 'chêne', 'ci', 'ciboulettes', 'cidre', 'cieltourne', 'cigare', 'cinq', 'cinquantaine', 'circuits', 'circulaire', 'citations', 'citron', 'citronelle', 'citronnelle', 'citrus', 'civet', 'clair', 'claire', 'clairement', 'claquer', 'classe', 'classement', 'classicisme', 'classique', 'classiques', 'classé', 'classées', 'claude', 'clean', 'clichy', 'client', 'clientele', 'clients', 'clientèle', 'climatisation', 'clochettes', 'clos', 'closerie', 'clou', 'cloud', 'club', 'clés', 'cnsm', 'cobea', 'cobéa', 'coche', 'cochon', 'cochonne', 'cocktail', 'cocktails', 'coco', 'cocon', 'cocooning', 'cocotte', 'coeur', 'cognac', 'coin', 'coincées', 'cois', 'colbert', 'coleslaw', 'collègue', 'collègues', 'collées', 'coloré', 'colorés', 'com', 'combinaison', 'combler', 'comblés', 'commandaria', 'commande', 'commander', 'commandes', 'commandions', 'commandons', 'commandé', 'commandée', 'comme', 'commence', 'commencer', 'commencé', 'commencée', 'commencés', 'comment', 'commentaire', 'commentaires', 'commentateurs', 'commenter', 'commenté', 'commençait', 'commençons', 'commercial', 'commerciale', 'commerçant', 'commerçants', 'commun', 'commune', 'communiquer', 'communiqués', 'compact', 'compagne', 'compagnie', 'compagnon', 'compagnons', 'comparaison', 'comparativement', 'comparé', 'compassion', 'competent', 'competitif', 'complet', 'complets', 'complexe', 'complexité', 'complique', 'compliqué', 'compliquée', 'complète', 'complètement', 'complétés', 'comportant', 'comporte', 'comportent', 'comporter', 'composer', 'composition', 'compositions', 'composé', 'composée', 'compote', 'compotée', 'comprenant', 'comprend', 'comprendre', 'comprends', 'comprenne', 'comprennent', 'compris', 'comprise', 'compromis', 'comptables', 'compte', 'compter', 'comptes', 'comptoir', 'compétences', 'compétent', 'compétente', 'compétitif', 'compétitifs', 'concentré', 'concept', 'concernant', 'concerne', 'concert', 'concevoir', 'concierge', 'conciergerie', 'concivial', 'conclu', 'concocte', 'concocter', 'concocté', 'concombre', 'concourait', 'concurrence', 'condiment', 'condition', 'conditions', 'conduire', 'conduit', 'conduits', 'confiance', 'confiante', 'confidentiel', 'configuration', 'confinée', 'confirmation', 'confirme', 'confirmer', 'confirmé', 'confirmée', 'confiseries', 'confit', 'confite', 'confiture', 'confondu', 'conforme', 'conformes', 'confort', 'confortable', 'confortablement', 'conforté', 'confrères', 'confusion', 'congelé', 'congelées', 'congrue', 'congrues', 'conjoint', 'conjointe', 'connais', 'connaissais', 'connaissance', 'connaissances', 'connaissant', 'connaissent', 'connaisseur', 'connaisseurs', 'connaissons', 'connait', 'connaît', 'connaître', 'connection', 'connexion', 'connu', 'connue', 'conquis', 'consacrer', 'consciencieux', 'conseil', 'conseille', 'conseiller', 'conseillons', 'conseillé', 'conseillée', 'conseillées', 'conseillés', 'conseils', 'conserve', 'considération', 'consistance', 'consistant', 'consiste', 'consommation', 'consommé', 'conspuent', 'constater', 'constaté', 'consterné', 'constitue', 'constituée', 'conséquence', 'contact', 'contemporain', 'contemporaine', 'content', 'contents', 'contenté', 'contenu', 'contexte', 'contient', 'continu', 'continue', 'continuellement', 'continuent', 'continuer', 'continuez', 'continué', 'contourner', 'contradiction', 'contraint', 'contraire', 'contrairement', 'contre', 'contrefaçon', 'contrefou', 'contretemps', 'contrevous', 'contribue', 'convaincues', 'convenable', 'convenables', 'convenant', 'convenir', 'conventionnelles', 'convenus', 'conversation', 'converser', 'conviction', 'conviendra', 'convient', 'convive', 'convives', 'convivial', 'conviviale', 'convivialité', 'convié', 'conçu', 'cookie', 'cookies', 'cool', 'coolplus', 'cools', 'copains', 'copie', 'copieuse', 'copieuses', 'copieux', 'copine', 'copines', 'coquillages', 'coquilles', 'coquillettes', 'coquine', 'corail', 'cordeau', 'cordial', 'cordialité', 'cordiaux', 'cordoue', 'coriandre', 'cornet', 'cornish', 'correct', 'correcte', 'correctement', 'correctes', 'correctesplus', 'corrects', 'correspond', 'correspondantes', 'correspondent', 'correspondre', 'corriger', 'corsent', 'corses', 'coréen', 'coréenne', 'coréens', 'cosi', 'cossu', 'cost', 'cosy', 'cote', 'cotta', 'coté', 'coucher', 'coucous', 'couleur', 'couleurs', 'coulis', 'couloir', 'coup', 'coupe', 'couper', 'coupes', 'couple', 'couples', 'coupole', 'coups', 'coupés', 'couraient', 'couramment', 'courbettes', 'courchevel', 'courez', 'courge', 'couronner', 'courrez', 'cours', 'course', 'court', 'courte', 'courtois', 'courtoise', 'courtoisie', 'courts', 'couscous', 'couteaux', 'coutumière', 'couverte', 'couverts', 'couvrir', 'coïncidence', 'crabe', 'craméeratéeimmangeable', 'cramés', 'crasseux', 'creatifs', 'creative', 'crepe', 'crepes', 'crevant', 'crevettes', 'criarde', 'cris', 'critique', 'critiquer', 'critiques', 'croirait', 'croire', 'crois', 'croissant', 'croissants', 'croque', 'croustillant', 'croustillante', 'croustillantes', 'croustillants', 'croyais', 'croûte', 'cruelle', 'cruellement', 'crues', 'crus', 'crème', 'crèpes', 'créatif', 'création', 'créative', 'créativité', 'créatrice', 'créditer', 'crémeux', 'crépinettes', 'crêpe', 'crêperie', 'crêpes', 'crêques', 'cuenta', 'cuillères', 'cuir', 'cuisine', 'cuisiner', 'cuisines', 'cuisinier', 'cuisiniers', 'cuisiné', 'cuisinées', 'cuisinés', 'cuisisiner', 'cuisse', 'cuisses', 'cuisson', 'cuissons', 'cuit', 'cuite', 'cuites', 'cuits', 'cuivrées', 'culinaire', 'culinaires', 'culottée', 'culpabilisant', 'curieuse', 'curieux', 'curiosité', 'curry', 'custom', 'cygne', 'cède', 'cèpes', 'céder', 'célèbre', 'célébrer', 'célébrités', 'céramique', 'cêpes', 'cône', 'côte', 'côté', 'côtéplus', 'cœur', 'da', 'daigne', 'daigné', 'dame', 'dames', 'dangeureux', 'daniela', 'dans', 'dar', 'dasn', 'datant', 'daubée', 'dauphinois', 'daurade', 'david', 'de', 'debout', 'debut', 'deception', 'decerestaurant', 'decide', 'deco', 'decor', 'decoration', 'decorés', 'decouvert', 'decouverte', 'decouvrir', 'decu', 'dedans', 'definetely', 'degeu', 'degeulasse', 'degrésplus', 'degustation', 'deguster', 'dehors', 'dej', 'deja', 'dejeuner', 'dejeuné', 'del', 'delavées', 'delicieuse', 'delicieuses', 'delicieux', 'deliveroo', 'delivrait', 'delà', 'demain', 'demande', 'demandent', 'demander', 'demandes', 'demandons', 'demandé', 'demandés', 'demi', 'demie', 'den', 'denis', 'dente', 'depaysant', 'deplace', 'deplorable', 'depose', 'depuis', 'dernier', 'dernière', 'dernièrement', 'dernières', 'derrière', 'des', 'desagreable', 'descente', 'design', 'dessert', 'desserts', 'desservir', 'dessins', 'dessous', 'dessus', 'detour', 'deux', 'deuxieme', 'deuxième', 'devais', 'devait', 'devant', 'devanture', 'devenu', 'devenue', 'devenus', 'devez', 'deviennent', 'devient', 'deviner', 'devions', 'devoir', 'devrait', 'deçeption', 'deçue', 'di', 'diarrhée', 'diego', 'difference', 'difficile', 'difficulté', 'difficultés', 'diffusé', 'différence', 'différencier', 'différent', 'différente', 'différentes', 'différents', 'digestif', 'digne', 'dignes', 'dimanche', 'diminutif', 'diminué', 'diner', 'dinette', 'dingue', 'dinner', 'diné', 'diponible', 'dirai', 'dirais', 'dirait', 'dire', 'direct', 'directement', 'directeur', 'direction', 'directive', 'directrice', 'dirigé', 'dirigés', 'dis', 'disait', 'disant', 'discret', 'discrets', 'discrète', 'discrètement', 'discrétion', 'discussion', 'discussions', 'discuter', 'discuté', 'dise', 'disent', 'disons', 'disparaître', 'disparition', 'dispo', 'disponibilité', 'disponible', 'disponibles', 'disposer', 'disposition', 'disserter', 'dissuader', 'distance', 'distant', 'distillée', 'distingue', 'distinguée', 'distrait', 'distribution', 'dit', 'dites', 'dithyrambiques', 'dits', 'dityrambiques', 'divers', 'diversifié', 'diversité', 'divin', 'divine', 'divines', 'divins', 'divisé', 'divray', 'dix', 'dizaine', 'dizaines', 'diététiques', 'dj', 'djouje', 'dogs', 'doigt', 'doigts', 'dois', 'doit', 'doive', 'doivent', 'dollars', 'domaines', 'domenico', 'dominical', 'dominicale', 'dommage', 'donald', 'donc', 'donnait', 'donnant', 'donne', 'donnent', 'donner', 'donnerait', 'donné', 'donnée', 'donnés', 'dont', 'dormir', 'dorures', 'dosage', 'dosé', 'dosées', 'double', 'doublement', 'douce', 'douceur', 'douleurs', 'doute', 'douterplus', 'douteuse', 'douzaine', 'doué', 'draguer', 'dressage', 'dressée', 'dressées', 'droit', 'drole', 'ds', 'dsk', 'du', 'duke', 'dumas', 'duo', 'dur', 'durant', 'dure', 'dures', 'duré', 'durée', 'duxelle', 'dynamique', 'dynamisme', 'dècorèes', 'dès', 'débarrasser', 'débarrassées', 'débité', 'débordé', 'débordée', 'débordés', 'début', 'débutant', 'débuter', 'décalage', 'décalé', 'décembre', 'déception', 'déceptions', 'déceptionà', 'décevant', 'décevante', 'décevantes', 'décevantmacaron', 'décevants', 'décevra', 'décibels', 'décide', 'décider', 'décidons', 'décidé', 'décidément', 'décliner', 'décliné', 'déclinées', 'déclinés', 'déco', 'déconcertante', 'déconseille', 'déconseilles', 'déconseillons', 'décontracté', 'décontractée', 'décontractés', 'décor', 'décoration', 'décorations', 'décorer', 'décorum', 'décoré', 'décorée', 'décoréel', 'découpe', 'découvert', 'découverte', 'découvertes', 'découvrant', 'découvre', 'découvrir', 'découvrons', 'décrire', 'décrocher', 'décru', 'décu', 'décès', 'dédaigneux', 'dédié', 'dédiée', 'défaillant', 'défavorable', 'défendait', 'définitivement', 'défraîchis', 'dégage', 'dégageaient', 'dégout', 'dégoûtant', 'dégoûtante', 'dégoûtée', 'dégrader', 'dégueulasses', 'dégustation', 'dégustations', 'déguste', 'déguster', 'dégusté', 'dégât', 'déjeuner', 'déjeuné', 'déjà', 'délaisser', 'délibérément', 'délicat', 'délicate', 'délicatement', 'délicates', 'délicatesse', 'délicats', 'délice', 'délices', 'délicieuse', 'délicieusement', 'délicieuses', 'délicieux', 'délier', 'délirant', 'délivre', 'déloger', 'déléguer', 'démarrage', 'démentent', 'démentes', 'dénégations', 'départ', 'départc', 'dépaysement', 'dépit', 'déplace', 'déplacement', 'déplaisant', 'déplorable', 'déplorables', 'déplu', 'déposée', 'déranger', 'dérouler', 'déroulé', 'dés', 'désagréable', 'désagréables', 'désagrément', 'désagréments', 'désastreux', 'désert', 'désespérément', 'désign', 'désirant', 'désirer', 'désirez', 'désirs', 'désistement', 'désolé', 'désordonné', 'désorganisation', 'désoriente', 'désormais', 'déssert', 'désuet', 'déséquilibrés', 'détail', 'détails', 'détendu', 'détendue', 'détente', 'détestable', 'détestant', 'détour', 'détrempé', 'détriment', 'dévolu', 'dévoué', 'déçu', 'déçue', 'déçues', 'déçus', 'dînatoire', 'dîne', 'dîner', 'dîners', 'dîné', 'dû', 'east', 'easy', 'eat', 'eau', 'eauapéro', 'eaux', 'ecailler', 'eclairs', 'ecole', 'edern', 'effacer', 'effacé', 'effectivement', 'effeil', 'effervescence', 'effet', 'effets', 'efficace', 'efficaces', 'efficaceun', 'efficacité', 'effort', 'efforts', 'egalement', 'eh', 'eiffel', 'el', 'elan', 'elegant', 'element', 'elisamulys', 'elizabeth', 'elle', 'elles', 'eloges', 'elvis', 'elysees', 'elysées', 'email', 'emballage', 'emballés', 'embarque', 'embarras', 'emblée', 'embrassades', 'eme', 'emission', 'emmener', 'emmené', 'empesée', 'emplacement', 'employés', 'emporter', 'emporté', 'empresse', 'empressés', 'empêche', 'en', 'enc', 'encadrés', 'encaisse', 'enceinte', 'encensé', 'enchainement', 'enchantement', 'enchanteur', 'enchanté', 'enchantés', 'enchaînent', 'encombré', 'encontre', 'encore', 'encornet', 'encornets', 'encourager', 'encre', 'end', 'endroit', 'endroits', 'enfant', 'enfantin', 'enfants', 'enfer', 'enfin', 'engouement', 'enjoint', 'enlever', 'enlevé', 'enlèvee', 'ennuyeux', 'enregistrement', 'enregistrée', 'enrobées', 'enseigne', 'ensemble', 'ensoleillé', 'ensoleillée', 'ensuite', 'entamé', 'entassés', 'entend', 'entendait', 'entendez', 'entendre', 'entendu', 'enterrement', 'enthousiasme', 'enthousiaste', 'enthousiastes', 'entier', 'entièrement', 'entrant', 'entre', 'entrecôte', 'entree', 'entrees', 'entremets', 'entrer', 'entres', 'entretenu', 'entretien', 'entrez', 'entrons', 'entré', 'entrée', 'entrées', 'entrés', 'envahis', 'envahissant', 'envahit', 'envers', 'envie', 'envies', 'environ', 'environnants', 'environnement', 'envisagez', 'envoûtant', 'epaisseur', 'epices', 'epicure', 'epie', 'epinards', 'epuré', 'equipaplus', 'equipe', 'er', 'eric', 'erithréen', 'errance', 'erreur', 'erreurs', 'erythreennes', 'es', 'escape', 'escargot', 'escargots', 'espace', 'espacement', 'espaces', 'espacées', 'espacés', 'espadon', 'especialmente', 'espoir', 'esprit', 'esprits', 'espèce', 'espère', 'espérances', 'espérer', 'espérons', 'espéré', 'espérée', 'essaye', 'essayer', 'essayez', 'essayons', 'essayé', 'essentiel', 'essentiellement', 'est', 'estampillés', 'estelle', 'esthetique', 'esthètes', 'esthétiquement', 'estomac', 'et', 'etablissement', 'etage', 'etaient', 'etais', 'etait', 'etant', 'etc', 'etes', 'etions', 'etoile', 'etoiles', 'etonnante', 'etre', 'etude', 'eté', 'eu', 'eudes', 'eue', 'eues', 'eugène', 'eur', 'euro', 'europe', 'européen', 'euros', 'eut', 'eux', 'evening', 'eveningfilling', 'event', 'eviter', 'ex', 'exactement', 'exacts', 'exagère', 'excelent', 'excelle', 'excellemment', 'excellence', 'excellent', 'excellente', 'excellentes', 'excellentje', 'excellents', 'exception', 'exceptionnel', 'exceptionnelle', 'exceptionnellement', 'exceptionnelles', 'exceptionnels', 'exceptionnous', 'excepté', 'excessif', 'excessifs', 'excessives', 'excité', 'exclusivement', 'excursion', 'excuse', 'excusez', 'excusés', 'excès', 'exelent', 'exemplaire', 'exemple', 'exeptionnelle', 'exergue', 'exhorbitant', 'exhorbitante', 'exigeant', 'exigeants', 'exigence', 'exigences', 'exigu', 'exiguë', 'existe', 'existence', 'existé', 'exorbitant', 'exorbitants', 'exotiques', 'experience', 'experiences', 'expert', 'expertise', 'explicatif', 'explication', 'explications', 'expliquant', 'expliquants', 'explique', 'expliquer', 'expliquera', 'expliqués', 'explorer', 'explosent', 'explosion', 'expo', 'exposition', 'expositions', 'exprès', 'expédie', 'expédié', 'expérience', 'expériences', 'exquis', 'exquise', 'exquises', 'exsite', 'exterieur', 'exterminent', 'externe', 'extra', 'extraordinaire', 'extraordinairement', 'extraordinaires', 'extrême', 'extrêmement', 'extérieur', 'extérieure', 'exécrable', 'exécutants', 'exécution', 'exécuté', 'exécutée', 'exécutés', 'fabien', 'fabuleuse', 'fabuleuses', 'fabuleux', 'face', 'facebook', 'facile', 'facilement', 'facilité', 'facture', 'facturé', 'fad', 'fadace', 'fade', 'fades', 'faham', 'faible', 'faille', 'faim', 'fain', 'faire', 'fais', 'faisaient', 'faisais', 'faisait', 'faisant', 'faisions', 'faisons', 'fait', 'faite', 'faites', 'faits', 'falafel', 'falafels', 'fallafel', 'fallafels', 'fallait', 'fallu', 'fameux', 'familial', 'familiale', 'familiarisé', 'familiarité', 'familier', 'familière', 'famille', 'fan', 'fans', 'fantasmais', 'fantastique', 'fantastiques', 'farandole', 'farci', 'farcie', 'farfelue', 'fast', 'fatidique', 'fatigué', 'fatigués', 'faubourg', 'faudra', 'fausse', 'faussement', 'fausses', 'faut', 'faute', 'fautes', 'fauteuils', 'faux', 'faveurs', 'favorablement', 'favorables', 'favoris', 'favorite', 'fayette', 'façade', 'façon', 'façons', 'faîtes', 'fb', 'fe', 'felicitations', 'felipe', 'femme', 'femmes', 'fenêtre', 'fenêtres', 'fera', 'feraient', 'ferme', 'fermer', 'fermes', 'fermier', 'fermé', 'fermée', 'fermés', 'fernando', 'festif', 'festival', 'festive', 'feu', 'feuille', 'feuilles', 'feuilletage', 'feutrer', 'feutré', 'feutrée', 'feux', 'fiable', 'fiables', 'fiancé', 'fiancée', 'fiasco', 'fiche', 'fidèle', 'fidèles', 'fier', 'fiez', 'figue', 'figues', 'figure', 'fil', 'file', 'filet', 'filets', 'filipé', 'fille', 'filles', 'film', 'films', 'fils', 'fin', 'final', 'finale', 'finalement', 'find', 'fine', 'finement', 'fineparfaitement', 'fines', 'finesse', 'fini', 'finie', 'finir', 'finis', 'finit', 'fins', 'fioriture', 'fish', 'fishbals', 'fièrement', 'flacons', 'flambé', 'flammes', 'flan', 'flatteur', 'flemme', 'fleur', 'fleuri', 'fleurs', 'florale', 'florales', 'flotte', 'fluide', 'fléchi', 'fléché', 'flûte', 'foi', 'foie', 'foies', 'fois', 'foisc', 'folichon', 'folie', 'folies', 'folles', 'foncez', 'fonction', 'fond', 'fondamentaux', 'fondant', 'fondre', 'fonds', 'fondu', 'fondue', 'fondé', 'font', 'food', 'foodsurprising', 'for', 'force', 'forcé', 'forcément', 'forfait', 'fork', 'formalité', 'forme', 'formes', 'formidable', 'formidableune', 'formuka', 'formule', 'formules', 'fort', 'forte', 'fortement', 'fortes', 'forts', 'fouillis', 'foule', 'four', 'fourchette', 'fourneaux', 'fourni', 'fournie', 'fournir', 'fout', 'foutage', 'foutiste', 'fraiches', 'fraicheur', 'frais', 'francais', 'francaise', 'france', 'franchement', 'franchisée', 'franco', 'franquette', 'français', 'française', 'frappante', 'frappe', 'frappé', 'fraçais', 'fraîche', 'fraîches', 'fraîcheur', 'frechon', 'free', 'french', 'fric', 'fricassée', 'friendly', 'frigo', 'frire', 'frise', 'frisé', 'frite', 'frites', 'frits', 'frittes', 'friture', 'frog', 'froid', 'froide', 'froidement', 'froides', 'froideur', 'fromage', 'fromages', 'frugal', 'fruit', 'fruits', 'frère', 'fréchon', 'frédérique', 'fréquentant', 'fréquentation', 'fréquente', 'fréquenté', 'fréquentée', 'fubuleux', 'fuir', 'fuite', 'fument', 'fumoir', 'furent', 'furieux', 'fusil', 'fusion', 'fut', 'futur', 'futuriste', 'fuyez', 'fèves', 'féminine', 'férié', 'féru', 'fétiches', 'février', 'fêta', 'fêtait', 'fête', 'fêter', 'fêtions', 'fêté', 'fûmes', 'fût', 'gabriel', 'gaché', 'gadgets', 'gaffes', 'gagnaire', 'galerie', 'galette', 'galettes', 'gall', 'gambas', 'game', 'gamme', 'garanti', 'garantie', 'garcia', 'garde', 'garder', 'gardez', 'gardions', 'gardons', 'gardé', 'gardée', 'gare', 'garnies', 'garniesrien', 'garnis', 'garniture', 'garnitures', 'gars', 'garçon', 'gaspiller', 'gastro', 'gastronomes', 'gastronomic', 'gastronomie', 'gastronomique', 'gastronomiques', 'gauche', 'gaufré', 'gavotte', 'gay', 'gazeuse', 'gelati', 'genereux', 'genia', 'genialissime', 'genre', 'gens', 'gentil', 'gentille', 'gentillesse', 'gentils', 'gentiment', 'george', 'georges', 'gerant', 'gerard', 'gerent', 'germain', 'geste', 'gestion', 'gibier', 'gigot', 'gilet', 'gilles', 'gingembre', 'gins', 'giovanni', 'girolle', 'girolles', 'glace', 'glaces', 'glacial', 'glaciale', 'glacier', 'glacé', 'glaçons', 'glissées', 'globale', 'globalement', 'gluten', 'gnocchi', 'gnocchis', 'gogo', 'gomme', 'gorgée', 'gourmand', 'gourmande', 'gourmandes', 'gourmandise', 'gourmandises', 'gourmet', 'gourmets', 'gout', 'gouter', 'gouteuse', 'gouteux', 'gouts', 'goutte', 'gouttes', 'goutus', 'goutés', 'goût', 'goûter', 'goûteuse', 'goûteuses', 'goûteux', 'goûtez', 'goûts', 'goûté', 'grace', 'gradé', 'graisse', 'grammes', 'grand', 'grande', 'grandement', 'grandes', 'grandeur', 'grandiose', 'grandir', 'grands', 'granité', 'gransd', 'grappa', 'gras', 'grasse', 'grasses', 'gratin', 'gratinée', 'gratuit', 'grave', 'gravelax', 'graver', 'gravée', 'great', 'grec', 'green', 'grenaille', 'grenouille', 'grenouilles', 'gribiche', 'grignoter', 'grignotteries', 'grillé', 'grillée', 'grillées', 'grilléla', 'gris', 'grisonnant', 'gros', 'grosse', 'grosses', 'grossesse', 'grossière', 'grossières', 'grossièreté', 'groupe', 'gruyère', 'grâce', 'gré', 'guacamole', 'guettait', 'gueules', 'guide', 'guides', 'guidés', 'guignol', 'guimauve', 'guindé', 'guise', 'gum', 'gustatif', 'gustative', 'gustatives', 'guy', 'guéméné', 'gyosa', 'gâchis', 'gâché', 'gâchée', 'gâte', 'gâteau', 'gâteaux', 'gâtent', 'gène', 'gère', 'génant', 'génial', 'géniale', 'général', 'générale', 'généralement', 'généreuse', 'généreuses', 'généreux', 'générosité', 'géographique', 'gérant', 'gérante', 'gérants', 'gérard', 'gêne', 'gêné', 'ha', 'habilement', 'habitant', 'habitante', 'habite', 'habitons', 'habitude', 'habituel', 'habitué', 'habituée', 'habitués', 'hachée', 'had', 'haddock', 'hai', 'hais', 'halles', 'hallucine', 'halte', 'hamburger', 'hamburgers', 'hanawa', 'handicapés', 'hank', 'happycow', 'hareng', 'haricots', 'harmonie', 'harmonieux', 'harmoniques', 'hasard', 'haut', 'hautain', 'hautaine', 'haute', 'hautement', 'hauteur', 'hauts', 'herbe', 'herbes', 'heure', 'heures', 'heureusement', 'heureuses', 'heureux', 'hexagonaux', 'hexagone', 'hic', 'hier', 'hihihi', 'histoire', 'historique', 'hiver', 'homard', 'homemade', 'homme', 'hommes', 'honneur', 'honneurbravo', 'honnête', 'honorable', 'honoré', 'honte', 'honteuse', 'honteux', 'hop', 'horaires', 'hormis', 'horrible', 'hors', 'hospitalité', 'hot', 'hotel', 'houmous', 'hubert', 'hugo', 'hui', 'huile', 'huileuses', 'huit', 'huitres', 'hum', 'humanité', 'humble', 'humeur', 'humour', 'huître', 'huîtres', 'hygiène', 'hype', 'hyper', 'hypers', 'hâte', 'hélas', 'hésitantes', 'hésitation', 'hésitent', 'hésiter', 'hésitez', 'hésitions', 'hésité', 'hétéroclite', 'hôte', 'hôtel', 'hôtelière', 'hôtellerie', 'hôtels', 'hôtes', 'hôtesse', 'hôtesses', 'ici', 'identité', 'idyllique', 'idéal', 'idéale', 'idéalement', 'idéales', 'idée', 'ignoble', 'ignore', 'ignoré', 'il', 'ilion', 'illimités', 'illisible', 'illuminent', 'illustre', 'ils', 'image', 'imagination', 'imaginative', 'imagine', 'imaginé', 'imaginées', 'imangeable', 'imbattable', 'imbu', 'imbus', 'imbuvable', 'imbuvables', 'imbéciles', 'imed', 'imitant', 'imitation', 'imiter', 'immangeable', 'immense', 'immenses', 'immeuble', 'immédiatement', 'imméritées', 'impact', 'impatient', 'impatients', 'impecable', 'impeccable', 'impeccables', 'impensable', 'impersonnel', 'impertinence', 'impoli', 'impolitesse', 'importance', 'important', 'importe', 'imposait', 'impose', 'impossibilité', 'impossible', 'imposé', 'imposés', 'impression', 'impressionnant', 'impressionner', 'impressionné', 'impressionnée', 'impressionnés', 'improbablevenus', 'improvisé', 'imprécise', 'impécable', 'impérativement', 'in', 'inacceptables', 'inaccessible', 'inadmissible', 'inattendues', 'inattendus', 'incapables', 'incarnée', 'incendie', 'incipide', 'incité', 'inclus', 'incomparable', 'incompetent', 'incompréhension', 'incompétent', 'inconcevable', 'inconditionnel', 'inconfortable', 'inconnu', 'inconnue', 'inconnues', 'inconnus', 'inconsistantes', 'incontestablement', 'incontournable', 'incontournables', 'incorrecte', 'incorrection', 'incroyable', 'incroyablement', 'incroyables', 'inde', 'indean', 'indien', 'indienne', 'indiennes', 'indiens', 'indifférent', 'indifférents', 'indigne', 'indignes', 'indignés', 'indiquant', 'indique', 'indiqué', 'indispensable', 'indispensables', 'individuel', 'individuels', 'indonésie', 'industrielle', 'industrielles', 'industriels', 'indésirables', 'inefficace', 'inexistante', 'inexpérimenté', 'infamie', 'infect', 'infecte', 'infectes', 'infinite', 'influence', 'influences', 'info', 'information', 'informe', 'informes', 'informé', 'inférieures', 'ingrédient', 'ingrédients', 'inhabituel', 'inhabituelles', 'inhérentes', 'initial', 'initialement', 'injustement', 'inmanquable', 'inneficace', 'innovant', 'innovante', 'innovants', 'innovation', 'inoubliable', 'inoubliables', 'insatisfaction', 'insignifiant', 'insinué', 'insipide', 'insipides', 'insistance', 'insistante', 'insisté', 'insonorisé', 'inspecteurs', 'inspirante', 'inspiration', 'inspire', 'inspiré', 'instable', 'installe', 'installer', 'installez', 'installées', 'installés', 'instant', 'instar', 'institution', 'insuffisante', 'insulté', 'insuportablement', 'insupportable', 'insurger', 'integre', 'intelligentes', 'intensité', 'interdits', 'interet', 'interloquée', 'interminable', 'internationale', 'internet', 'interpelle', 'interpellera', 'interpellé', 'intervenir', 'intime', 'intimidant', 'intimiste', 'intimité', 'intolérance', 'intolérances', 'intolérante', 'intolérences', 'intrigues', 'introduire', 'introuvable', 'intrusif', 'intégralité', 'intéressant', 'intéressante', 'intéressantes', 'intéressants', 'intéresser', 'intérieur', 'intérêt', 'inutile', 'inutiles', 'inventer', 'inventif', 'inventifs', 'inventive', 'inventivité', 'inverse', 'invitation', 'invite', 'invitent', 'inviter', 'invitions', 'invité', 'invitée', 'invités', 'inédit', 'inédite', 'inégalable', 'inéluctable', 'ira', 'irai', 'irait', 'iran', 'iranien', 'iranienne', 'iraniennes', 'iraniens', 'iranniene', 'ironique', 'irrespectueuse', 'irrespectueux', 'irréprochable', 'irréprochablement', 'irréprochables', 'ischia', 'issus', 'italie', 'italien', 'italienne', 'italiennes', 'italiens', 'ixème', 'jaboulet', 'jacques', 'jamais', 'jambes', 'jambon', 'janin', 'janvier', 'japon', 'japonais', 'japonaise', 'japonaises', 'japonnaise', 'jardin', 'jardins', 'jarret', 'jaune', 'je', 'jean', 'jeanne', 'jeannes', 'jeter', 'jettes', 'jeté', 'jeu', 'jeudi', 'jeune', 'jeunes', 'jeunesse', 'jeux', 'jgr', 'joie', 'joies', 'joindre', 'joins', 'joli', 'jolie', 'jolies', 'joliment', 'jolis', 'josé', 'jouissif', 'jouit', 'jour', 'journée', 'jours', 'joviales', 'joyau', 'joëlle', 'jp', 'judicieuses', 'judicieux', 'jugement', 'juillet', 'juin', 'julien', 'jumin', 'jus', 'jusqu', 'jusque', 'juste', 'justes', 'justesprésentation', 'justice', 'justifiait', 'justifiant', 'justifications', 'justifie', 'justifient', 'justifier', 'justifiée', 'justifiées', 'justifiés', 'juteuse', 'juxtapositions', 'jérôme', 'kai', 'kaiser', 'kebab', 'kei', 'ketchup', 'kgb', 'kilo', 'kilomètres', 'kinzo', 'kir', 'kitchen', 'kjdhd', 'kobe', 'kobé', 'kodawari', 'kong', 'korean', 'koubide', 'kozy', 'kub', 'kugorawa', 'la', 'lafourchette', 'laid', 'laissaient', 'laissait', 'laissant', 'laisse', 'laisser', 'laissera', 'laissez', 'laissé', 'laissées', 'laissés', 'lait', 'laitiers', 'lamentable', 'lames', 'langoustine', 'langoustines', 'langue', 'lanvi', 'lanzhou', 'laquelle', 'large', 'largement', 'lasagnes', 'lasse', 'latin', 'latino', 'laure', 'lavash', 'le', 'lecture', 'ledeuil', 'leger', 'legers', 'lent', 'lente', 'lenteur', 'lentilles', 'lequel', 'lerestaurent', 'les', 'lesquelles', 'lettre', 'leur', 'leurs', 'levinson', 'libanais', 'libanaise', 'libre', 'libère', 'liegeois', 'lieu', 'lieux', 'lievre', 'light', 'ligne', 'lilas', 'lillois', 'limininaire', 'limite', 'limites', 'limité', 'limitée', 'limougeauds', 'lipp', 'liquide', 'lire', 'lis', 'lisbonne', 'liste', 'lit', 'littéralement', 'livraison', 'livre', 'livrer', 'livré', 'lièvre', 'lié', 'liés', 'local', 'localisation', 'logeait', 'loin', 'lointains', 'lois', 'lol', 'lombards', 'long', 'longtemps', 'longue', 'look', 'lors', 'lorsqu', 'lorsque', 'lot', 'louis', 'loulous', 'lounge', 'loupée', 'lourd', 'lourde', 'low', 'loyer', 'lu', 'lucas', 'lugubre', 'lui', 'lumineuse', 'lumineux', 'lumière', 'lumières', 'lundi', 'lundis', 'lunettes', 'luxe', 'luxueux', 'là', 'làplus', 'lâche', 'lève', 'lèvres', 'léchions', 'léger', 'légume', 'légumes', 'légère', 'légèrement', 'légères', 'légèreté', 'ma', 'mac', 'macadamia', 'macaroni', 'macaronis', 'macarons', 'macau', 'machine', 'madame', 'madeleine', 'madeleines', 'madère', 'madérisé', 'maestria', 'magie', 'magique', 'magnifique', 'magnifiquement', 'magnifiques', 'magné', 'magret', 'mai', 'maigre', 'mail', 'mains', 'maintenant', 'mais', 'maison', 'maisons', 'maitre', 'maitrise', 'maitrisse', 'maitrisée', 'majestueuse', 'majestueux', 'majeure', 'majoritairement', 'maki', 'makis', 'mal', 'malade', 'maladroit', 'malchance', 'malgrè', 'malgré', 'malheur', 'malheureusement', 'malpolie', 'maltraitées', 'maman', 'mamie', 'mamma', 'man', 'manager', 'mandarin', 'mandarine', 'mange', 'mangeable', 'mangeables', 'mangeait', 'manger', 'mangez', 'mangions', 'mangue', 'mangé', 'manière', 'manquait', 'manquant', 'manque', 'manquent', 'manquer', 'manquerait', 'maqnifique', 'maquereau', 'marais', 'marc', 'marchand', 'marchande', 'marche', 'marché', 'marchétout', 'marcon', 'mardi', 'margarita', 'mari', 'mariage', 'mariages', 'marie', 'marier', 'marines', 'mariné', 'marié', 'mariés', 'marmites', 'marque', 'marquer', 'marronniers', 'mars', 'marseillais', 'marx', 'masala', 'mascarpone', 'maso', 'masquant', 'masqué', 'massala', 'match', 'matcha', 'matin', 'matinée', 'matière', 'matsuri', 'maturation', 'mauvais', 'mauvaise', 'mauvaises', 'max', 'maxi', 'maximale', 'maximum', 'mayo', 'mayonnaise', 'maître', 'maîtres', 'maîtresse', 'maîtrise', 'maîtrisé', 'maîtrisée', 'mc', 'me', 'mediocre', 'meilleur', 'meilleure', 'meilleures', 'meilleurs', 'mejor', 'meme', 'menace', 'menetou', 'ment', 'menthe', 'menthetiède', 'mention', 'menu', 'menus', 'menées', 'mer', 'merci', 'merciplus', 'mercredi', 'merguez', 'meringue', 'merite', 'meriter', 'merlan', 'mersea', 'merveille', 'merveilles', 'merveilleuse', 'merveilleusement', 'merveilleuses', 'merveilleux', 'mes', 'message', 'messieurs', 'mesure', 'met', 'mets', 'mettant', 'mettez', 'mettre', 'meurette', 'mexicain', 'mexicaine', 'mexican', 'mexique', 'mia', 'miam', 'michel', 'michelin', 'micro', 'microscopiques', 'midi', 'midis', 'mie', 'miel', 'mien', 'mienne', 'mieux', 'mignardises', 'mignon', 'mignons', 'milieu', 'mille', 'millefeuille', 'milliers', 'millimetré', 'million', 'min', 'mina', 'minable', 'mine', 'mini', 'miniardises', 'minimal', 'minimaliste', 'minimalistes', 'minime', 'minimes', 'minimum', 'miniscule', 'minuscule', 'minuscules', 'minute', 'minutes', 'minutie', 'minutieux', 'minérale', 'mirabelle', 'miroirs', 'mis', 'mise', 'mises', 'miso', 'mission', 'mixte', 'miyazaki', 'mmontparnadse', 'mn', 'mob', 'mobilier', 'mobster', 'moche', 'mode', 'moderation', 'moderne', 'moderniser', 'modernité', 'modeste', 'modifications', 'modifier', 'modérée', 'moelle', 'moelleux', 'moi', 'moindre', 'moindres', 'moins', 'mois', 'moitié', 'mojito', 'mole', 'molles', 'molto', 'moment', 'moments', 'mon', 'monacale', 'monde', 'mondialement', 'monnaie', 'monsieur', 'montagnard', 'montagnes', 'montant', 'monter', 'montmartre', 'montparnasse', 'montré', 'moque', 'moquer', 'moqueur', 'moral', 'morceaux', 'moret', 'moribondes', 'mot', 'motivé', 'motivés', 'mots', 'mou', 'moucherons', 'mouffetard', 'moules', 'moulin', 'moultes', 'mousse', 'moutarde', 'moyen', 'moyenne', 'moyennement', 'moyennes', 'moyens', 'mozzarella', 'mozzas', 'mr', 'mulet', 'multiples', 'multitude', 'mumi', 'mundo', 'mur', 'mural', 'murs', 'musical', 'musique', 'must', 'musée', 'mutiste', 'my', 'myriade', 'myrtilles', 'mythique', 'mère', 'mères', 'mètre', 'mètres', 'mécanique', 'mécontents', 'médecin', 'médiatisé', 'médiocre', 'médiocres', 'méditation', 'méditerranée', 'médium', 'mélange', 'mélangeant', 'mélangent', 'mélanger', 'mélanges', 'mélangée', 'mémoire', 'mémoires', 'mémorable', 'mémorables', 'méprendre', 'méprisant', 'méritant', 'mérite', 'méritent', 'mériter', 'mériterait', 'méritées', 'mérités', 'métier', 'métiers', 'métro', 'météo', 'mêlant', 'même', 'mêmes', 'naan', 'nage', 'nagent', 'nan', 'nancy', 'nans', 'napolitaines', 'naranja', 'narcis', 'narciz', 'nata', 'nature', 'naturel', 'naturellement', 'naufrage', 'navrant', 'ne', 'nectar', 'needed', 'negatif', 'neige', 'nems', 'nerfs', 'nerveuse', 'net', 'nets', 'nettement', 'neuf', 'neutre', 'neutres', 'nez', 'ni', 'niché', 'nickel', 'nico', 'nicolas', 'night', 'niveau', 'no', 'nobles', 'noir', 'noire', 'noires', 'noirs', 'noix', 'nom', 'nombre', 'nombreuse', 'nombreuses', 'nombreux', 'nommé', 'noms', 'non', 'nonchalant', 'normal', 'norme', 'norvégienne', 'nos', 'nossa', 'notamment', 'note', 'noter', 'notes', 'notoriété', 'notre', 'noté', 'nougat', 'nouille', 'nouilles', 'nounours', 'nourriture', 'nous', 'nouveau', 'nouveautés', 'nouveaux', 'nouvel', 'nouvelle', 'nouvelles', 'novateur', 'novatrice', 'novembre', 'noyé', 'noyées', 'nuage', 'nuit', 'nuits', 'nul', 'nulle', 'numéro', 'nutella', 'nº', 'né', 'néanmoins', 'nécessaire', 'nécessairement', 'nécessité', 'négatif', 'négatifs', 'négative', 'objet', 'obligations', 'obligatoire', 'obligatoires', 'oblige', 'obliger', 'obligé', 'obscurité', 'observation', 'obséquieux', 'obséquiosité', 'obtenir', 'obtenu', 'obtiendrez', 'occasion', 'occasionnellement', 'occasions', 'occidentale', 'occupe', 'occuper', 'occupé', 'occupées', 'octobre', 'océan', 'odeur', 'odeurs', 'odieux', 'odorat', 'odyssee', 'oeil', 'oeuf', 'oeufs', 'oeuvre', 'oeuvres', 'offert', 'offerte', 'offertes', 'offerts', 'officiait', 'officiellement', 'officielles', 'officier', 'offrait', 'offre', 'offrent', 'offres', 'offrir', 'offrira', 'offrons', 'offusqué', 'ogre', 'oie', 'oignon', 'oignons', 'ok', 'olive', 'olives', 'ombre', 'omelette', 'omniprésent', 'on', 'onctueuses', 'onde', 'ondes', 'onglet', 'onions', 'ont', 'ontinu', 'opinion', 'opportunité', 'opposé', 'oppressé', 'option', 'options', 'optons', 'opté', 'opère', 'opération', 'opére', 'orange', 'orateur', 'ordre', 'oreille', 'organisant', 'organisation', 'orgie', 'orgue', 'orgueilleuse', 'orient', 'oriental', 'orientale', 'orienté', 'original', 'originale', 'originales', 'originalité', 'originalités', 'originaux', 'origine', 'orloff', 'ormeaux', 'orsay', 'os', 'ostentation', 'ostentatoire', 'ostreiculteur', 'osé', 'ou', 'oublie', 'oublier', 'oublierai', 'oublié', 'oubliée', 'ouest', 'ouf', 'oui', 'our', 'oursins', 'outre', 'outrés', 'ouvert', 'ouverte', 'ouverts', 'ouverture', 'ouvre', 'ouvrir', 'overratings', 'oxte', 'où', 'oú', 'pad', 'page', 'paie', 'paille', 'pain', 'paine', 'pains', 'pair', 'paisible', 'pakistanais', 'palace', 'palaces', 'palais', 'palece', 'palet', 'palets', 'palmiers', 'palourde', 'panais', 'panini', 'paninis', 'panna', 'pans', 'panthéon', 'papa', 'papier', 'papille', 'papilles', 'papillesl', 'papillon', 'par', 'parait', 'parallèle', 'paraît', 'parce', 'parceque', 'parcimonieusement', 'parcours', 'pardi', 'pardonner', 'pardonné', 'pareil', 'parents', 'parfais', 'parfait', 'parfaite', 'parfaitement', 'parfaites', 'parfaits', 'parfaitun', 'parfois', 'parfum', 'parfums', 'parfumé', 'parfumée', 'parfuméedenseparfaite', 'parie', 'paris', 'parisien', 'parisienne', 'parisiennes', 'parisiens', 'parisplus', 'parlait', 'parle', 'parler', 'parlé', 'parme', 'parmentier', 'parmesan', 'parmi', 'parmis', 'parsemés', 'part', 'partage', 'partageons', 'partager', 'partagé', 'partagées', 'partagés', 'partait', 'parte', 'partenaire', 'parti', 'participe', 'particularités', 'particulier', 'particulière', 'particulièrement', 'particulières', 'partie', 'partions', 'partir', 'partis', 'partons', 'partout', 'parts', 'paru', 'pas', 'passable', 'passage', 'passages', 'passait', 'passant', 'passe', 'passent', 'passer', 'passera', 'passerez', 'passez', 'passiez', 'passion', 'passionnant', 'passionné', 'passionnés', 'passons', 'passé', 'passée', 'passées', 'passés', 'pasteis', 'patate', 'pate', 'pathétique', 'patience', 'patient', 'patienter', 'patienté', 'patisseries', 'patissier', 'pato', 'patrice', 'patrimoine', 'patron', 'patronne', 'patrons', 'paul', 'pause', 'pauvre', 'pauvres', 'paye', 'payer', 'payes', 'pays', 'payé', 'paz', 'pdt', 'peine', 'peint', 'peinture', 'pendant', 'pensais', 'pensait', 'pensant', 'pense', 'pensez', 'pensions', 'pensé', 'pensées', 'peps', 'perchée', 'perd', 'perde', 'perdent', 'perdre', 'perdue', 'pere', 'perfection', 'perfide', 'periode', 'permanence', 'permanent', 'permet', 'permettant', 'permettent', 'permettrait', 'permis', 'pernand', 'pers', 'personel', 'personnage', 'personnalisation', 'personnalisé', 'personnalité', 'personnalités', 'personne', 'personnel', 'personnelle', 'personnellement', 'personnels', 'personnes', 'pertinente', 'pertinents', 'pete', 'petit', 'petite', 'petites', 'petits', 'peu', 'peuplent', 'peut', 'peuvent', 'peux', 'pg', 'pharmaceutiques', 'phase', 'philharmonie', 'pho', 'photo', 'photos', 'phrase', 'physiques', 'pianovin', 'pianovins', 'pichet', 'picon', 'piece', 'pied', 'pieds', 'piege', 'pieges', 'pierre', 'pierres', 'pigale', 'pigalle', 'pigeon', 'pigeonneau', 'piles', 'pilote', 'piments', 'pinces', 'pinot', 'pintade', 'pintes', 'piquante', 'pire', 'pistache', 'pistaches', 'pita', 'pitoyable', 'pittoresque', 'pizza', 'pizzaiolo', 'pizzas', 'pizzeria', 'pièce', 'piège', 'piètre', 'place', 'placeambiance', 'places', 'placette', 'placé', 'placécadre', 'placée', 'placés', 'plafond', 'plaindre', 'plaint', 'plaisant', 'plaisanterie', 'plaisanteries', 'plaisir', 'plaisirs', 'plaisirservice', 'plan', 'planches', 'plane', 'plans', 'planète', 'plaque', 'plaques', 'plastique', 'plat', 'plateau', 'plateaux', 'plats', 'plaît', 'plein', 'pleine', 'pleinement', 'pleins', 'pleurer', 'plongera', 'plouc', 'plu', 'pluie', 'plupart', 'plus', 'plusieurs', 'plusle', 'plutot', 'plutôt', 'pluvieux', 'poche', 'poché', 'poellé', 'poignée', 'poil', 'point', 'pointe', 'points', 'poire', 'poireaux', 'poires', 'pois', 'poisson', 'poissons', 'poitrine', 'poivrons', 'poivré', 'polie', 'politesse', 'polémique', 'pomme', 'pommes', 'pompeux', 'pompidou', 'pompon', 'ponpon', 'pop', 'populaire', 'porc', 'porte', 'portefeuille', 'porter', 'portion', 'portions', 'porté', 'portée', 'pose', 'poser', 'positif', 'positifs', 'position', 'positionnés', 'positive', 'positives', 'possibilité', 'possibilités', 'possible', 'possèdent', 'posées', 'pot', 'potagère', 'potatoes', 'potence', 'potentielle', 'potes', 'pots', 'poubelle', 'pouce', 'poulet', 'poulets', 'poulpe', 'poulpes', 'pour', 'pourboire', 'pournotre', 'pourquoi', 'pourra', 'pourraient', 'pourrait', 'pourries', 'pourtant', 'pousse', 'poussent', 'pousser', 'poussez', 'poussiéreux', 'poussé', 'poutargue', 'pouvais', 'pouvait', 'pouvant', 'pouvez', 'pouvions', 'pouvoir', 'pouvons', 'poésie', 'poêlé', 'prague', 'praliné', 'pratique', 'pratiquement', 'pre', 'preferais', 'premier', 'premiere', 'premiers', 'première', 'premièrement', 'premières', 'prenant', 'prend', 'prendre', 'prends', 'prenez', 'prenne', 'prennent', 'prennes', 'prenons', 'prepara', 'prepareé', 'pres', 'presentation', 'presente', 'presque', 'pressait', 'presser', 'pressé', 'pressée', 'pressés', 'prestance', 'prestation', 'prestations', 'prestige', 'prestigieux', 'presume', 'preuve', 'prices', 'prie', 'principal', 'principale', 'principaux', 'priori', 'priorité', 'pris', 'prise', 'prises', 'prisé', 'prit', 'privatisé', 'privilège', 'privilégiés', 'privé', 'prix', 'prixc', 'pro', 'probablement', 'problème', 'problèmes', 'processus', 'prochaine', 'prochainement', 'proche', 'proches', 'procurent', 'produit', 'produits', 'professionalisme', 'professionnalisme', 'professionnel', 'professionnelle', 'professionnels', 'profil', 'profiler', 'profit', 'profite', 'profiter', 'profiteroles', 'profité', 'profondément', 'progresser', 'progression', 'progressivement', 'prohibitifs', 'projecteur', 'promenant', 'promene', 'promesses', 'prometteur', 'promises', 'promo', 'prononcée', 'prononcées', 'proportions', 'propos', 'proposait', 'proposant', 'propose', 'proposer', 'proposition', 'propositions', 'proposé', 'proposée', 'proposées', 'proposés', 'propre', 'propres', 'propreté', 'proprio', 'proprios', 'propriétaire', 'propriétaires', 'pros', 'protocolaire', 'prouvé', 'provenant', 'province', 'proximité', 'prudent', 'près', 'pré', 'préalable', 'précieusement', 'précieux', 'précipitamment', 'précis', 'précise', 'précision', 'précisé', 'précédent', 'précédente', 'précédentes', 'précédents', 'prédis', 'préfère', 'préfèrez', 'préférable', 'préférence', 'préférer', 'préféré', 'préférée', 'préférées', 'préférés', 'prénom', 'préparation', 'préparations', 'prépare', 'préparent', 'préparer', 'préparez', 'préparé', 'préparées', 'préparés', 'prés', 'présence', 'présent', 'présentait', 'présentation', 'présentations', 'présente', 'présentent', 'présenter', 'présenterait', 'présentes', 'présents', 'présenté', 'présentés', 'prétentieuse', 'prétentieux', 'prétention', 'prétexte', 'prévenant', 'prévenir', 'prévenu', 'prévenus', 'prévoir', 'prévoyez', 'prévu', 'prévues', 'prêt', 'prête', 'pseudo', 'ptits', 'pu', 'publique', 'puent', 'puis', 'puisqu', 'puisque', 'puissante', 'puisse', 'punch', 'pupilles', 'pur', 'pure', 'pursuit', 'purée', 'pyrénées', 'pâle', 'pâte', 'pâtes', 'pâteuse', 'pâtisserie', 'pâtisseries', 'pâté', 'pâtés', 'pèse', 'pénétrons', 'pépite', 'période', 'pétales', 'pétillant', 'pêche', 'pêcher', 'qd', 'qqch', 'qqs', 'qu', 'quadragénaires', 'quais', 'qualifier', 'qualitatif', 'qualitatifs', 'qualitatives', 'qualite', 'qualité', 'qualités', 'quand', 'quant', 'quantité', 'quantités', 'quarante', 'quart', 'quartier', 'quartierplus', 'quartiers', 'quasi', 'quasiment', 'quatre', 'que', 'quel', 'quelconque', 'quelconques', 'quelle', 'quelqu', 'quelque', 'quelques', 'quels', 'quenelle', 'quenelles', 'quentin', 'quesadilla', 'question', 'questions', 'queue', 'queues', 'qui', 'quilles', 'quinoa', 'quitte', 'quitter', 'quitté', 'quoi', 'quoiqu', 'quoique', 'rables', 'raccrocher', 'raccrohe', 'rachitique', 'racine', 'racolleur', 'radieux', 'raffinement', 'raffiné', 'raffinée', 'raffinéedesserts', 'raffinées', 'raffinéetout', 'raffinés', 'rafiné', 'rafinés', 'raie', 'raisins', 'raison', 'raisonnable', 'raisonnables', 'rajoute', 'rajouter', 'rajoutez', 'rajouté', 'rajoutée', 'ramen', 'ramens', 'ramequins', 'randonnées', 'rang', 'ranger', 'rangs', 'rapide', 'rapidement', 'rapidité', 'rappeler', 'rappelle', 'rapport', 'rapprochée', 'rapprochées', 'rare', 'rarement', 'rares', 'ras', 'rassasient', 'rassasié', 'rassasiés', 'rassemble', 'rassurant', 'ratatouille', 'rate', 'rater', 'ratez', 'rations', 'rattrapé', 'raté', 'ravi', 'ravie', 'ravies', 'raviole', 'ravioles', 'ravioli', 'raviolis', 'ravira', 'ravis', 'ravissent', 'rayé', 'rdv', 'rebords', 'rebutait', 'reception', 'recette', 'recettes', 'recevoir', 'recherchant', 'recherche', 'recherches', 'recherchions', 'recherché', 'recherchée', 'recherchées', 'rechignait', 'recommandable', 'recommandation', 'recommandations', 'recommande', 'recommandeplus', 'recommander', 'recommanderai', 'recommanderais', 'recommandons', 'recommandonsplus', 'recommandé', 'recommence', 'recommende', 'reconduits', 'reconnaissez', 'reconnaître', 'reconnue', 'recours', 'recouvertes', 'recruteur', 'recréé', 'recu', 'redemande', 'redire', 'redonner', 'redécouvrir', 'refaire', 'refait', 'reflet', 'reflètes', 'refouler', 'refus', 'refusant', 'refuser', 'regal', 'regard', 'regardant', 'regarde', 'regarder', 'regards', 'regime', 'regis', 'registre', 'regorge', 'regret', 'regrets', 'regrettable', 'regrette', 'regrettera', 'regretterez', 'regrettons', 'regretté', 'rehaussée', 'reinette', 'rejetant', 'rejoindre', 'relais', 'relater', 'relative', 'relativement', 'relaxe', 'relevées', 'relish', 'relâchez', 'relèvent', 'remarquable', 'remarquablement', 'remarquableplus', 'remarquables', 'remarque', 'remarquer', 'remarques', 'remarquons', 'remarqué', 'remercie', 'remerciements', 'remettrai', 'remettrais', 'remettre', 'remise', 'remontée', 'remplacé', 'rempli', 'remplie', 'remplir', 'remplis', 'remportés', 'rencontre', 'rencontrer', 'rencontré', 'rend', 'rendez', 'rendre', 'rends', 'rendu', 'rendue', 'rendus', 'renforcer', 'renom', 'renommée', 'renouveler', 'renouveller', 'renouvelée', 'rentable', 'rentrant', 'rentrer', 'rentrez', 'rentrons', 'rentré', 'rentrés', 'renversé', 'rené', 'repartent', 'repartie', 'repartirai', 'repartis', 'repas', 'repasc', 'repeindre', 'repond', 'reportage', 'reposé', 'reprendre', 'represente', 'reprises', 'reproche', 'représentative', 'repu', 'requièrentselon', 'resa', 'reservation', 'reserve', 'reserver', 'respect', 'respectant', 'respectueux', 'respecté', 'respectées', 'respire', 'responsable', 'responsables', 'ressemblait', 'ressemblant', 'ressemble', 'ressent', 'ressenti', 'ressort', 'restant', 'restau', 'restaurant', 'restaurants', 'restaurateur', 'restaurateurs', 'restauration', 'restaurent', 'restaurer', 'restautant', 'reste', 'restent', 'rester', 'restera', 'resterez', 'restez', 'resto', 'restopolitan', 'restos', 'restreint', 'resté', 'restée', 'restés', 'resume', 'retard', 'retaurant', 'retenir', 'retenons', 'retient', 'retirer', 'retiré', 'retour', 'retourne', 'retourner', 'retournera', 'retournerai', 'retournerais', 'retournerons', 'retourné', 'retournés', 'retours', 'retrait', 'retrouve', 'retrouvent', 'retrouver', 'retrouvons', 'retrouvé', 'retrouvée', 'retrouvés', 'revalorisées', 'revanche', 'reve', 'reveiller', 'revelation', 'revenait', 'revenir', 'revenu', 'revenus', 'reviendra', 'reviendrai', 'reviendrais', 'reviendrons', 'reviennent', 'reviens', 'revient', 'revisiter', 'revisité', 'revisitée', 'revisités', 'revoir', 'revoirnous', 'rez', 'reçois', 'reçu', 'rhum', 'rhône', 'riche', 'riches', 'richesse', 'rideau', 'ridicule', 'ridicules', 'rien', 'riesling', 'rigides', 'rigolo', 'rigueur', 'rillettes', 'ringard', 'rires', 'ris', 'risotto', 'risque', 'ritz', 'rivaliser', 'rive', 'riz', 'roblochon', 'robuchon', 'rodage', 'rodées', 'rognon', 'rognons', 'roignons', 'rois', 'romantique', 'romantisme', 'ronde', 'rondelles', 'roof', 'roomies', 'roquette', 'rose', 'roses', 'rosiers', 'rostang', 'rosé', 'roti', 'roue', 'rouge', 'rouget', 'rougets', 'roulés', 'rouquette', 'routard', 'royal', 'royale', 'royaleluxueuse', 'royalement', 'royales', 'rtl', 'rue', 'ruelle', 'rues', 'rugby', 'ruiner', 'ruisseau', 'rupture', 'rustique', 'rutilante', 'rythme', 'rythmé', 'râter', 'règne', 'réactif', 'réaction', 'réactive', 'réalisations', 'réalise', 'réaliser', 'réalisé', 'réalisée', 'réalisés', 'récemment', 'récent', 'réception', 'réchauffent', 'réchauffer', 'réchauffés', 'récidivé', 'réclame', 'réclamer', 'récole', 'réconfirme', 'récupération', 'réduction', 'réduit', 'réduite', 'réel', 'réelle', 'réellement', 'réels', 'réflexion', 'réflexions', 'réforme', 'référence', 'régal', 'régale', 'régaler', 'régalé', 'régalée', 'régalés', 'régimes', 'région', 'régis', 'régler', 'réglés', 'régressives', 'régulier', 'régulièrement', 'réinventer', 'réjouis', 'réjouit', 'rénové', 'réorienté', 'réouverture', 'répits', 'répond', 'répondait', 'réponds', 'répondu', 'réponse', 'réponses', 'république', 'répugnante', 'réputation', 'réputé', 'répéter', 'réservation', 'réservations', 'réserve', 'réserver', 'réservez', 'réservé', 'réservée', 'réservées', 'réservés', 'réside', 'résidence', 'résident', 'résister', 'résolument', 'résonnent', 'résoudre', 'résultant', 'résultat', 'résume', 'résumé', 'rétorque', 'rétro', 'rétrogradé', 'réuni', 'réunies', 'réunion', 'réunis', 'réussi', 'réussie', 'réussies', 'réussite', 'réveille', 'réveillon', 'réveillé', 'révolu', 'révolue', 'révélé', 'rêvais', 'rêve', 'rêver', 'rêvions', 'rêvé', 'rôti', 'sa', 'sable', 'sac', 'sachant', 'sachet', 'sachez', 'sacoches', 'sacré', 'sacs', 'safran', 'safranée', 'saignante', 'sain', 'sains', 'saint', 'saints', 'sais', 'saison', 'saisons', 'sait', 'saj', 'saké', 'salade', 'salades', 'sale', 'salee', 'saleté', 'salive', 'salle', 'salles', 'salon', 'salons', 'saluer', 'salé', 'salée', 'salées', 'saléplus', 'salés', 'samatan', 'samedi', 'sandre', 'sandwich', 'sandwicherie', 'sandwichs', 'sanitaires', 'sans', 'saouleront', 'sardines', 'sarrasin', 'sas', 'sashimi', 'sashimis', 'satisfaire', 'satisfaisant', 'satisfaisante', 'satisfait', 'satisfaits', 'sauce', 'sauces', 'saucé', 'sauf', 'saumon', 'saura', 'saurons', 'sautait', 'sautées', 'sauvait', 'sauve', 'sauver', 'savais', 'savait', 'savant', 'savent', 'saveur', 'saveurs', 'savez', 'savions', 'savoie', 'savoir', 'savons', 'savourer', 'savoureuse', 'savoureuses', 'savoureux', 'scalpel', 'scandale', 'scandaleux', 'sceau', 'scintiller', 'scolaire', 'scotché', 'sculptes', 'scène', 'sdf', 'se', 'seasons', 'seau', 'sec', 'second', 'seconde', 'secret', 'secs', 'seduire', 'seiche', 'seine', 'seizième', 'sel', 'select', 'selection', 'selon', 'semaine', 'semaines', 'semblait', 'semblant', 'semble', 'semblent', 'semblé', 'semelle', 'semoule', 'sen', 'senderens', 'sens', 'sensation', 'sensationnel', 'sensations', 'sensibilisée', 'sensible', 'sensé', 'sent', 'sentait', 'senti', 'sentiment', 'sentions', 'sentir', 'sentis', 'sentons', 'sept', 'septembre', 'septime', 'sera', 'seraient', 'serait', 'sercice', 'serez', 'sergent', 'serré', 'serrées', 'serrés', 'sert', 'servait', 'servant', 'servent', 'serveur', 'serveurs', 'serveuse', 'serveuses', 'servi', 'serviable', 'serviables', 'service', 'services', 'servie', 'servies', 'serviette', 'servir', 'servis', 'ses', 'set', 'sets', 'seul', 'seule', 'seulement', 'seules', 'seuls', 'show', 'si', 'side', 'sidéré', 'siecle', 'sien', 'signalé', 'signature', 'signatures', 'signe', 'significative', 'signifie', 'signifié', 'silla', 'similaires', 'simple', 'simplement', 'simples', 'simplette', 'simplicité', 'sincère', 'sincèrement', 'sinon', 'siplus', 'site', 'situation', 'situe', 'situé', 'située', 'sitôt', 'six', 'siècle', 'sièges', 'slim', 'snack', 'snacké', 'snob', 'sobre', 'sociable', 'sodas', 'soeur', 'soi', 'soient', 'soigne', 'soigneusement', 'soigné', 'soignée', 'soin', 'soinplus', 'soins', 'soir', 'soiree', 'soirée', 'sois', 'soit', 'soja', 'sol', 'sole', 'soleil', 'soles', 'sollicitationcuisine', 'sombre', 'somme', 'sommelier', 'sommeliers', 'sommelière', 'sommes', 'sommet', 'somptueuse', 'somptueux', 'son', 'sonore', 'sonorités', 'sont', 'sophie', 'sorbonne', 'sors', 'sort', 'sortaient', 'sortant', 'sorte', 'sortent', 'sortes', 'sorti', 'sortie', 'sorties', 'sortir', 'sortis', 'souci', 'soucieux', 'soucis', 'soufflant', 'souffle', 'soufflé', 'soufflée', 'souffrir', 'souhait', 'souhaite', 'souhaitent', 'souhaitez', 'souhaitions', 'souhaits', 'souhaité', 'soumis', 'soupe', 'souper', 'soupes', 'soupçon', 'sourcés', 'souri', 'souriant', 'souriante', 'souriants', 'sourire', 'sourirerapiditéefficacitéqualité', 'sourires', 'souris', 'sourit', 'sous', 'souvenir', 'souvenirs', 'souvent', 'souviendra', 'soyons', 'spacieuses', 'spacieux', 'spartacus', 'spartiate', 'specialités', 'specificités', 'spectacle', 'spectaculaire', 'spiritueux', 'splendeur', 'splendide', 'spot', 'spécial', 'spéciale', 'spécialement', 'spécialisé', 'spécialité', 'spécialités', 'spécifiques', 'spécifié', 'square', 'squelettique', 'st', 'stable', 'staff', 'stagiaires', 'standards', 'standing', 'steak', 'steakhouses', 'steaks', 'stick', 'street', 'stress', 'structures', 'style', 'stéréotypes', 'su', 'subiile', 'sublime', 'sublimer', 'sublimes', 'sublimespigeon', 'sublimé', 'sublimées', 'substance', 'subtil', 'subtile', 'subtilement', 'subtiles', 'subtilité', 'subtils', 'succession', 'succulent', 'succulente', 'succulentes', 'succulents', 'succèdent', 'succès', 'sucre', 'sucrees', 'sucré', 'sucrée', 'sucrées', 'sucrés', 'sucs', 'sud', 'suffisamment', 'suffisant', 'suffisantes', 'suffit', 'suggestions', 'suggéré', 'suis', 'suit', 'suite', 'suivant', 'suivante', 'suivants', 'suivent', 'suivi', 'suivies', 'suivis', 'suivons', 'suivre', 'suki', 'sulfurisé', 'super', 'superbe', 'superbement', 'superbes', 'superlatifs', 'supermarché', 'superposé', 'supers', 'supervisée', 'supplément', 'supplémentaire', 'suppléments', 'supplémnt', 'supportable', 'supporter', 'supports', 'supposé', 'supposée', 'suprenant', 'suprise', 'suprême', 'supérieure', 'sur', 'surannée', 'surchargée', 'surcroît', 'surestimée', 'surface', 'surfait', 'surfaite', 'surgeles', 'surgelé', 'surgelés', 'surprenant', 'surprenante', 'surprenantes', 'surprenants', 'surprendre', 'surpris', 'surprise', 'surprises', 'surtout', 'suscite', 'sushi', 'sushis', 'suzette', 'suzettes', 'sylvestre', 'sympa', 'sympas', 'sympathie', 'sympathique', 'sympathiques', 'sympatique', 'symphonie', 'synchronisation', 'syrah', 'système', 'systématiquement', 'sèche', 'sèchement', 'sèches', 'séduire', 'séduisante', 'séduisants', 'séduit', 'séjour', 'séjourné', 'sélection', 'sélectionnés', 'séminaire', 'séparer', 'série', 'sérieusement', 'sérieux', 'sévère', 'sûr', 'sûre', 'sûrement', 'sœur', 'ta', 'tabasser', 'table', 'tables', 'tablesplus', 'tablette', 'tabouleh', 'taboulé', 'tabourets', 'taché', 'tacos', 'tact', 'taille', 'tailles', 'taillés', 'taire', 'takayagani', 'talent', 'talentueux', 'talons', 'tamisée', 'tandis', 'tant', 'tantes', 'tapas', 'tape', 'tapissés', 'tarbais', 'tard', 'tarif', 'tarifs', 'tarot', 'tartare', 'tartares', 'tarte', 'tartine', 'tartines', 'tas', 'tasse', 'tasty', 'tat', 'tata', 'taïwanais', 'te', 'tea', 'teamkangourou', 'technique', 'tel', 'telle', 'tellement', 'telles', 'tels', 'temps', 'tempura', 'température', 'tenait', 'tendance', 'tendre', 'tendrele', 'tendresse', 'teneur', 'teniendo', 'tentante', 'tentatives', 'tente', 'tenter', 'tenture', 'tenu', 'tenue', 'teppan', 'teppanyaki', 'terasse', 'tergiverser', 'teriyaki', 'terme', 'termes', 'terminer', 'terminé', 'terminée', 'terrail', 'terrasse', 'terre', 'terres', 'terrible', 'terrible5', 'terrines', 'terroristes', 'tes', 'test', 'teste', 'tester', 'testé', 'testés', 'textures', 'thaï', 'the', 'theâtre', 'thhis', 'thierry', 'thon', 'thème', 'thé', 'théatre', 'thélème', 'théâtre', 'théâtres', 'tibétaine', 'ticket', 'tienne', 'tiennent', 'tiens', 'tient', 'tika', 'tikka', 'time', 'timé', 'tiramisu', 'tirelire', 'tissu', 'titille', 'titre', 'titres', 'tiède', 'tièdes', 'tj', 'tjrs', 'tjs', 'toasté', 'toastés', 'toi', 'toilettes', 'toit', 'toits', 'tokyo', 'tomate', 'tomates', 'tombais', 'tombe', 'tombent', 'tomber', 'tombons', 'tombé', 'tombée', 'tombés', 'ton', 'tonitruantes', 'top', 'topinambour', 'toppersonnel', 'tops', 'toqué', 'tot', 'total', 'totale', 'totalement', 'touche', 'touchent', 'toucher', 'touches', 'touchés', 'toujours', 'toulousainesmais', 'tour', 'tourisme', 'touriste', 'touristes', 'touristiques', 'tourné', 'tourte', 'tourteau', 'tourteaux', 'tous', 'tout', 'toutain', 'toute', 'toutefois', 'toutes', 'touthenkamon', 'tradition', 'traditionnel', 'traditionnelle', 'traditionnelles', 'traditionnels', 'traditions', 'train', 'trainer', 'traite', 'traiteur', 'traité', 'traités', 'trajet', 'tranche', 'tranchent', 'tranches', 'tranquille', 'transmets', 'transormés', 'transpiration', 'transporte', 'transportée', 'transportés', 'traumatisante', 'travail', 'travaille', 'travaillez', 'travaillé', 'travaillée', 'travaillées', 'travaillés', 'travaux', 'travers', 'traverser', 'trempée', 'trente', 'tres', 'triomphe', 'trip', 'tripadvisor', 'triste', 'tristesse', 'trivial', 'trocadéro', 'trois', 'troisième', 'trompent', 'trop', 'tropez', 'trottoir', 'trouvailles', 'trouvant', 'trouve', 'trouvent', 'trouver', 'trouverez', 'trouvé', 'trouvée', 'trouvées', 'trouvés', 'truc', 'truffe', 'truffes', 'truffés', 'truite', 'très', 'trèstrèsdécevant', 'trés', 'trésor', 'trône', 'ttripadvisor', 'tu', 'tuer', 'tuerie', 'tueries', 'tuiles', 'tumulte', 'turbot', 'turnover', 'type', 'types', 'typique', 'typiques', 'tâches', 'téléphonant', 'téléphone', 'téléphones', 'télérama', 'témoin', 'témoins', 'térail', 'tête', 'tôt', 'ultra', 'un', 'unanime', 'unanimes', 'underground', 'une', 'unes', 'unique', 'uniquement', 'uniques', 'universitaire', 'uns', 'urgence', 'usage', 'usurpé', 'utilise', 'va', 'vacance', 'vacances', 'vache', 'vaguement', 'vais', 'vaisselle', 'vaissellecouvertssalle', 'valait', 'valentin', 'valeur', 'validés', 'vanille', 'vanté', 'vaqueras', 'varie', 'variee', 'varier', 'varié', 'variée', 'variées', 'variés', 'variété', 'variétés', 'vas', 'vaut', 'veau', 'veaucoquilles', 'veaux', 'vegan', 'vegeburger', 'vegetal', 'veille', 'venait', 'venant', 'vende', 'vendent', 'vendeur', 'vendeuse', 'vendeuses', 'vendredi', 'vendôme', 'venez', 'venions', 'venir', 'venons', 'vent', 'vente', 'ventre', 'venu', 'venue', 'venues', 'venus', 'verdure', 'vergelesses', 'verra', 'verre', 'verres', 'verres4', 'verrez', 'verrière', 'vers', 'versailles', 'versatile', 'version', 'versus', 'vert', 'verts', 'veste', 'vestiaire', 'vestimentaire', 'veulent', 'veut', 'veux', 'via', 'viande', 'viandes', 'victime', 'victoires', 'vide', 'vie', 'vieil', 'vieille', 'vieillot', 'viendriez', 'vienne', 'viennoiserie', 'viennoiseries', 'vienoiseries', 'viens', 'vient', 'vietnamienne', 'vieux', 'vigato', 'village', 'ville', 'vin', 'vinaigre', 'vinaigrette', 'vinaigrée', 'vincent', 'vingt', 'vingtaine', 'vinle', 'vins', 'vinsur', 'vintage', 'vire', 'virtus', 'virés', 'vis', 'visible', 'visiblement', 'vision', 'visite', 'visiter', 'visites', 'visiteurs', 'visité', 'visitée', 'visuel', 'visuelle', 'visé', 'vit', 'vite', 'vitesse', 'vitrée', 'vitrées', 'vivant', 'vivants', 'vivement', 'vivienne', 'vivons', 'vivre', 'vodka', 'voici', 'voie', 'voient', 'voila', 'voilà', 'voir', 'voire', 'vois', 'voisine', 'voisins', 'voit', 'voiture', 'voiturier', 'voix', 'vol', 'volaille', 'volontier', 'volontiers', 'volonté', 'voluptueux', 'vont', 'vos', 'vosges', 'votre', 'voudrait', 'voulais', 'voulait', 'voulant', 'voulez', 'voulions', 'voulo', 'vouloir', 'voulons', 'voulu', 'vous', 'voyage', 'voyageais', 'voyager', 'voyageurs', 'voyagez', 'voyagé', 'voyant', 'voyons', 'vrai', 'vraie', 'vraies', 'vraiment', 'vrais', 'vraissemblablement', 'vu', 'vue', 'vues', 'vulgaire', 'vulgairement', 'vulgaires', 'vécu', 'végans', 'végé', 'végés', 'végétal', 'végétaliens', 'végétarien', 'végétarienne', 'végétariennes', 'végétariens', 'végétaux', 'vélo', 'vérifier', 'vérifié', 'véritable', 'véritablement', 'vétusté', 'wagyu', 'wahoo', 'waouw', 'wc', 'we', 'web', 'week', 'weekend', 'whaou', 'wifi', 'william', 'wine', 'wines', 'with', 'wola', 'wow', 'xixe', 'xve', 'xvème', 'xxi', 'ya', 'yaki', 'yakitori', 'yaourt', 'yen', 'yeux', 'yoshitaka', 'yuzu', 'ze', 'zen', 'zkg', 'zone', 'zors', 'zouzou', 'à13', 'âges', 'âme', 'ça', 'çe', 'çi', 'çà', 'ème', 'ébahis', 'éblouissement', 'écart', 'écarter', 'échalote', 'échanger', 'échanges', 'échantillons', 'échelle', 'écho', 'échoppe', 'éclair', 'éclairage', 'éclats', 'éclectique', 'éco', 'école', 'écoles', 'économies', 'écorchant', 'écoute', 'écouter', 'écoutez', 'écrevisse', 'écrin', 'écrire', 'écris', 'écrit', 'écrits', 'écrivais', 'écœurant', 'écœurants', 'égale', 'également', 'égard', 'égayé', 'élaboration', 'élaboré', 'élaborée', 'élaborées', 'éleve', 'élevé', 'élevée', 'élevés', 'élitiste', 'éloges', 'élogieuses', 'élogieux', 'éloigner', 'éloignée', 'éloignées', 'élève', 'élégamment', 'élégance', 'élégant', 'élégante', 'élégantpersonnel', 'éléments', 'émerveille', 'émerveillement', 'émerveillé', 'émincé', 'émis', 'émission', 'émotion', 'émotions', 'émulsion', 'énergie', 'énergique', 'énergétique', 'énoncé', 'énorme', 'énormes', 'épais', 'épaisse', 'épaté', 'épatés', 'épaule', 'épicerie', 'épices', 'épicurien', 'épicuriens', 'épicé', 'épicée', 'épicéesmais', 'épicés', 'épinards', 'épisode', 'époque', 'épouse', 'époustouflante', 'époustouflantes', 'époustoufler', 'épuré', 'épurée', 'épuréz', 'équilibre', 'équilibré', 'équilibrée', 'équilibrées', 'équilibrés', 'équipe', 'équipes', 'équipé', 'équivaut', 'éric', 'érudit', 'érythréen', 'ét', 'établi', 'établissement', 'établissementidéalement', 'établissements', 'étage', 'étagères', 'étaient', 'étais', 'était', 'étant', 'étape', 'étapes', 'état', 'états', 'étendu', 'éthique', 'étions', 'étoile', 'étoiles', 'étoilé', 'étoilée', 'étoilés', 'étonnamment', 'étonnant', 'étonnante', 'étonné', 'étonnée', 'étouffante', 'étouffe', 'étranger', 'étrangers', 'étriquée', 'étroit', 'étroite', 'étroites', 'étudiant', 'étudiants', 'étudie', 'étudié', 'étudiées', 'étui', 'été', 'étés', 'évasion', 'éveillent', 'éventé', 'évidement', 'évidemment', 'évidence', 'évident', 'évitant', 'évite', 'éviter', 'évitez', 'évocateurs', 'évolue', 'évolution', 'évoque', 'événement', 'êtes', 'être', 'île', 'œil', 'œuf', 'œufs', 'œuvre']\n",
            "[[0. 0. 0. ... 0. 0. 0.]\n",
            " [0. 0. 0. ... 0. 0. 0.]\n",
            " [0. 0. 0. ... 0. 0. 0.]\n",
            " ...\n",
            " [0. 0. 0. ... 0. 0. 0.]\n",
            " [0. 0. 0. ... 0. 0. 0.]\n",
            " [0. 0. 0. ... 0. 0. 0.]]\n"
          ],
          "name": "stdout"
        }
      ]
    },
    {
      "cell_type": "code",
      "metadata": {
        "colab": {
          "base_uri": "https://localhost:8080/"
        },
        "id": "WytAociH-F3R",
        "outputId": "87875a8c-0880-4ce8-98c8-4a712a3a40fc"
      },
      "source": [
        "print(X.toarray().mean())\n",
        "print(Y.toarray().mean())"
      ],
      "execution_count": null,
      "outputs": [
        {
          "output_type": "stream",
          "text": [
            "0.005917222435298266\n",
            "0.0008102612107355774\n"
          ],
          "name": "stdout"
        }
      ]
    },
    {
      "cell_type": "code",
      "metadata": {
        "id": "mbuF2LER-ImZ"
      },
      "source": [
        "from nltk.stem import WordNetLemmatizer\n",
        "lemmatizer = WordNetLemmatizer()\n",
        "\n",
        "def Word_lemmatizer(text):\n",
        "    lem_text = [lemmatizer.lemmatize(i) for i in text]\n",
        "    return lem_text"
      ],
      "execution_count": null,
      "outputs": []
    },
    {
      "cell_type": "code",
      "metadata": {
        "colab": {
          "base_uri": "https://localhost:8080/"
        },
        "id": "oddGZeL--KwO",
        "outputId": "79f6d4ac-200c-4349-e1cd-40ab4be186bf"
      },
      "source": [
        "from sklearn.feature_extraction.text import TfidfVectorizer\n",
        "\n",
        "vectorizer = TfidfVectorizer()\n",
        "X = vectorizer.fit_transform(df_texte['comment'])\n",
        "print(vectorizer.get_feature_names())\n",
        "print(X.shape)"
      ],
      "execution_count": null,
      "outputs": [
        {
          "output_type": "stream",
          "text": [
            "['00', '00h', '01', '03', '06', '08', '10', '100', '1000', '100000', '100g', '109', '11', '110', '114', '11h45', '12', '12460', '12e', '12h25', '13', '13eme', '13h', '13h30', '14', '145', '14h', '14h30', '15', '150', '15h', '15j', '15km', '16', '165', '16em', '17', '170', '172', '179', '17h40', '18', '185', '1880', '19', '190', '1900', '1920', '195', '19eme', '19h', '19h30', '1bol', '1er', '1ere', '1h', '1h30', '1h45', '1minutes', '20', '200', '2001', '2002', '2006', '2009', '200euros', '2011', '2012', '2014', '2015', '2016', '2017', '2018', '20h', '20h00', '20h30', '21', '2190', '21h30', '21h50', '22', '220', '222g', '22h', '22h00', '22h15', '22h25', '22h30', '23', '23h', '23h30', '24', '25', '26', '27', '27ème', '28', '280', '29', '2e', '2eme', '2emefois', '2emme', '2h30', '30', '300g', '30min', '30ème', '31', '310', '33', '330', '34', '35', '350', '36', '38', '39', '39v', '3cl', '3cm', '3e', '3h', '3h30', '3heures', '3légumes', '3ème', '40', '400', '42', '43', '45', '450', '48', '49', '49cl', '4ieme', '4ème', '50', '500', '52', '55', '59', '5min', '5plus', '5ème', '60', '600', '61', '62', '64', '650', '68', '69', '6e', '6eme', '6ieme', '70', '710', '75008', '78', '79', '7ème', '80', '800m', '85', '8eme', '8ème', '90', '900', '92', '9eme', '9h30', '9ème', 'abasourdi', 'abeille', 'abondance', 'abord', 'abordable', 'abordables', 'aborde', 'aboyer', 'abricot', 'abris', 'absence', 'absent', 'absolue', 'absolument', 'abus', 'abuse', 'accent', 'accepte', 'accepter', 'accepté', 'accessible', 'acceuil', 'acceuillis', 'acceuilservice', 'accommodées', 'accompagnait', 'accompagnant', 'accompagne', 'accompagnement', 'accompagnements', 'accompagnent', 'accompagner', 'accompagné', 'accompagnée', 'accompagnées', 'accompagnés', 'accord', 'accords', 'accueil', 'accueillant', 'accueillante', 'accueillantes', 'accueillants', 'accueille', 'accueillent', 'accueilli', 'accueillie', 'accueillies', 'accueillir', 'accueillis', 'accès', 'accéder', 'achalandé', 'achar', 'achat', 'acheter', 'acheté', 'achetés', 'achever', 'acidité', 'acidulé', 'acollée', 'actif', 'actualisée', 'actuelle', 'actuelles', 'adam', 'adaptent', 'adapté', 'adaptés', 'addition', 'adepte', 'adition', 'adjectif', 'adjuger', 'admettre', 'admiratif', 'admissible', 'adorable', 'adorables', 'adore', 'adorent', 'adoré', 'adossé', 'adresse', 'adresses', 'adressée', 'advisor', 'adéquat', 'affabilité', 'affaire', 'affaires', 'affamé', 'affecté', 'afficher', 'affiché', 'affichés', 'affinent', 'affirmer', 'affirmées', 'affluence', 'affordable', 'affèteries', 'afin', 'agacés', 'agapé', 'agar', 'agassé', 'agenda', 'agissait', 'agneau', 'agrandissent', 'agreable', 'agreablement', 'agreeable', 'agressive', 'agrumes', 'agréable', 'agréablement', 'agréables', 'agréableserveurs', 'agrémentée', 'ah', 'ai', 'aie', 'aient', 'aigu', 'ail', 'ailleurs', 'aimable', 'aimables', 'aimais', 'aime', 'aimer', 'aimerait', 'aimez', 'aimions', 'aimé', 'aimés', 'ainsi', 'aions', 'air', 'airs', 'aisance', 'aise', 'ait', 'ajouter', 'ajouté', 'ajoutées', 'ajuster', 'aki', 'al', 'alain', 'albion', 'alchimie', 'alcool', 'alegria', 'alentours', 'alerte', 'alexandre', 'algue', 'algues', 'aligne', 'alimentaire', 'alimentaires', 'aliments', 'all', 'allaient', 'allais', 'allait', 'allant', 'allechante', 'aller', 'allergies', 'allergique', 'allez', 'alliance', 'alliant', 'allie', 'allier', 'allions', 'allié', 'allons', 'allume', 'allé', 'alléchant', 'alléchante', 'alléchantes', 'allée', 'allés', 'alma', 'alors', 'alternative', 'alternatives', 'altèré', 'amabilité', 'amandes', 'amandiers', 'amateur', 'amateurs', 'amazonie', 'ambiance', 'ambiances', 'ambiant', 'ambiante', 'ame', 'amenés', 'amer', 'americains', 'amertume', 'amex', 'ami', 'amicale', 'amie', 'amies', 'amis', 'amispour', 'amitiés', 'amour', 'amoureux', 'amplement', 'amusante', 'amuse', 'amuses', 'amère', 'améliorations', 'améliorée', 'aménagements', 'aménagé', 'américain', 'américaine', 'an', 'ananas', 'anchois', 'ancien', 'ancienne', 'and', 'andouille', 'ange', 'anges', 'angevin', 'anglais', 'angleterre', 'anguille', 'angus', 'animé', 'ann', 'anne', 'anniversaire', 'anniversaires', 'annonce', 'annoncé', 'annoncées', 'annonçait', 'annulation', 'annulé', 'année', 'années', 'anomalie', 'anormal', 'ans', 'anti', 'antipasti', 'antipathique', 'antoine', 'anton', 'août', 'apaisante', 'apaisé', 'aperitif', 'apero', 'app', 'apparaitre', 'appareil', 'apparemment', 'apparence', 'apparences', 'appartant', 'appartement', 'appartenantba', 'appel', 'appelant', 'appelees', 'appeler', 'appelez', 'appellation', 'appelle', 'appellent', 'appelé', 'appercu', 'application', 'applique', 'appliquée', 'apporte', 'apportent', 'apporter', 'apporté', 'apportés', 'apprecie', 'apprehendais', 'apprenne', 'apprentie', 'appriori', 'approche', 'approprié', 'approximatif', 'appréciable', 'apprécie', 'apprécier', 'apprécions', 'apprécié', 'appréciée', 'appréciés', 'appréhension', 'appui', 'appuyant', 'appuyée', 'appétissant', 'appétissants', 'appétit', 'apres', 'après', 'apéritif', 'apéritifs', 'araignée', 'arc', 'arcane', 'argent', 'argenteuil', 'arménien', 'arnaque', 'arnaquer', 'arnaqué', 'arnaud', 'aromatisee', 'arome', 'arraché', 'arrangeant', 'arrangeants', 'arrangement', 'arrangé', 'arretter', 'arrivait', 'arrivant', 'arrive', 'arrivederci', 'arrivee', 'arrivent', 'arriver', 'arrives', 'arrivez', 'arrivons', 'arrivé', 'arrivée', 'arrivées', 'arrivés', 'arrière', 'arrogant', 'arrondissement', 'arrosé', 'arrêt', 'arrêtait', 'arrête', 'arrêter', 'arrêté', 'arrêtés', 'art', 'artichaut', 'artichauts', 'articulé', 'artifice', 'artificiels', 'artisanales', 'artiste', 'artistes', 'arts', 'arty', 'arôme', 'arômes', 'as', 'asap', 'asiatique', 'asiatiques', 'asiatisante', 'asie', 'asif', 'asperge', 'asperges', 'aspic', 'assaisonnement', 'assaisonnements', 'assaisonné', 'assaisonnés', 'assaut', 'assemblage', 'assemblages', 'asseoir', 'assez', 'assiette', 'assiettes', 'assis', 'assisté', 'association', 'associations', 'associer', 'associés', 'assortie', 'assortiment', 'assortiments', 'assortis', 'assurent', 'assurer', 'atelier', 'atmosphère', 'atours', 'atteindre', 'attend', 'attendais', 'attendait', 'attendant', 'attendent', 'attendez', 'attendions', 'attendons', 'attendre', 'attends', 'attendu', 'attendus', 'attente', 'attentes', 'attentif', 'attentifs', 'attention', 'attentionné', 'attentionnée', 'attentionnés', 'attentionnéun', 'attentions', 'atterri', 'attire', 'attiré', 'attirées', 'attirés', 'attiser', 'attitude', 'attractif', 'attractifs', 'attrape', 'attribué', 'attribuées', 'attribués', 'atypique', 'au', 'auberge', 'aubergines', 'aucum', 'aucun', 'aucune', 'audaces', 'audacieux', 'audieux', 'audrey', 'augmentation', 'augmenter', 'augurer', 'auguré', 'aujourd', 'auparavant', 'auprès', 'auquel', 'aura', 'aurai', 'aurais', 'aurait', 'aurez', 'aurions', 'aurons', 'auront', 'aussi', 'austère', 'autaient', 'autant', 'auteur', 'authentique', 'authentiques', 'automne', 'autorise', 'autour', 'autre', 'autres', 'auvergnats', 'auvergne', 'aux', 'avaient', 'avais', 'avaisi', 'avait', 'avalée', 'avance', 'avancée', 'avant', 'avantage', 'avarié', 'avce', 'avec', 'avenant', 'avenir', 'avent', 'aventure', 'aventurez', 'aversions', 'aveugle', 'aveyron', 'avez', 'avide', 'avion', 'avions', 'avis', 'avise', 'avises', 'avisplus', 'avisé', 'avisée', 'avisés', 'avoir', 'avon', 'avons', 'avont', 'avoue', 'avril', 'avère', 'avéré', 'avérée', 'ayant', 'ayons', 'aérien', 'aérienne', 'aériens', 'babines', 'bachir', 'bacon', 'bad', 'bagel', 'bagels', 'baguette', 'baies', 'baignant', 'baigné', 'baisser', 'baissé', 'bajhi', 'balade', 'balbutiant', 'ballade', 'balustrade', 'balzar', 'ban', 'banal', 'banale', 'banales', 'banalité', 'bancaire', 'bancaires', 'banctel', 'bannir', 'bao', 'baptiste', 'bar', 'barbue', 'bardolino', 'barman', 'barquette', 'barrage', 'bars', 'barème', 'bas', 'basant', 'base', 'bases', 'basic', 'basique', 'basiques', 'basmati', 'basque', 'basse', 'bastille', 'basés', 'bateau', 'batiment', 'battante', 'battent', 'bcp', 'beacoup', 'beau', 'beaucoup', 'beauté', 'beaux', 'beef', 'bel', 'belges', 'belle', 'belles', 'bemol', 'bercy', 'bernés', 'besoin', 'betterave', 'beuf', 'beurre', 'bichonné', 'bien', 'bienplus', 'bientot', 'bientôt', 'bienveillance', 'bienveillant', 'bienvenue', 'bienvenus', 'big', 'bijou', 'bilingue', 'bio', 'bios', 'bip', 'bis', 'biscuit', 'bisque', 'bistro', 'bistros', 'bistrot', 'bistrots', 'bitter', 'bizarre', 'bière', 'bières', 'bla', 'black', 'blague', 'blaguent', 'blagueur', 'blanc', 'blanche', 'blancs', 'blanquette', 'blend', 'bleu', 'bleues', 'bleuté', 'blindé', 'bling', 'bluffant', 'bluffée', 'blé', 'bo', 'bobo', 'bobun', 'bocaux', 'boeuf', 'bof', 'boire', 'bois', 'boise', 'boiseries', 'boisson', 'boissons', 'boites', 'bol', 'bolly', 'bollynan', 'bols', 'bon', 'bonheur', 'bonheurs', 'bonjour', 'bonne', 'bonnement', 'bonnes', 'bons', 'bonus', 'bord', 'boschman', 'bouche', 'bouches', 'bouchée', 'boucle', 'boucler', 'boudin', 'bouffe', 'bougies', 'bouillon', 'bouillons', 'boulanger', 'boulangerie', 'boulangers', 'boules', 'boulettes', 'boulevard', 'boulogne', 'boulot', 'bouquet', 'bouquets', 'bourget', 'bourgogne', 'bourratif', 'bourse', 'bout', 'boutary', 'bouteille', 'bouteilles', 'boutique', 'bouts', 'boyau', 'boîte', 'branché', 'bras', 'brasserie', 'brasseries', 'bravo', 'bravoplus', 'brebis', 'bref', 'brestois', 'bretagne', 'breton', 'bretonnes', 'brice', 'brigade', 'brigades', 'brillant', 'brin', 'brins', 'brio', 'brioches', 'brioché', 'brion', 'bristol', 'brochet', 'brochette', 'brochettes', 'brouillon', 'brua', 'bruit', 'bruitages', 'brulé', 'brulée', 'brulés', 'brunch', 'bruncher', 'brunché', 'brune', 'brunes', 'brut', 'bruxelles', 'bruyant', 'bruyante', 'bruyantes', 'bruyère', 'brésil', 'brésilienne', 'brûlée', 'budget', 'buffet', 'buffets', 'bun', 'buns', 'buono', 'burger', 'burgers', 'burrata', 'bus', 'but', 'butter', 'buvant', 'buzz', 'by', 'béatitude', 'bébé', 'bécassines', 'bémol', 'bénéficie', 'bœuf', 'ca', 'cabillaud', 'cacahuète', 'cacao', 'cacaotée', 'cache', 'cacher', 'caché', 'cadeau', 'cadre', 'cadres', 'cafard', 'cafe', 'café', 'cafétéria', 'cage', 'cagibi', 'cahotique', 'caille', 'cailles', 'caisse', 'cakes', 'calamars', 'cales', 'calibré', 'calme', 'calzone', 'cambodgien', 'cambodgienne', 'camembert', 'camouflé', 'campari', 'can', 'canard', 'candeborde', 'canette', 'canettes', 'canne', 'cannelle', 'cannelloni', 'cantine', 'caoutchouteuse', 'caoutchouteux', 'capable', 'capacité', 'capital', 'capitale', 'cappuccino', 'capter', 'car', 'caractère', 'caractériel', 'caractérise', 'caractérisé', 'carafe', 'carambar', 'caramel', 'carbonisée', 'carbonisés', 'cardamome', 'caricatural', 'caricature', 'carnassiers', 'carnet', 'carotte', 'carottes', 'carpaccio', 'carrefour', 'carré', 'carrée', 'carrées', 'carrément', 'carrés', 'carte', 'carteplus', 'cartes', 'carton', 'cas', 'cases', 'cash', 'cassant', 'casse', 'casser', 'castratophique', 'catalan', 'catastrophe', 'catastrophique', 'catelan', 'cathy', 'catégorie', 'catégorique', 'cauchemar', 'cause', 'cave', 'caviar', 'caviste', 'cb', 'ce', 'ceci', 'cela', 'celle', 'celles', 'celui', 'celà', 'cendrier', 'censé', 'centaines', 'centime', 'centre', 'cependant', 'cerise', 'cerises', 'cerisier', 'certain', 'certaine', 'certainement', 'certaines', 'certains', 'certe', 'certes', 'certificat', 'certifier', 'ces', 'cesse', 'cessé', 'cest', 'cet', 'cette', 'ceux', 'cezembre', 'chacun', 'chacune', 'chacunes', 'chaine', 'chaines', 'chair', 'chalance', 'chaland', 'chalereux', 'chaleuleuse', 'chaleur', 'chaleureuse', 'chaleureusement', 'chaleureux', 'chaleureuxavec', 'chambre', 'champagne', 'champagnes', 'champignons', 'champions', 'champs', 'chance', 'change', 'changement', 'changent', 'changer', 'changez', 'changé', 'chantaient', 'chanterelles', 'chanteurs', 'chanteuses', 'chantilly', 'chaotique', 'chapeau', 'chaque', 'charcuterie', 'charcuteries', 'chargé', 'charisme', 'charles', 'charmant', 'charmante', 'charmantes', 'charmants', 'charme', 'charmeront', 'charmé', 'chasse', 'chateaubriand', 'chaud', 'chaude', 'chaudes', 'chauds', 'chauffage', 'chauffages', 'chaussures', 'chaussée', 'chawarma', 'cheddar', 'cheesnan', 'chef', 'chefs', 'chelou', 'chemin', 'cheminplus', 'chemise', 'chene', 'chenin', 'cher', 'cherchait', 'cherchant', 'cherche', 'cherchent', 'chercher', 'cherchez', 'cherchions', 'chere', 'cheres', 'chers', 'chevreuil', 'chewing', 'chez', 'chic', 'chicago', 'chichi', 'chichis', 'chicken', 'chien', 'chiens', 'chiffre', 'chiffres', 'chiken', 'chine', 'chinois', 'chinoisants', 'chips', 'chique', 'chirashi', 'chloé', 'chocolat', 'choice', 'choisi', 'choisie', 'choisir', 'choisis', 'choisissez', 'choisissons', 'choisit', 'choix', 'chopin', 'choquant', 'choqué', 'chose', 'choses', 'chou', 'choucroute', 'chouette', 'choux', 'christian', 'chypriote', 'châtaignes', 'château', 'châteaux', 'chère', 'chères', 'chêne', 'ci', 'ciboulettes', 'cidre', 'cieltourne', 'cigare', 'cinq', 'cinquantaine', 'circuits', 'circulaire', 'citations', 'citron', 'citronelle', 'citronnelle', 'citrus', 'civet', 'clair', 'claire', 'clairement', 'claquer', 'classe', 'classement', 'classicisme', 'classique', 'classiques', 'classé', 'classées', 'claude', 'clean', 'clichy', 'client', 'clientele', 'clients', 'clientèle', 'climatisation', 'clochettes', 'clos', 'closerie', 'clou', 'cloud', 'club', 'clés', 'cnsm', 'cobea', 'cobéa', 'coche', 'cochon', 'cochonne', 'cocktail', 'cocktails', 'coco', 'cocon', 'cocooning', 'cocotte', 'coeur', 'cognac', 'coin', 'coincées', 'cois', 'colbert', 'coleslaw', 'collègue', 'collègues', 'collées', 'coloré', 'colorés', 'com', 'combinaison', 'combler', 'comblés', 'commandaria', 'commande', 'commander', 'commandes', 'commandions', 'commandons', 'commandé', 'commandée', 'comme', 'commence', 'commencer', 'commencé', 'commencée', 'commencés', 'comment', 'commentaire', 'commentaires', 'commentateurs', 'commenter', 'commenté', 'commençait', 'commençons', 'commercial', 'commerciale', 'commerçant', 'commerçants', 'commun', 'commune', 'communiquer', 'communiqués', 'compact', 'compagne', 'compagnie', 'compagnon', 'compagnons', 'comparaison', 'comparativement', 'comparé', 'compassion', 'competent', 'competitif', 'complet', 'complets', 'complexe', 'complexité', 'complique', 'compliqué', 'compliquée', 'complète', 'complètement', 'complétés', 'comportant', 'comporte', 'comportent', 'comporter', 'composer', 'composition', 'compositions', 'composé', 'composée', 'compote', 'compotée', 'comprenant', 'comprend', 'comprendre', 'comprends', 'comprenne', 'comprennent', 'compris', 'comprise', 'compromis', 'comptables', 'compte', 'compter', 'comptes', 'comptoir', 'compétences', 'compétent', 'compétente', 'compétitif', 'compétitifs', 'concentré', 'concept', 'concernant', 'concerne', 'concert', 'concevoir', 'concierge', 'conciergerie', 'concivial', 'conclu', 'concocte', 'concocter', 'concocté', 'concombre', 'concourait', 'concurrence', 'condiment', 'condition', 'conditions', 'conduire', 'conduit', 'conduits', 'confiance', 'confiante', 'confidentiel', 'configuration', 'confinée', 'confirmation', 'confirme', 'confirmer', 'confirmé', 'confirmée', 'confiseries', 'confit', 'confite', 'confiture', 'confondu', 'conforme', 'conformes', 'confort', 'confortable', 'confortablement', 'conforté', 'confrères', 'confusion', 'congelé', 'congelées', 'congrue', 'congrues', 'conjoint', 'conjointe', 'connais', 'connaissais', 'connaissance', 'connaissances', 'connaissant', 'connaissent', 'connaisseur', 'connaisseurs', 'connaissons', 'connait', 'connaît', 'connaître', 'connection', 'connexion', 'connu', 'connue', 'conquis', 'consacrer', 'consciencieux', 'conseil', 'conseille', 'conseiller', 'conseillons', 'conseillé', 'conseillée', 'conseillées', 'conseillés', 'conseils', 'conserve', 'considération', 'consistance', 'consistant', 'consiste', 'consommation', 'consommé', 'conspuent', 'constater', 'constaté', 'consterné', 'constitue', 'constituée', 'conséquence', 'contact', 'contemporain', 'contemporaine', 'content', 'contents', 'contenté', 'contenu', 'contexte', 'contient', 'continu', 'continue', 'continuellement', 'continuent', 'continuer', 'continuez', 'continué', 'contourner', 'contradiction', 'contraint', 'contraire', 'contrairement', 'contre', 'contrefaçon', 'contrefou', 'contretemps', 'contrevous', 'contribue', 'convaincues', 'convenable', 'convenables', 'convenant', 'convenir', 'conventionnelles', 'convenus', 'conversation', 'converser', 'conviction', 'conviendra', 'convient', 'convive', 'convives', 'convivial', 'conviviale', 'convivialité', 'convié', 'conçu', 'cookie', 'cookies', 'cool', 'coolplus', 'cools', 'copains', 'copie', 'copieuse', 'copieuses', 'copieux', 'copine', 'copines', 'coquillages', 'coquilles', 'coquillettes', 'coquine', 'corail', 'cordeau', 'cordial', 'cordialité', 'cordiaux', 'cordoue', 'coriandre', 'cornet', 'cornish', 'correct', 'correcte', 'correctement', 'correctes', 'correctesplus', 'corrects', 'correspond', 'correspondantes', 'correspondent', 'correspondre', 'corriger', 'corsent', 'corses', 'coréen', 'coréenne', 'coréens', 'cosi', 'cossu', 'cost', 'cosy', 'cote', 'cotta', 'coté', 'coucher', 'coucous', 'couleur', 'couleurs', 'coulis', 'couloir', 'coup', 'coupe', 'couper', 'coupes', 'couple', 'couples', 'coupole', 'coups', 'coupés', 'couraient', 'couramment', 'courbettes', 'courchevel', 'courez', 'courge', 'couronner', 'courrez', 'cours', 'course', 'court', 'courte', 'courtois', 'courtoise', 'courtoisie', 'courts', 'couscous', 'couteaux', 'coutumière', 'couverte', 'couverts', 'couvrir', 'coïncidence', 'crabe', 'craméeratéeimmangeable', 'cramés', 'crasseux', 'creatifs', 'creative', 'crepe', 'crepes', 'crevant', 'crevettes', 'criarde', 'cris', 'critique', 'critiquer', 'critiques', 'croirait', 'croire', 'crois', 'croissant', 'croissants', 'croque', 'croustillant', 'croustillante', 'croustillantes', 'croustillants', 'croyais', 'croûte', 'cruelle', 'cruellement', 'crues', 'crus', 'crème', 'crèpes', 'créatif', 'création', 'créative', 'créativité', 'créatrice', 'créditer', 'crémeux', 'crépinettes', 'crêpe', 'crêperie', 'crêpes', 'crêques', 'cuenta', 'cuillères', 'cuir', 'cuisine', 'cuisiner', 'cuisines', 'cuisinier', 'cuisiniers', 'cuisiné', 'cuisinées', 'cuisinés', 'cuisisiner', 'cuisse', 'cuisses', 'cuisson', 'cuissons', 'cuit', 'cuite', 'cuites', 'cuits', 'cuivrées', 'culinaire', 'culinaires', 'culottée', 'culpabilisant', 'curieuse', 'curieux', 'curiosité', 'curry', 'custom', 'cygne', 'cède', 'cèpes', 'céder', 'célèbre', 'célébrer', 'célébrités', 'céramique', 'cêpes', 'cône', 'côte', 'côté', 'côtéplus', 'cœur', 'da', 'daigne', 'daigné', 'dame', 'dames', 'dangeureux', 'daniela', 'dans', 'dar', 'dasn', 'datant', 'daubée', 'dauphinois', 'daurade', 'david', 'de', 'debout', 'debut', 'deception', 'decerestaurant', 'decide', 'deco', 'decor', 'decoration', 'decorés', 'decouvert', 'decouverte', 'decouvrir', 'decu', 'dedans', 'definetely', 'degeu', 'degeulasse', 'degrésplus', 'degustation', 'deguster', 'dehors', 'dej', 'deja', 'dejeuner', 'dejeuné', 'del', 'delavées', 'delicieuse', 'delicieuses', 'delicieux', 'deliveroo', 'delivrait', 'delà', 'demain', 'demande', 'demandent', 'demander', 'demandes', 'demandons', 'demandé', 'demandés', 'demi', 'demie', 'den', 'denis', 'dente', 'depaysant', 'deplace', 'deplorable', 'depose', 'depuis', 'dernier', 'dernière', 'dernièrement', 'dernières', 'derrière', 'des', 'desagreable', 'descente', 'design', 'dessert', 'desserts', 'desservir', 'dessins', 'dessous', 'dessus', 'detour', 'deux', 'deuxieme', 'deuxième', 'devais', 'devait', 'devant', 'devanture', 'devenu', 'devenue', 'devenus', 'devez', 'deviennent', 'devient', 'deviner', 'devions', 'devoir', 'devrait', 'deçeption', 'deçue', 'di', 'diarrhée', 'diego', 'difference', 'difficile', 'difficulté', 'difficultés', 'diffusé', 'différence', 'différencier', 'différent', 'différente', 'différentes', 'différents', 'digestif', 'digne', 'dignes', 'dimanche', 'diminutif', 'diminué', 'diner', 'dinette', 'dingue', 'dinner', 'diné', 'diponible', 'dirai', 'dirais', 'dirait', 'dire', 'direct', 'directement', 'directeur', 'direction', 'directive', 'directrice', 'dirigé', 'dirigés', 'dis', 'disait', 'disant', 'discret', 'discrets', 'discrète', 'discrètement', 'discrétion', 'discussion', 'discussions', 'discuter', 'discuté', 'dise', 'disent', 'disons', 'disparaître', 'disparition', 'dispo', 'disponibilité', 'disponible', 'disponibles', 'disposer', 'disposition', 'disserter', 'dissuader', 'distance', 'distant', 'distillée', 'distingue', 'distinguée', 'distrait', 'distribution', 'dit', 'dites', 'dithyrambiques', 'dits', 'dityrambiques', 'divers', 'diversifié', 'diversité', 'divin', 'divine', 'divines', 'divins', 'divisé', 'divray', 'dix', 'dizaine', 'dizaines', 'diététiques', 'dj', 'djouje', 'dogs', 'doigt', 'doigts', 'dois', 'doit', 'doive', 'doivent', 'dollars', 'domaines', 'domenico', 'dominical', 'dominicale', 'dommage', 'donald', 'donc', 'donnait', 'donnant', 'donne', 'donnent', 'donner', 'donnerait', 'donné', 'donnée', 'donnés', 'dont', 'dormir', 'dorures', 'dosage', 'dosé', 'dosées', 'double', 'doublement', 'douce', 'douceur', 'douleurs', 'doute', 'douterplus', 'douteuse', 'douzaine', 'doué', 'draguer', 'dressage', 'dressée', 'dressées', 'droit', 'drole', 'ds', 'dsk', 'du', 'duke', 'dumas', 'duo', 'dur', 'durant', 'dure', 'dures', 'duré', 'durée', 'duxelle', 'dynamique', 'dynamisme', 'dècorèes', 'dès', 'débarrasser', 'débarrassées', 'débité', 'débordé', 'débordée', 'débordés', 'début', 'débutant', 'débuter', 'décalage', 'décalé', 'décembre', 'déception', 'déceptions', 'déceptionà', 'décevant', 'décevante', 'décevantes', 'décevantmacaron', 'décevants', 'décevra', 'décibels', 'décide', 'décider', 'décidons', 'décidé', 'décidément', 'décliner', 'décliné', 'déclinées', 'déclinés', 'déco', 'déconcertante', 'déconseille', 'déconseilles', 'déconseillons', 'décontracté', 'décontractée', 'décontractés', 'décor', 'décoration', 'décorations', 'décorer', 'décorum', 'décoré', 'décorée', 'décoréel', 'découpe', 'découvert', 'découverte', 'découvertes', 'découvrant', 'découvre', 'découvrir', 'découvrons', 'décrire', 'décrocher', 'décru', 'décu', 'décès', 'dédaigneux', 'dédié', 'dédiée', 'défaillant', 'défavorable', 'défendait', 'définitivement', 'défraîchis', 'dégage', 'dégageaient', 'dégout', 'dégoûtant', 'dégoûtante', 'dégoûtée', 'dégrader', 'dégueulasses', 'dégustation', 'dégustations', 'déguste', 'déguster', 'dégusté', 'dégât', 'déjeuner', 'déjeuné', 'déjà', 'délaisser', 'délibérément', 'délicat', 'délicate', 'délicatement', 'délicates', 'délicatesse', 'délicats', 'délice', 'délices', 'délicieuse', 'délicieusement', 'délicieuses', 'délicieux', 'délier', 'délirant', 'délivre', 'déloger', 'déléguer', 'démarrage', 'démentent', 'démentes', 'dénégations', 'départ', 'départc', 'dépaysement', 'dépit', 'déplace', 'déplacement', 'déplaisant', 'déplorable', 'déplorables', 'déplu', 'déposée', 'déranger', 'dérouler', 'déroulé', 'dés', 'désagréable', 'désagréables', 'désagrément', 'désagréments', 'désastreux', 'désert', 'désespérément', 'désign', 'désirant', 'désirer', 'désirez', 'désirs', 'désistement', 'désolé', 'désordonné', 'désorganisation', 'désoriente', 'désormais', 'déssert', 'désuet', 'déséquilibrés', 'détail', 'détails', 'détendu', 'détendue', 'détente', 'détestable', 'détestant', 'détour', 'détrempé', 'détriment', 'dévolu', 'dévoué', 'déçu', 'déçue', 'déçues', 'déçus', 'dînatoire', 'dîne', 'dîner', 'dîners', 'dîné', 'dû', 'east', 'easy', 'eat', 'eau', 'eauapéro', 'eaux', 'ecailler', 'eclairs', 'ecole', 'edern', 'effacer', 'effacé', 'effectivement', 'effeil', 'effervescence', 'effet', 'effets', 'efficace', 'efficaces', 'efficaceun', 'efficacité', 'effort', 'efforts', 'egalement', 'eh', 'eiffel', 'el', 'elan', 'elegant', 'element', 'elisamulys', 'elizabeth', 'elle', 'elles', 'eloges', 'elvis', 'elysees', 'elysées', 'email', 'emballage', 'emballés', 'embarque', 'embarras', 'emblée', 'embrassades', 'eme', 'emission', 'emmener', 'emmené', 'empesée', 'emplacement', 'employés', 'emporter', 'emporté', 'empresse', 'empressés', 'empêche', 'en', 'enc', 'encadrés', 'encaisse', 'enceinte', 'encensé', 'enchainement', 'enchantement', 'enchanteur', 'enchanté', 'enchantés', 'enchaînent', 'encombré', 'encontre', 'encore', 'encornet', 'encornets', 'encourager', 'encre', 'end', 'endroit', 'endroits', 'enfant', 'enfantin', 'enfants', 'enfer', 'enfin', 'engouement', 'enjoint', 'enlever', 'enlevé', 'enlèvee', 'ennuyeux', 'enregistrement', 'enregistrée', 'enrobées', 'enseigne', 'ensemble', 'ensoleillé', 'ensoleillée', 'ensuite', 'entamé', 'entassés', 'entend', 'entendait', 'entendez', 'entendre', 'entendu', 'enterrement', 'enthousiasme', 'enthousiaste', 'enthousiastes', 'entier', 'entièrement', 'entrant', 'entre', 'entrecôte', 'entree', 'entrees', 'entremets', 'entrer', 'entres', 'entretenu', 'entretien', 'entrez', 'entrons', 'entré', 'entrée', 'entrées', 'entrés', 'envahis', 'envahissant', 'envahit', 'envers', 'envie', 'envies', 'environ', 'environnants', 'environnement', 'envisagez', 'envoûtant', 'epaisseur', 'epices', 'epicure', 'epie', 'epinards', 'epuré', 'equipaplus', 'equipe', 'er', 'eric', 'erithréen', 'errance', 'erreur', 'erreurs', 'erythreennes', 'es', 'escape', 'escargot', 'escargots', 'espace', 'espacement', 'espaces', 'espacées', 'espacés', 'espadon', 'especialmente', 'espoir', 'esprit', 'esprits', 'espèce', 'espère', 'espérances', 'espérer', 'espérons', 'espéré', 'espérée', 'essaye', 'essayer', 'essayez', 'essayons', 'essayé', 'essentiel', 'essentiellement', 'est', 'estampillés', 'estelle', 'esthetique', 'esthètes', 'esthétiquement', 'estomac', 'et', 'etablissement', 'etage', 'etaient', 'etais', 'etait', 'etant', 'etc', 'etes', 'etions', 'etoile', 'etoiles', 'etonnante', 'etre', 'etude', 'eté', 'eu', 'eudes', 'eue', 'eues', 'eugène', 'eur', 'euro', 'europe', 'européen', 'euros', 'eut', 'eux', 'evening', 'eveningfilling', 'event', 'eviter', 'ex', 'exactement', 'exacts', 'exagère', 'excelent', 'excelle', 'excellemment', 'excellence', 'excellent', 'excellente', 'excellentes', 'excellentje', 'excellents', 'exception', 'exceptionnel', 'exceptionnelle', 'exceptionnellement', 'exceptionnelles', 'exceptionnels', 'exceptionnous', 'excepté', 'excessif', 'excessifs', 'excessives', 'excité', 'exclusivement', 'excursion', 'excuse', 'excusez', 'excusés', 'excès', 'exelent', 'exemplaire', 'exemple', 'exeptionnelle', 'exergue', 'exhorbitant', 'exhorbitante', 'exigeant', 'exigeants', 'exigence', 'exigences', 'exigu', 'exiguë', 'existe', 'existence', 'existé', 'exorbitant', 'exorbitants', 'exotiques', 'experience', 'experiences', 'expert', 'expertise', 'explicatif', 'explication', 'explications', 'expliquant', 'expliquants', 'explique', 'expliquer', 'expliquera', 'expliqués', 'explorer', 'explosent', 'explosion', 'expo', 'exposition', 'expositions', 'exprès', 'expédie', 'expédié', 'expérience', 'expériences', 'exquis', 'exquise', 'exquises', 'exsite', 'exterieur', 'exterminent', 'externe', 'extra', 'extraordinaire', 'extraordinairement', 'extraordinaires', 'extrême', 'extrêmement', 'extérieur', 'extérieure', 'exécrable', 'exécutants', 'exécution', 'exécuté', 'exécutée', 'exécutés', 'fabien', 'fabuleuse', 'fabuleuses', 'fabuleux', 'face', 'facebook', 'facile', 'facilement', 'facilité', 'facture', 'facturé', 'fad', 'fadace', 'fade', 'fades', 'faham', 'faible', 'faille', 'faim', 'fain', 'faire', 'fais', 'faisaient', 'faisais', 'faisait', 'faisant', 'faisions', 'faisons', 'fait', 'faite', 'faites', 'faits', 'falafel', 'falafels', 'fallafel', 'fallafels', 'fallait', 'fallu', 'fameux', 'familial', 'familiale', 'familiarisé', 'familiarité', 'familier', 'familière', 'famille', 'fan', 'fans', 'fantasmais', 'fantastique', 'fantastiques', 'farandole', 'farci', 'farcie', 'farfelue', 'fast', 'fatidique', 'fatigué', 'fatigués', 'faubourg', 'faudra', 'fausse', 'faussement', 'fausses', 'faut', 'faute', 'fautes', 'fauteuils', 'faux', 'faveurs', 'favorablement', 'favorables', 'favoris', 'favorite', 'fayette', 'façade', 'façon', 'façons', 'faîtes', 'fb', 'fe', 'felicitations', 'felipe', 'femme', 'femmes', 'fenêtre', 'fenêtres', 'fera', 'feraient', 'ferme', 'fermer', 'fermes', 'fermier', 'fermé', 'fermée', 'fermés', 'fernando', 'festif', 'festival', 'festive', 'feu', 'feuille', 'feuilles', 'feuilletage', 'feutrer', 'feutré', 'feutrée', 'feux', 'fiable', 'fiables', 'fiancé', 'fiancée', 'fiasco', 'fiche', 'fidèle', 'fidèles', 'fier', 'fiez', 'figue', 'figues', 'figure', 'fil', 'file', 'filet', 'filets', 'filipé', 'fille', 'filles', 'film', 'films', 'fils', 'fin', 'final', 'finale', 'finalement', 'find', 'fine', 'finement', 'fineparfaitement', 'fines', 'finesse', 'fini', 'finie', 'finir', 'finis', 'finit', 'fins', 'fioriture', 'fish', 'fishbals', 'fièrement', 'flacons', 'flambé', 'flammes', 'flan', 'flatteur', 'flemme', 'fleur', 'fleuri', 'fleurs', 'florale', 'florales', 'flotte', 'fluide', 'fléchi', 'fléché', 'flûte', 'foi', 'foie', 'foies', 'fois', 'foisc', 'folichon', 'folie', 'folies', 'folles', 'foncez', 'fonction', 'fond', 'fondamentaux', 'fondant', 'fondre', 'fonds', 'fondu', 'fondue', 'fondé', 'font', 'food', 'foodsurprising', 'for', 'force', 'forcé', 'forcément', 'forfait', 'fork', 'formalité', 'forme', 'formes', 'formidable', 'formidableune', 'formuka', 'formule', 'formules', 'fort', 'forte', 'fortement', 'fortes', 'forts', 'fouillis', 'foule', 'four', 'fourchette', 'fourneaux', 'fourni', 'fournie', 'fournir', 'fout', 'foutage', 'foutiste', 'fraiches', 'fraicheur', 'frais', 'francais', 'francaise', 'france', 'franchement', 'franchisée', 'franco', 'franquette', 'français', 'française', 'frappante', 'frappe', 'frappé', 'fraçais', 'fraîche', 'fraîches', 'fraîcheur', 'frechon', 'free', 'french', 'fric', 'fricassée', 'friendly', 'frigo', 'frire', 'frise', 'frisé', 'frite', 'frites', 'frits', 'frittes', 'friture', 'frog', 'froid', 'froide', 'froidement', 'froides', 'froideur', 'fromage', 'fromages', 'frugal', 'fruit', 'fruits', 'frère', 'fréchon', 'frédérique', 'fréquentant', 'fréquentation', 'fréquente', 'fréquenté', 'fréquentée', 'fubuleux', 'fuir', 'fuite', 'fument', 'fumoir', 'furent', 'furieux', 'fusil', 'fusion', 'fut', 'futur', 'futuriste', 'fuyez', 'fèves', 'féminine', 'férié', 'féru', 'fétiches', 'février', 'fêta', 'fêtait', 'fête', 'fêter', 'fêtions', 'fêté', 'fûmes', 'fût', 'gabriel', 'gaché', 'gadgets', 'gaffes', 'gagnaire', 'galerie', 'galette', 'galettes', 'gall', 'gambas', 'game', 'gamme', 'garanti', 'garantie', 'garcia', 'garde', 'garder', 'gardez', 'gardions', 'gardons', 'gardé', 'gardée', 'gare', 'garnies', 'garniesrien', 'garnis', 'garniture', 'garnitures', 'gars', 'garçon', 'gaspiller', 'gastro', 'gastronomes', 'gastronomic', 'gastronomie', 'gastronomique', 'gastronomiques', 'gauche', 'gaufré', 'gavotte', 'gay', 'gazeuse', 'gelati', 'genereux', 'genia', 'genialissime', 'genre', 'gens', 'gentil', 'gentille', 'gentillesse', 'gentils', 'gentiment', 'george', 'georges', 'gerant', 'gerard', 'gerent', 'germain', 'geste', 'gestion', 'gibier', 'gigot', 'gilet', 'gilles', 'gingembre', 'gins', 'giovanni', 'girolle', 'girolles', 'glace', 'glaces', 'glacial', 'glaciale', 'glacier', 'glacé', 'glaçons', 'glissées', 'globale', 'globalement', 'gluten', 'gnocchi', 'gnocchis', 'gogo', 'gomme', 'gorgée', 'gourmand', 'gourmande', 'gourmandes', 'gourmandise', 'gourmandises', 'gourmet', 'gourmets', 'gout', 'gouter', 'gouteuse', 'gouteux', 'gouts', 'goutte', 'gouttes', 'goutus', 'goutés', 'goût', 'goûter', 'goûteuse', 'goûteuses', 'goûteux', 'goûtez', 'goûts', 'goûté', 'grace', 'gradé', 'graisse', 'grammes', 'grand', 'grande', 'grandement', 'grandes', 'grandeur', 'grandiose', 'grandir', 'grands', 'granité', 'gransd', 'grappa', 'gras', 'grasse', 'grasses', 'gratin', 'gratinée', 'gratuit', 'grave', 'gravelax', 'graver', 'gravée', 'great', 'grec', 'green', 'grenaille', 'grenouille', 'grenouilles', 'gribiche', 'grignoter', 'grignotteries', 'grillé', 'grillée', 'grillées', 'grilléla', 'gris', 'grisonnant', 'gros', 'grosse', 'grosses', 'grossesse', 'grossière', 'grossières', 'grossièreté', 'groupe', 'gruyère', 'grâce', 'gré', 'guacamole', 'guettait', 'gueules', 'guide', 'guides', 'guidés', 'guignol', 'guimauve', 'guindé', 'guise', 'gum', 'gustatif', 'gustative', 'gustatives', 'guy', 'guéméné', 'gyosa', 'gâchis', 'gâché', 'gâchée', 'gâte', 'gâteau', 'gâteaux', 'gâtent', 'gène', 'gère', 'génant', 'génial', 'géniale', 'général', 'générale', 'généralement', 'généreuse', 'généreuses', 'généreux', 'générosité', 'géographique', 'gérant', 'gérante', 'gérants', 'gérard', 'gêne', 'gêné', 'ha', 'habilement', 'habitant', 'habitante', 'habite', 'habitons', 'habitude', 'habituel', 'habitué', 'habituée', 'habitués', 'hachée', 'had', 'haddock', 'hai', 'hais', 'halles', 'hallucine', 'halte', 'hamburger', 'hamburgers', 'hanawa', 'handicapés', 'hank', 'happycow', 'hareng', 'haricots', 'harmonie', 'harmonieux', 'harmoniques', 'hasard', 'haut', 'hautain', 'hautaine', 'haute', 'hautement', 'hauteur', 'hauts', 'herbe', 'herbes', 'heure', 'heures', 'heureusement', 'heureuses', 'heureux', 'hexagonaux', 'hexagone', 'hic', 'hier', 'hihihi', 'histoire', 'historique', 'hiver', 'homard', 'homemade', 'homme', 'hommes', 'honneur', 'honneurbravo', 'honnête', 'honorable', 'honoré', 'honte', 'honteuse', 'honteux', 'hop', 'horaires', 'hormis', 'horrible', 'hors', 'hospitalité', 'hot', 'hotel', 'houmous', 'hubert', 'hugo', 'hui', 'huile', 'huileuses', 'huit', 'huitres', 'hum', 'humanité', 'humble', 'humeur', 'humour', 'huître', 'huîtres', 'hygiène', 'hype', 'hyper', 'hypers', 'hâte', 'hélas', 'hésitantes', 'hésitation', 'hésitent', 'hésiter', 'hésitez', 'hésitions', 'hésité', 'hétéroclite', 'hôte', 'hôtel', 'hôtelière', 'hôtellerie', 'hôtels', 'hôtes', 'hôtesse', 'hôtesses', 'ici', 'identité', 'idyllique', 'idéal', 'idéale', 'idéalement', 'idéales', 'idée', 'ignoble', 'ignore', 'ignoré', 'il', 'ilion', 'illimités', 'illisible', 'illuminent', 'illustre', 'ils', 'image', 'imagination', 'imaginative', 'imagine', 'imaginé', 'imaginées', 'imangeable', 'imbattable', 'imbu', 'imbus', 'imbuvable', 'imbuvables', 'imbéciles', 'imed', 'imitant', 'imitation', 'imiter', 'immangeable', 'immense', 'immenses', 'immeuble', 'immédiatement', 'imméritées', 'impact', 'impatient', 'impatients', 'impecable', 'impeccable', 'impeccables', 'impensable', 'impersonnel', 'impertinence', 'impoli', 'impolitesse', 'importance', 'important', 'importe', 'imposait', 'impose', 'impossibilité', 'impossible', 'imposé', 'imposés', 'impression', 'impressionnant', 'impressionner', 'impressionné', 'impressionnée', 'impressionnés', 'improbablevenus', 'improvisé', 'imprécise', 'impécable', 'impérativement', 'in', 'inacceptables', 'inaccessible', 'inadmissible', 'inattendues', 'inattendus', 'incapables', 'incarnée', 'incendie', 'incipide', 'incité', 'inclus', 'incomparable', 'incompetent', 'incompréhension', 'incompétent', 'inconcevable', 'inconditionnel', 'inconfortable', 'inconnu', 'inconnue', 'inconnues', 'inconnus', 'inconsistantes', 'incontestablement', 'incontournable', 'incontournables', 'incorrecte', 'incorrection', 'incroyable', 'incroyablement', 'incroyables', 'inde', 'indean', 'indien', 'indienne', 'indiennes', 'indiens', 'indifférent', 'indifférents', 'indigne', 'indignes', 'indignés', 'indiquant', 'indique', 'indiqué', 'indispensable', 'indispensables', 'individuel', 'individuels', 'indonésie', 'industrielle', 'industrielles', 'industriels', 'indésirables', 'inefficace', 'inexistante', 'inexpérimenté', 'infamie', 'infect', 'infecte', 'infectes', 'infinite', 'influence', 'influences', 'info', 'information', 'informe', 'informes', 'informé', 'inférieures', 'ingrédient', 'ingrédients', 'inhabituel', 'inhabituelles', 'inhérentes', 'initial', 'initialement', 'injustement', 'inmanquable', 'inneficace', 'innovant', 'innovante', 'innovants', 'innovation', 'inoubliable', 'inoubliables', 'insatisfaction', 'insignifiant', 'insinué', 'insipide', 'insipides', 'insistance', 'insistante', 'insisté', 'insonorisé', 'inspecteurs', 'inspirante', 'inspiration', 'inspire', 'inspiré', 'instable', 'installe', 'installer', 'installez', 'installées', 'installés', 'instant', 'instar', 'institution', 'insuffisante', 'insulté', 'insuportablement', 'insupportable', 'insurger', 'integre', 'intelligentes', 'intensité', 'interdits', 'interet', 'interloquée', 'interminable', 'internationale', 'internet', 'interpelle', 'interpellera', 'interpellé', 'intervenir', 'intime', 'intimidant', 'intimiste', 'intimité', 'intolérance', 'intolérances', 'intolérante', 'intolérences', 'intrigues', 'introduire', 'introuvable', 'intrusif', 'intégralité', 'intéressant', 'intéressante', 'intéressantes', 'intéressants', 'intéresser', 'intérieur', 'intérêt', 'inutile', 'inutiles', 'inventer', 'inventif', 'inventifs', 'inventive', 'inventivité', 'inverse', 'invitation', 'invite', 'invitent', 'inviter', 'invitions', 'invité', 'invitée', 'invités', 'inédit', 'inédite', 'inégalable', 'inéluctable', 'ira', 'irai', 'irait', 'iran', 'iranien', 'iranienne', 'iraniennes', 'iraniens', 'iranniene', 'ironique', 'irrespectueuse', 'irrespectueux', 'irréprochable', 'irréprochablement', 'irréprochables', 'ischia', 'issus', 'italie', 'italien', 'italienne', 'italiennes', 'italiens', 'ixème', 'jaboulet', 'jacques', 'jamais', 'jambes', 'jambon', 'janin', 'janvier', 'japon', 'japonais', 'japonaise', 'japonaises', 'japonnaise', 'jardin', 'jardins', 'jarret', 'jaune', 'je', 'jean', 'jeanne', 'jeannes', 'jeter', 'jettes', 'jeté', 'jeu', 'jeudi', 'jeune', 'jeunes', 'jeunesse', 'jeux', 'jgr', 'joie', 'joies', 'joindre', 'joins', 'joli', 'jolie', 'jolies', 'joliment', 'jolis', 'josé', 'jouissif', 'jouit', 'jour', 'journée', 'jours', 'joviales', 'joyau', 'joëlle', 'jp', 'judicieuses', 'judicieux', 'jugement', 'juillet', 'juin', 'julien', 'jumin', 'jus', 'jusqu', 'jusque', 'juste', 'justes', 'justesprésentation', 'justice', 'justifiait', 'justifiant', 'justifications', 'justifie', 'justifient', 'justifier', 'justifiée', 'justifiées', 'justifiés', 'juteuse', 'juxtapositions', 'jérôme', 'kai', 'kaiser', 'kebab', 'kei', 'ketchup', 'kgb', 'kilo', 'kilomètres', 'kinzo', 'kir', 'kitchen', 'kjdhd', 'kobe', 'kobé', 'kodawari', 'kong', 'korean', 'koubide', 'kozy', 'kub', 'kugorawa', 'la', 'lafourchette', 'laid', 'laissaient', 'laissait', 'laissant', 'laisse', 'laisser', 'laissera', 'laissez', 'laissé', 'laissées', 'laissés', 'lait', 'laitiers', 'lamentable', 'lames', 'langoustine', 'langoustines', 'langue', 'lanvi', 'lanzhou', 'laquelle', 'large', 'largement', 'lasagnes', 'lasse', 'latin', 'latino', 'laure', 'lavash', 'le', 'lecture', 'ledeuil', 'leger', 'legers', 'lent', 'lente', 'lenteur', 'lentilles', 'lequel', 'lerestaurent', 'les', 'lesquelles', 'lettre', 'leur', 'leurs', 'levinson', 'libanais', 'libanaise', 'libre', 'libère', 'liegeois', 'lieu', 'lieux', 'lievre', 'light', 'ligne', 'lilas', 'lillois', 'limininaire', 'limite', 'limites', 'limité', 'limitée', 'limougeauds', 'lipp', 'liquide', 'lire', 'lis', 'lisbonne', 'liste', 'lit', 'littéralement', 'livraison', 'livre', 'livrer', 'livré', 'lièvre', 'lié', 'liés', 'local', 'localisation', 'logeait', 'loin', 'lointains', 'lois', 'lol', 'lombards', 'long', 'longtemps', 'longue', 'look', 'lors', 'lorsqu', 'lorsque', 'lot', 'louis', 'loulous', 'lounge', 'loupée', 'lourd', 'lourde', 'low', 'loyer', 'lu', 'lucas', 'lugubre', 'lui', 'lumineuse', 'lumineux', 'lumière', 'lumières', 'lundi', 'lundis', 'lunettes', 'luxe', 'luxueux', 'là', 'làplus', 'lâche', 'lève', 'lèvres', 'léchions', 'léger', 'légume', 'légumes', 'légère', 'légèrement', 'légères', 'légèreté', 'ma', 'mac', 'macadamia', 'macaroni', 'macaronis', 'macarons', 'macau', 'machine', 'madame', 'madeleine', 'madeleines', 'madère', 'madérisé', 'maestria', 'magie', 'magique', 'magnifique', 'magnifiquement', 'magnifiques', 'magné', 'magret', 'mai', 'maigre', 'mail', 'mains', 'maintenant', 'mais', 'maison', 'maisons', 'maitre', 'maitrise', 'maitrisse', 'maitrisée', 'majestueuse', 'majestueux', 'majeure', 'majoritairement', 'maki', 'makis', 'mal', 'malade', 'maladroit', 'malchance', 'malgrè', 'malgré', 'malheur', 'malheureusement', 'malpolie', 'maltraitées', 'maman', 'mamie', 'mamma', 'man', 'manager', 'mandarin', 'mandarine', 'mange', 'mangeable', 'mangeables', 'mangeait', 'manger', 'mangez', 'mangions', 'mangue', 'mangé', 'manière', 'manquait', 'manquant', 'manque', 'manquent', 'manquer', 'manquerait', 'maqnifique', 'maquereau', 'marais', 'marc', 'marchand', 'marchande', 'marche', 'marché', 'marchétout', 'marcon', 'mardi', 'margarita', 'mari', 'mariage', 'mariages', 'marie', 'marier', 'marines', 'mariné', 'marié', 'mariés', 'marmites', 'marque', 'marquer', 'marronniers', 'mars', 'marseillais', 'marx', 'masala', 'mascarpone', 'maso', 'masquant', 'masqué', 'massala', 'match', 'matcha', 'matin', 'matinée', 'matière', 'matsuri', 'maturation', 'mauvais', 'mauvaise', 'mauvaises', 'max', 'maxi', 'maximale', 'maximum', 'mayo', 'mayonnaise', 'maître', 'maîtres', 'maîtresse', 'maîtrise', 'maîtrisé', 'maîtrisée', 'mc', 'me', 'mediocre', 'meilleur', 'meilleure', 'meilleures', 'meilleurs', 'mejor', 'meme', 'menace', 'menetou', 'ment', 'menthe', 'menthetiède', 'mention', 'menu', 'menus', 'menées', 'mer', 'merci', 'merciplus', 'mercredi', 'merguez', 'meringue', 'merite', 'meriter', 'merlan', 'mersea', 'merveille', 'merveilles', 'merveilleuse', 'merveilleusement', 'merveilleuses', 'merveilleux', 'mes', 'message', 'messieurs', 'mesure', 'met', 'mets', 'mettant', 'mettez', 'mettre', 'meurette', 'mexicain', 'mexicaine', 'mexican', 'mexique', 'mia', 'miam', 'michel', 'michelin', 'micro', 'microscopiques', 'midi', 'midis', 'mie', 'miel', 'mien', 'mienne', 'mieux', 'mignardises', 'mignon', 'mignons', 'milieu', 'mille', 'millefeuille', 'milliers', 'millimetré', 'million', 'min', 'mina', 'minable', 'mine', 'mini', 'miniardises', 'minimal', 'minimaliste', 'minimalistes', 'minime', 'minimes', 'minimum', 'miniscule', 'minuscule', 'minuscules', 'minute', 'minutes', 'minutie', 'minutieux', 'minérale', 'mirabelle', 'miroirs', 'mis', 'mise', 'mises', 'miso', 'mission', 'mixte', 'miyazaki', 'mmontparnadse', 'mn', 'mob', 'mobilier', 'mobster', 'moche', 'mode', 'moderation', 'moderne', 'moderniser', 'modernité', 'modeste', 'modifications', 'modifier', 'modérée', 'moelle', 'moelleux', 'moi', 'moindre', 'moindres', 'moins', 'mois', 'moitié', 'mojito', 'mole', 'molles', 'molto', 'moment', 'moments', 'mon', 'monacale', 'monde', 'mondialement', 'monnaie', 'monsieur', 'montagnard', 'montagnes', 'montant', 'monter', 'montmartre', 'montparnasse', 'montré', 'moque', 'moquer', 'moqueur', 'moral', 'morceaux', 'moret', 'moribondes', 'mot', 'motivé', 'motivés', 'mots', 'mou', 'moucherons', 'mouffetard', 'moules', 'moulin', 'moultes', 'mousse', 'moutarde', 'moyen', 'moyenne', 'moyennement', 'moyennes', 'moyens', 'mozzarella', 'mozzas', 'mr', 'mulet', 'multiples', 'multitude', 'mumi', 'mundo', 'mur', 'mural', 'murs', 'musical', 'musique', 'must', 'musée', 'mutiste', 'my', 'myriade', 'myrtilles', 'mythique', 'mère', 'mères', 'mètre', 'mètres', 'mécanique', 'mécontents', 'médecin', 'médiatisé', 'médiocre', 'médiocres', 'méditation', 'méditerranée', 'médium', 'mélange', 'mélangeant', 'mélangent', 'mélanger', 'mélanges', 'mélangée', 'mémoire', 'mémoires', 'mémorable', 'mémorables', 'méprendre', 'méprisant', 'méritant', 'mérite', 'méritent', 'mériter', 'mériterait', 'méritées', 'mérités', 'métier', 'métiers', 'métro', 'météo', 'mêlant', 'même', 'mêmes', 'naan', 'nage', 'nagent', 'nan', 'nancy', 'nans', 'napolitaines', 'naranja', 'narcis', 'narciz', 'nata', 'nature', 'naturel', 'naturellement', 'naufrage', 'navrant', 'ne', 'nectar', 'needed', 'negatif', 'neige', 'nems', 'nerfs', 'nerveuse', 'net', 'nets', 'nettement', 'neuf', 'neutre', 'neutres', 'nez', 'ni', 'niché', 'nickel', 'nico', 'nicolas', 'night', 'niveau', 'no', 'nobles', 'noir', 'noire', 'noires', 'noirs', 'noix', 'nom', 'nombre', 'nombreuse', 'nombreuses', 'nombreux', 'nommé', 'noms', 'non', 'nonchalant', 'normal', 'norme', 'norvégienne', 'nos', 'nossa', 'notamment', 'note', 'noter', 'notes', 'notoriété', 'notre', 'noté', 'nougat', 'nouille', 'nouilles', 'nounours', 'nourriture', 'nous', 'nouveau', 'nouveautés', 'nouveaux', 'nouvel', 'nouvelle', 'nouvelles', 'novateur', 'novatrice', 'novembre', 'noyé', 'noyées', 'nuage', 'nuit', 'nuits', 'nul', 'nulle', 'numéro', 'nutella', 'nº', 'né', 'néanmoins', 'nécessaire', 'nécessairement', 'nécessité', 'négatif', 'négatifs', 'négative', 'objet', 'obligations', 'obligatoire', 'obligatoires', 'oblige', 'obliger', 'obligé', 'obscurité', 'observation', 'obséquieux', 'obséquiosité', 'obtenir', 'obtenu', 'obtiendrez', 'occasion', 'occasionnellement', 'occasions', 'occidentale', 'occupe', 'occuper', 'occupé', 'occupées', 'octobre', 'océan', 'odeur', 'odeurs', 'odieux', 'odorat', 'odyssee', 'oeil', 'oeuf', 'oeufs', 'oeuvre', 'oeuvres', 'offert', 'offerte', 'offertes', 'offerts', 'officiait', 'officiellement', 'officielles', 'officier', 'offrait', 'offre', 'offrent', 'offres', 'offrir', 'offrira', 'offrons', 'offusqué', 'ogre', 'oie', 'oignon', 'oignons', 'ok', 'olive', 'olives', 'ombre', 'omelette', 'omniprésent', 'on', 'onctueuses', 'onde', 'ondes', 'onglet', 'onions', 'ont', 'ontinu', 'opinion', 'opportunité', 'opposé', 'oppressé', 'option', 'options', 'optons', 'opté', 'opère', 'opération', 'opére', 'orange', 'orateur', 'ordre', 'oreille', 'organisant', 'organisation', 'orgie', 'orgue', 'orgueilleuse', 'orient', 'oriental', 'orientale', 'orienté', 'original', 'originale', 'originales', 'originalité', 'originalités', 'originaux', 'origine', 'orloff', 'ormeaux', 'orsay', 'os', 'ostentation', 'ostentatoire', 'ostreiculteur', 'osé', 'ou', 'oublie', 'oublier', 'oublierai', 'oublié', 'oubliée', 'ouest', 'ouf', 'oui', 'our', 'oursins', 'outre', 'outrés', 'ouvert', 'ouverte', 'ouverts', 'ouverture', 'ouvre', 'ouvrir', 'overratings', 'oxte', 'où', 'oú', 'pad', 'page', 'paie', 'paille', 'pain', 'paine', 'pains', 'pair', 'paisible', 'pakistanais', 'palace', 'palaces', 'palais', 'palece', 'palet', 'palets', 'palmiers', 'palourde', 'panais', 'panini', 'paninis', 'panna', 'pans', 'panthéon', 'papa', 'papier', 'papille', 'papilles', 'papillesl', 'papillon', 'par', 'parait', 'parallèle', 'paraît', 'parce', 'parceque', 'parcimonieusement', 'parcours', 'pardi', 'pardonner', 'pardonné', 'pareil', 'parents', 'parfais', 'parfait', 'parfaite', 'parfaitement', 'parfaites', 'parfaits', 'parfaitun', 'parfois', 'parfum', 'parfums', 'parfumé', 'parfumée', 'parfuméedenseparfaite', 'parie', 'paris', 'parisien', 'parisienne', 'parisiennes', 'parisiens', 'parisplus', 'parlait', 'parle', 'parler', 'parlé', 'parme', 'parmentier', 'parmesan', 'parmi', 'parmis', 'parsemés', 'part', 'partage', 'partageons', 'partager', 'partagé', 'partagées', 'partagés', 'partait', 'parte', 'partenaire', 'parti', 'participe', 'particularités', 'particulier', 'particulière', 'particulièrement', 'particulières', 'partie', 'partions', 'partir', 'partis', 'partons', 'partout', 'parts', 'paru', 'pas', 'passable', 'passage', 'passages', 'passait', 'passant', 'passe', 'passent', 'passer', 'passera', 'passerez', 'passez', 'passiez', 'passion', 'passionnant', 'passionné', 'passionnés', 'passons', 'passé', 'passée', 'passées', 'passés', 'pasteis', 'patate', 'pate', 'pathétique', 'patience', 'patient', 'patienter', 'patienté', 'patisseries', 'patissier', 'pato', 'patrice', 'patrimoine', 'patron', 'patronne', 'patrons', 'paul', 'pause', 'pauvre', 'pauvres', 'paye', 'payer', 'payes', 'pays', 'payé', 'paz', 'pdt', 'peine', 'peint', 'peinture', 'pendant', 'pensais', 'pensait', 'pensant', 'pense', 'pensez', 'pensions', 'pensé', 'pensées', 'peps', 'perchée', 'perd', 'perde', 'perdent', 'perdre', 'perdue', 'pere', 'perfection', 'perfide', 'periode', 'permanence', 'permanent', 'permet', 'permettant', 'permettent', 'permettrait', 'permis', 'pernand', 'pers', 'personel', 'personnage', 'personnalisation', 'personnalisé', 'personnalité', 'personnalités', 'personne', 'personnel', 'personnelle', 'personnellement', 'personnels', 'personnes', 'pertinente', 'pertinents', 'pete', 'petit', 'petite', 'petites', 'petits', 'peu', 'peuplent', 'peut', 'peuvent', 'peux', 'pg', 'pharmaceutiques', 'phase', 'philharmonie', 'pho', 'photo', 'photos', 'phrase', 'physiques', 'pianovin', 'pianovins', 'pichet', 'picon', 'piece', 'pied', 'pieds', 'piege', 'pieges', 'pierre', 'pierres', 'pigale', 'pigalle', 'pigeon', 'pigeonneau', 'piles', 'pilote', 'piments', 'pinces', 'pinot', 'pintade', 'pintes', 'piquante', 'pire', 'pistache', 'pistaches', 'pita', 'pitoyable', 'pittoresque', 'pizza', 'pizzaiolo', 'pizzas', 'pizzeria', 'pièce', 'piège', 'piètre', 'place', 'placeambiance', 'places', 'placette', 'placé', 'placécadre', 'placée', 'placés', 'plafond', 'plaindre', 'plaint', 'plaisant', 'plaisanterie', 'plaisanteries', 'plaisir', 'plaisirs', 'plaisirservice', 'plan', 'planches', 'plane', 'plans', 'planète', 'plaque', 'plaques', 'plastique', 'plat', 'plateau', 'plateaux', 'plats', 'plaît', 'plein', 'pleine', 'pleinement', 'pleins', 'pleurer', 'plongera', 'plouc', 'plu', 'pluie', 'plupart', 'plus', 'plusieurs', 'plusle', 'plutot', 'plutôt', 'pluvieux', 'poche', 'poché', 'poellé', 'poignée', 'poil', 'point', 'pointe', 'points', 'poire', 'poireaux', 'poires', 'pois', 'poisson', 'poissons', 'poitrine', 'poivrons', 'poivré', 'polie', 'politesse', 'polémique', 'pomme', 'pommes', 'pompeux', 'pompidou', 'pompon', 'ponpon', 'pop', 'populaire', 'porc', 'porte', 'portefeuille', 'porter', 'portion', 'portions', 'porté', 'portée', 'pose', 'poser', 'positif', 'positifs', 'position', 'positionnés', 'positive', 'positives', 'possibilité', 'possibilités', 'possible', 'possèdent', 'posées', 'pot', 'potagère', 'potatoes', 'potence', 'potentielle', 'potes', 'pots', 'poubelle', 'pouce', 'poulet', 'poulets', 'poulpe', 'poulpes', 'pour', 'pourboire', 'pournotre', 'pourquoi', 'pourra', 'pourraient', 'pourrait', 'pourries', 'pourtant', 'pousse', 'poussent', 'pousser', 'poussez', 'poussiéreux', 'poussé', 'poutargue', 'pouvais', 'pouvait', 'pouvant', 'pouvez', 'pouvions', 'pouvoir', 'pouvons', 'poésie', 'poêlé', 'prague', 'praliné', 'pratique', 'pratiquement', 'pre', 'preferais', 'premier', 'premiere', 'premiers', 'première', 'premièrement', 'premières', 'prenant', 'prend', 'prendre', 'prends', 'prenez', 'prenne', 'prennent', 'prennes', 'prenons', 'prepara', 'prepareé', 'pres', 'presentation', 'presente', 'presque', 'pressait', 'presser', 'pressé', 'pressée', 'pressés', 'prestance', 'prestation', 'prestations', 'prestige', 'prestigieux', 'presume', 'preuve', 'prices', 'prie', 'principal', 'principale', 'principaux', 'priori', 'priorité', 'pris', 'prise', 'prises', 'prisé', 'prit', 'privatisé', 'privilège', 'privilégiés', 'privé', 'prix', 'prixc', 'pro', 'probablement', 'problème', 'problèmes', 'processus', 'prochaine', 'prochainement', 'proche', 'proches', 'procurent', 'produit', 'produits', 'professionalisme', 'professionnalisme', 'professionnel', 'professionnelle', 'professionnels', 'profil', 'profiler', 'profit', 'profite', 'profiter', 'profiteroles', 'profité', 'profondément', 'progresser', 'progression', 'progressivement', 'prohibitifs', 'projecteur', 'promenant', 'promene', 'promesses', 'prometteur', 'promises', 'promo', 'prononcée', 'prononcées', 'proportions', 'propos', 'proposait', 'proposant', 'propose', 'proposer', 'proposition', 'propositions', 'proposé', 'proposée', 'proposées', 'proposés', 'propre', 'propres', 'propreté', 'proprio', 'proprios', 'propriétaire', 'propriétaires', 'pros', 'protocolaire', 'prouvé', 'provenant', 'province', 'proximité', 'prudent', 'près', 'pré', 'préalable', 'précieusement', 'précieux', 'précipitamment', 'précis', 'précise', 'précision', 'précisé', 'précédent', 'précédente', 'précédentes', 'précédents', 'prédis', 'préfère', 'préfèrez', 'préférable', 'préférence', 'préférer', 'préféré', 'préférée', 'préférées', 'préférés', 'prénom', 'préparation', 'préparations', 'prépare', 'préparent', 'préparer', 'préparez', 'préparé', 'préparées', 'préparés', 'prés', 'présence', 'présent', 'présentait', 'présentation', 'présentations', 'présente', 'présentent', 'présenter', 'présenterait', 'présentes', 'présents', 'présenté', 'présentés', 'prétentieuse', 'prétentieux', 'prétention', 'prétexte', 'prévenant', 'prévenir', 'prévenu', 'prévenus', 'prévoir', 'prévoyez', 'prévu', 'prévues', 'prêt', 'prête', 'pseudo', 'ptits', 'pu', 'publique', 'puent', 'puis', 'puisqu', 'puisque', 'puissante', 'puisse', 'punch', 'pupilles', 'pur', 'pure', 'pursuit', 'purée', 'pyrénées', 'pâle', 'pâte', 'pâtes', 'pâteuse', 'pâtisserie', 'pâtisseries', 'pâté', 'pâtés', 'pèse', 'pénétrons', 'pépite', 'période', 'pétales', 'pétillant', 'pêche', 'pêcher', 'qd', 'qqch', 'qqs', 'qu', 'quadragénaires', 'quais', 'qualifier', 'qualitatif', 'qualitatifs', 'qualitatives', 'qualite', 'qualité', 'qualités', 'quand', 'quant', 'quantité', 'quantités', 'quarante', 'quart', 'quartier', 'quartierplus', 'quartiers', 'quasi', 'quasiment', 'quatre', 'que', 'quel', 'quelconque', 'quelconques', 'quelle', 'quelqu', 'quelque', 'quelques', 'quels', 'quenelle', 'quenelles', 'quentin', 'quesadilla', 'question', 'questions', 'queue', 'queues', 'qui', 'quilles', 'quinoa', 'quitte', 'quitter', 'quitté', 'quoi', 'quoiqu', 'quoique', 'rables', 'raccrocher', 'raccrohe', 'rachitique', 'racine', 'racolleur', 'radieux', 'raffinement', 'raffiné', 'raffinée', 'raffinéedesserts', 'raffinées', 'raffinéetout', 'raffinés', 'rafiné', 'rafinés', 'raie', 'raisins', 'raison', 'raisonnable', 'raisonnables', 'rajoute', 'rajouter', 'rajoutez', 'rajouté', 'rajoutée', 'ramen', 'ramens', 'ramequins', 'randonnées', 'rang', 'ranger', 'rangs', 'rapide', 'rapidement', 'rapidité', 'rappeler', 'rappelle', 'rapport', 'rapprochée', 'rapprochées', 'rare', 'rarement', 'rares', 'ras', 'rassasient', 'rassasié', 'rassasiés', 'rassemble', 'rassurant', 'ratatouille', 'rate', 'rater', 'ratez', 'rations', 'rattrapé', 'raté', 'ravi', 'ravie', 'ravies', 'raviole', 'ravioles', 'ravioli', 'raviolis', 'ravira', 'ravis', 'ravissent', 'rayé', 'rdv', 'rebords', 'rebutait', 'reception', 'recette', 'recettes', 'recevoir', 'recherchant', 'recherche', 'recherches', 'recherchions', 'recherché', 'recherchée', 'recherchées', 'rechignait', 'recommandable', 'recommandation', 'recommandations', 'recommande', 'recommandeplus', 'recommander', 'recommanderai', 'recommanderais', 'recommandons', 'recommandonsplus', 'recommandé', 'recommence', 'recommende', 'reconduits', 'reconnaissez', 'reconnaître', 'reconnue', 'recours', 'recouvertes', 'recruteur', 'recréé', 'recu', 'redemande', 'redire', 'redonner', 'redécouvrir', 'refaire', 'refait', 'reflet', 'reflètes', 'refouler', 'refus', 'refusant', 'refuser', 'regal', 'regard', 'regardant', 'regarde', 'regarder', 'regards', 'regime', 'regis', 'registre', 'regorge', 'regret', 'regrets', 'regrettable', 'regrette', 'regrettera', 'regretterez', 'regrettons', 'regretté', 'rehaussée', 'reinette', 'rejetant', 'rejoindre', 'relais', 'relater', 'relative', 'relativement', 'relaxe', 'relevées', 'relish', 'relâchez', 'relèvent', 'remarquable', 'remarquablement', 'remarquableplus', 'remarquables', 'remarque', 'remarquer', 'remarques', 'remarquons', 'remarqué', 'remercie', 'remerciements', 'remettrai', 'remettrais', 'remettre', 'remise', 'remontée', 'remplacé', 'rempli', 'remplie', 'remplir', 'remplis', 'remportés', 'rencontre', 'rencontrer', 'rencontré', 'rend', 'rendez', 'rendre', 'rends', 'rendu', 'rendue', 'rendus', 'renforcer', 'renom', 'renommée', 'renouveler', 'renouveller', 'renouvelée', 'rentable', 'rentrant', 'rentrer', 'rentrez', 'rentrons', 'rentré', 'rentrés', 'renversé', 'rené', 'repartent', 'repartie', 'repartirai', 'repartis', 'repas', 'repasc', 'repeindre', 'repond', 'reportage', 'reposé', 'reprendre', 'represente', 'reprises', 'reproche', 'représentative', 'repu', 'requièrentselon', 'resa', 'reservation', 'reserve', 'reserver', 'respect', 'respectant', 'respectueux', 'respecté', 'respectées', 'respire', 'responsable', 'responsables', 'ressemblait', 'ressemblant', 'ressemble', 'ressent', 'ressenti', 'ressort', 'restant', 'restau', 'restaurant', 'restaurants', 'restaurateur', 'restaurateurs', 'restauration', 'restaurent', 'restaurer', 'restautant', 'reste', 'restent', 'rester', 'restera', 'resterez', 'restez', 'resto', 'restopolitan', 'restos', 'restreint', 'resté', 'restée', 'restés', 'resume', 'retard', 'retaurant', 'retenir', 'retenons', 'retient', 'retirer', 'retiré', 'retour', 'retourne', 'retourner', 'retournera', 'retournerai', 'retournerais', 'retournerons', 'retourné', 'retournés', 'retours', 'retrait', 'retrouve', 'retrouvent', 'retrouver', 'retrouvons', 'retrouvé', 'retrouvée', 'retrouvés', 'revalorisées', 'revanche', 'reve', 'reveiller', 'revelation', 'revenait', 'revenir', 'revenu', 'revenus', 'reviendra', 'reviendrai', 'reviendrais', 'reviendrons', 'reviennent', 'reviens', 'revient', 'revisiter', 'revisité', 'revisitée', 'revisités', 'revoir', 'revoirnous', 'rez', 'reçois', 'reçu', 'rhum', 'rhône', 'riche', 'riches', 'richesse', 'rideau', 'ridicule', 'ridicules', 'rien', 'riesling', 'rigides', 'rigolo', 'rigueur', 'rillettes', 'ringard', 'rires', 'ris', 'risotto', 'risque', 'ritz', 'rivaliser', 'rive', 'riz', 'roblochon', 'robuchon', 'rodage', 'rodées', 'rognon', 'rognons', 'roignons', 'rois', 'romantique', 'romantisme', 'ronde', 'rondelles', 'roof', 'roomies', 'roquette', 'rose', 'roses', 'rosiers', 'rostang', 'rosé', 'roti', 'roue', 'rouge', 'rouget', 'rougets', 'roulés', 'rouquette', 'routard', 'royal', 'royale', 'royaleluxueuse', 'royalement', 'royales', 'rtl', 'rue', 'ruelle', 'rues', 'rugby', 'ruiner', 'ruisseau', 'rupture', 'rustique', 'rutilante', 'rythme', 'rythmé', 'râter', 'règne', 'réactif', 'réaction', 'réactive', 'réalisations', 'réalise', 'réaliser', 'réalisé', 'réalisée', 'réalisés', 'récemment', 'récent', 'réception', 'réchauffent', 'réchauffer', 'réchauffés', 'récidivé', 'réclame', 'réclamer', 'récole', 'réconfirme', 'récupération', 'réduction', 'réduit', 'réduite', 'réel', 'réelle', 'réellement', 'réels', 'réflexion', 'réflexions', 'réforme', 'référence', 'régal', 'régale', 'régaler', 'régalé', 'régalée', 'régalés', 'régimes', 'région', 'régis', 'régler', 'réglés', 'régressives', 'régulier', 'régulièrement', 'réinventer', 'réjouis', 'réjouit', 'rénové', 'réorienté', 'réouverture', 'répits', 'répond', 'répondait', 'réponds', 'répondu', 'réponse', 'réponses', 'république', 'répugnante', 'réputation', 'réputé', 'répéter', 'réservation', 'réservations', 'réserve', 'réserver', 'réservez', 'réservé', 'réservée', 'réservées', 'réservés', 'réside', 'résidence', 'résident', 'résister', 'résolument', 'résonnent', 'résoudre', 'résultant', 'résultat', 'résume', 'résumé', 'rétorque', 'rétro', 'rétrogradé', 'réuni', 'réunies', 'réunion', 'réunis', 'réussi', 'réussie', 'réussies', 'réussite', 'réveille', 'réveillon', 'réveillé', 'révolu', 'révolue', 'révélé', 'rêvais', 'rêve', 'rêver', 'rêvions', 'rêvé', 'rôti', 'sa', 'sable', 'sac', 'sachant', 'sachet', 'sachez', 'sacoches', 'sacré', 'sacs', 'safran', 'safranée', 'saignante', 'sain', 'sains', 'saint', 'saints', 'sais', 'saison', 'saisons', 'sait', 'saj', 'saké', 'salade', 'salades', 'sale', 'salee', 'saleté', 'salive', 'salle', 'salles', 'salon', 'salons', 'saluer', 'salé', 'salée', 'salées', 'saléplus', 'salés', 'samatan', 'samedi', 'sandre', 'sandwich', 'sandwicherie', 'sandwichs', 'sanitaires', 'sans', 'saouleront', 'sardines', 'sarrasin', 'sas', 'sashimi', 'sashimis', 'satisfaire', 'satisfaisant', 'satisfaisante', 'satisfait', 'satisfaits', 'sauce', 'sauces', 'saucé', 'sauf', 'saumon', 'saura', 'saurons', 'sautait', 'sautées', 'sauvait', 'sauve', 'sauver', 'savais', 'savait', 'savant', 'savent', 'saveur', 'saveurs', 'savez', 'savions', 'savoie', 'savoir', 'savons', 'savourer', 'savoureuse', 'savoureuses', 'savoureux', 'scalpel', 'scandale', 'scandaleux', 'sceau', 'scintiller', 'scolaire', 'scotché', 'sculptes', 'scène', 'sdf', 'se', 'seasons', 'seau', 'sec', 'second', 'seconde', 'secret', 'secs', 'seduire', 'seiche', 'seine', 'seizième', 'sel', 'select', 'selection', 'selon', 'semaine', 'semaines', 'semblait', 'semblant', 'semble', 'semblent', 'semblé', 'semelle', 'semoule', 'sen', 'senderens', 'sens', 'sensation', 'sensationnel', 'sensations', 'sensibilisée', 'sensible', 'sensé', 'sent', 'sentait', 'senti', 'sentiment', 'sentions', 'sentir', 'sentis', 'sentons', 'sept', 'septembre', 'septime', 'sera', 'seraient', 'serait', 'sercice', 'serez', 'sergent', 'serré', 'serrées', 'serrés', 'sert', 'servait', 'servant', 'servent', 'serveur', 'serveurs', 'serveuse', 'serveuses', 'servi', 'serviable', 'serviables', 'service', 'services', 'servie', 'servies', 'serviette', 'servir', 'servis', 'ses', 'set', 'sets', 'seul', 'seule', 'seulement', 'seules', 'seuls', 'show', 'si', 'side', 'sidéré', 'siecle', 'sien', 'signalé', 'signature', 'signatures', 'signe', 'significative', 'signifie', 'signifié', 'silla', 'similaires', 'simple', 'simplement', 'simples', 'simplette', 'simplicité', 'sincère', 'sincèrement', 'sinon', 'siplus', 'site', 'situation', 'situe', 'situé', 'située', 'sitôt', 'six', 'siècle', 'sièges', 'slim', 'snack', 'snacké', 'snob', 'sobre', 'sociable', 'sodas', 'soeur', 'soi', 'soient', 'soigne', 'soigneusement', 'soigné', 'soignée', 'soin', 'soinplus', 'soins', 'soir', 'soiree', 'soirée', 'sois', 'soit', 'soja', 'sol', 'sole', 'soleil', 'soles', 'sollicitationcuisine', 'sombre', 'somme', 'sommelier', 'sommeliers', 'sommelière', 'sommes', 'sommet', 'somptueuse', 'somptueux', 'son', 'sonore', 'sonorités', 'sont', 'sophie', 'sorbonne', 'sors', 'sort', 'sortaient', 'sortant', 'sorte', 'sortent', 'sortes', 'sorti', 'sortie', 'sorties', 'sortir', 'sortis', 'souci', 'soucieux', 'soucis', 'soufflant', 'souffle', 'soufflé', 'soufflée', 'souffrir', 'souhait', 'souhaite', 'souhaitent', 'souhaitez', 'souhaitions', 'souhaits', 'souhaité', 'soumis', 'soupe', 'souper', 'soupes', 'soupçon', 'sourcés', 'souri', 'souriant', 'souriante', 'souriants', 'sourire', 'sourirerapiditéefficacitéqualité', 'sourires', 'souris', 'sourit', 'sous', 'souvenir', 'souvenirs', 'souvent', 'souviendra', 'soyons', 'spacieuses', 'spacieux', 'spartacus', 'spartiate', 'specialités', 'specificités', 'spectacle', 'spectaculaire', 'spiritueux', 'splendeur', 'splendide', 'spot', 'spécial', 'spéciale', 'spécialement', 'spécialisé', 'spécialité', 'spécialités', 'spécifiques', 'spécifié', 'square', 'squelettique', 'st', 'stable', 'staff', 'stagiaires', 'standards', 'standing', 'steak', 'steakhouses', 'steaks', 'stick', 'street', 'stress', 'structures', 'style', 'stéréotypes', 'su', 'subiile', 'sublime', 'sublimer', 'sublimes', 'sublimespigeon', 'sublimé', 'sublimées', 'substance', 'subtil', 'subtile', 'subtilement', 'subtiles', 'subtilité', 'subtils', 'succession', 'succulent', 'succulente', 'succulentes', 'succulents', 'succèdent', 'succès', 'sucre', 'sucrees', 'sucré', 'sucrée', 'sucrées', 'sucrés', 'sucs', 'sud', 'suffisamment', 'suffisant', 'suffisantes', 'suffit', 'suggestions', 'suggéré', 'suis', 'suit', 'suite', 'suivant', 'suivante', 'suivants', 'suivent', 'suivi', 'suivies', 'suivis', 'suivons', 'suivre', 'suki', 'sulfurisé', 'super', 'superbe', 'superbement', 'superbes', 'superlatifs', 'supermarché', 'superposé', 'supers', 'supervisée', 'supplément', 'supplémentaire', 'suppléments', 'supplémnt', 'supportable', 'supporter', 'supports', 'supposé', 'supposée', 'suprenant', 'suprise', 'suprême', 'supérieure', 'sur', 'surannée', 'surchargée', 'surcroît', 'surestimée', 'surface', 'surfait', 'surfaite', 'surgeles', 'surgelé', 'surgelés', 'surprenant', 'surprenante', 'surprenantes', 'surprenants', 'surprendre', 'surpris', 'surprise', 'surprises', 'surtout', 'suscite', 'sushi', 'sushis', 'suzette', 'suzettes', 'sylvestre', 'sympa', 'sympas', 'sympathie', 'sympathique', 'sympathiques', 'sympatique', 'symphonie', 'synchronisation', 'syrah', 'système', 'systématiquement', 'sèche', 'sèchement', 'sèches', 'séduire', 'séduisante', 'séduisants', 'séduit', 'séjour', 'séjourné', 'sélection', 'sélectionnés', 'séminaire', 'séparer', 'série', 'sérieusement', 'sérieux', 'sévère', 'sûr', 'sûre', 'sûrement', 'sœur', 'ta', 'tabasser', 'table', 'tables', 'tablesplus', 'tablette', 'tabouleh', 'taboulé', 'tabourets', 'taché', 'tacos', 'tact', 'taille', 'tailles', 'taillés', 'taire', 'takayagani', 'talent', 'talentueux', 'talons', 'tamisée', 'tandis', 'tant', 'tantes', 'tapas', 'tape', 'tapissés', 'tarbais', 'tard', 'tarif', 'tarifs', 'tarot', 'tartare', 'tartares', 'tarte', 'tartine', 'tartines', 'tas', 'tasse', 'tasty', 'tat', 'tata', 'taïwanais', 'te', 'tea', 'teamkangourou', 'technique', 'tel', 'telle', 'tellement', 'telles', 'tels', 'temps', 'tempura', 'température', 'tenait', 'tendance', 'tendre', 'tendrele', 'tendresse', 'teneur', 'teniendo', 'tentante', 'tentatives', 'tente', 'tenter', 'tenture', 'tenu', 'tenue', 'teppan', 'teppanyaki', 'terasse', 'tergiverser', 'teriyaki', 'terme', 'termes', 'terminer', 'terminé', 'terminée', 'terrail', 'terrasse', 'terre', 'terres', 'terrible', 'terrible5', 'terrines', 'terroristes', 'tes', 'test', 'teste', 'tester', 'testé', 'testés', 'textures', 'thaï', 'the', 'theâtre', 'thhis', 'thierry', 'thon', 'thème', 'thé', 'théatre', 'thélème', 'théâtre', 'théâtres', 'tibétaine', 'ticket', 'tienne', 'tiennent', 'tiens', 'tient', 'tika', 'tikka', 'time', 'timé', 'tiramisu', 'tirelire', 'tissu', 'titille', 'titre', 'titres', 'tiède', 'tièdes', 'tj', 'tjrs', 'tjs', 'toasté', 'toastés', 'toi', 'toilettes', 'toit', 'toits', 'tokyo', 'tomate', 'tomates', 'tombais', 'tombe', 'tombent', 'tomber', 'tombons', 'tombé', 'tombée', 'tombés', 'ton', 'tonitruantes', 'top', 'topinambour', 'toppersonnel', 'tops', 'toqué', 'tot', 'total', 'totale', 'totalement', 'touche', 'touchent', 'toucher', 'touches', 'touchés', 'toujours', 'toulousainesmais', 'tour', 'tourisme', 'touriste', 'touristes', 'touristiques', 'tourné', 'tourte', 'tourteau', 'tourteaux', 'tous', 'tout', 'toutain', 'toute', 'toutefois', 'toutes', 'touthenkamon', 'tradition', 'traditionnel', 'traditionnelle', 'traditionnelles', 'traditionnels', 'traditions', 'train', 'trainer', 'traite', 'traiteur', 'traité', 'traités', 'trajet', 'tranche', 'tranchent', 'tranches', 'tranquille', 'transmets', 'transormés', 'transpiration', 'transporte', 'transportée', 'transportés', 'traumatisante', 'travail', 'travaille', 'travaillez', 'travaillé', 'travaillée', 'travaillées', 'travaillés', 'travaux', 'travers', 'traverser', 'trempée', 'trente', 'tres', 'triomphe', 'trip', 'tripadvisor', 'triste', 'tristesse', 'trivial', 'trocadéro', 'trois', 'troisième', 'trompent', 'trop', 'tropez', 'trottoir', 'trouvailles', 'trouvant', 'trouve', 'trouvent', 'trouver', 'trouverez', 'trouvé', 'trouvée', 'trouvées', 'trouvés', 'truc', 'truffe', 'truffes', 'truffés', 'truite', 'très', 'trèstrèsdécevant', 'trés', 'trésor', 'trône', 'ttripadvisor', 'tu', 'tuer', 'tuerie', 'tueries', 'tuiles', 'tumulte', 'turbot', 'turnover', 'type', 'types', 'typique', 'typiques', 'tâches', 'téléphonant', 'téléphone', 'téléphones', 'télérama', 'témoin', 'témoins', 'térail', 'tête', 'tôt', 'ultra', 'un', 'unanime', 'unanimes', 'underground', 'une', 'unes', 'unique', 'uniquement', 'uniques', 'universitaire', 'uns', 'urgence', 'usage', 'usurpé', 'utilise', 'va', 'vacance', 'vacances', 'vache', 'vaguement', 'vais', 'vaisselle', 'vaissellecouvertssalle', 'valait', 'valentin', 'valeur', 'validés', 'vanille', 'vanté', 'vaqueras', 'varie', 'variee', 'varier', 'varié', 'variée', 'variées', 'variés', 'variété', 'variétés', 'vas', 'vaut', 'veau', 'veaucoquilles', 'veaux', 'vegan', 'vegeburger', 'vegetal', 'veille', 'venait', 'venant', 'vende', 'vendent', 'vendeur', 'vendeuse', 'vendeuses', 'vendredi', 'vendôme', 'venez', 'venions', 'venir', 'venons', 'vent', 'vente', 'ventre', 'venu', 'venue', 'venues', 'venus', 'verdure', 'vergelesses', 'verra', 'verre', 'verres', 'verres4', 'verrez', 'verrière', 'vers', 'versailles', 'versatile', 'version', 'versus', 'vert', 'verts', 'veste', 'vestiaire', 'vestimentaire', 'veulent', 'veut', 'veux', 'via', 'viande', 'viandes', 'victime', 'victoires', 'vide', 'vie', 'vieil', 'vieille', 'vieillot', 'viendriez', 'vienne', 'viennoiserie', 'viennoiseries', 'vienoiseries', 'viens', 'vient', 'vietnamienne', 'vieux', 'vigato', 'village', 'ville', 'vin', 'vinaigre', 'vinaigrette', 'vinaigrée', 'vincent', 'vingt', 'vingtaine', 'vinle', 'vins', 'vinsur', 'vintage', 'vire', 'virtus', 'virés', 'vis', 'visible', 'visiblement', 'vision', 'visite', 'visiter', 'visites', 'visiteurs', 'visité', 'visitée', 'visuel', 'visuelle', 'visé', 'vit', 'vite', 'vitesse', 'vitrée', 'vitrées', 'vivant', 'vivants', 'vivement', 'vivienne', 'vivons', 'vivre', 'vodka', 'voici', 'voie', 'voient', 'voila', 'voilà', 'voir', 'voire', 'vois', 'voisine', 'voisins', 'voit', 'voiture', 'voiturier', 'voix', 'vol', 'volaille', 'volontier', 'volontiers', 'volonté', 'voluptueux', 'vont', 'vos', 'vosges', 'votre', 'voudrait', 'voulais', 'voulait', 'voulant', 'voulez', 'voulions', 'voulo', 'vouloir', 'voulons', 'voulu', 'vous', 'voyage', 'voyageais', 'voyager', 'voyageurs', 'voyagez', 'voyagé', 'voyant', 'voyons', 'vrai', 'vraie', 'vraies', 'vraiment', 'vrais', 'vraissemblablement', 'vu', 'vue', 'vues', 'vulgaire', 'vulgairement', 'vulgaires', 'vécu', 'végans', 'végé', 'végés', 'végétal', 'végétaliens', 'végétarien', 'végétarienne', 'végétariennes', 'végétariens', 'végétaux', 'vélo', 'vérifier', 'vérifié', 'véritable', 'véritablement', 'vétusté', 'wagyu', 'wahoo', 'waouw', 'wc', 'we', 'web', 'week', 'weekend', 'whaou', 'wifi', 'william', 'wine', 'wines', 'with', 'wola', 'wow', 'xixe', 'xve', 'xvème', 'xxi', 'ya', 'yaki', 'yakitori', 'yaourt', 'yen', 'yeux', 'yoshitaka', 'yuzu', 'ze', 'zen', 'zkg', 'zone', 'zors', 'zouzou', 'à13', 'âges', 'âme', 'ça', 'çe', 'çi', 'çà', 'ème', 'ébahis', 'éblouissement', 'écart', 'écarter', 'échalote', 'échanger', 'échanges', 'échantillons', 'échelle', 'écho', 'échoppe', 'éclair', 'éclairage', 'éclats', 'éclectique', 'éco', 'école', 'écoles', 'économies', 'écorchant', 'écoute', 'écouter', 'écoutez', 'écrevisse', 'écrin', 'écrire', 'écris', 'écrit', 'écrits', 'écrivais', 'écœurant', 'écœurants', 'égale', 'également', 'égard', 'égayé', 'élaboration', 'élaboré', 'élaborée', 'élaborées', 'éleve', 'élevé', 'élevée', 'élevés', 'élitiste', 'éloges', 'élogieuses', 'élogieux', 'éloigner', 'éloignée', 'éloignées', 'élève', 'élégamment', 'élégance', 'élégant', 'élégante', 'élégantpersonnel', 'éléments', 'émerveille', 'émerveillement', 'émerveillé', 'émincé', 'émis', 'émission', 'émotion', 'émotions', 'émulsion', 'énergie', 'énergique', 'énergétique', 'énoncé', 'énorme', 'énormes', 'épais', 'épaisse', 'épaté', 'épatés', 'épaule', 'épicerie', 'épices', 'épicurien', 'épicuriens', 'épicé', 'épicée', 'épicéesmais', 'épicés', 'épinards', 'épisode', 'époque', 'épouse', 'époustouflante', 'époustouflantes', 'époustoufler', 'épuré', 'épurée', 'épuréz', 'équilibre', 'équilibré', 'équilibrée', 'équilibrées', 'équilibrés', 'équipe', 'équipes', 'équipé', 'équivaut', 'éric', 'érudit', 'érythréen', 'ét', 'établi', 'établissement', 'établissementidéalement', 'établissements', 'étage', 'étagères', 'étaient', 'étais', 'était', 'étant', 'étape', 'étapes', 'état', 'états', 'étendu', 'éthique', 'étions', 'étoile', 'étoiles', 'étoilé', 'étoilée', 'étoilés', 'étonnamment', 'étonnant', 'étonnante', 'étonné', 'étonnée', 'étouffante', 'étouffe', 'étranger', 'étrangers', 'étriquée', 'étroit', 'étroite', 'étroites', 'étudiant', 'étudiants', 'étudie', 'étudié', 'étudiées', 'étui', 'été', 'étés', 'évasion', 'éveillent', 'éventé', 'évidement', 'évidemment', 'évidence', 'évident', 'évitant', 'évite', 'éviter', 'évitez', 'évocateurs', 'évolue', 'évolution', 'évoque', 'événement', 'êtes', 'être', 'île', 'œil', 'œuf', 'œufs', 'œuvre']\n",
            "(1534, 6401)\n"
          ],
          "name": "stdout"
        }
      ]
    },
    {
      "cell_type": "code",
      "metadata": {
        "colab": {
          "base_uri": "https://localhost:8080/"
        },
        "id": "-C2ATncN-Ux9",
        "outputId": "0795779b-24e6-42e7-8125-c69b4bcfb048"
      },
      "source": [
        "X.toarray()"
      ],
      "execution_count": null,
      "outputs": [
        {
          "output_type": "execute_result",
          "data": {
            "text/plain": [
              "array([[0., 0., 0., ..., 0., 0., 0.],\n",
              "       [0., 0., 0., ..., 0., 0., 0.],\n",
              "       [0., 0., 0., ..., 0., 0., 0.],\n",
              "       ...,\n",
              "       [0., 0., 0., ..., 0., 0., 0.],\n",
              "       [0., 0., 0., ..., 0., 0., 0.],\n",
              "       [0., 0., 0., ..., 0., 0., 0.]])"
            ]
          },
          "metadata": {
            "tags": []
          },
          "execution_count": 73
        }
      ]
    },
    {
      "cell_type": "code",
      "metadata": {
        "id": "D6ZdbQ6S-ZAt"
      },
      "source": [
        "y=df_texte['sentiment']"
      ],
      "execution_count": null,
      "outputs": []
    },
    {
      "cell_type": "code",
      "metadata": {
        "colab": {
          "base_uri": "https://localhost:8080/"
        },
        "id": "UHtPL2a--c99",
        "outputId": "51f540f1-08e0-42a8-fc3e-6f907ab54c72"
      },
      "source": [
        "X"
      ],
      "execution_count": null,
      "outputs": [
        {
          "output_type": "execute_result",
          "data": {
            "text/plain": [
              "<1534x6401 sparse matrix of type '<class 'numpy.float64'>'\n",
              "\twith 50247 stored elements in Compressed Sparse Row format>"
            ]
          },
          "metadata": {
            "tags": []
          },
          "execution_count": 75
        }
      ]
    },
    {
      "cell_type": "code",
      "metadata": {
        "colab": {
          "base_uri": "https://localhost:8080/"
        },
        "id": "H17cOL-Y-g5R",
        "outputId": "6b814cad-ef65-41b4-8e17-a248800a6662"
      },
      "source": [
        "y"
      ],
      "execution_count": null,
      "outputs": [
        {
          "output_type": "execute_result",
          "data": {
            "text/plain": [
              "0       1\n",
              "1       1\n",
              "2       1\n",
              "3       1\n",
              "4       1\n",
              "       ..\n",
              "1612    1\n",
              "1613    1\n",
              "1614    0\n",
              "1615    1\n",
              "1616    1\n",
              "Name: sentiment, Length: 1534, dtype: int64"
            ]
          },
          "metadata": {
            "tags": []
          },
          "execution_count": 76
        }
      ]
    },
    {
      "cell_type": "code",
      "metadata": {
        "colab": {
          "base_uri": "https://localhost:8080/"
        },
        "id": "KxMKS8FbLHyc",
        "outputId": "025498e5-5841-4c3e-d74c-9f8d3183e69a"
      },
      "source": [
        "y_pred1"
      ],
      "execution_count": null,
      "outputs": [
        {
          "output_type": "execute_result",
          "data": {
            "text/plain": [
              "array([0, 1, 1, 1, 1, 1, 1, 0, 1, 0, 1, 1, 1, 1, 1, 0, 1, 0, 1, 0, 0, 0,\n",
              "       0, 0, 1, 1, 0, 1, 0, 1, 1, 1, 1, 1, 1, 1, 1, 1, 1, 1, 0, 1, 1, 1,\n",
              "       0, 0, 1, 1, 1, 1, 1, 1, 1, 1, 1, 1, 1, 0, 1, 1, 1, 1, 1, 1, 0, 1,\n",
              "       1, 1, 0, 1, 1, 1, 1, 1, 1, 1, 1, 1, 0, 0, 0, 1, 0, 0, 1, 1, 1, 0,\n",
              "       0, 1, 0, 1, 1, 0, 1, 1, 1, 0, 1, 1, 1, 0, 1, 0, 1, 0, 1, 1, 0, 1,\n",
              "       1, 0, 1, 1, 1, 0, 1, 1, 0, 1, 0, 1, 1, 1, 1, 1, 1, 0, 1, 0, 1, 0,\n",
              "       1, 0, 1, 1, 0, 1, 1, 0, 0, 1, 1, 1, 0, 0, 1, 1, 1, 0, 0, 1, 1, 0,\n",
              "       0, 0, 1, 1, 0, 0, 0, 1, 1, 1, 1, 0, 0, 0, 1, 1, 1, 1, 0, 1, 0, 1,\n",
              "       0, 0, 1, 1, 1, 0, 1, 1, 1, 1, 1, 0, 0, 0, 0, 0, 1, 1, 1, 1, 1, 1,\n",
              "       0, 1, 1, 1, 0, 0, 0, 1, 1, 0, 1, 0, 1, 1, 1, 1, 1, 0, 0, 1, 1, 1,\n",
              "       1, 1, 1, 1, 1, 0, 1, 1, 1, 1, 1, 1, 1, 1, 1, 1, 1, 1, 1, 1, 0, 1,\n",
              "       0, 1, 1, 1, 1, 1, 0, 1, 1, 1, 0, 0, 0, 0, 1, 1, 1, 1, 1, 1, 0, 1,\n",
              "       0, 1, 1, 0, 1, 0, 0, 1, 0, 1, 1, 1, 1, 1, 1, 0, 1, 1, 1, 1, 0, 1,\n",
              "       1, 0, 1, 1, 1, 0, 1, 1, 0, 1, 1, 1, 1, 0, 1, 1, 0, 0, 1, 0, 0, 0,\n",
              "       0, 1, 0, 1, 0, 0, 1, 1, 1, 0, 1, 1, 0, 1, 1, 1, 1, 1, 0, 1, 0, 0,\n",
              "       1, 1, 0, 1, 1, 1, 1, 1, 1, 0, 1, 0, 0, 0, 0, 1, 1, 1, 1, 1, 0, 0,\n",
              "       1, 1, 1, 1, 1, 1, 1, 1, 1, 1, 1, 1, 0, 1, 1, 1, 0, 0, 0, 0, 1, 1,\n",
              "       1, 1, 1, 1, 1, 1, 0, 0, 1, 1, 1, 1, 0, 1, 0, 1, 1, 1, 1, 1, 0, 1,\n",
              "       0, 0, 1, 0, 1, 1, 1, 1, 0, 1, 1, 1, 1, 1, 1, 0, 0, 1, 1, 1, 1, 1,\n",
              "       1, 1, 0, 1, 1, 1, 0, 0, 0, 1, 0, 0, 1, 1, 1, 1, 1, 1, 0, 1, 0, 1,\n",
              "       0, 0, 1, 1, 1, 1, 1, 1, 1, 0, 1, 1, 1, 0, 1, 0, 1, 1, 1, 1, 1, 1,\n",
              "       1, 1, 1, 0, 1, 1, 1, 0, 1, 0, 0, 0, 1, 0, 1, 1, 0, 1, 0, 1, 0, 1,\n",
              "       0, 0, 1, 0, 1, 1, 0, 1, 1, 0, 0, 1, 1, 1, 0, 1, 1, 0, 0, 1, 1, 1,\n",
              "       1, 1, 0, 1, 0, 1, 0, 1, 0, 0, 0, 0, 1, 1, 0, 1, 0, 1, 0, 1, 0, 1,\n",
              "       0, 1, 1, 0, 1, 1])"
            ]
          },
          "metadata": {
            "tags": []
          },
          "execution_count": 77
        }
      ]
    },
    {
      "cell_type": "code",
      "metadata": {
        "id": "DzfcVopv-ncn"
      },
      "source": [
        "X_train, X_test, y_train, y_test = train_test_split(X, y, test_size=0.2, random_state=42)"
      ],
      "execution_count": null,
      "outputs": []
    },
    {
      "cell_type": "code",
      "metadata": {
        "colab": {
          "base_uri": "https://localhost:8080/"
        },
        "id": "QlSavD4F-ojg",
        "outputId": "69c599c3-e31d-4cfb-e77a-0d3073e5b858"
      },
      "source": [
        "X_train"
      ],
      "execution_count": null,
      "outputs": [
        {
          "output_type": "execute_result",
          "data": {
            "text/plain": [
              "<1227x6401 sparse matrix of type '<class 'numpy.float64'>'\n",
              "\twith 40387 stored elements in Compressed Sparse Row format>"
            ]
          },
          "metadata": {
            "tags": []
          },
          "execution_count": 79
        }
      ]
    },
    {
      "cell_type": "code",
      "metadata": {
        "id": "PYE0A1R--rwF"
      },
      "source": [
        "pipeline = Pipeline([\n",
        "  ('tfidf', TfidfVectorizer()),\n",
        "  ('rfc', RandomForestClassifier())\n",
        "  ])\n",
        "\n",
        "from sklearn import metrics\n",
        "pipeline.fit(list(X_train), list(y_train))\n",
        "predicted = pipeline.predict(list(X_test))\n",
        "print(metrics.classification_report(list(y_test), predicted))\n",
        "\n",
        "joblib.dump(pipeline, 'pipeline_rfc.joblib')\n",
        "\n",
        "parameters = {'tfidf__ngram_range': [(1, 1), (1, 2)],\n",
        "              'tfidf__use_idf': (True, False),\n",
        "              'tfidf__max_df': [0.25, 0.5, 0.75, 1.0],\n",
        "              'tfidf__max_features': [10, 50, 100, 250, 500, 1000, None],\n",
        "              'tfidf__smooth_idf': (True, False),\n",
        "              'tfidf__norm': ('l1', 'l2', None),\n",
        "              }\n",
        "\n",
        "grid = GridSearchCV(pipeline, parameters, cv=2, verbose=1)\n",
        "grid.fit(X, y)\n",
        "print(pipeline)"
      ],
      "execution_count": null,
      "outputs": []
    },
    {
      "cell_type": "code",
      "metadata": {
        "id": "xtpYIlMEu8E9",
        "colab": {
          "base_uri": "https://localhost:8080/"
        },
        "outputId": "5a582bbd-bd8a-4612-f55b-10abe55827ff"
      },
      "source": [
        "from sklearn.feature_extraction.text import CountVectorizer\n",
        "vectorizer = CountVectorizer()\n",
        "X = vectorizer.fit_transform(df_texte['comment'])\n",
        "print(vectorizer.get_feature_names(),len(vectorizer.get_feature_names()))"
      ],
      "execution_count": null,
      "outputs": [
        {
          "output_type": "stream",
          "text": [
            "['00', '00h', '01', '03', '06', '08', '10', '100', '1000', '100000', '100g', '109', '11', '110', '114', '11h45', '12', '12460', '12e', '12h25', '13', '13eme', '13h', '13h30', '14', '145', '14h', '14h30', '15', '150', '15h', '15j', '15km', '16', '165', '16em', '17', '170', '172', '179', '17h40', '18', '185', '1880', '19', '190', '1900', '1920', '195', '19eme', '19h', '19h30', '1bol', '1er', '1ere', '1h', '1h30', '1h45', '1minutes', '20', '200', '2001', '2002', '2006', '2009', '200euros', '2011', '2012', '2014', '2015', '2016', '2017', '2018', '20h', '20h00', '20h30', '21', '2190', '21h30', '21h50', '22', '220', '222g', '22h', '22h00', '22h15', '22h25', '22h30', '23', '23h', '23h30', '24', '25', '26', '27', '27ème', '28', '280', '29', '2e', '2eme', '2emefois', '2emme', '2h30', '30', '300g', '30min', '30ème', '31', '310', '33', '330', '34', '35', '350', '36', '38', '39', '39v', '3cl', '3cm', '3e', '3h', '3h30', '3heures', '3légumes', '3ème', '40', '400', '42', '43', '45', '450', '48', '49', '49cl', '4ieme', '4ème', '50', '500', '52', '55', '59', '5min', '5plus', '5ème', '60', '600', '61', '62', '64', '650', '68', '69', '6e', '6eme', '6ieme', '70', '710', '75008', '78', '79', '7ème', '80', '800m', '85', '8eme', '8ème', '90', '900', '92', '9eme', '9h30', '9ème', 'abasourdi', 'abeille', 'abondance', 'abord', 'abordable', 'abordables', 'aborde', 'aboyer', 'abricot', 'abris', 'absence', 'absent', 'absolue', 'absolument', 'abus', 'abuse', 'accent', 'accepte', 'accepter', 'accepté', 'accessible', 'acceuil', 'acceuillis', 'acceuilservice', 'accommodées', 'accompagnait', 'accompagnant', 'accompagne', 'accompagnement', 'accompagnements', 'accompagnent', 'accompagner', 'accompagné', 'accompagnée', 'accompagnées', 'accompagnés', 'accord', 'accords', 'accueil', 'accueillant', 'accueillante', 'accueillantes', 'accueillants', 'accueille', 'accueillent', 'accueilli', 'accueillie', 'accueillies', 'accueillir', 'accueillis', 'accès', 'accéder', 'achalandé', 'achar', 'achat', 'acheter', 'acheté', 'achetés', 'achever', 'acidité', 'acidulé', 'acollée', 'actif', 'actualisée', 'actuelle', 'actuelles', 'adam', 'adaptent', 'adapté', 'adaptés', 'addition', 'adepte', 'adition', 'adjectif', 'adjuger', 'admettre', 'admiratif', 'admissible', 'adorable', 'adorables', 'adore', 'adorent', 'adoré', 'adossé', 'adresse', 'adresses', 'adressée', 'advisor', 'adéquat', 'affabilité', 'affaire', 'affaires', 'affamé', 'affecté', 'afficher', 'affiché', 'affichés', 'affinent', 'affirmer', 'affirmées', 'affluence', 'affordable', 'affèteries', 'afin', 'agacés', 'agapé', 'agar', 'agassé', 'agenda', 'agissait', 'agneau', 'agrandissent', 'agreable', 'agreablement', 'agreeable', 'agressive', 'agrumes', 'agréable', 'agréablement', 'agréables', 'agréableserveurs', 'agrémentée', 'ah', 'ai', 'aie', 'aient', 'aigu', 'ail', 'ailleurs', 'aimable', 'aimables', 'aimais', 'aime', 'aimer', 'aimerait', 'aimez', 'aimions', 'aimé', 'aimés', 'ainsi', 'aions', 'air', 'airs', 'aisance', 'aise', 'ait', 'ajouter', 'ajouté', 'ajoutées', 'ajuster', 'aki', 'al', 'alain', 'albion', 'alchimie', 'alcool', 'alegria', 'alentours', 'alerte', 'alexandre', 'algue', 'algues', 'aligne', 'alimentaire', 'alimentaires', 'aliments', 'all', 'allaient', 'allais', 'allait', 'allant', 'allechante', 'aller', 'allergies', 'allergique', 'allez', 'alliance', 'alliant', 'allie', 'allier', 'allions', 'allié', 'allons', 'allume', 'allé', 'alléchant', 'alléchante', 'alléchantes', 'allée', 'allés', 'alma', 'alors', 'alternative', 'alternatives', 'altèré', 'amabilité', 'amandes', 'amandiers', 'amateur', 'amateurs', 'amazonie', 'ambiance', 'ambiances', 'ambiant', 'ambiante', 'ame', 'amenés', 'amer', 'americains', 'amertume', 'amex', 'ami', 'amicale', 'amie', 'amies', 'amis', 'amispour', 'amitiés', 'amour', 'amoureux', 'amplement', 'amusante', 'amuse', 'amuses', 'amère', 'améliorations', 'améliorée', 'aménagements', 'aménagé', 'américain', 'américaine', 'an', 'ananas', 'anchois', 'ancien', 'ancienne', 'and', 'andouille', 'ange', 'anges', 'angevin', 'anglais', 'angleterre', 'anguille', 'angus', 'animé', 'ann', 'anne', 'anniversaire', 'anniversaires', 'annonce', 'annoncé', 'annoncées', 'annonçait', 'annulation', 'annulé', 'année', 'années', 'anomalie', 'anormal', 'ans', 'anti', 'antipasti', 'antipathique', 'antoine', 'anton', 'août', 'apaisante', 'apaisé', 'aperitif', 'apero', 'app', 'apparaitre', 'appareil', 'apparemment', 'apparence', 'apparences', 'appartant', 'appartement', 'appartenantba', 'appel', 'appelant', 'appelees', 'appeler', 'appelez', 'appellation', 'appelle', 'appellent', 'appelé', 'appercu', 'application', 'applique', 'appliquée', 'apporte', 'apportent', 'apporter', 'apporté', 'apportés', 'apprecie', 'apprehendais', 'apprenne', 'apprentie', 'appriori', 'approche', 'approprié', 'approximatif', 'appréciable', 'apprécie', 'apprécier', 'apprécions', 'apprécié', 'appréciée', 'appréciés', 'appréhension', 'appui', 'appuyant', 'appuyée', 'appétissant', 'appétissants', 'appétit', 'apres', 'après', 'apéritif', 'apéritifs', 'araignée', 'arc', 'arcane', 'argent', 'argenteuil', 'arménien', 'arnaque', 'arnaquer', 'arnaqué', 'arnaud', 'aromatisee', 'arome', 'arraché', 'arrangeant', 'arrangeants', 'arrangement', 'arrangé', 'arretter', 'arrivait', 'arrivant', 'arrive', 'arrivederci', 'arrivee', 'arrivent', 'arriver', 'arrives', 'arrivez', 'arrivons', 'arrivé', 'arrivée', 'arrivées', 'arrivés', 'arrière', 'arrogant', 'arrondissement', 'arrosé', 'arrêt', 'arrêtait', 'arrête', 'arrêter', 'arrêté', 'arrêtés', 'art', 'artichaut', 'artichauts', 'articulé', 'artifice', 'artificiels', 'artisanales', 'artiste', 'artistes', 'arts', 'arty', 'arôme', 'arômes', 'as', 'asap', 'asiatique', 'asiatiques', 'asiatisante', 'asie', 'asif', 'asperge', 'asperges', 'aspic', 'assaisonnement', 'assaisonnements', 'assaisonné', 'assaisonnés', 'assaut', 'assemblage', 'assemblages', 'asseoir', 'assez', 'assiette', 'assiettes', 'assis', 'assisté', 'association', 'associations', 'associer', 'associés', 'assortie', 'assortiment', 'assortiments', 'assortis', 'assurent', 'assurer', 'atelier', 'atmosphère', 'atours', 'atteindre', 'attend', 'attendais', 'attendait', 'attendant', 'attendent', 'attendez', 'attendions', 'attendons', 'attendre', 'attends', 'attendu', 'attendus', 'attente', 'attentes', 'attentif', 'attentifs', 'attention', 'attentionné', 'attentionnée', 'attentionnés', 'attentionnéun', 'attentions', 'atterri', 'attire', 'attiré', 'attirées', 'attirés', 'attiser', 'attitude', 'attractif', 'attractifs', 'attrape', 'attribué', 'attribuées', 'attribués', 'atypique', 'au', 'auberge', 'aubergines', 'aucum', 'aucun', 'aucune', 'audaces', 'audacieux', 'audieux', 'audrey', 'augmentation', 'augmenter', 'augurer', 'auguré', 'aujourd', 'auparavant', 'auprès', 'auquel', 'aura', 'aurai', 'aurais', 'aurait', 'aurez', 'aurions', 'aurons', 'auront', 'aussi', 'austère', 'autaient', 'autant', 'auteur', 'authentique', 'authentiques', 'automne', 'autorise', 'autour', 'autre', 'autres', 'auvergnats', 'auvergne', 'aux', 'avaient', 'avais', 'avaisi', 'avait', 'avalée', 'avance', 'avancée', 'avant', 'avantage', 'avarié', 'avce', 'avec', 'avenant', 'avenir', 'avent', 'aventure', 'aventurez', 'aversions', 'aveugle', 'aveyron', 'avez', 'avide', 'avion', 'avions', 'avis', 'avise', 'avises', 'avisplus', 'avisé', 'avisée', 'avisés', 'avoir', 'avon', 'avons', 'avont', 'avoue', 'avril', 'avère', 'avéré', 'avérée', 'ayant', 'ayons', 'aérien', 'aérienne', 'aériens', 'babines', 'bachir', 'bacon', 'bad', 'bagel', 'bagels', 'baguette', 'baies', 'baignant', 'baigné', 'baisser', 'baissé', 'bajhi', 'balade', 'balbutiant', 'ballade', 'balustrade', 'balzar', 'ban', 'banal', 'banale', 'banales', 'banalité', 'bancaire', 'bancaires', 'banctel', 'bannir', 'bao', 'baptiste', 'bar', 'barbue', 'bardolino', 'barman', 'barquette', 'barrage', 'bars', 'barème', 'bas', 'basant', 'base', 'bases', 'basic', 'basique', 'basiques', 'basmati', 'basque', 'basse', 'bastille', 'basés', 'bateau', 'batiment', 'battante', 'battent', 'bcp', 'beacoup', 'beau', 'beaucoup', 'beauté', 'beaux', 'beef', 'bel', 'belges', 'belle', 'belles', 'bemol', 'bercy', 'bernés', 'besoin', 'betterave', 'beuf', 'beurre', 'bichonné', 'bien', 'bienplus', 'bientot', 'bientôt', 'bienveillance', 'bienveillant', 'bienvenue', 'bienvenus', 'big', 'bijou', 'bilingue', 'bio', 'bios', 'bip', 'bis', 'biscuit', 'bisque', 'bistro', 'bistros', 'bistrot', 'bistrots', 'bitter', 'bizarre', 'bière', 'bières', 'bla', 'black', 'blague', 'blaguent', 'blagueur', 'blanc', 'blanche', 'blancs', 'blanquette', 'blend', 'bleu', 'bleues', 'bleuté', 'blindé', 'bling', 'bluffant', 'bluffée', 'blé', 'bo', 'bobo', 'bobun', 'bocaux', 'boeuf', 'bof', 'boire', 'bois', 'boise', 'boiseries', 'boisson', 'boissons', 'boites', 'bol', 'bolly', 'bollynan', 'bols', 'bon', 'bonheur', 'bonheurs', 'bonjour', 'bonne', 'bonnement', 'bonnes', 'bons', 'bonus', 'bord', 'boschman', 'bouche', 'bouches', 'bouchée', 'boucle', 'boucler', 'boudin', 'bouffe', 'bougies', 'bouillon', 'bouillons', 'boulanger', 'boulangerie', 'boulangers', 'boules', 'boulettes', 'boulevard', 'boulogne', 'boulot', 'bouquet', 'bouquets', 'bourget', 'bourgogne', 'bourratif', 'bourse', 'bout', 'boutary', 'bouteille', 'bouteilles', 'boutique', 'bouts', 'boyau', 'boîte', 'branché', 'bras', 'brasserie', 'brasseries', 'bravo', 'bravoplus', 'brebis', 'bref', 'brestois', 'bretagne', 'breton', 'bretonnes', 'brice', 'brigade', 'brigades', 'brillant', 'brin', 'brins', 'brio', 'brioches', 'brioché', 'brion', 'bristol', 'brochet', 'brochette', 'brochettes', 'brouillon', 'brua', 'bruit', 'bruitages', 'brulé', 'brulée', 'brulés', 'brunch', 'bruncher', 'brunché', 'brune', 'brunes', 'brut', 'bruxelles', 'bruyant', 'bruyante', 'bruyantes', 'bruyère', 'brésil', 'brésilienne', 'brûlée', 'budget', 'buffet', 'buffets', 'bun', 'buns', 'buono', 'burger', 'burgers', 'burrata', 'bus', 'but', 'butter', 'buvant', 'buzz', 'by', 'béatitude', 'bébé', 'bécassines', 'bémol', 'bénéficie', 'bœuf', 'ca', 'cabillaud', 'cacahuète', 'cacao', 'cacaotée', 'cache', 'cacher', 'caché', 'cadeau', 'cadre', 'cadres', 'cafard', 'cafe', 'café', 'cafétéria', 'cage', 'cagibi', 'cahotique', 'caille', 'cailles', 'caisse', 'cakes', 'calamars', 'cales', 'calibré', 'calme', 'calzone', 'cambodgien', 'cambodgienne', 'camembert', 'camouflé', 'campari', 'can', 'canard', 'candeborde', 'canette', 'canettes', 'canne', 'cannelle', 'cannelloni', 'cantine', 'caoutchouteuse', 'caoutchouteux', 'capable', 'capacité', 'capital', 'capitale', 'cappuccino', 'capter', 'car', 'caractère', 'caractériel', 'caractérise', 'caractérisé', 'carafe', 'carambar', 'caramel', 'carbonisée', 'carbonisés', 'cardamome', 'caricatural', 'caricature', 'carnassiers', 'carnet', 'carotte', 'carottes', 'carpaccio', 'carrefour', 'carré', 'carrée', 'carrées', 'carrément', 'carrés', 'carte', 'carteplus', 'cartes', 'carton', 'cas', 'cases', 'cash', 'cassant', 'casse', 'casser', 'castratophique', 'catalan', 'catastrophe', 'catastrophique', 'catelan', 'cathy', 'catégorie', 'catégorique', 'cauchemar', 'cause', 'cave', 'caviar', 'caviste', 'cb', 'ce', 'ceci', 'cela', 'celle', 'celles', 'celui', 'celà', 'cendrier', 'censé', 'centaines', 'centime', 'centre', 'cependant', 'cerise', 'cerises', 'cerisier', 'certain', 'certaine', 'certainement', 'certaines', 'certains', 'certe', 'certes', 'certificat', 'certifier', 'ces', 'cesse', 'cessé', 'cest', 'cet', 'cette', 'ceux', 'cezembre', 'chacun', 'chacune', 'chacunes', 'chaine', 'chaines', 'chair', 'chalance', 'chaland', 'chalereux', 'chaleuleuse', 'chaleur', 'chaleureuse', 'chaleureusement', 'chaleureux', 'chaleureuxavec', 'chambre', 'champagne', 'champagnes', 'champignons', 'champions', 'champs', 'chance', 'change', 'changement', 'changent', 'changer', 'changez', 'changé', 'chantaient', 'chanterelles', 'chanteurs', 'chanteuses', 'chantilly', 'chaotique', 'chapeau', 'chaque', 'charcuterie', 'charcuteries', 'chargé', 'charisme', 'charles', 'charmant', 'charmante', 'charmantes', 'charmants', 'charme', 'charmeront', 'charmé', 'chasse', 'chateaubriand', 'chaud', 'chaude', 'chaudes', 'chauds', 'chauffage', 'chauffages', 'chaussures', 'chaussée', 'chawarma', 'cheddar', 'cheesnan', 'chef', 'chefs', 'chelou', 'chemin', 'cheminplus', 'chemise', 'chene', 'chenin', 'cher', 'cherchait', 'cherchant', 'cherche', 'cherchent', 'chercher', 'cherchez', 'cherchions', 'chere', 'cheres', 'chers', 'chevreuil', 'chewing', 'chez', 'chic', 'chicago', 'chichi', 'chichis', 'chicken', 'chien', 'chiens', 'chiffre', 'chiffres', 'chiken', 'chine', 'chinois', 'chinoisants', 'chips', 'chique', 'chirashi', 'chloé', 'chocolat', 'choice', 'choisi', 'choisie', 'choisir', 'choisis', 'choisissez', 'choisissons', 'choisit', 'choix', 'chopin', 'choquant', 'choqué', 'chose', 'choses', 'chou', 'choucroute', 'chouette', 'choux', 'christian', 'chypriote', 'châtaignes', 'château', 'châteaux', 'chère', 'chères', 'chêne', 'ci', 'ciboulettes', 'cidre', 'cieltourne', 'cigare', 'cinq', 'cinquantaine', 'circuits', 'circulaire', 'citations', 'citron', 'citronelle', 'citronnelle', 'citrus', 'civet', 'clair', 'claire', 'clairement', 'claquer', 'classe', 'classement', 'classicisme', 'classique', 'classiques', 'classé', 'classées', 'claude', 'clean', 'clichy', 'client', 'clientele', 'clients', 'clientèle', 'climatisation', 'clochettes', 'clos', 'closerie', 'clou', 'cloud', 'club', 'clés', 'cnsm', 'cobea', 'cobéa', 'coche', 'cochon', 'cochonne', 'cocktail', 'cocktails', 'coco', 'cocon', 'cocooning', 'cocotte', 'coeur', 'cognac', 'coin', 'coincées', 'cois', 'colbert', 'coleslaw', 'collègue', 'collègues', 'collées', 'coloré', 'colorés', 'com', 'combinaison', 'combler', 'comblés', 'commandaria', 'commande', 'commander', 'commandes', 'commandions', 'commandons', 'commandé', 'commandée', 'comme', 'commence', 'commencer', 'commencé', 'commencée', 'commencés', 'comment', 'commentaire', 'commentaires', 'commentateurs', 'commenter', 'commenté', 'commençait', 'commençons', 'commercial', 'commerciale', 'commerçant', 'commerçants', 'commun', 'commune', 'communiquer', 'communiqués', 'compact', 'compagne', 'compagnie', 'compagnon', 'compagnons', 'comparaison', 'comparativement', 'comparé', 'compassion', 'competent', 'competitif', 'complet', 'complets', 'complexe', 'complexité', 'complique', 'compliqué', 'compliquée', 'complète', 'complètement', 'complétés', 'comportant', 'comporte', 'comportent', 'comporter', 'composer', 'composition', 'compositions', 'composé', 'composée', 'compote', 'compotée', 'comprenant', 'comprend', 'comprendre', 'comprends', 'comprenne', 'comprennent', 'compris', 'comprise', 'compromis', 'comptables', 'compte', 'compter', 'comptes', 'comptoir', 'compétences', 'compétent', 'compétente', 'compétitif', 'compétitifs', 'concentré', 'concept', 'concernant', 'concerne', 'concert', 'concevoir', 'concierge', 'conciergerie', 'concivial', 'conclu', 'concocte', 'concocter', 'concocté', 'concombre', 'concourait', 'concurrence', 'condiment', 'condition', 'conditions', 'conduire', 'conduit', 'conduits', 'confiance', 'confiante', 'confidentiel', 'configuration', 'confinée', 'confirmation', 'confirme', 'confirmer', 'confirmé', 'confirmée', 'confiseries', 'confit', 'confite', 'confiture', 'confondu', 'conforme', 'conformes', 'confort', 'confortable', 'confortablement', 'conforté', 'confrères', 'confusion', 'congelé', 'congelées', 'congrue', 'congrues', 'conjoint', 'conjointe', 'connais', 'connaissais', 'connaissance', 'connaissances', 'connaissant', 'connaissent', 'connaisseur', 'connaisseurs', 'connaissons', 'connait', 'connaît', 'connaître', 'connection', 'connexion', 'connu', 'connue', 'conquis', 'consacrer', 'consciencieux', 'conseil', 'conseille', 'conseiller', 'conseillons', 'conseillé', 'conseillée', 'conseillées', 'conseillés', 'conseils', 'conserve', 'considération', 'consistance', 'consistant', 'consiste', 'consommation', 'consommé', 'conspuent', 'constater', 'constaté', 'consterné', 'constitue', 'constituée', 'conséquence', 'contact', 'contemporain', 'contemporaine', 'content', 'contents', 'contenté', 'contenu', 'contexte', 'contient', 'continu', 'continue', 'continuellement', 'continuent', 'continuer', 'continuez', 'continué', 'contourner', 'contradiction', 'contraint', 'contraire', 'contrairement', 'contre', 'contrefaçon', 'contrefou', 'contretemps', 'contrevous', 'contribue', 'convaincues', 'convenable', 'convenables', 'convenant', 'convenir', 'conventionnelles', 'convenus', 'conversation', 'converser', 'conviction', 'conviendra', 'convient', 'convive', 'convives', 'convivial', 'conviviale', 'convivialité', 'convié', 'conçu', 'cookie', 'cookies', 'cool', 'coolplus', 'cools', 'copains', 'copie', 'copieuse', 'copieuses', 'copieux', 'copine', 'copines', 'coquillages', 'coquilles', 'coquillettes', 'coquine', 'corail', 'cordeau', 'cordial', 'cordialité', 'cordiaux', 'cordoue', 'coriandre', 'cornet', 'cornish', 'correct', 'correcte', 'correctement', 'correctes', 'correctesplus', 'corrects', 'correspond', 'correspondantes', 'correspondent', 'correspondre', 'corriger', 'corsent', 'corses', 'coréen', 'coréenne', 'coréens', 'cosi', 'cossu', 'cost', 'cosy', 'cote', 'cotta', 'coté', 'coucher', 'coucous', 'couleur', 'couleurs', 'coulis', 'couloir', 'coup', 'coupe', 'couper', 'coupes', 'couple', 'couples', 'coupole', 'coups', 'coupés', 'couraient', 'couramment', 'courbettes', 'courchevel', 'courez', 'courge', 'couronner', 'courrez', 'cours', 'course', 'court', 'courte', 'courtois', 'courtoise', 'courtoisie', 'courts', 'couscous', 'couteaux', 'coutumière', 'couverte', 'couverts', 'couvrir', 'coïncidence', 'crabe', 'craméeratéeimmangeable', 'cramés', 'crasseux', 'creatifs', 'creative', 'crepe', 'crepes', 'crevant', 'crevettes', 'criarde', 'cris', 'critique', 'critiquer', 'critiques', 'croirait', 'croire', 'crois', 'croissant', 'croissants', 'croque', 'croustillant', 'croustillante', 'croustillantes', 'croustillants', 'croyais', 'croûte', 'cruelle', 'cruellement', 'crues', 'crus', 'crème', 'crèpes', 'créatif', 'création', 'créative', 'créativité', 'créatrice', 'créditer', 'crémeux', 'crépinettes', 'crêpe', 'crêperie', 'crêpes', 'crêques', 'cuenta', 'cuillères', 'cuir', 'cuisine', 'cuisiner', 'cuisines', 'cuisinier', 'cuisiniers', 'cuisiné', 'cuisinées', 'cuisinés', 'cuisisiner', 'cuisse', 'cuisses', 'cuisson', 'cuissons', 'cuit', 'cuite', 'cuites', 'cuits', 'cuivrées', 'culinaire', 'culinaires', 'culottée', 'culpabilisant', 'curieuse', 'curieux', 'curiosité', 'curry', 'custom', 'cygne', 'cède', 'cèpes', 'céder', 'célèbre', 'célébrer', 'célébrités', 'céramique', 'cêpes', 'cône', 'côte', 'côté', 'côtéplus', 'cœur', 'da', 'daigne', 'daigné', 'dame', 'dames', 'dangeureux', 'daniela', 'dans', 'dar', 'dasn', 'datant', 'daubée', 'dauphinois', 'daurade', 'david', 'de', 'debout', 'debut', 'deception', 'decerestaurant', 'decide', 'deco', 'decor', 'decoration', 'decorés', 'decouvert', 'decouverte', 'decouvrir', 'decu', 'dedans', 'definetely', 'degeu', 'degeulasse', 'degrésplus', 'degustation', 'deguster', 'dehors', 'dej', 'deja', 'dejeuner', 'dejeuné', 'del', 'delavées', 'delicieuse', 'delicieuses', 'delicieux', 'deliveroo', 'delivrait', 'delà', 'demain', 'demande', 'demandent', 'demander', 'demandes', 'demandons', 'demandé', 'demandés', 'demi', 'demie', 'den', 'denis', 'dente', 'depaysant', 'deplace', 'deplorable', 'depose', 'depuis', 'dernier', 'dernière', 'dernièrement', 'dernières', 'derrière', 'des', 'desagreable', 'descente', 'design', 'dessert', 'desserts', 'desservir', 'dessins', 'dessous', 'dessus', 'detour', 'deux', 'deuxieme', 'deuxième', 'devais', 'devait', 'devant', 'devanture', 'devenu', 'devenue', 'devenus', 'devez', 'deviennent', 'devient', 'deviner', 'devions', 'devoir', 'devrait', 'deçeption', 'deçue', 'di', 'diarrhée', 'diego', 'difference', 'difficile', 'difficulté', 'difficultés', 'diffusé', 'différence', 'différencier', 'différent', 'différente', 'différentes', 'différents', 'digestif', 'digne', 'dignes', 'dimanche', 'diminutif', 'diminué', 'diner', 'dinette', 'dingue', 'dinner', 'diné', 'diponible', 'dirai', 'dirais', 'dirait', 'dire', 'direct', 'directement', 'directeur', 'direction', 'directive', 'directrice', 'dirigé', 'dirigés', 'dis', 'disait', 'disant', 'discret', 'discrets', 'discrète', 'discrètement', 'discrétion', 'discussion', 'discussions', 'discuter', 'discuté', 'dise', 'disent', 'disons', 'disparaître', 'disparition', 'dispo', 'disponibilité', 'disponible', 'disponibles', 'disposer', 'disposition', 'disserter', 'dissuader', 'distance', 'distant', 'distillée', 'distingue', 'distinguée', 'distrait', 'distribution', 'dit', 'dites', 'dithyrambiques', 'dits', 'dityrambiques', 'divers', 'diversifié', 'diversité', 'divin', 'divine', 'divines', 'divins', 'divisé', 'divray', 'dix', 'dizaine', 'dizaines', 'diététiques', 'dj', 'djouje', 'dogs', 'doigt', 'doigts', 'dois', 'doit', 'doive', 'doivent', 'dollars', 'domaines', 'domenico', 'dominical', 'dominicale', 'dommage', 'donald', 'donc', 'donnait', 'donnant', 'donne', 'donnent', 'donner', 'donnerait', 'donné', 'donnée', 'donnés', 'dont', 'dormir', 'dorures', 'dosage', 'dosé', 'dosées', 'double', 'doublement', 'douce', 'douceur', 'douleurs', 'doute', 'douterplus', 'douteuse', 'douzaine', 'doué', 'draguer', 'dressage', 'dressée', 'dressées', 'droit', 'drole', 'ds', 'dsk', 'du', 'duke', 'dumas', 'duo', 'dur', 'durant', 'dure', 'dures', 'duré', 'durée', 'duxelle', 'dynamique', 'dynamisme', 'dècorèes', 'dès', 'débarrasser', 'débarrassées', 'débité', 'débordé', 'débordée', 'débordés', 'début', 'débutant', 'débuter', 'décalage', 'décalé', 'décembre', 'déception', 'déceptions', 'déceptionà', 'décevant', 'décevante', 'décevantes', 'décevantmacaron', 'décevants', 'décevra', 'décibels', 'décide', 'décider', 'décidons', 'décidé', 'décidément', 'décliner', 'décliné', 'déclinées', 'déclinés', 'déco', 'déconcertante', 'déconseille', 'déconseilles', 'déconseillons', 'décontracté', 'décontractée', 'décontractés', 'décor', 'décoration', 'décorations', 'décorer', 'décorum', 'décoré', 'décorée', 'décoréel', 'découpe', 'découvert', 'découverte', 'découvertes', 'découvrant', 'découvre', 'découvrir', 'découvrons', 'décrire', 'décrocher', 'décru', 'décu', 'décès', 'dédaigneux', 'dédié', 'dédiée', 'défaillant', 'défavorable', 'défendait', 'définitivement', 'défraîchis', 'dégage', 'dégageaient', 'dégout', 'dégoûtant', 'dégoûtante', 'dégoûtée', 'dégrader', 'dégueulasses', 'dégustation', 'dégustations', 'déguste', 'déguster', 'dégusté', 'dégât', 'déjeuner', 'déjeuné', 'déjà', 'délaisser', 'délibérément', 'délicat', 'délicate', 'délicatement', 'délicates', 'délicatesse', 'délicats', 'délice', 'délices', 'délicieuse', 'délicieusement', 'délicieuses', 'délicieux', 'délier', 'délirant', 'délivre', 'déloger', 'déléguer', 'démarrage', 'démentent', 'démentes', 'dénégations', 'départ', 'départc', 'dépaysement', 'dépit', 'déplace', 'déplacement', 'déplaisant', 'déplorable', 'déplorables', 'déplu', 'déposée', 'déranger', 'dérouler', 'déroulé', 'dés', 'désagréable', 'désagréables', 'désagrément', 'désagréments', 'désastreux', 'désert', 'désespérément', 'désign', 'désirant', 'désirer', 'désirez', 'désirs', 'désistement', 'désolé', 'désordonné', 'désorganisation', 'désoriente', 'désormais', 'déssert', 'désuet', 'déséquilibrés', 'détail', 'détails', 'détendu', 'détendue', 'détente', 'détestable', 'détestant', 'détour', 'détrempé', 'détriment', 'dévolu', 'dévoué', 'déçu', 'déçue', 'déçues', 'déçus', 'dînatoire', 'dîne', 'dîner', 'dîners', 'dîné', 'dû', 'east', 'easy', 'eat', 'eau', 'eauapéro', 'eaux', 'ecailler', 'eclairs', 'ecole', 'edern', 'effacer', 'effacé', 'effectivement', 'effeil', 'effervescence', 'effet', 'effets', 'efficace', 'efficaces', 'efficaceun', 'efficacité', 'effort', 'efforts', 'egalement', 'eh', 'eiffel', 'el', 'elan', 'elegant', 'element', 'elisamulys', 'elizabeth', 'elle', 'elles', 'eloges', 'elvis', 'elysees', 'elysées', 'email', 'emballage', 'emballés', 'embarque', 'embarras', 'emblée', 'embrassades', 'eme', 'emission', 'emmener', 'emmené', 'empesée', 'emplacement', 'employés', 'emporter', 'emporté', 'empresse', 'empressés', 'empêche', 'en', 'enc', 'encadrés', 'encaisse', 'enceinte', 'encensé', 'enchainement', 'enchantement', 'enchanteur', 'enchanté', 'enchantés', 'enchaînent', 'encombré', 'encontre', 'encore', 'encornet', 'encornets', 'encourager', 'encre', 'end', 'endroit', 'endroits', 'enfant', 'enfantin', 'enfants', 'enfer', 'enfin', 'engouement', 'enjoint', 'enlever', 'enlevé', 'enlèvee', 'ennuyeux', 'enregistrement', 'enregistrée', 'enrobées', 'enseigne', 'ensemble', 'ensoleillé', 'ensoleillée', 'ensuite', 'entamé', 'entassés', 'entend', 'entendait', 'entendez', 'entendre', 'entendu', 'enterrement', 'enthousiasme', 'enthousiaste', 'enthousiastes', 'entier', 'entièrement', 'entrant', 'entre', 'entrecôte', 'entree', 'entrees', 'entremets', 'entrer', 'entres', 'entretenu', 'entretien', 'entrez', 'entrons', 'entré', 'entrée', 'entrées', 'entrés', 'envahis', 'envahissant', 'envahit', 'envers', 'envie', 'envies', 'environ', 'environnants', 'environnement', 'envisagez', 'envoûtant', 'epaisseur', 'epices', 'epicure', 'epie', 'epinards', 'epuré', 'equipaplus', 'equipe', 'er', 'eric', 'erithréen', 'errance', 'erreur', 'erreurs', 'erythreennes', 'es', 'escape', 'escargot', 'escargots', 'espace', 'espacement', 'espaces', 'espacées', 'espacés', 'espadon', 'especialmente', 'espoir', 'esprit', 'esprits', 'espèce', 'espère', 'espérances', 'espérer', 'espérons', 'espéré', 'espérée', 'essaye', 'essayer', 'essayez', 'essayons', 'essayé', 'essentiel', 'essentiellement', 'est', 'estampillés', 'estelle', 'esthetique', 'esthètes', 'esthétiquement', 'estomac', 'et', 'etablissement', 'etage', 'etaient', 'etais', 'etait', 'etant', 'etc', 'etes', 'etions', 'etoile', 'etoiles', 'etonnante', 'etre', 'etude', 'eté', 'eu', 'eudes', 'eue', 'eues', 'eugène', 'eur', 'euro', 'europe', 'européen', 'euros', 'eut', 'eux', 'evening', 'eveningfilling', 'event', 'eviter', 'ex', 'exactement', 'exacts', 'exagère', 'excelent', 'excelle', 'excellemment', 'excellence', 'excellent', 'excellente', 'excellentes', 'excellentje', 'excellents', 'exception', 'exceptionnel', 'exceptionnelle', 'exceptionnellement', 'exceptionnelles', 'exceptionnels', 'exceptionnous', 'excepté', 'excessif', 'excessifs', 'excessives', 'excité', 'exclusivement', 'excursion', 'excuse', 'excusez', 'excusés', 'excès', 'exelent', 'exemplaire', 'exemple', 'exeptionnelle', 'exergue', 'exhorbitant', 'exhorbitante', 'exigeant', 'exigeants', 'exigence', 'exigences', 'exigu', 'exiguë', 'existe', 'existence', 'existé', 'exorbitant', 'exorbitants', 'exotiques', 'experience', 'experiences', 'expert', 'expertise', 'explicatif', 'explication', 'explications', 'expliquant', 'expliquants', 'explique', 'expliquer', 'expliquera', 'expliqués', 'explorer', 'explosent', 'explosion', 'expo', 'exposition', 'expositions', 'exprès', 'expédie', 'expédié', 'expérience', 'expériences', 'exquis', 'exquise', 'exquises', 'exsite', 'exterieur', 'exterminent', 'externe', 'extra', 'extraordinaire', 'extraordinairement', 'extraordinaires', 'extrême', 'extrêmement', 'extérieur', 'extérieure', 'exécrable', 'exécutants', 'exécution', 'exécuté', 'exécutée', 'exécutés', 'fabien', 'fabuleuse', 'fabuleuses', 'fabuleux', 'face', 'facebook', 'facile', 'facilement', 'facilité', 'facture', 'facturé', 'fad', 'fadace', 'fade', 'fades', 'faham', 'faible', 'faille', 'faim', 'fain', 'faire', 'fais', 'faisaient', 'faisais', 'faisait', 'faisant', 'faisions', 'faisons', 'fait', 'faite', 'faites', 'faits', 'falafel', 'falafels', 'fallafel', 'fallafels', 'fallait', 'fallu', 'fameux', 'familial', 'familiale', 'familiarisé', 'familiarité', 'familier', 'familière', 'famille', 'fan', 'fans', 'fantasmais', 'fantastique', 'fantastiques', 'farandole', 'farci', 'farcie', 'farfelue', 'fast', 'fatidique', 'fatigué', 'fatigués', 'faubourg', 'faudra', 'fausse', 'faussement', 'fausses', 'faut', 'faute', 'fautes', 'fauteuils', 'faux', 'faveurs', 'favorablement', 'favorables', 'favoris', 'favorite', 'fayette', 'façade', 'façon', 'façons', 'faîtes', 'fb', 'fe', 'felicitations', 'felipe', 'femme', 'femmes', 'fenêtre', 'fenêtres', 'fera', 'feraient', 'ferme', 'fermer', 'fermes', 'fermier', 'fermé', 'fermée', 'fermés', 'fernando', 'festif', 'festival', 'festive', 'feu', 'feuille', 'feuilles', 'feuilletage', 'feutrer', 'feutré', 'feutrée', 'feux', 'fiable', 'fiables', 'fiancé', 'fiancée', 'fiasco', 'fiche', 'fidèle', 'fidèles', 'fier', 'fiez', 'figue', 'figues', 'figure', 'fil', 'file', 'filet', 'filets', 'filipé', 'fille', 'filles', 'film', 'films', 'fils', 'fin', 'final', 'finale', 'finalement', 'find', 'fine', 'finement', 'fineparfaitement', 'fines', 'finesse', 'fini', 'finie', 'finir', 'finis', 'finit', 'fins', 'fioriture', 'fish', 'fishbals', 'fièrement', 'flacons', 'flambé', 'flammes', 'flan', 'flatteur', 'flemme', 'fleur', 'fleuri', 'fleurs', 'florale', 'florales', 'flotte', 'fluide', 'fléchi', 'fléché', 'flûte', 'foi', 'foie', 'foies', 'fois', 'foisc', 'folichon', 'folie', 'folies', 'folles', 'foncez', 'fonction', 'fond', 'fondamentaux', 'fondant', 'fondre', 'fonds', 'fondu', 'fondue', 'fondé', 'font', 'food', 'foodsurprising', 'for', 'force', 'forcé', 'forcément', 'forfait', 'fork', 'formalité', 'forme', 'formes', 'formidable', 'formidableune', 'formuka', 'formule', 'formules', 'fort', 'forte', 'fortement', 'fortes', 'forts', 'fouillis', 'foule', 'four', 'fourchette', 'fourneaux', 'fourni', 'fournie', 'fournir', 'fout', 'foutage', 'foutiste', 'fraiches', 'fraicheur', 'frais', 'francais', 'francaise', 'france', 'franchement', 'franchisée', 'franco', 'franquette', 'français', 'française', 'frappante', 'frappe', 'frappé', 'fraçais', 'fraîche', 'fraîches', 'fraîcheur', 'frechon', 'free', 'french', 'fric', 'fricassée', 'friendly', 'frigo', 'frire', 'frise', 'frisé', 'frite', 'frites', 'frits', 'frittes', 'friture', 'frog', 'froid', 'froide', 'froidement', 'froides', 'froideur', 'fromage', 'fromages', 'frugal', 'fruit', 'fruits', 'frère', 'fréchon', 'frédérique', 'fréquentant', 'fréquentation', 'fréquente', 'fréquenté', 'fréquentée', 'fubuleux', 'fuir', 'fuite', 'fument', 'fumoir', 'furent', 'furieux', 'fusil', 'fusion', 'fut', 'futur', 'futuriste', 'fuyez', 'fèves', 'féminine', 'férié', 'féru', 'fétiches', 'février', 'fêta', 'fêtait', 'fête', 'fêter', 'fêtions', 'fêté', 'fûmes', 'fût', 'gabriel', 'gaché', 'gadgets', 'gaffes', 'gagnaire', 'galerie', 'galette', 'galettes', 'gall', 'gambas', 'game', 'gamme', 'garanti', 'garantie', 'garcia', 'garde', 'garder', 'gardez', 'gardions', 'gardons', 'gardé', 'gardée', 'gare', 'garnies', 'garniesrien', 'garnis', 'garniture', 'garnitures', 'gars', 'garçon', 'gaspiller', 'gastro', 'gastronomes', 'gastronomic', 'gastronomie', 'gastronomique', 'gastronomiques', 'gauche', 'gaufré', 'gavotte', 'gay', 'gazeuse', 'gelati', 'genereux', 'genia', 'genialissime', 'genre', 'gens', 'gentil', 'gentille', 'gentillesse', 'gentils', 'gentiment', 'george', 'georges', 'gerant', 'gerard', 'gerent', 'germain', 'geste', 'gestion', 'gibier', 'gigot', 'gilet', 'gilles', 'gingembre', 'gins', 'giovanni', 'girolle', 'girolles', 'glace', 'glaces', 'glacial', 'glaciale', 'glacier', 'glacé', 'glaçons', 'glissées', 'globale', 'globalement', 'gluten', 'gnocchi', 'gnocchis', 'gogo', 'gomme', 'gorgée', 'gourmand', 'gourmande', 'gourmandes', 'gourmandise', 'gourmandises', 'gourmet', 'gourmets', 'gout', 'gouter', 'gouteuse', 'gouteux', 'gouts', 'goutte', 'gouttes', 'goutus', 'goutés', 'goût', 'goûter', 'goûteuse', 'goûteuses', 'goûteux', 'goûtez', 'goûts', 'goûté', 'grace', 'gradé', 'graisse', 'grammes', 'grand', 'grande', 'grandement', 'grandes', 'grandeur', 'grandiose', 'grandir', 'grands', 'granité', 'gransd', 'grappa', 'gras', 'grasse', 'grasses', 'gratin', 'gratinée', 'gratuit', 'grave', 'gravelax', 'graver', 'gravée', 'great', 'grec', 'green', 'grenaille', 'grenouille', 'grenouilles', 'gribiche', 'grignoter', 'grignotteries', 'grillé', 'grillée', 'grillées', 'grilléla', 'gris', 'grisonnant', 'gros', 'grosse', 'grosses', 'grossesse', 'grossière', 'grossières', 'grossièreté', 'groupe', 'gruyère', 'grâce', 'gré', 'guacamole', 'guettait', 'gueules', 'guide', 'guides', 'guidés', 'guignol', 'guimauve', 'guindé', 'guise', 'gum', 'gustatif', 'gustative', 'gustatives', 'guy', 'guéméné', 'gyosa', 'gâchis', 'gâché', 'gâchée', 'gâte', 'gâteau', 'gâteaux', 'gâtent', 'gène', 'gère', 'génant', 'génial', 'géniale', 'général', 'générale', 'généralement', 'généreuse', 'généreuses', 'généreux', 'générosité', 'géographique', 'gérant', 'gérante', 'gérants', 'gérard', 'gêne', 'gêné', 'ha', 'habilement', 'habitant', 'habitante', 'habite', 'habitons', 'habitude', 'habituel', 'habitué', 'habituée', 'habitués', 'hachée', 'had', 'haddock', 'hai', 'hais', 'halles', 'hallucine', 'halte', 'hamburger', 'hamburgers', 'hanawa', 'handicapés', 'hank', 'happycow', 'hareng', 'haricots', 'harmonie', 'harmonieux', 'harmoniques', 'hasard', 'haut', 'hautain', 'hautaine', 'haute', 'hautement', 'hauteur', 'hauts', 'herbe', 'herbes', 'heure', 'heures', 'heureusement', 'heureuses', 'heureux', 'hexagonaux', 'hexagone', 'hic', 'hier', 'hihihi', 'histoire', 'historique', 'hiver', 'homard', 'homemade', 'homme', 'hommes', 'honneur', 'honneurbravo', 'honnête', 'honorable', 'honoré', 'honte', 'honteuse', 'honteux', 'hop', 'horaires', 'hormis', 'horrible', 'hors', 'hospitalité', 'hot', 'hotel', 'houmous', 'hubert', 'hugo', 'hui', 'huile', 'huileuses', 'huit', 'huitres', 'hum', 'humanité', 'humble', 'humeur', 'humour', 'huître', 'huîtres', 'hygiène', 'hype', 'hyper', 'hypers', 'hâte', 'hélas', 'hésitantes', 'hésitation', 'hésitent', 'hésiter', 'hésitez', 'hésitions', 'hésité', 'hétéroclite', 'hôte', 'hôtel', 'hôtelière', 'hôtellerie', 'hôtels', 'hôtes', 'hôtesse', 'hôtesses', 'ici', 'identité', 'idyllique', 'idéal', 'idéale', 'idéalement', 'idéales', 'idée', 'ignoble', 'ignore', 'ignoré', 'il', 'ilion', 'illimités', 'illisible', 'illuminent', 'illustre', 'ils', 'image', 'imagination', 'imaginative', 'imagine', 'imaginé', 'imaginées', 'imangeable', 'imbattable', 'imbu', 'imbus', 'imbuvable', 'imbuvables', 'imbéciles', 'imed', 'imitant', 'imitation', 'imiter', 'immangeable', 'immense', 'immenses', 'immeuble', 'immédiatement', 'imméritées', 'impact', 'impatient', 'impatients', 'impecable', 'impeccable', 'impeccables', 'impensable', 'impersonnel', 'impertinence', 'impoli', 'impolitesse', 'importance', 'important', 'importe', 'imposait', 'impose', 'impossibilité', 'impossible', 'imposé', 'imposés', 'impression', 'impressionnant', 'impressionner', 'impressionné', 'impressionnée', 'impressionnés', 'improbablevenus', 'improvisé', 'imprécise', 'impécable', 'impérativement', 'in', 'inacceptables', 'inaccessible', 'inadmissible', 'inattendues', 'inattendus', 'incapables', 'incarnée', 'incendie', 'incipide', 'incité', 'inclus', 'incomparable', 'incompetent', 'incompréhension', 'incompétent', 'inconcevable', 'inconditionnel', 'inconfortable', 'inconnu', 'inconnue', 'inconnues', 'inconnus', 'inconsistantes', 'incontestablement', 'incontournable', 'incontournables', 'incorrecte', 'incorrection', 'incroyable', 'incroyablement', 'incroyables', 'inde', 'indean', 'indien', 'indienne', 'indiennes', 'indiens', 'indifférent', 'indifférents', 'indigne', 'indignes', 'indignés', 'indiquant', 'indique', 'indiqué', 'indispensable', 'indispensables', 'individuel', 'individuels', 'indonésie', 'industrielle', 'industrielles', 'industriels', 'indésirables', 'inefficace', 'inexistante', 'inexpérimenté', 'infamie', 'infect', 'infecte', 'infectes', 'infinite', 'influence', 'influences', 'info', 'information', 'informe', 'informes', 'informé', 'inférieures', 'ingrédient', 'ingrédients', 'inhabituel', 'inhabituelles', 'inhérentes', 'initial', 'initialement', 'injustement', 'inmanquable', 'inneficace', 'innovant', 'innovante', 'innovants', 'innovation', 'inoubliable', 'inoubliables', 'insatisfaction', 'insignifiant', 'insinué', 'insipide', 'insipides', 'insistance', 'insistante', 'insisté', 'insonorisé', 'inspecteurs', 'inspirante', 'inspiration', 'inspire', 'inspiré', 'instable', 'installe', 'installer', 'installez', 'installées', 'installés', 'instant', 'instar', 'institution', 'insuffisante', 'insulté', 'insuportablement', 'insupportable', 'insurger', 'integre', 'intelligentes', 'intensité', 'interdits', 'interet', 'interloquée', 'interminable', 'internationale', 'internet', 'interpelle', 'interpellera', 'interpellé', 'intervenir', 'intime', 'intimidant', 'intimiste', 'intimité', 'intolérance', 'intolérances', 'intolérante', 'intolérences', 'intrigues', 'introduire', 'introuvable', 'intrusif', 'intégralité', 'intéressant', 'intéressante', 'intéressantes', 'intéressants', 'intéresser', 'intérieur', 'intérêt', 'inutile', 'inutiles', 'inventer', 'inventif', 'inventifs', 'inventive', 'inventivité', 'inverse', 'invitation', 'invite', 'invitent', 'inviter', 'invitions', 'invité', 'invitée', 'invités', 'inédit', 'inédite', 'inégalable', 'inéluctable', 'ira', 'irai', 'irait', 'iran', 'iranien', 'iranienne', 'iraniennes', 'iraniens', 'iranniene', 'ironique', 'irrespectueuse', 'irrespectueux', 'irréprochable', 'irréprochablement', 'irréprochables', 'ischia', 'issus', 'italie', 'italien', 'italienne', 'italiennes', 'italiens', 'ixème', 'jaboulet', 'jacques', 'jamais', 'jambes', 'jambon', 'janin', 'janvier', 'japon', 'japonais', 'japonaise', 'japonaises', 'japonnaise', 'jardin', 'jardins', 'jarret', 'jaune', 'je', 'jean', 'jeanne', 'jeannes', 'jeter', 'jettes', 'jeté', 'jeu', 'jeudi', 'jeune', 'jeunes', 'jeunesse', 'jeux', 'jgr', 'joie', 'joies', 'joindre', 'joins', 'joli', 'jolie', 'jolies', 'joliment', 'jolis', 'josé', 'jouissif', 'jouit', 'jour', 'journée', 'jours', 'joviales', 'joyau', 'joëlle', 'jp', 'judicieuses', 'judicieux', 'jugement', 'juillet', 'juin', 'julien', 'jumin', 'jus', 'jusqu', 'jusque', 'juste', 'justes', 'justesprésentation', 'justice', 'justifiait', 'justifiant', 'justifications', 'justifie', 'justifient', 'justifier', 'justifiée', 'justifiées', 'justifiés', 'juteuse', 'juxtapositions', 'jérôme', 'kai', 'kaiser', 'kebab', 'kei', 'ketchup', 'kgb', 'kilo', 'kilomètres', 'kinzo', 'kir', 'kitchen', 'kjdhd', 'kobe', 'kobé', 'kodawari', 'kong', 'korean', 'koubide', 'kozy', 'kub', 'kugorawa', 'la', 'lafourchette', 'laid', 'laissaient', 'laissait', 'laissant', 'laisse', 'laisser', 'laissera', 'laissez', 'laissé', 'laissées', 'laissés', 'lait', 'laitiers', 'lamentable', 'lames', 'langoustine', 'langoustines', 'langue', 'lanvi', 'lanzhou', 'laquelle', 'large', 'largement', 'lasagnes', 'lasse', 'latin', 'latino', 'laure', 'lavash', 'le', 'lecture', 'ledeuil', 'leger', 'legers', 'lent', 'lente', 'lenteur', 'lentilles', 'lequel', 'lerestaurent', 'les', 'lesquelles', 'lettre', 'leur', 'leurs', 'levinson', 'libanais', 'libanaise', 'libre', 'libère', 'liegeois', 'lieu', 'lieux', 'lievre', 'light', 'ligne', 'lilas', 'lillois', 'limininaire', 'limite', 'limites', 'limité', 'limitée', 'limougeauds', 'lipp', 'liquide', 'lire', 'lis', 'lisbonne', 'liste', 'lit', 'littéralement', 'livraison', 'livre', 'livrer', 'livré', 'lièvre', 'lié', 'liés', 'local', 'localisation', 'logeait', 'loin', 'lointains', 'lois', 'lol', 'lombards', 'long', 'longtemps', 'longue', 'look', 'lors', 'lorsqu', 'lorsque', 'lot', 'louis', 'loulous', 'lounge', 'loupée', 'lourd', 'lourde', 'low', 'loyer', 'lu', 'lucas', 'lugubre', 'lui', 'lumineuse', 'lumineux', 'lumière', 'lumières', 'lundi', 'lundis', 'lunettes', 'luxe', 'luxueux', 'là', 'làplus', 'lâche', 'lève', 'lèvres', 'léchions', 'léger', 'légume', 'légumes', 'légère', 'légèrement', 'légères', 'légèreté', 'ma', 'mac', 'macadamia', 'macaroni', 'macaronis', 'macarons', 'macau', 'machine', 'madame', 'madeleine', 'madeleines', 'madère', 'madérisé', 'maestria', 'magie', 'magique', 'magnifique', 'magnifiquement', 'magnifiques', 'magné', 'magret', 'mai', 'maigre', 'mail', 'mains', 'maintenant', 'mais', 'maison', 'maisons', 'maitre', 'maitrise', 'maitrisse', 'maitrisée', 'majestueuse', 'majestueux', 'majeure', 'majoritairement', 'maki', 'makis', 'mal', 'malade', 'maladroit', 'malchance', 'malgrè', 'malgré', 'malheur', 'malheureusement', 'malpolie', 'maltraitées', 'maman', 'mamie', 'mamma', 'man', 'manager', 'mandarin', 'mandarine', 'mange', 'mangeable', 'mangeables', 'mangeait', 'manger', 'mangez', 'mangions', 'mangue', 'mangé', 'manière', 'manquait', 'manquant', 'manque', 'manquent', 'manquer', 'manquerait', 'maqnifique', 'maquereau', 'marais', 'marc', 'marchand', 'marchande', 'marche', 'marché', 'marchétout', 'marcon', 'mardi', 'margarita', 'mari', 'mariage', 'mariages', 'marie', 'marier', 'marines', 'mariné', 'marié', 'mariés', 'marmites', 'marque', 'marquer', 'marronniers', 'mars', 'marseillais', 'marx', 'masala', 'mascarpone', 'maso', 'masquant', 'masqué', 'massala', 'match', 'matcha', 'matin', 'matinée', 'matière', 'matsuri', 'maturation', 'mauvais', 'mauvaise', 'mauvaises', 'max', 'maxi', 'maximale', 'maximum', 'mayo', 'mayonnaise', 'maître', 'maîtres', 'maîtresse', 'maîtrise', 'maîtrisé', 'maîtrisée', 'mc', 'me', 'mediocre', 'meilleur', 'meilleure', 'meilleures', 'meilleurs', 'mejor', 'meme', 'menace', 'menetou', 'ment', 'menthe', 'menthetiède', 'mention', 'menu', 'menus', 'menées', 'mer', 'merci', 'merciplus', 'mercredi', 'merguez', 'meringue', 'merite', 'meriter', 'merlan', 'mersea', 'merveille', 'merveilles', 'merveilleuse', 'merveilleusement', 'merveilleuses', 'merveilleux', 'mes', 'message', 'messieurs', 'mesure', 'met', 'mets', 'mettant', 'mettez', 'mettre', 'meurette', 'mexicain', 'mexicaine', 'mexican', 'mexique', 'mia', 'miam', 'michel', 'michelin', 'micro', 'microscopiques', 'midi', 'midis', 'mie', 'miel', 'mien', 'mienne', 'mieux', 'mignardises', 'mignon', 'mignons', 'milieu', 'mille', 'millefeuille', 'milliers', 'millimetré', 'million', 'min', 'mina', 'minable', 'mine', 'mini', 'miniardises', 'minimal', 'minimaliste', 'minimalistes', 'minime', 'minimes', 'minimum', 'miniscule', 'minuscule', 'minuscules', 'minute', 'minutes', 'minutie', 'minutieux', 'minérale', 'mirabelle', 'miroirs', 'mis', 'mise', 'mises', 'miso', 'mission', 'mixte', 'miyazaki', 'mmontparnadse', 'mn', 'mob', 'mobilier', 'mobster', 'moche', 'mode', 'moderation', 'moderne', 'moderniser', 'modernité', 'modeste', 'modifications', 'modifier', 'modérée', 'moelle', 'moelleux', 'moi', 'moindre', 'moindres', 'moins', 'mois', 'moitié', 'mojito', 'mole', 'molles', 'molto', 'moment', 'moments', 'mon', 'monacale', 'monde', 'mondialement', 'monnaie', 'monsieur', 'montagnard', 'montagnes', 'montant', 'monter', 'montmartre', 'montparnasse', 'montré', 'moque', 'moquer', 'moqueur', 'moral', 'morceaux', 'moret', 'moribondes', 'mot', 'motivé', 'motivés', 'mots', 'mou', 'moucherons', 'mouffetard', 'moules', 'moulin', 'moultes', 'mousse', 'moutarde', 'moyen', 'moyenne', 'moyennement', 'moyennes', 'moyens', 'mozzarella', 'mozzas', 'mr', 'mulet', 'multiples', 'multitude', 'mumi', 'mundo', 'mur', 'mural', 'murs', 'musical', 'musique', 'must', 'musée', 'mutiste', 'my', 'myriade', 'myrtilles', 'mythique', 'mère', 'mères', 'mètre', 'mètres', 'mécanique', 'mécontents', 'médecin', 'médiatisé', 'médiocre', 'médiocres', 'méditation', 'méditerranée', 'médium', 'mélange', 'mélangeant', 'mélangent', 'mélanger', 'mélanges', 'mélangée', 'mémoire', 'mémoires', 'mémorable', 'mémorables', 'méprendre', 'méprisant', 'méritant', 'mérite', 'méritent', 'mériter', 'mériterait', 'méritées', 'mérités', 'métier', 'métiers', 'métro', 'météo', 'mêlant', 'même', 'mêmes', 'naan', 'nage', 'nagent', 'nan', 'nancy', 'nans', 'napolitaines', 'naranja', 'narcis', 'narciz', 'nata', 'nature', 'naturel', 'naturellement', 'naufrage', 'navrant', 'ne', 'nectar', 'needed', 'negatif', 'neige', 'nems', 'nerfs', 'nerveuse', 'net', 'nets', 'nettement', 'neuf', 'neutre', 'neutres', 'nez', 'ni', 'niché', 'nickel', 'nico', 'nicolas', 'night', 'niveau', 'no', 'nobles', 'noir', 'noire', 'noires', 'noirs', 'noix', 'nom', 'nombre', 'nombreuse', 'nombreuses', 'nombreux', 'nommé', 'noms', 'non', 'nonchalant', 'normal', 'norme', 'norvégienne', 'nos', 'nossa', 'notamment', 'note', 'noter', 'notes', 'notoriété', 'notre', 'noté', 'nougat', 'nouille', 'nouilles', 'nounours', 'nourriture', 'nous', 'nouveau', 'nouveautés', 'nouveaux', 'nouvel', 'nouvelle', 'nouvelles', 'novateur', 'novatrice', 'novembre', 'noyé', 'noyées', 'nuage', 'nuit', 'nuits', 'nul', 'nulle', 'numéro', 'nutella', 'nº', 'né', 'néanmoins', 'nécessaire', 'nécessairement', 'nécessité', 'négatif', 'négatifs', 'négative', 'objet', 'obligations', 'obligatoire', 'obligatoires', 'oblige', 'obliger', 'obligé', 'obscurité', 'observation', 'obséquieux', 'obséquiosité', 'obtenir', 'obtenu', 'obtiendrez', 'occasion', 'occasionnellement', 'occasions', 'occidentale', 'occupe', 'occuper', 'occupé', 'occupées', 'octobre', 'océan', 'odeur', 'odeurs', 'odieux', 'odorat', 'odyssee', 'oeil', 'oeuf', 'oeufs', 'oeuvre', 'oeuvres', 'offert', 'offerte', 'offertes', 'offerts', 'officiait', 'officiellement', 'officielles', 'officier', 'offrait', 'offre', 'offrent', 'offres', 'offrir', 'offrira', 'offrons', 'offusqué', 'ogre', 'oie', 'oignon', 'oignons', 'ok', 'olive', 'olives', 'ombre', 'omelette', 'omniprésent', 'on', 'onctueuses', 'onde', 'ondes', 'onglet', 'onions', 'ont', 'ontinu', 'opinion', 'opportunité', 'opposé', 'oppressé', 'option', 'options', 'optons', 'opté', 'opère', 'opération', 'opére', 'orange', 'orateur', 'ordre', 'oreille', 'organisant', 'organisation', 'orgie', 'orgue', 'orgueilleuse', 'orient', 'oriental', 'orientale', 'orienté', 'original', 'originale', 'originales', 'originalité', 'originalités', 'originaux', 'origine', 'orloff', 'ormeaux', 'orsay', 'os', 'ostentation', 'ostentatoire', 'ostreiculteur', 'osé', 'ou', 'oublie', 'oublier', 'oublierai', 'oublié', 'oubliée', 'ouest', 'ouf', 'oui', 'our', 'oursins', 'outre', 'outrés', 'ouvert', 'ouverte', 'ouverts', 'ouverture', 'ouvre', 'ouvrir', 'overratings', 'oxte', 'où', 'oú', 'pad', 'page', 'paie', 'paille', 'pain', 'paine', 'pains', 'pair', 'paisible', 'pakistanais', 'palace', 'palaces', 'palais', 'palece', 'palet', 'palets', 'palmiers', 'palourde', 'panais', 'panini', 'paninis', 'panna', 'pans', 'panthéon', 'papa', 'papier', 'papille', 'papilles', 'papillesl', 'papillon', 'par', 'parait', 'parallèle', 'paraît', 'parce', 'parceque', 'parcimonieusement', 'parcours', 'pardi', 'pardonner', 'pardonné', 'pareil', 'parents', 'parfais', 'parfait', 'parfaite', 'parfaitement', 'parfaites', 'parfaits', 'parfaitun', 'parfois', 'parfum', 'parfums', 'parfumé', 'parfumée', 'parfuméedenseparfaite', 'parie', 'paris', 'parisien', 'parisienne', 'parisiennes', 'parisiens', 'parisplus', 'parlait', 'parle', 'parler', 'parlé', 'parme', 'parmentier', 'parmesan', 'parmi', 'parmis', 'parsemés', 'part', 'partage', 'partageons', 'partager', 'partagé', 'partagées', 'partagés', 'partait', 'parte', 'partenaire', 'parti', 'participe', 'particularités', 'particulier', 'particulière', 'particulièrement', 'particulières', 'partie', 'partions', 'partir', 'partis', 'partons', 'partout', 'parts', 'paru', 'pas', 'passable', 'passage', 'passages', 'passait', 'passant', 'passe', 'passent', 'passer', 'passera', 'passerez', 'passez', 'passiez', 'passion', 'passionnant', 'passionné', 'passionnés', 'passons', 'passé', 'passée', 'passées', 'passés', 'pasteis', 'patate', 'pate', 'pathétique', 'patience', 'patient', 'patienter', 'patienté', 'patisseries', 'patissier', 'pato', 'patrice', 'patrimoine', 'patron', 'patronne', 'patrons', 'paul', 'pause', 'pauvre', 'pauvres', 'paye', 'payer', 'payes', 'pays', 'payé', 'paz', 'pdt', 'peine', 'peint', 'peinture', 'pendant', 'pensais', 'pensait', 'pensant', 'pense', 'pensez', 'pensions', 'pensé', 'pensées', 'peps', 'perchée', 'perd', 'perde', 'perdent', 'perdre', 'perdue', 'pere', 'perfection', 'perfide', 'periode', 'permanence', 'permanent', 'permet', 'permettant', 'permettent', 'permettrait', 'permis', 'pernand', 'pers', 'personel', 'personnage', 'personnalisation', 'personnalisé', 'personnalité', 'personnalités', 'personne', 'personnel', 'personnelle', 'personnellement', 'personnels', 'personnes', 'pertinente', 'pertinents', 'pete', 'petit', 'petite', 'petites', 'petits', 'peu', 'peuplent', 'peut', 'peuvent', 'peux', 'pg', 'pharmaceutiques', 'phase', 'philharmonie', 'pho', 'photo', 'photos', 'phrase', 'physiques', 'pianovin', 'pianovins', 'pichet', 'picon', 'piece', 'pied', 'pieds', 'piege', 'pieges', 'pierre', 'pierres', 'pigale', 'pigalle', 'pigeon', 'pigeonneau', 'piles', 'pilote', 'piments', 'pinces', 'pinot', 'pintade', 'pintes', 'piquante', 'pire', 'pistache', 'pistaches', 'pita', 'pitoyable', 'pittoresque', 'pizza', 'pizzaiolo', 'pizzas', 'pizzeria', 'pièce', 'piège', 'piètre', 'place', 'placeambiance', 'places', 'placette', 'placé', 'placécadre', 'placée', 'placés', 'plafond', 'plaindre', 'plaint', 'plaisant', 'plaisanterie', 'plaisanteries', 'plaisir', 'plaisirs', 'plaisirservice', 'plan', 'planches', 'plane', 'plans', 'planète', 'plaque', 'plaques', 'plastique', 'plat', 'plateau', 'plateaux', 'plats', 'plaît', 'plein', 'pleine', 'pleinement', 'pleins', 'pleurer', 'plongera', 'plouc', 'plu', 'pluie', 'plupart', 'plus', 'plusieurs', 'plusle', 'plutot', 'plutôt', 'pluvieux', 'poche', 'poché', 'poellé', 'poignée', 'poil', 'point', 'pointe', 'points', 'poire', 'poireaux', 'poires', 'pois', 'poisson', 'poissons', 'poitrine', 'poivrons', 'poivré', 'polie', 'politesse', 'polémique', 'pomme', 'pommes', 'pompeux', 'pompidou', 'pompon', 'ponpon', 'pop', 'populaire', 'porc', 'porte', 'portefeuille', 'porter', 'portion', 'portions', 'porté', 'portée', 'pose', 'poser', 'positif', 'positifs', 'position', 'positionnés', 'positive', 'positives', 'possibilité', 'possibilités', 'possible', 'possèdent', 'posées', 'pot', 'potagère', 'potatoes', 'potence', 'potentielle', 'potes', 'pots', 'poubelle', 'pouce', 'poulet', 'poulets', 'poulpe', 'poulpes', 'pour', 'pourboire', 'pournotre', 'pourquoi', 'pourra', 'pourraient', 'pourrait', 'pourries', 'pourtant', 'pousse', 'poussent', 'pousser', 'poussez', 'poussiéreux', 'poussé', 'poutargue', 'pouvais', 'pouvait', 'pouvant', 'pouvez', 'pouvions', 'pouvoir', 'pouvons', 'poésie', 'poêlé', 'prague', 'praliné', 'pratique', 'pratiquement', 'pre', 'preferais', 'premier', 'premiere', 'premiers', 'première', 'premièrement', 'premières', 'prenant', 'prend', 'prendre', 'prends', 'prenez', 'prenne', 'prennent', 'prennes', 'prenons', 'prepara', 'prepareé', 'pres', 'presentation', 'presente', 'presque', 'pressait', 'presser', 'pressé', 'pressée', 'pressés', 'prestance', 'prestation', 'prestations', 'prestige', 'prestigieux', 'presume', 'preuve', 'prices', 'prie', 'principal', 'principale', 'principaux', 'priori', 'priorité', 'pris', 'prise', 'prises', 'prisé', 'prit', 'privatisé', 'privilège', 'privilégiés', 'privé', 'prix', 'prixc', 'pro', 'probablement', 'problème', 'problèmes', 'processus', 'prochaine', 'prochainement', 'proche', 'proches', 'procurent', 'produit', 'produits', 'professionalisme', 'professionnalisme', 'professionnel', 'professionnelle', 'professionnels', 'profil', 'profiler', 'profit', 'profite', 'profiter', 'profiteroles', 'profité', 'profondément', 'progresser', 'progression', 'progressivement', 'prohibitifs', 'projecteur', 'promenant', 'promene', 'promesses', 'prometteur', 'promises', 'promo', 'prononcée', 'prononcées', 'proportions', 'propos', 'proposait', 'proposant', 'propose', 'proposer', 'proposition', 'propositions', 'proposé', 'proposée', 'proposées', 'proposés', 'propre', 'propres', 'propreté', 'proprio', 'proprios', 'propriétaire', 'propriétaires', 'pros', 'protocolaire', 'prouvé', 'provenant', 'province', 'proximité', 'prudent', 'près', 'pré', 'préalable', 'précieusement', 'précieux', 'précipitamment', 'précis', 'précise', 'précision', 'précisé', 'précédent', 'précédente', 'précédentes', 'précédents', 'prédis', 'préfère', 'préfèrez', 'préférable', 'préférence', 'préférer', 'préféré', 'préférée', 'préférées', 'préférés', 'prénom', 'préparation', 'préparations', 'prépare', 'préparent', 'préparer', 'préparez', 'préparé', 'préparées', 'préparés', 'prés', 'présence', 'présent', 'présentait', 'présentation', 'présentations', 'présente', 'présentent', 'présenter', 'présenterait', 'présentes', 'présents', 'présenté', 'présentés', 'prétentieuse', 'prétentieux', 'prétention', 'prétexte', 'prévenant', 'prévenir', 'prévenu', 'prévenus', 'prévoir', 'prévoyez', 'prévu', 'prévues', 'prêt', 'prête', 'pseudo', 'ptits', 'pu', 'publique', 'puent', 'puis', 'puisqu', 'puisque', 'puissante', 'puisse', 'punch', 'pupilles', 'pur', 'pure', 'pursuit', 'purée', 'pyrénées', 'pâle', 'pâte', 'pâtes', 'pâteuse', 'pâtisserie', 'pâtisseries', 'pâté', 'pâtés', 'pèse', 'pénétrons', 'pépite', 'période', 'pétales', 'pétillant', 'pêche', 'pêcher', 'qd', 'qqch', 'qqs', 'qu', 'quadragénaires', 'quais', 'qualifier', 'qualitatif', 'qualitatifs', 'qualitatives', 'qualite', 'qualité', 'qualités', 'quand', 'quant', 'quantité', 'quantités', 'quarante', 'quart', 'quartier', 'quartierplus', 'quartiers', 'quasi', 'quasiment', 'quatre', 'que', 'quel', 'quelconque', 'quelconques', 'quelle', 'quelqu', 'quelque', 'quelques', 'quels', 'quenelle', 'quenelles', 'quentin', 'quesadilla', 'question', 'questions', 'queue', 'queues', 'qui', 'quilles', 'quinoa', 'quitte', 'quitter', 'quitté', 'quoi', 'quoiqu', 'quoique', 'rables', 'raccrocher', 'raccrohe', 'rachitique', 'racine', 'racolleur', 'radieux', 'raffinement', 'raffiné', 'raffinée', 'raffinéedesserts', 'raffinées', 'raffinéetout', 'raffinés', 'rafiné', 'rafinés', 'raie', 'raisins', 'raison', 'raisonnable', 'raisonnables', 'rajoute', 'rajouter', 'rajoutez', 'rajouté', 'rajoutée', 'ramen', 'ramens', 'ramequins', 'randonnées', 'rang', 'ranger', 'rangs', 'rapide', 'rapidement', 'rapidité', 'rappeler', 'rappelle', 'rapport', 'rapprochée', 'rapprochées', 'rare', 'rarement', 'rares', 'ras', 'rassasient', 'rassasié', 'rassasiés', 'rassemble', 'rassurant', 'ratatouille', 'rate', 'rater', 'ratez', 'rations', 'rattrapé', 'raté', 'ravi', 'ravie', 'ravies', 'raviole', 'ravioles', 'ravioli', 'raviolis', 'ravira', 'ravis', 'ravissent', 'rayé', 'rdv', 'rebords', 'rebutait', 'reception', 'recette', 'recettes', 'recevoir', 'recherchant', 'recherche', 'recherches', 'recherchions', 'recherché', 'recherchée', 'recherchées', 'rechignait', 'recommandable', 'recommandation', 'recommandations', 'recommande', 'recommandeplus', 'recommander', 'recommanderai', 'recommanderais', 'recommandons', 'recommandonsplus', 'recommandé', 'recommence', 'recommende', 'reconduits', 'reconnaissez', 'reconnaître', 'reconnue', 'recours', 'recouvertes', 'recruteur', 'recréé', 'recu', 'redemande', 'redire', 'redonner', 'redécouvrir', 'refaire', 'refait', 'reflet', 'reflètes', 'refouler', 'refus', 'refusant', 'refuser', 'regal', 'regard', 'regardant', 'regarde', 'regarder', 'regards', 'regime', 'regis', 'registre', 'regorge', 'regret', 'regrets', 'regrettable', 'regrette', 'regrettera', 'regretterez', 'regrettons', 'regretté', 'rehaussée', 'reinette', 'rejetant', 'rejoindre', 'relais', 'relater', 'relative', 'relativement', 'relaxe', 'relevées', 'relish', 'relâchez', 'relèvent', 'remarquable', 'remarquablement', 'remarquableplus', 'remarquables', 'remarque', 'remarquer', 'remarques', 'remarquons', 'remarqué', 'remercie', 'remerciements', 'remettrai', 'remettrais', 'remettre', 'remise', 'remontée', 'remplacé', 'rempli', 'remplie', 'remplir', 'remplis', 'remportés', 'rencontre', 'rencontrer', 'rencontré', 'rend', 'rendez', 'rendre', 'rends', 'rendu', 'rendue', 'rendus', 'renforcer', 'renom', 'renommée', 'renouveler', 'renouveller', 'renouvelée', 'rentable', 'rentrant', 'rentrer', 'rentrez', 'rentrons', 'rentré', 'rentrés', 'renversé', 'rené', 'repartent', 'repartie', 'repartirai', 'repartis', 'repas', 'repasc', 'repeindre', 'repond', 'reportage', 'reposé', 'reprendre', 'represente', 'reprises', 'reproche', 'représentative', 'repu', 'requièrentselon', 'resa', 'reservation', 'reserve', 'reserver', 'respect', 'respectant', 'respectueux', 'respecté', 'respectées', 'respire', 'responsable', 'responsables', 'ressemblait', 'ressemblant', 'ressemble', 'ressent', 'ressenti', 'ressort', 'restant', 'restau', 'restaurant', 'restaurants', 'restaurateur', 'restaurateurs', 'restauration', 'restaurent', 'restaurer', 'restautant', 'reste', 'restent', 'rester', 'restera', 'resterez', 'restez', 'resto', 'restopolitan', 'restos', 'restreint', 'resté', 'restée', 'restés', 'resume', 'retard', 'retaurant', 'retenir', 'retenons', 'retient', 'retirer', 'retiré', 'retour', 'retourne', 'retourner', 'retournera', 'retournerai', 'retournerais', 'retournerons', 'retourné', 'retournés', 'retours', 'retrait', 'retrouve', 'retrouvent', 'retrouver', 'retrouvons', 'retrouvé', 'retrouvée', 'retrouvés', 'revalorisées', 'revanche', 'reve', 'reveiller', 'revelation', 'revenait', 'revenir', 'revenu', 'revenus', 'reviendra', 'reviendrai', 'reviendrais', 'reviendrons', 'reviennent', 'reviens', 'revient', 'revisiter', 'revisité', 'revisitée', 'revisités', 'revoir', 'revoirnous', 'rez', 'reçois', 'reçu', 'rhum', 'rhône', 'riche', 'riches', 'richesse', 'rideau', 'ridicule', 'ridicules', 'rien', 'riesling', 'rigides', 'rigolo', 'rigueur', 'rillettes', 'ringard', 'rires', 'ris', 'risotto', 'risque', 'ritz', 'rivaliser', 'rive', 'riz', 'roblochon', 'robuchon', 'rodage', 'rodées', 'rognon', 'rognons', 'roignons', 'rois', 'romantique', 'romantisme', 'ronde', 'rondelles', 'roof', 'roomies', 'roquette', 'rose', 'roses', 'rosiers', 'rostang', 'rosé', 'roti', 'roue', 'rouge', 'rouget', 'rougets', 'roulés', 'rouquette', 'routard', 'royal', 'royale', 'royaleluxueuse', 'royalement', 'royales', 'rtl', 'rue', 'ruelle', 'rues', 'rugby', 'ruiner', 'ruisseau', 'rupture', 'rustique', 'rutilante', 'rythme', 'rythmé', 'râter', 'règne', 'réactif', 'réaction', 'réactive', 'réalisations', 'réalise', 'réaliser', 'réalisé', 'réalisée', 'réalisés', 'récemment', 'récent', 'réception', 'réchauffent', 'réchauffer', 'réchauffés', 'récidivé', 'réclame', 'réclamer', 'récole', 'réconfirme', 'récupération', 'réduction', 'réduit', 'réduite', 'réel', 'réelle', 'réellement', 'réels', 'réflexion', 'réflexions', 'réforme', 'référence', 'régal', 'régale', 'régaler', 'régalé', 'régalée', 'régalés', 'régimes', 'région', 'régis', 'régler', 'réglés', 'régressives', 'régulier', 'régulièrement', 'réinventer', 'réjouis', 'réjouit', 'rénové', 'réorienté', 'réouverture', 'répits', 'répond', 'répondait', 'réponds', 'répondu', 'réponse', 'réponses', 'république', 'répugnante', 'réputation', 'réputé', 'répéter', 'réservation', 'réservations', 'réserve', 'réserver', 'réservez', 'réservé', 'réservée', 'réservées', 'réservés', 'réside', 'résidence', 'résident', 'résister', 'résolument', 'résonnent', 'résoudre', 'résultant', 'résultat', 'résume', 'résumé', 'rétorque', 'rétro', 'rétrogradé', 'réuni', 'réunies', 'réunion', 'réunis', 'réussi', 'réussie', 'réussies', 'réussite', 'réveille', 'réveillon', 'réveillé', 'révolu', 'révolue', 'révélé', 'rêvais', 'rêve', 'rêver', 'rêvions', 'rêvé', 'rôti', 'sa', 'sable', 'sac', 'sachant', 'sachet', 'sachez', 'sacoches', 'sacré', 'sacs', 'safran', 'safranée', 'saignante', 'sain', 'sains', 'saint', 'saints', 'sais', 'saison', 'saisons', 'sait', 'saj', 'saké', 'salade', 'salades', 'sale', 'salee', 'saleté', 'salive', 'salle', 'salles', 'salon', 'salons', 'saluer', 'salé', 'salée', 'salées', 'saléplus', 'salés', 'samatan', 'samedi', 'sandre', 'sandwich', 'sandwicherie', 'sandwichs', 'sanitaires', 'sans', 'saouleront', 'sardines', 'sarrasin', 'sas', 'sashimi', 'sashimis', 'satisfaire', 'satisfaisant', 'satisfaisante', 'satisfait', 'satisfaits', 'sauce', 'sauces', 'saucé', 'sauf', 'saumon', 'saura', 'saurons', 'sautait', 'sautées', 'sauvait', 'sauve', 'sauver', 'savais', 'savait', 'savant', 'savent', 'saveur', 'saveurs', 'savez', 'savions', 'savoie', 'savoir', 'savons', 'savourer', 'savoureuse', 'savoureuses', 'savoureux', 'scalpel', 'scandale', 'scandaleux', 'sceau', 'scintiller', 'scolaire', 'scotché', 'sculptes', 'scène', 'sdf', 'se', 'seasons', 'seau', 'sec', 'second', 'seconde', 'secret', 'secs', 'seduire', 'seiche', 'seine', 'seizième', 'sel', 'select', 'selection', 'selon', 'semaine', 'semaines', 'semblait', 'semblant', 'semble', 'semblent', 'semblé', 'semelle', 'semoule', 'sen', 'senderens', 'sens', 'sensation', 'sensationnel', 'sensations', 'sensibilisée', 'sensible', 'sensé', 'sent', 'sentait', 'senti', 'sentiment', 'sentions', 'sentir', 'sentis', 'sentons', 'sept', 'septembre', 'septime', 'sera', 'seraient', 'serait', 'sercice', 'serez', 'sergent', 'serré', 'serrées', 'serrés', 'sert', 'servait', 'servant', 'servent', 'serveur', 'serveurs', 'serveuse', 'serveuses', 'servi', 'serviable', 'serviables', 'service', 'services', 'servie', 'servies', 'serviette', 'servir', 'servis', 'ses', 'set', 'sets', 'seul', 'seule', 'seulement', 'seules', 'seuls', 'show', 'si', 'side', 'sidéré', 'siecle', 'sien', 'signalé', 'signature', 'signatures', 'signe', 'significative', 'signifie', 'signifié', 'silla', 'similaires', 'simple', 'simplement', 'simples', 'simplette', 'simplicité', 'sincère', 'sincèrement', 'sinon', 'siplus', 'site', 'situation', 'situe', 'situé', 'située', 'sitôt', 'six', 'siècle', 'sièges', 'slim', 'snack', 'snacké', 'snob', 'sobre', 'sociable', 'sodas', 'soeur', 'soi', 'soient', 'soigne', 'soigneusement', 'soigné', 'soignée', 'soin', 'soinplus', 'soins', 'soir', 'soiree', 'soirée', 'sois', 'soit', 'soja', 'sol', 'sole', 'soleil', 'soles', 'sollicitationcuisine', 'sombre', 'somme', 'sommelier', 'sommeliers', 'sommelière', 'sommes', 'sommet', 'somptueuse', 'somptueux', 'son', 'sonore', 'sonorités', 'sont', 'sophie', 'sorbonne', 'sors', 'sort', 'sortaient', 'sortant', 'sorte', 'sortent', 'sortes', 'sorti', 'sortie', 'sorties', 'sortir', 'sortis', 'souci', 'soucieux', 'soucis', 'soufflant', 'souffle', 'soufflé', 'soufflée', 'souffrir', 'souhait', 'souhaite', 'souhaitent', 'souhaitez', 'souhaitions', 'souhaits', 'souhaité', 'soumis', 'soupe', 'souper', 'soupes', 'soupçon', 'sourcés', 'souri', 'souriant', 'souriante', 'souriants', 'sourire', 'sourirerapiditéefficacitéqualité', 'sourires', 'souris', 'sourit', 'sous', 'souvenir', 'souvenirs', 'souvent', 'souviendra', 'soyons', 'spacieuses', 'spacieux', 'spartacus', 'spartiate', 'specialités', 'specificités', 'spectacle', 'spectaculaire', 'spiritueux', 'splendeur', 'splendide', 'spot', 'spécial', 'spéciale', 'spécialement', 'spécialisé', 'spécialité', 'spécialités', 'spécifiques', 'spécifié', 'square', 'squelettique', 'st', 'stable', 'staff', 'stagiaires', 'standards', 'standing', 'steak', 'steakhouses', 'steaks', 'stick', 'street', 'stress', 'structures', 'style', 'stéréotypes', 'su', 'subiile', 'sublime', 'sublimer', 'sublimes', 'sublimespigeon', 'sublimé', 'sublimées', 'substance', 'subtil', 'subtile', 'subtilement', 'subtiles', 'subtilité', 'subtils', 'succession', 'succulent', 'succulente', 'succulentes', 'succulents', 'succèdent', 'succès', 'sucre', 'sucrees', 'sucré', 'sucrée', 'sucrées', 'sucrés', 'sucs', 'sud', 'suffisamment', 'suffisant', 'suffisantes', 'suffit', 'suggestions', 'suggéré', 'suis', 'suit', 'suite', 'suivant', 'suivante', 'suivants', 'suivent', 'suivi', 'suivies', 'suivis', 'suivons', 'suivre', 'suki', 'sulfurisé', 'super', 'superbe', 'superbement', 'superbes', 'superlatifs', 'supermarché', 'superposé', 'supers', 'supervisée', 'supplément', 'supplémentaire', 'suppléments', 'supplémnt', 'supportable', 'supporter', 'supports', 'supposé', 'supposée', 'suprenant', 'suprise', 'suprême', 'supérieure', 'sur', 'surannée', 'surchargée', 'surcroît', 'surestimée', 'surface', 'surfait', 'surfaite', 'surgeles', 'surgelé', 'surgelés', 'surprenant', 'surprenante', 'surprenantes', 'surprenants', 'surprendre', 'surpris', 'surprise', 'surprises', 'surtout', 'suscite', 'sushi', 'sushis', 'suzette', 'suzettes', 'sylvestre', 'sympa', 'sympas', 'sympathie', 'sympathique', 'sympathiques', 'sympatique', 'symphonie', 'synchronisation', 'syrah', 'système', 'systématiquement', 'sèche', 'sèchement', 'sèches', 'séduire', 'séduisante', 'séduisants', 'séduit', 'séjour', 'séjourné', 'sélection', 'sélectionnés', 'séminaire', 'séparer', 'série', 'sérieusement', 'sérieux', 'sévère', 'sûr', 'sûre', 'sûrement', 'sœur', 'ta', 'tabasser', 'table', 'tables', 'tablesplus', 'tablette', 'tabouleh', 'taboulé', 'tabourets', 'taché', 'tacos', 'tact', 'taille', 'tailles', 'taillés', 'taire', 'takayagani', 'talent', 'talentueux', 'talons', 'tamisée', 'tandis', 'tant', 'tantes', 'tapas', 'tape', 'tapissés', 'tarbais', 'tard', 'tarif', 'tarifs', 'tarot', 'tartare', 'tartares', 'tarte', 'tartine', 'tartines', 'tas', 'tasse', 'tasty', 'tat', 'tata', 'taïwanais', 'te', 'tea', 'teamkangourou', 'technique', 'tel', 'telle', 'tellement', 'telles', 'tels', 'temps', 'tempura', 'température', 'tenait', 'tendance', 'tendre', 'tendrele', 'tendresse', 'teneur', 'teniendo', 'tentante', 'tentatives', 'tente', 'tenter', 'tenture', 'tenu', 'tenue', 'teppan', 'teppanyaki', 'terasse', 'tergiverser', 'teriyaki', 'terme', 'termes', 'terminer', 'terminé', 'terminée', 'terrail', 'terrasse', 'terre', 'terres', 'terrible', 'terrible5', 'terrines', 'terroristes', 'tes', 'test', 'teste', 'tester', 'testé', 'testés', 'textures', 'thaï', 'the', 'theâtre', 'thhis', 'thierry', 'thon', 'thème', 'thé', 'théatre', 'thélème', 'théâtre', 'théâtres', 'tibétaine', 'ticket', 'tienne', 'tiennent', 'tiens', 'tient', 'tika', 'tikka', 'time', 'timé', 'tiramisu', 'tirelire', 'tissu', 'titille', 'titre', 'titres', 'tiède', 'tièdes', 'tj', 'tjrs', 'tjs', 'toasté', 'toastés', 'toi', 'toilettes', 'toit', 'toits', 'tokyo', 'tomate', 'tomates', 'tombais', 'tombe', 'tombent', 'tomber', 'tombons', 'tombé', 'tombée', 'tombés', 'ton', 'tonitruantes', 'top', 'topinambour', 'toppersonnel', 'tops', 'toqué', 'tot', 'total', 'totale', 'totalement', 'touche', 'touchent', 'toucher', 'touches', 'touchés', 'toujours', 'toulousainesmais', 'tour', 'tourisme', 'touriste', 'touristes', 'touristiques', 'tourné', 'tourte', 'tourteau', 'tourteaux', 'tous', 'tout', 'toutain', 'toute', 'toutefois', 'toutes', 'touthenkamon', 'tradition', 'traditionnel', 'traditionnelle', 'traditionnelles', 'traditionnels', 'traditions', 'train', 'trainer', 'traite', 'traiteur', 'traité', 'traités', 'trajet', 'tranche', 'tranchent', 'tranches', 'tranquille', 'transmets', 'transormés', 'transpiration', 'transporte', 'transportée', 'transportés', 'traumatisante', 'travail', 'travaille', 'travaillez', 'travaillé', 'travaillée', 'travaillées', 'travaillés', 'travaux', 'travers', 'traverser', 'trempée', 'trente', 'tres', 'triomphe', 'trip', 'tripadvisor', 'triste', 'tristesse', 'trivial', 'trocadéro', 'trois', 'troisième', 'trompent', 'trop', 'tropez', 'trottoir', 'trouvailles', 'trouvant', 'trouve', 'trouvent', 'trouver', 'trouverez', 'trouvé', 'trouvée', 'trouvées', 'trouvés', 'truc', 'truffe', 'truffes', 'truffés', 'truite', 'très', 'trèstrèsdécevant', 'trés', 'trésor', 'trône', 'ttripadvisor', 'tu', 'tuer', 'tuerie', 'tueries', 'tuiles', 'tumulte', 'turbot', 'turnover', 'type', 'types', 'typique', 'typiques', 'tâches', 'téléphonant', 'téléphone', 'téléphones', 'télérama', 'témoin', 'témoins', 'térail', 'tête', 'tôt', 'ultra', 'un', 'unanime', 'unanimes', 'underground', 'une', 'unes', 'unique', 'uniquement', 'uniques', 'universitaire', 'uns', 'urgence', 'usage', 'usurpé', 'utilise', 'va', 'vacance', 'vacances', 'vache', 'vaguement', 'vais', 'vaisselle', 'vaissellecouvertssalle', 'valait', 'valentin', 'valeur', 'validés', 'vanille', 'vanté', 'vaqueras', 'varie', 'variee', 'varier', 'varié', 'variée', 'variées', 'variés', 'variété', 'variétés', 'vas', 'vaut', 'veau', 'veaucoquilles', 'veaux', 'vegan', 'vegeburger', 'vegetal', 'veille', 'venait', 'venant', 'vende', 'vendent', 'vendeur', 'vendeuse', 'vendeuses', 'vendredi', 'vendôme', 'venez', 'venions', 'venir', 'venons', 'vent', 'vente', 'ventre', 'venu', 'venue', 'venues', 'venus', 'verdure', 'vergelesses', 'verra', 'verre', 'verres', 'verres4', 'verrez', 'verrière', 'vers', 'versailles', 'versatile', 'version', 'versus', 'vert', 'verts', 'veste', 'vestiaire', 'vestimentaire', 'veulent', 'veut', 'veux', 'via', 'viande', 'viandes', 'victime', 'victoires', 'vide', 'vie', 'vieil', 'vieille', 'vieillot', 'viendriez', 'vienne', 'viennoiserie', 'viennoiseries', 'vienoiseries', 'viens', 'vient', 'vietnamienne', 'vieux', 'vigato', 'village', 'ville', 'vin', 'vinaigre', 'vinaigrette', 'vinaigrée', 'vincent', 'vingt', 'vingtaine', 'vinle', 'vins', 'vinsur', 'vintage', 'vire', 'virtus', 'virés', 'vis', 'visible', 'visiblement', 'vision', 'visite', 'visiter', 'visites', 'visiteurs', 'visité', 'visitée', 'visuel', 'visuelle', 'visé', 'vit', 'vite', 'vitesse', 'vitrée', 'vitrées', 'vivant', 'vivants', 'vivement', 'vivienne', 'vivons', 'vivre', 'vodka', 'voici', 'voie', 'voient', 'voila', 'voilà', 'voir', 'voire', 'vois', 'voisine', 'voisins', 'voit', 'voiture', 'voiturier', 'voix', 'vol', 'volaille', 'volontier', 'volontiers', 'volonté', 'voluptueux', 'vont', 'vos', 'vosges', 'votre', 'voudrait', 'voulais', 'voulait', 'voulant', 'voulez', 'voulions', 'voulo', 'vouloir', 'voulons', 'voulu', 'vous', 'voyage', 'voyageais', 'voyager', 'voyageurs', 'voyagez', 'voyagé', 'voyant', 'voyons', 'vrai', 'vraie', 'vraies', 'vraiment', 'vrais', 'vraissemblablement', 'vu', 'vue', 'vues', 'vulgaire', 'vulgairement', 'vulgaires', 'vécu', 'végans', 'végé', 'végés', 'végétal', 'végétaliens', 'végétarien', 'végétarienne', 'végétariennes', 'végétariens', 'végétaux', 'vélo', 'vérifier', 'vérifié', 'véritable', 'véritablement', 'vétusté', 'wagyu', 'wahoo', 'waouw', 'wc', 'we', 'web', 'week', 'weekend', 'whaou', 'wifi', 'william', 'wine', 'wines', 'with', 'wola', 'wow', 'xixe', 'xve', 'xvème', 'xxi', 'ya', 'yaki', 'yakitori', 'yaourt', 'yen', 'yeux', 'yoshitaka', 'yuzu', 'ze', 'zen', 'zkg', 'zone', 'zors', 'zouzou', 'à13', 'âges', 'âme', 'ça', 'çe', 'çi', 'çà', 'ème', 'ébahis', 'éblouissement', 'écart', 'écarter', 'échalote', 'échanger', 'échanges', 'échantillons', 'échelle', 'écho', 'échoppe', 'éclair', 'éclairage', 'éclats', 'éclectique', 'éco', 'école', 'écoles', 'économies', 'écorchant', 'écoute', 'écouter', 'écoutez', 'écrevisse', 'écrin', 'écrire', 'écris', 'écrit', 'écrits', 'écrivais', 'écœurant', 'écœurants', 'égale', 'également', 'égard', 'égayé', 'élaboration', 'élaboré', 'élaborée', 'élaborées', 'éleve', 'élevé', 'élevée', 'élevés', 'élitiste', 'éloges', 'élogieuses', 'élogieux', 'éloigner', 'éloignée', 'éloignées', 'élève', 'élégamment', 'élégance', 'élégant', 'élégante', 'élégantpersonnel', 'éléments', 'émerveille', 'émerveillement', 'émerveillé', 'émincé', 'émis', 'émission', 'émotion', 'émotions', 'émulsion', 'énergie', 'énergique', 'énergétique', 'énoncé', 'énorme', 'énormes', 'épais', 'épaisse', 'épaté', 'épatés', 'épaule', 'épicerie', 'épices', 'épicurien', 'épicuriens', 'épicé', 'épicée', 'épicéesmais', 'épicés', 'épinards', 'épisode', 'époque', 'épouse', 'époustouflante', 'époustouflantes', 'époustoufler', 'épuré', 'épurée', 'épuréz', 'équilibre', 'équilibré', 'équilibrée', 'équilibrées', 'équilibrés', 'équipe', 'équipes', 'équipé', 'équivaut', 'éric', 'érudit', 'érythréen', 'ét', 'établi', 'établissement', 'établissementidéalement', 'établissements', 'étage', 'étagères', 'étaient', 'étais', 'était', 'étant', 'étape', 'étapes', 'état', 'états', 'étendu', 'éthique', 'étions', 'étoile', 'étoiles', 'étoilé', 'étoilée', 'étoilés', 'étonnamment', 'étonnant', 'étonnante', 'étonné', 'étonnée', 'étouffante', 'étouffe', 'étranger', 'étrangers', 'étriquée', 'étroit', 'étroite', 'étroites', 'étudiant', 'étudiants', 'étudie', 'étudié', 'étudiées', 'étui', 'été', 'étés', 'évasion', 'éveillent', 'éventé', 'évidement', 'évidemment', 'évidence', 'évident', 'évitant', 'évite', 'éviter', 'évitez', 'évocateurs', 'évolue', 'évolution', 'évoque', 'événement', 'êtes', 'être', 'île', 'œil', 'œuf', 'œufs', 'œuvre'] 6401\n"
          ],
          "name": "stdout"
        }
      ]
    },
    {
      "cell_type": "code",
      "metadata": {
        "colab": {
          "base_uri": "https://localhost:8080/"
        },
        "id": "e9kE4HzDCtan",
        "outputId": "f22ac2c7-8ece-4924-8339-90e16f41b604"
      },
      "source": [
        "X.toarray()"
      ],
      "execution_count": null,
      "outputs": [
        {
          "output_type": "execute_result",
          "data": {
            "text/plain": [
              "array([[0, 0, 0, ..., 0, 0, 0],\n",
              "       [0, 0, 0, ..., 0, 0, 0],\n",
              "       [0, 0, 0, ..., 0, 0, 0],\n",
              "       ...,\n",
              "       [0, 0, 0, ..., 0, 0, 0],\n",
              "       [0, 0, 0, ..., 0, 0, 0],\n",
              "       [0, 0, 0, ..., 0, 0, 0]])"
            ]
          },
          "metadata": {
            "tags": []
          },
          "execution_count": 82
        }
      ]
    },
    {
      "cell_type": "code",
      "metadata": {
        "colab": {
          "base_uri": "https://localhost:8080/"
        },
        "id": "XJT7bGbZCpZ8",
        "outputId": "4ea66543-eb93-4dce-eb1d-ab0df81183be"
      },
      "source": [
        "print(X.toarray())"
      ],
      "execution_count": null,
      "outputs": [
        {
          "output_type": "stream",
          "text": [
            "[[0 0 0 ... 0 0 0]\n",
            " [0 0 0 ... 0 0 0]\n",
            " [0 0 0 ... 0 0 0]\n",
            " ...\n",
            " [0 0 0 ... 0 0 0]\n",
            " [0 0 0 ... 0 0 0]\n",
            " [0 0 0 ... 0 0 0]]\n"
          ],
          "name": "stdout"
        }
      ]
    },
    {
      "cell_type": "code",
      "metadata": {
        "id": "SEZysuD7QuG1"
      },
      "source": [
        "X_train, X_test, y_train, y_test = train_test_split(X, y, test_size=0.33, random_state=42)"
      ],
      "execution_count": null,
      "outputs": []
    },
    {
      "cell_type": "code",
      "metadata": {
        "colab": {
          "base_uri": "https://localhost:8080/"
        },
        "id": "nEaHPm_WOrER",
        "outputId": "1998f500-59db-4421-8b1e-795ce2146112"
      },
      "source": [
        "from sklearn.neighbors import KNeighborsClassifier as KNN \n",
        "ngh = KNN(n_neighbors=3)\n",
        "Kb = ngh.fit(X_train,y_train)\n",
        "print(ngh.classes_,'\\n',ngh.effective_metric_,ngh.effective_metric_params_,ngh.outputs_2d_)"
      ],
      "execution_count": null,
      "outputs": [
        {
          "output_type": "stream",
          "text": [
            "[0 1] \n",
            " euclidean {} False\n"
          ],
          "name": "stdout"
        }
      ]
    },
    {
      "cell_type": "code",
      "metadata": {
        "colab": {
          "base_uri": "https://localhost:8080/"
        },
        "id": "PnRSx2F7PGD-",
        "outputId": "20f94b93-9076-4cdc-cb87-295c56f39980"
      },
      "source": [
        "\n",
        "Ypred=Kb.predict(X_test)\n",
        "Ypred"
      ],
      "execution_count": null,
      "outputs": [
        {
          "output_type": "execute_result",
          "data": {
            "text/plain": [
              "array([1, 0, 0, 1, 1, 0, 0, 1, 1, 1, 1, 1, 1, 1, 1, 1, 1, 1, 1, 1, 0, 1,\n",
              "       1, 1, 1, 1, 1, 0, 1, 1, 1, 0, 1, 1, 1, 1, 1, 1, 1, 1, 0, 0, 1, 1,\n",
              "       0, 1, 1, 1, 1, 1, 0, 1, 1, 1, 1, 1, 1, 1, 1, 1, 1, 1, 0, 1, 0, 1,\n",
              "       1, 0, 1, 1, 1, 1, 1, 1, 1, 1, 0, 1, 1, 0, 1, 1, 1, 0, 1, 1, 1, 1,\n",
              "       1, 1, 1, 0, 1, 1, 0, 1, 1, 1, 1, 1, 1, 1, 0, 1, 1, 1, 1, 1, 1, 1,\n",
              "       0, 1, 0, 0, 1, 1, 1, 1, 0, 1, 1, 1, 1, 1, 1, 1, 1, 0, 0, 1, 1, 1,\n",
              "       1, 1, 1, 1, 1, 0, 0, 1, 1, 1, 0, 1, 1, 1, 1, 0, 1, 1, 1, 1, 0, 0,\n",
              "       1, 1, 1, 1, 1, 1, 1, 1, 1, 0, 1, 1, 1, 1, 1, 0, 1, 1, 0, 1, 1, 1,\n",
              "       1, 1, 1, 1, 1, 1, 1, 1, 1, 0, 1, 1, 1, 1, 0, 1, 1, 1, 1, 1, 1, 1,\n",
              "       1, 0, 1, 1, 1, 1, 0, 1, 1, 1, 1, 1, 1, 1, 0, 1, 1, 1, 1, 1, 1, 1,\n",
              "       0, 1, 1, 1, 1, 1, 1, 1, 1, 1, 1, 1, 0, 1, 0, 1, 0, 1, 0, 1, 0, 1,\n",
              "       0, 1, 0, 1, 0, 0, 1, 1, 1, 1, 1, 1, 1, 1, 1, 0, 1, 1, 1, 1, 1, 1,\n",
              "       1, 1, 1, 1, 0, 1, 1, 1, 1, 1, 1, 1, 1, 1, 1, 1, 0, 1, 0, 1, 1, 1,\n",
              "       1, 0, 1, 0, 1, 1, 1, 1, 1, 1, 1, 1, 1, 1, 0, 1, 1, 1, 1, 1, 1, 0,\n",
              "       1, 0, 1, 0, 0, 1, 1, 0, 1, 1, 1, 1, 0, 1, 1, 0, 1, 0, 1, 1, 1, 1,\n",
              "       0, 1, 1, 1, 1, 1, 1, 1, 1, 1, 1, 1, 1, 1, 1, 1, 1, 1, 1, 1, 1, 1,\n",
              "       1, 1, 1, 1, 1, 1, 1, 1, 1, 0, 1, 1, 1, 1, 1, 0, 1, 1, 1, 1, 0, 1,\n",
              "       1, 1, 1, 1, 1, 1, 1, 1, 0, 0, 1, 1, 1, 1, 1, 1, 1, 1, 1, 0, 1, 1,\n",
              "       1, 1, 1, 1, 1, 1, 1, 1, 1, 1, 1, 0, 0, 1, 1, 1, 1, 1, 1, 1, 0, 0,\n",
              "       1, 1, 1, 1, 1, 1, 0, 1, 1, 1, 1, 1, 0, 1, 1, 1, 1, 1, 1, 1, 1, 1,\n",
              "       1, 1, 0, 1, 1, 1, 1, 0, 1, 1, 1, 1, 1, 1, 1, 1, 1, 1, 1, 1, 1, 1,\n",
              "       1, 1, 1, 1, 1, 1, 1, 0, 1, 1, 1, 1, 1, 1, 1, 1, 0, 1, 1, 1, 1, 0,\n",
              "       1, 1, 1, 1, 1, 1, 1, 1, 0, 0, 0, 1, 1, 1, 1, 0, 1, 1, 1, 1, 1, 1,\n",
              "       1])"
            ]
          },
          "metadata": {
            "tags": []
          },
          "execution_count": 86
        }
      ]
    },
    {
      "cell_type": "code",
      "metadata": {
        "id": "15J4eQBvQ5-0",
        "colab": {
          "base_uri": "https://localhost:8080/"
        },
        "outputId": "e959ee33-36cd-47b6-a4ee-62753419a235"
      },
      "source": [
        "from sklearn.metrics import accuracy_score as acc\n",
        "from sklearn.model_selection import GridSearchCV as GCV\n",
        "acc(y_test,Ypred)"
      ],
      "execution_count": null,
      "outputs": [
        {
          "output_type": "execute_result",
          "data": {
            "text/plain": [
              "0.6844181459566075"
            ]
          },
          "metadata": {
            "tags": []
          },
          "execution_count": 87
        }
      ]
    },
    {
      "cell_type": "code",
      "metadata": {
        "id": "3beBm_3rJbau",
        "colab": {
          "base_uri": "https://localhost:8080/"
        },
        "outputId": "777c5bfb-a6a2-41a2-8555-ef9eb3e63a41"
      },
      "source": [
        "dump(model,'my_pipeline.pkl')"
      ],
      "execution_count": null,
      "outputs": [
        {
          "output_type": "execute_result",
          "data": {
            "text/plain": [
              "['my_pipeline.pkl']"
            ]
          },
          "metadata": {
            "tags": []
          },
          "execution_count": 88
        }
      ]
    },
    {
      "cell_type": "code",
      "metadata": {
        "id": "oGuh68LARtyq",
        "colab": {
          "base_uri": "https://localhost:8080/"
        },
        "outputId": "d00e48ed-caae-4539-cb90-e01a7338152f"
      },
      "source": [
        "from sklearn.model_selection import train_test_split\n",
        "x_train,x_test,y_train,y_test = train_test_split(X,y,test_size = 0.3,random_state = 1)\n",
        "knn = KNN(n_neighbors = 3)\n",
        "knn.fit(x_train,y_train)\n",
        "prediction = knn.predict(X_test)\n",
        "print('Prediction: {}'.format(prediction))\n",
        "# accuracy"
      ],
      "execution_count": null,
      "outputs": [
        {
          "output_type": "stream",
          "text": [
            "Prediction: [1 1 1 0 0 1 1 1 1 0 1 1 0 0 1 1 1 1 1 1 0 1 1 1 1 1 1 0 1 0 1 1 1 1 0 0 0\n",
            " 1 1 1 1 1 1 0 1 1 1 0 0 1 0 1 1 1 1 1 1 0 0 1 1 1 0 1 1 1 0 1 1 1 1 1 0 1\n",
            " 1 0 0 0 1 1 1 1 1 1 0 1 1 1 1 1 0 0 1 1 1 1 1 1 0 1 0 1 0 1 0 1 1 0 1 0 1\n",
            " 0 1 1 0 1 1 1 1 1 0 1 0 1 1 0 1 0 1 1 1 1 0 1 0 1 1 0 0 1 1 1 1 1 1 1 1 0\n",
            " 1 1 1 0 0 0 0 0 1 0 1 1 1 1 0 1 1 0 1 1 1 1 1 0 1 0 1 0 1 1 1 1 0 1 1 1 1\n",
            " 1 1 1 0 1 0 1 1 1 0 0 1 0 1 1 1 1 1 1 1 1 1 1 0 1 1 0 1 0 1 1 1 1 1 1 1 1\n",
            " 1 0 1 1 1 1 0 0 1 1 1 1 1 1 0 0 1 0 1 1 1 1 1 1 0 1 1 0 1 0 1 1 0 0 0 1 1\n",
            " 1 1 1 1 1 1 0 1 1 1 1 0 1 1 1 1 1 1 1 1 1 0 1 1 1 0 0 1 0 1 0 1 1 1 1 0 0\n",
            " 1 0 0 0 0 1 1 1 1 1 1]\n"
          ],
          "name": "stdout"
        }
      ]
    },
    {
      "cell_type": "code",
      "metadata": {
        "id": "Xftu7CDdVdSp",
        "colab": {
          "base_uri": "https://localhost:8080/"
        },
        "outputId": "804310a0-bbc5-44a4-8727-3850b41cd1a9"
      },
      "source": [
        "from sklearn.feature_extraction.text import CountVectorizer\n",
        "\n",
        "vectorizer = CountVectorizer()\n",
        "X = vectorizer.fit_transform(df_texte['comment'])\n",
        "print(vectorizer.get_feature_names(),len(vectorizer.get_feature_names()))\n",
        "\n",
        "print(X.toarray())"
      ],
      "execution_count": null,
      "outputs": [
        {
          "output_type": "stream",
          "text": [
            "['00', '00h', '01', '03', '06', '08', '10', '100', '1000', '100000', '100g', '109', '11', '110', '114', '11h45', '12', '12460', '12e', '12h25', '13', '13eme', '13h', '13h30', '14', '145', '14h', '14h30', '15', '150', '15h', '15j', '15km', '16', '165', '16em', '17', '170', '172', '179', '17h40', '18', '185', '1880', '19', '190', '1900', '1920', '195', '19eme', '19h', '19h30', '1bol', '1er', '1ere', '1h', '1h30', '1h45', '1minutes', '20', '200', '2001', '2002', '2006', '2009', '200euros', '2011', '2012', '2014', '2015', '2016', '2017', '2018', '20h', '20h00', '20h30', '21', '2190', '21h30', '21h50', '22', '220', '222g', '22h', '22h00', '22h15', '22h25', '22h30', '23', '23h', '23h30', '24', '25', '26', '27', '27ème', '28', '280', '29', '2e', '2eme', '2emefois', '2emme', '2h30', '30', '300g', '30min', '30ème', '31', '310', '33', '330', '34', '35', '350', '36', '38', '39', '39v', '3cl', '3cm', '3e', '3h', '3h30', '3heures', '3légumes', '3ème', '40', '400', '42', '43', '45', '450', '48', '49', '49cl', '4ieme', '4ème', '50', '500', '52', '55', '59', '5min', '5plus', '5ème', '60', '600', '61', '62', '64', '650', '68', '69', '6e', '6eme', '6ieme', '70', '710', '75008', '78', '79', '7ème', '80', '800m', '85', '8eme', '8ème', '90', '900', '92', '9eme', '9h30', '9ème', 'abasourdi', 'abeille', 'abondance', 'abord', 'abordable', 'abordables', 'aborde', 'aboyer', 'abricot', 'abris', 'absence', 'absent', 'absolue', 'absolument', 'abus', 'abuse', 'accent', 'accepte', 'accepter', 'accepté', 'accessible', 'acceuil', 'acceuillis', 'acceuilservice', 'accommodées', 'accompagnait', 'accompagnant', 'accompagne', 'accompagnement', 'accompagnements', 'accompagnent', 'accompagner', 'accompagné', 'accompagnée', 'accompagnées', 'accompagnés', 'accord', 'accords', 'accueil', 'accueillant', 'accueillante', 'accueillantes', 'accueillants', 'accueille', 'accueillent', 'accueilli', 'accueillie', 'accueillies', 'accueillir', 'accueillis', 'accès', 'accéder', 'achalandé', 'achar', 'achat', 'acheter', 'acheté', 'achetés', 'achever', 'acidité', 'acidulé', 'acollée', 'actif', 'actualisée', 'actuelle', 'actuelles', 'adam', 'adaptent', 'adapté', 'adaptés', 'addition', 'adepte', 'adition', 'adjectif', 'adjuger', 'admettre', 'admiratif', 'admissible', 'adorable', 'adorables', 'adore', 'adorent', 'adoré', 'adossé', 'adresse', 'adresses', 'adressée', 'advisor', 'adéquat', 'affabilité', 'affaire', 'affaires', 'affamé', 'affecté', 'afficher', 'affiché', 'affichés', 'affinent', 'affirmer', 'affirmées', 'affluence', 'affordable', 'affèteries', 'afin', 'agacés', 'agapé', 'agar', 'agassé', 'agenda', 'agissait', 'agneau', 'agrandissent', 'agreable', 'agreablement', 'agreeable', 'agressive', 'agrumes', 'agréable', 'agréablement', 'agréables', 'agréableserveurs', 'agrémentée', 'ah', 'ai', 'aie', 'aient', 'aigu', 'ail', 'ailleurs', 'aimable', 'aimables', 'aimais', 'aime', 'aimer', 'aimerait', 'aimez', 'aimions', 'aimé', 'aimés', 'ainsi', 'aions', 'air', 'airs', 'aisance', 'aise', 'ait', 'ajouter', 'ajouté', 'ajoutées', 'ajuster', 'aki', 'al', 'alain', 'albion', 'alchimie', 'alcool', 'alegria', 'alentours', 'alerte', 'alexandre', 'algue', 'algues', 'aligne', 'alimentaire', 'alimentaires', 'aliments', 'all', 'allaient', 'allais', 'allait', 'allant', 'allechante', 'aller', 'allergies', 'allergique', 'allez', 'alliance', 'alliant', 'allie', 'allier', 'allions', 'allié', 'allons', 'allume', 'allé', 'alléchant', 'alléchante', 'alléchantes', 'allée', 'allés', 'alma', 'alors', 'alternative', 'alternatives', 'altèré', 'amabilité', 'amandes', 'amandiers', 'amateur', 'amateurs', 'amazonie', 'ambiance', 'ambiances', 'ambiant', 'ambiante', 'ame', 'amenés', 'amer', 'americains', 'amertume', 'amex', 'ami', 'amicale', 'amie', 'amies', 'amis', 'amispour', 'amitiés', 'amour', 'amoureux', 'amplement', 'amusante', 'amuse', 'amuses', 'amère', 'améliorations', 'améliorée', 'aménagements', 'aménagé', 'américain', 'américaine', 'an', 'ananas', 'anchois', 'ancien', 'ancienne', 'and', 'andouille', 'ange', 'anges', 'angevin', 'anglais', 'angleterre', 'anguille', 'angus', 'animé', 'ann', 'anne', 'anniversaire', 'anniversaires', 'annonce', 'annoncé', 'annoncées', 'annonçait', 'annulation', 'annulé', 'année', 'années', 'anomalie', 'anormal', 'ans', 'anti', 'antipasti', 'antipathique', 'antoine', 'anton', 'août', 'apaisante', 'apaisé', 'aperitif', 'apero', 'app', 'apparaitre', 'appareil', 'apparemment', 'apparence', 'apparences', 'appartant', 'appartement', 'appartenantba', 'appel', 'appelant', 'appelees', 'appeler', 'appelez', 'appellation', 'appelle', 'appellent', 'appelé', 'appercu', 'application', 'applique', 'appliquée', 'apporte', 'apportent', 'apporter', 'apporté', 'apportés', 'apprecie', 'apprehendais', 'apprenne', 'apprentie', 'appriori', 'approche', 'approprié', 'approximatif', 'appréciable', 'apprécie', 'apprécier', 'apprécions', 'apprécié', 'appréciée', 'appréciés', 'appréhension', 'appui', 'appuyant', 'appuyée', 'appétissant', 'appétissants', 'appétit', 'apres', 'après', 'apéritif', 'apéritifs', 'araignée', 'arc', 'arcane', 'argent', 'argenteuil', 'arménien', 'arnaque', 'arnaquer', 'arnaqué', 'arnaud', 'aromatisee', 'arome', 'arraché', 'arrangeant', 'arrangeants', 'arrangement', 'arrangé', 'arretter', 'arrivait', 'arrivant', 'arrive', 'arrivederci', 'arrivee', 'arrivent', 'arriver', 'arrives', 'arrivez', 'arrivons', 'arrivé', 'arrivée', 'arrivées', 'arrivés', 'arrière', 'arrogant', 'arrondissement', 'arrosé', 'arrêt', 'arrêtait', 'arrête', 'arrêter', 'arrêté', 'arrêtés', 'art', 'artichaut', 'artichauts', 'articulé', 'artifice', 'artificiels', 'artisanales', 'artiste', 'artistes', 'arts', 'arty', 'arôme', 'arômes', 'as', 'asap', 'asiatique', 'asiatiques', 'asiatisante', 'asie', 'asif', 'asperge', 'asperges', 'aspic', 'assaisonnement', 'assaisonnements', 'assaisonné', 'assaisonnés', 'assaut', 'assemblage', 'assemblages', 'asseoir', 'assez', 'assiette', 'assiettes', 'assis', 'assisté', 'association', 'associations', 'associer', 'associés', 'assortie', 'assortiment', 'assortiments', 'assortis', 'assurent', 'assurer', 'atelier', 'atmosphère', 'atours', 'atteindre', 'attend', 'attendais', 'attendait', 'attendant', 'attendent', 'attendez', 'attendions', 'attendons', 'attendre', 'attends', 'attendu', 'attendus', 'attente', 'attentes', 'attentif', 'attentifs', 'attention', 'attentionné', 'attentionnée', 'attentionnés', 'attentionnéun', 'attentions', 'atterri', 'attire', 'attiré', 'attirées', 'attirés', 'attiser', 'attitude', 'attractif', 'attractifs', 'attrape', 'attribué', 'attribuées', 'attribués', 'atypique', 'au', 'auberge', 'aubergines', 'aucum', 'aucun', 'aucune', 'audaces', 'audacieux', 'audieux', 'audrey', 'augmentation', 'augmenter', 'augurer', 'auguré', 'aujourd', 'auparavant', 'auprès', 'auquel', 'aura', 'aurai', 'aurais', 'aurait', 'aurez', 'aurions', 'aurons', 'auront', 'aussi', 'austère', 'autaient', 'autant', 'auteur', 'authentique', 'authentiques', 'automne', 'autorise', 'autour', 'autre', 'autres', 'auvergnats', 'auvergne', 'aux', 'avaient', 'avais', 'avaisi', 'avait', 'avalée', 'avance', 'avancée', 'avant', 'avantage', 'avarié', 'avce', 'avec', 'avenant', 'avenir', 'avent', 'aventure', 'aventurez', 'aversions', 'aveugle', 'aveyron', 'avez', 'avide', 'avion', 'avions', 'avis', 'avise', 'avises', 'avisplus', 'avisé', 'avisée', 'avisés', 'avoir', 'avon', 'avons', 'avont', 'avoue', 'avril', 'avère', 'avéré', 'avérée', 'ayant', 'ayons', 'aérien', 'aérienne', 'aériens', 'babines', 'bachir', 'bacon', 'bad', 'bagel', 'bagels', 'baguette', 'baies', 'baignant', 'baigné', 'baisser', 'baissé', 'bajhi', 'balade', 'balbutiant', 'ballade', 'balustrade', 'balzar', 'ban', 'banal', 'banale', 'banales', 'banalité', 'bancaire', 'bancaires', 'banctel', 'bannir', 'bao', 'baptiste', 'bar', 'barbue', 'bardolino', 'barman', 'barquette', 'barrage', 'bars', 'barème', 'bas', 'basant', 'base', 'bases', 'basic', 'basique', 'basiques', 'basmati', 'basque', 'basse', 'bastille', 'basés', 'bateau', 'batiment', 'battante', 'battent', 'bcp', 'beacoup', 'beau', 'beaucoup', 'beauté', 'beaux', 'beef', 'bel', 'belges', 'belle', 'belles', 'bemol', 'bercy', 'bernés', 'besoin', 'betterave', 'beuf', 'beurre', 'bichonné', 'bien', 'bienplus', 'bientot', 'bientôt', 'bienveillance', 'bienveillant', 'bienvenue', 'bienvenus', 'big', 'bijou', 'bilingue', 'bio', 'bios', 'bip', 'bis', 'biscuit', 'bisque', 'bistro', 'bistros', 'bistrot', 'bistrots', 'bitter', 'bizarre', 'bière', 'bières', 'bla', 'black', 'blague', 'blaguent', 'blagueur', 'blanc', 'blanche', 'blancs', 'blanquette', 'blend', 'bleu', 'bleues', 'bleuté', 'blindé', 'bling', 'bluffant', 'bluffée', 'blé', 'bo', 'bobo', 'bobun', 'bocaux', 'boeuf', 'bof', 'boire', 'bois', 'boise', 'boiseries', 'boisson', 'boissons', 'boites', 'bol', 'bolly', 'bollynan', 'bols', 'bon', 'bonheur', 'bonheurs', 'bonjour', 'bonne', 'bonnement', 'bonnes', 'bons', 'bonus', 'bord', 'boschman', 'bouche', 'bouches', 'bouchée', 'boucle', 'boucler', 'boudin', 'bouffe', 'bougies', 'bouillon', 'bouillons', 'boulanger', 'boulangerie', 'boulangers', 'boules', 'boulettes', 'boulevard', 'boulogne', 'boulot', 'bouquet', 'bouquets', 'bourget', 'bourgogne', 'bourratif', 'bourse', 'bout', 'boutary', 'bouteille', 'bouteilles', 'boutique', 'bouts', 'boyau', 'boîte', 'branché', 'bras', 'brasserie', 'brasseries', 'bravo', 'bravoplus', 'brebis', 'bref', 'brestois', 'bretagne', 'breton', 'bretonnes', 'brice', 'brigade', 'brigades', 'brillant', 'brin', 'brins', 'brio', 'brioches', 'brioché', 'brion', 'bristol', 'brochet', 'brochette', 'brochettes', 'brouillon', 'brua', 'bruit', 'bruitages', 'brulé', 'brulée', 'brulés', 'brunch', 'bruncher', 'brunché', 'brune', 'brunes', 'brut', 'bruxelles', 'bruyant', 'bruyante', 'bruyantes', 'bruyère', 'brésil', 'brésilienne', 'brûlée', 'budget', 'buffet', 'buffets', 'bun', 'buns', 'buono', 'burger', 'burgers', 'burrata', 'bus', 'but', 'butter', 'buvant', 'buzz', 'by', 'béatitude', 'bébé', 'bécassines', 'bémol', 'bénéficie', 'bœuf', 'ca', 'cabillaud', 'cacahuète', 'cacao', 'cacaotée', 'cache', 'cacher', 'caché', 'cadeau', 'cadre', 'cadres', 'cafard', 'cafe', 'café', 'cafétéria', 'cage', 'cagibi', 'cahotique', 'caille', 'cailles', 'caisse', 'cakes', 'calamars', 'cales', 'calibré', 'calme', 'calzone', 'cambodgien', 'cambodgienne', 'camembert', 'camouflé', 'campari', 'can', 'canard', 'candeborde', 'canette', 'canettes', 'canne', 'cannelle', 'cannelloni', 'cantine', 'caoutchouteuse', 'caoutchouteux', 'capable', 'capacité', 'capital', 'capitale', 'cappuccino', 'capter', 'car', 'caractère', 'caractériel', 'caractérise', 'caractérisé', 'carafe', 'carambar', 'caramel', 'carbonisée', 'carbonisés', 'cardamome', 'caricatural', 'caricature', 'carnassiers', 'carnet', 'carotte', 'carottes', 'carpaccio', 'carrefour', 'carré', 'carrée', 'carrées', 'carrément', 'carrés', 'carte', 'carteplus', 'cartes', 'carton', 'cas', 'cases', 'cash', 'cassant', 'casse', 'casser', 'castratophique', 'catalan', 'catastrophe', 'catastrophique', 'catelan', 'cathy', 'catégorie', 'catégorique', 'cauchemar', 'cause', 'cave', 'caviar', 'caviste', 'cb', 'ce', 'ceci', 'cela', 'celle', 'celles', 'celui', 'celà', 'cendrier', 'censé', 'centaines', 'centime', 'centre', 'cependant', 'cerise', 'cerises', 'cerisier', 'certain', 'certaine', 'certainement', 'certaines', 'certains', 'certe', 'certes', 'certificat', 'certifier', 'ces', 'cesse', 'cessé', 'cest', 'cet', 'cette', 'ceux', 'cezembre', 'chacun', 'chacune', 'chacunes', 'chaine', 'chaines', 'chair', 'chalance', 'chaland', 'chalereux', 'chaleuleuse', 'chaleur', 'chaleureuse', 'chaleureusement', 'chaleureux', 'chaleureuxavec', 'chambre', 'champagne', 'champagnes', 'champignons', 'champions', 'champs', 'chance', 'change', 'changement', 'changent', 'changer', 'changez', 'changé', 'chantaient', 'chanterelles', 'chanteurs', 'chanteuses', 'chantilly', 'chaotique', 'chapeau', 'chaque', 'charcuterie', 'charcuteries', 'chargé', 'charisme', 'charles', 'charmant', 'charmante', 'charmantes', 'charmants', 'charme', 'charmeront', 'charmé', 'chasse', 'chateaubriand', 'chaud', 'chaude', 'chaudes', 'chauds', 'chauffage', 'chauffages', 'chaussures', 'chaussée', 'chawarma', 'cheddar', 'cheesnan', 'chef', 'chefs', 'chelou', 'chemin', 'cheminplus', 'chemise', 'chene', 'chenin', 'cher', 'cherchait', 'cherchant', 'cherche', 'cherchent', 'chercher', 'cherchez', 'cherchions', 'chere', 'cheres', 'chers', 'chevreuil', 'chewing', 'chez', 'chic', 'chicago', 'chichi', 'chichis', 'chicken', 'chien', 'chiens', 'chiffre', 'chiffres', 'chiken', 'chine', 'chinois', 'chinoisants', 'chips', 'chique', 'chirashi', 'chloé', 'chocolat', 'choice', 'choisi', 'choisie', 'choisir', 'choisis', 'choisissez', 'choisissons', 'choisit', 'choix', 'chopin', 'choquant', 'choqué', 'chose', 'choses', 'chou', 'choucroute', 'chouette', 'choux', 'christian', 'chypriote', 'châtaignes', 'château', 'châteaux', 'chère', 'chères', 'chêne', 'ci', 'ciboulettes', 'cidre', 'cieltourne', 'cigare', 'cinq', 'cinquantaine', 'circuits', 'circulaire', 'citations', 'citron', 'citronelle', 'citronnelle', 'citrus', 'civet', 'clair', 'claire', 'clairement', 'claquer', 'classe', 'classement', 'classicisme', 'classique', 'classiques', 'classé', 'classées', 'claude', 'clean', 'clichy', 'client', 'clientele', 'clients', 'clientèle', 'climatisation', 'clochettes', 'clos', 'closerie', 'clou', 'cloud', 'club', 'clés', 'cnsm', 'cobea', 'cobéa', 'coche', 'cochon', 'cochonne', 'cocktail', 'cocktails', 'coco', 'cocon', 'cocooning', 'cocotte', 'coeur', 'cognac', 'coin', 'coincées', 'cois', 'colbert', 'coleslaw', 'collègue', 'collègues', 'collées', 'coloré', 'colorés', 'com', 'combinaison', 'combler', 'comblés', 'commandaria', 'commande', 'commander', 'commandes', 'commandions', 'commandons', 'commandé', 'commandée', 'comme', 'commence', 'commencer', 'commencé', 'commencée', 'commencés', 'comment', 'commentaire', 'commentaires', 'commentateurs', 'commenter', 'commenté', 'commençait', 'commençons', 'commercial', 'commerciale', 'commerçant', 'commerçants', 'commun', 'commune', 'communiquer', 'communiqués', 'compact', 'compagne', 'compagnie', 'compagnon', 'compagnons', 'comparaison', 'comparativement', 'comparé', 'compassion', 'competent', 'competitif', 'complet', 'complets', 'complexe', 'complexité', 'complique', 'compliqué', 'compliquée', 'complète', 'complètement', 'complétés', 'comportant', 'comporte', 'comportent', 'comporter', 'composer', 'composition', 'compositions', 'composé', 'composée', 'compote', 'compotée', 'comprenant', 'comprend', 'comprendre', 'comprends', 'comprenne', 'comprennent', 'compris', 'comprise', 'compromis', 'comptables', 'compte', 'compter', 'comptes', 'comptoir', 'compétences', 'compétent', 'compétente', 'compétitif', 'compétitifs', 'concentré', 'concept', 'concernant', 'concerne', 'concert', 'concevoir', 'concierge', 'conciergerie', 'concivial', 'conclu', 'concocte', 'concocter', 'concocté', 'concombre', 'concourait', 'concurrence', 'condiment', 'condition', 'conditions', 'conduire', 'conduit', 'conduits', 'confiance', 'confiante', 'confidentiel', 'configuration', 'confinée', 'confirmation', 'confirme', 'confirmer', 'confirmé', 'confirmée', 'confiseries', 'confit', 'confite', 'confiture', 'confondu', 'conforme', 'conformes', 'confort', 'confortable', 'confortablement', 'conforté', 'confrères', 'confusion', 'congelé', 'congelées', 'congrue', 'congrues', 'conjoint', 'conjointe', 'connais', 'connaissais', 'connaissance', 'connaissances', 'connaissant', 'connaissent', 'connaisseur', 'connaisseurs', 'connaissons', 'connait', 'connaît', 'connaître', 'connection', 'connexion', 'connu', 'connue', 'conquis', 'consacrer', 'consciencieux', 'conseil', 'conseille', 'conseiller', 'conseillons', 'conseillé', 'conseillée', 'conseillées', 'conseillés', 'conseils', 'conserve', 'considération', 'consistance', 'consistant', 'consiste', 'consommation', 'consommé', 'conspuent', 'constater', 'constaté', 'consterné', 'constitue', 'constituée', 'conséquence', 'contact', 'contemporain', 'contemporaine', 'content', 'contents', 'contenté', 'contenu', 'contexte', 'contient', 'continu', 'continue', 'continuellement', 'continuent', 'continuer', 'continuez', 'continué', 'contourner', 'contradiction', 'contraint', 'contraire', 'contrairement', 'contre', 'contrefaçon', 'contrefou', 'contretemps', 'contrevous', 'contribue', 'convaincues', 'convenable', 'convenables', 'convenant', 'convenir', 'conventionnelles', 'convenus', 'conversation', 'converser', 'conviction', 'conviendra', 'convient', 'convive', 'convives', 'convivial', 'conviviale', 'convivialité', 'convié', 'conçu', 'cookie', 'cookies', 'cool', 'coolplus', 'cools', 'copains', 'copie', 'copieuse', 'copieuses', 'copieux', 'copine', 'copines', 'coquillages', 'coquilles', 'coquillettes', 'coquine', 'corail', 'cordeau', 'cordial', 'cordialité', 'cordiaux', 'cordoue', 'coriandre', 'cornet', 'cornish', 'correct', 'correcte', 'correctement', 'correctes', 'correctesplus', 'corrects', 'correspond', 'correspondantes', 'correspondent', 'correspondre', 'corriger', 'corsent', 'corses', 'coréen', 'coréenne', 'coréens', 'cosi', 'cossu', 'cost', 'cosy', 'cote', 'cotta', 'coté', 'coucher', 'coucous', 'couleur', 'couleurs', 'coulis', 'couloir', 'coup', 'coupe', 'couper', 'coupes', 'couple', 'couples', 'coupole', 'coups', 'coupés', 'couraient', 'couramment', 'courbettes', 'courchevel', 'courez', 'courge', 'couronner', 'courrez', 'cours', 'course', 'court', 'courte', 'courtois', 'courtoise', 'courtoisie', 'courts', 'couscous', 'couteaux', 'coutumière', 'couverte', 'couverts', 'couvrir', 'coïncidence', 'crabe', 'craméeratéeimmangeable', 'cramés', 'crasseux', 'creatifs', 'creative', 'crepe', 'crepes', 'crevant', 'crevettes', 'criarde', 'cris', 'critique', 'critiquer', 'critiques', 'croirait', 'croire', 'crois', 'croissant', 'croissants', 'croque', 'croustillant', 'croustillante', 'croustillantes', 'croustillants', 'croyais', 'croûte', 'cruelle', 'cruellement', 'crues', 'crus', 'crème', 'crèpes', 'créatif', 'création', 'créative', 'créativité', 'créatrice', 'créditer', 'crémeux', 'crépinettes', 'crêpe', 'crêperie', 'crêpes', 'crêques', 'cuenta', 'cuillères', 'cuir', 'cuisine', 'cuisiner', 'cuisines', 'cuisinier', 'cuisiniers', 'cuisiné', 'cuisinées', 'cuisinés', 'cuisisiner', 'cuisse', 'cuisses', 'cuisson', 'cuissons', 'cuit', 'cuite', 'cuites', 'cuits', 'cuivrées', 'culinaire', 'culinaires', 'culottée', 'culpabilisant', 'curieuse', 'curieux', 'curiosité', 'curry', 'custom', 'cygne', 'cède', 'cèpes', 'céder', 'célèbre', 'célébrer', 'célébrités', 'céramique', 'cêpes', 'cône', 'côte', 'côté', 'côtéplus', 'cœur', 'da', 'daigne', 'daigné', 'dame', 'dames', 'dangeureux', 'daniela', 'dans', 'dar', 'dasn', 'datant', 'daubée', 'dauphinois', 'daurade', 'david', 'de', 'debout', 'debut', 'deception', 'decerestaurant', 'decide', 'deco', 'decor', 'decoration', 'decorés', 'decouvert', 'decouverte', 'decouvrir', 'decu', 'dedans', 'definetely', 'degeu', 'degeulasse', 'degrésplus', 'degustation', 'deguster', 'dehors', 'dej', 'deja', 'dejeuner', 'dejeuné', 'del', 'delavées', 'delicieuse', 'delicieuses', 'delicieux', 'deliveroo', 'delivrait', 'delà', 'demain', 'demande', 'demandent', 'demander', 'demandes', 'demandons', 'demandé', 'demandés', 'demi', 'demie', 'den', 'denis', 'dente', 'depaysant', 'deplace', 'deplorable', 'depose', 'depuis', 'dernier', 'dernière', 'dernièrement', 'dernières', 'derrière', 'des', 'desagreable', 'descente', 'design', 'dessert', 'desserts', 'desservir', 'dessins', 'dessous', 'dessus', 'detour', 'deux', 'deuxieme', 'deuxième', 'devais', 'devait', 'devant', 'devanture', 'devenu', 'devenue', 'devenus', 'devez', 'deviennent', 'devient', 'deviner', 'devions', 'devoir', 'devrait', 'deçeption', 'deçue', 'di', 'diarrhée', 'diego', 'difference', 'difficile', 'difficulté', 'difficultés', 'diffusé', 'différence', 'différencier', 'différent', 'différente', 'différentes', 'différents', 'digestif', 'digne', 'dignes', 'dimanche', 'diminutif', 'diminué', 'diner', 'dinette', 'dingue', 'dinner', 'diné', 'diponible', 'dirai', 'dirais', 'dirait', 'dire', 'direct', 'directement', 'directeur', 'direction', 'directive', 'directrice', 'dirigé', 'dirigés', 'dis', 'disait', 'disant', 'discret', 'discrets', 'discrète', 'discrètement', 'discrétion', 'discussion', 'discussions', 'discuter', 'discuté', 'dise', 'disent', 'disons', 'disparaître', 'disparition', 'dispo', 'disponibilité', 'disponible', 'disponibles', 'disposer', 'disposition', 'disserter', 'dissuader', 'distance', 'distant', 'distillée', 'distingue', 'distinguée', 'distrait', 'distribution', 'dit', 'dites', 'dithyrambiques', 'dits', 'dityrambiques', 'divers', 'diversifié', 'diversité', 'divin', 'divine', 'divines', 'divins', 'divisé', 'divray', 'dix', 'dizaine', 'dizaines', 'diététiques', 'dj', 'djouje', 'dogs', 'doigt', 'doigts', 'dois', 'doit', 'doive', 'doivent', 'dollars', 'domaines', 'domenico', 'dominical', 'dominicale', 'dommage', 'donald', 'donc', 'donnait', 'donnant', 'donne', 'donnent', 'donner', 'donnerait', 'donné', 'donnée', 'donnés', 'dont', 'dormir', 'dorures', 'dosage', 'dosé', 'dosées', 'double', 'doublement', 'douce', 'douceur', 'douleurs', 'doute', 'douterplus', 'douteuse', 'douzaine', 'doué', 'draguer', 'dressage', 'dressée', 'dressées', 'droit', 'drole', 'ds', 'dsk', 'du', 'duke', 'dumas', 'duo', 'dur', 'durant', 'dure', 'dures', 'duré', 'durée', 'duxelle', 'dynamique', 'dynamisme', 'dècorèes', 'dès', 'débarrasser', 'débarrassées', 'débité', 'débordé', 'débordée', 'débordés', 'début', 'débutant', 'débuter', 'décalage', 'décalé', 'décembre', 'déception', 'déceptions', 'déceptionà', 'décevant', 'décevante', 'décevantes', 'décevantmacaron', 'décevants', 'décevra', 'décibels', 'décide', 'décider', 'décidons', 'décidé', 'décidément', 'décliner', 'décliné', 'déclinées', 'déclinés', 'déco', 'déconcertante', 'déconseille', 'déconseilles', 'déconseillons', 'décontracté', 'décontractée', 'décontractés', 'décor', 'décoration', 'décorations', 'décorer', 'décorum', 'décoré', 'décorée', 'décoréel', 'découpe', 'découvert', 'découverte', 'découvertes', 'découvrant', 'découvre', 'découvrir', 'découvrons', 'décrire', 'décrocher', 'décru', 'décu', 'décès', 'dédaigneux', 'dédié', 'dédiée', 'défaillant', 'défavorable', 'défendait', 'définitivement', 'défraîchis', 'dégage', 'dégageaient', 'dégout', 'dégoûtant', 'dégoûtante', 'dégoûtée', 'dégrader', 'dégueulasses', 'dégustation', 'dégustations', 'déguste', 'déguster', 'dégusté', 'dégât', 'déjeuner', 'déjeuné', 'déjà', 'délaisser', 'délibérément', 'délicat', 'délicate', 'délicatement', 'délicates', 'délicatesse', 'délicats', 'délice', 'délices', 'délicieuse', 'délicieusement', 'délicieuses', 'délicieux', 'délier', 'délirant', 'délivre', 'déloger', 'déléguer', 'démarrage', 'démentent', 'démentes', 'dénégations', 'départ', 'départc', 'dépaysement', 'dépit', 'déplace', 'déplacement', 'déplaisant', 'déplorable', 'déplorables', 'déplu', 'déposée', 'déranger', 'dérouler', 'déroulé', 'dés', 'désagréable', 'désagréables', 'désagrément', 'désagréments', 'désastreux', 'désert', 'désespérément', 'désign', 'désirant', 'désirer', 'désirez', 'désirs', 'désistement', 'désolé', 'désordonné', 'désorganisation', 'désoriente', 'désormais', 'déssert', 'désuet', 'déséquilibrés', 'détail', 'détails', 'détendu', 'détendue', 'détente', 'détestable', 'détestant', 'détour', 'détrempé', 'détriment', 'dévolu', 'dévoué', 'déçu', 'déçue', 'déçues', 'déçus', 'dînatoire', 'dîne', 'dîner', 'dîners', 'dîné', 'dû', 'east', 'easy', 'eat', 'eau', 'eauapéro', 'eaux', 'ecailler', 'eclairs', 'ecole', 'edern', 'effacer', 'effacé', 'effectivement', 'effeil', 'effervescence', 'effet', 'effets', 'efficace', 'efficaces', 'efficaceun', 'efficacité', 'effort', 'efforts', 'egalement', 'eh', 'eiffel', 'el', 'elan', 'elegant', 'element', 'elisamulys', 'elizabeth', 'elle', 'elles', 'eloges', 'elvis', 'elysees', 'elysées', 'email', 'emballage', 'emballés', 'embarque', 'embarras', 'emblée', 'embrassades', 'eme', 'emission', 'emmener', 'emmené', 'empesée', 'emplacement', 'employés', 'emporter', 'emporté', 'empresse', 'empressés', 'empêche', 'en', 'enc', 'encadrés', 'encaisse', 'enceinte', 'encensé', 'enchainement', 'enchantement', 'enchanteur', 'enchanté', 'enchantés', 'enchaînent', 'encombré', 'encontre', 'encore', 'encornet', 'encornets', 'encourager', 'encre', 'end', 'endroit', 'endroits', 'enfant', 'enfantin', 'enfants', 'enfer', 'enfin', 'engouement', 'enjoint', 'enlever', 'enlevé', 'enlèvee', 'ennuyeux', 'enregistrement', 'enregistrée', 'enrobées', 'enseigne', 'ensemble', 'ensoleillé', 'ensoleillée', 'ensuite', 'entamé', 'entassés', 'entend', 'entendait', 'entendez', 'entendre', 'entendu', 'enterrement', 'enthousiasme', 'enthousiaste', 'enthousiastes', 'entier', 'entièrement', 'entrant', 'entre', 'entrecôte', 'entree', 'entrees', 'entremets', 'entrer', 'entres', 'entretenu', 'entretien', 'entrez', 'entrons', 'entré', 'entrée', 'entrées', 'entrés', 'envahis', 'envahissant', 'envahit', 'envers', 'envie', 'envies', 'environ', 'environnants', 'environnement', 'envisagez', 'envoûtant', 'epaisseur', 'epices', 'epicure', 'epie', 'epinards', 'epuré', 'equipaplus', 'equipe', 'er', 'eric', 'erithréen', 'errance', 'erreur', 'erreurs', 'erythreennes', 'es', 'escape', 'escargot', 'escargots', 'espace', 'espacement', 'espaces', 'espacées', 'espacés', 'espadon', 'especialmente', 'espoir', 'esprit', 'esprits', 'espèce', 'espère', 'espérances', 'espérer', 'espérons', 'espéré', 'espérée', 'essaye', 'essayer', 'essayez', 'essayons', 'essayé', 'essentiel', 'essentiellement', 'est', 'estampillés', 'estelle', 'esthetique', 'esthètes', 'esthétiquement', 'estomac', 'et', 'etablissement', 'etage', 'etaient', 'etais', 'etait', 'etant', 'etc', 'etes', 'etions', 'etoile', 'etoiles', 'etonnante', 'etre', 'etude', 'eté', 'eu', 'eudes', 'eue', 'eues', 'eugène', 'eur', 'euro', 'europe', 'européen', 'euros', 'eut', 'eux', 'evening', 'eveningfilling', 'event', 'eviter', 'ex', 'exactement', 'exacts', 'exagère', 'excelent', 'excelle', 'excellemment', 'excellence', 'excellent', 'excellente', 'excellentes', 'excellentje', 'excellents', 'exception', 'exceptionnel', 'exceptionnelle', 'exceptionnellement', 'exceptionnelles', 'exceptionnels', 'exceptionnous', 'excepté', 'excessif', 'excessifs', 'excessives', 'excité', 'exclusivement', 'excursion', 'excuse', 'excusez', 'excusés', 'excès', 'exelent', 'exemplaire', 'exemple', 'exeptionnelle', 'exergue', 'exhorbitant', 'exhorbitante', 'exigeant', 'exigeants', 'exigence', 'exigences', 'exigu', 'exiguë', 'existe', 'existence', 'existé', 'exorbitant', 'exorbitants', 'exotiques', 'experience', 'experiences', 'expert', 'expertise', 'explicatif', 'explication', 'explications', 'expliquant', 'expliquants', 'explique', 'expliquer', 'expliquera', 'expliqués', 'explorer', 'explosent', 'explosion', 'expo', 'exposition', 'expositions', 'exprès', 'expédie', 'expédié', 'expérience', 'expériences', 'exquis', 'exquise', 'exquises', 'exsite', 'exterieur', 'exterminent', 'externe', 'extra', 'extraordinaire', 'extraordinairement', 'extraordinaires', 'extrême', 'extrêmement', 'extérieur', 'extérieure', 'exécrable', 'exécutants', 'exécution', 'exécuté', 'exécutée', 'exécutés', 'fabien', 'fabuleuse', 'fabuleuses', 'fabuleux', 'face', 'facebook', 'facile', 'facilement', 'facilité', 'facture', 'facturé', 'fad', 'fadace', 'fade', 'fades', 'faham', 'faible', 'faille', 'faim', 'fain', 'faire', 'fais', 'faisaient', 'faisais', 'faisait', 'faisant', 'faisions', 'faisons', 'fait', 'faite', 'faites', 'faits', 'falafel', 'falafels', 'fallafel', 'fallafels', 'fallait', 'fallu', 'fameux', 'familial', 'familiale', 'familiarisé', 'familiarité', 'familier', 'familière', 'famille', 'fan', 'fans', 'fantasmais', 'fantastique', 'fantastiques', 'farandole', 'farci', 'farcie', 'farfelue', 'fast', 'fatidique', 'fatigué', 'fatigués', 'faubourg', 'faudra', 'fausse', 'faussement', 'fausses', 'faut', 'faute', 'fautes', 'fauteuils', 'faux', 'faveurs', 'favorablement', 'favorables', 'favoris', 'favorite', 'fayette', 'façade', 'façon', 'façons', 'faîtes', 'fb', 'fe', 'felicitations', 'felipe', 'femme', 'femmes', 'fenêtre', 'fenêtres', 'fera', 'feraient', 'ferme', 'fermer', 'fermes', 'fermier', 'fermé', 'fermée', 'fermés', 'fernando', 'festif', 'festival', 'festive', 'feu', 'feuille', 'feuilles', 'feuilletage', 'feutrer', 'feutré', 'feutrée', 'feux', 'fiable', 'fiables', 'fiancé', 'fiancée', 'fiasco', 'fiche', 'fidèle', 'fidèles', 'fier', 'fiez', 'figue', 'figues', 'figure', 'fil', 'file', 'filet', 'filets', 'filipé', 'fille', 'filles', 'film', 'films', 'fils', 'fin', 'final', 'finale', 'finalement', 'find', 'fine', 'finement', 'fineparfaitement', 'fines', 'finesse', 'fini', 'finie', 'finir', 'finis', 'finit', 'fins', 'fioriture', 'fish', 'fishbals', 'fièrement', 'flacons', 'flambé', 'flammes', 'flan', 'flatteur', 'flemme', 'fleur', 'fleuri', 'fleurs', 'florale', 'florales', 'flotte', 'fluide', 'fléchi', 'fléché', 'flûte', 'foi', 'foie', 'foies', 'fois', 'foisc', 'folichon', 'folie', 'folies', 'folles', 'foncez', 'fonction', 'fond', 'fondamentaux', 'fondant', 'fondre', 'fonds', 'fondu', 'fondue', 'fondé', 'font', 'food', 'foodsurprising', 'for', 'force', 'forcé', 'forcément', 'forfait', 'fork', 'formalité', 'forme', 'formes', 'formidable', 'formidableune', 'formuka', 'formule', 'formules', 'fort', 'forte', 'fortement', 'fortes', 'forts', 'fouillis', 'foule', 'four', 'fourchette', 'fourneaux', 'fourni', 'fournie', 'fournir', 'fout', 'foutage', 'foutiste', 'fraiches', 'fraicheur', 'frais', 'francais', 'francaise', 'france', 'franchement', 'franchisée', 'franco', 'franquette', 'français', 'française', 'frappante', 'frappe', 'frappé', 'fraçais', 'fraîche', 'fraîches', 'fraîcheur', 'frechon', 'free', 'french', 'fric', 'fricassée', 'friendly', 'frigo', 'frire', 'frise', 'frisé', 'frite', 'frites', 'frits', 'frittes', 'friture', 'frog', 'froid', 'froide', 'froidement', 'froides', 'froideur', 'fromage', 'fromages', 'frugal', 'fruit', 'fruits', 'frère', 'fréchon', 'frédérique', 'fréquentant', 'fréquentation', 'fréquente', 'fréquenté', 'fréquentée', 'fubuleux', 'fuir', 'fuite', 'fument', 'fumoir', 'furent', 'furieux', 'fusil', 'fusion', 'fut', 'futur', 'futuriste', 'fuyez', 'fèves', 'féminine', 'férié', 'féru', 'fétiches', 'février', 'fêta', 'fêtait', 'fête', 'fêter', 'fêtions', 'fêté', 'fûmes', 'fût', 'gabriel', 'gaché', 'gadgets', 'gaffes', 'gagnaire', 'galerie', 'galette', 'galettes', 'gall', 'gambas', 'game', 'gamme', 'garanti', 'garantie', 'garcia', 'garde', 'garder', 'gardez', 'gardions', 'gardons', 'gardé', 'gardée', 'gare', 'garnies', 'garniesrien', 'garnis', 'garniture', 'garnitures', 'gars', 'garçon', 'gaspiller', 'gastro', 'gastronomes', 'gastronomic', 'gastronomie', 'gastronomique', 'gastronomiques', 'gauche', 'gaufré', 'gavotte', 'gay', 'gazeuse', 'gelati', 'genereux', 'genia', 'genialissime', 'genre', 'gens', 'gentil', 'gentille', 'gentillesse', 'gentils', 'gentiment', 'george', 'georges', 'gerant', 'gerard', 'gerent', 'germain', 'geste', 'gestion', 'gibier', 'gigot', 'gilet', 'gilles', 'gingembre', 'gins', 'giovanni', 'girolle', 'girolles', 'glace', 'glaces', 'glacial', 'glaciale', 'glacier', 'glacé', 'glaçons', 'glissées', 'globale', 'globalement', 'gluten', 'gnocchi', 'gnocchis', 'gogo', 'gomme', 'gorgée', 'gourmand', 'gourmande', 'gourmandes', 'gourmandise', 'gourmandises', 'gourmet', 'gourmets', 'gout', 'gouter', 'gouteuse', 'gouteux', 'gouts', 'goutte', 'gouttes', 'goutus', 'goutés', 'goût', 'goûter', 'goûteuse', 'goûteuses', 'goûteux', 'goûtez', 'goûts', 'goûté', 'grace', 'gradé', 'graisse', 'grammes', 'grand', 'grande', 'grandement', 'grandes', 'grandeur', 'grandiose', 'grandir', 'grands', 'granité', 'gransd', 'grappa', 'gras', 'grasse', 'grasses', 'gratin', 'gratinée', 'gratuit', 'grave', 'gravelax', 'graver', 'gravée', 'great', 'grec', 'green', 'grenaille', 'grenouille', 'grenouilles', 'gribiche', 'grignoter', 'grignotteries', 'grillé', 'grillée', 'grillées', 'grilléla', 'gris', 'grisonnant', 'gros', 'grosse', 'grosses', 'grossesse', 'grossière', 'grossières', 'grossièreté', 'groupe', 'gruyère', 'grâce', 'gré', 'guacamole', 'guettait', 'gueules', 'guide', 'guides', 'guidés', 'guignol', 'guimauve', 'guindé', 'guise', 'gum', 'gustatif', 'gustative', 'gustatives', 'guy', 'guéméné', 'gyosa', 'gâchis', 'gâché', 'gâchée', 'gâte', 'gâteau', 'gâteaux', 'gâtent', 'gène', 'gère', 'génant', 'génial', 'géniale', 'général', 'générale', 'généralement', 'généreuse', 'généreuses', 'généreux', 'générosité', 'géographique', 'gérant', 'gérante', 'gérants', 'gérard', 'gêne', 'gêné', 'ha', 'habilement', 'habitant', 'habitante', 'habite', 'habitons', 'habitude', 'habituel', 'habitué', 'habituée', 'habitués', 'hachée', 'had', 'haddock', 'hai', 'hais', 'halles', 'hallucine', 'halte', 'hamburger', 'hamburgers', 'hanawa', 'handicapés', 'hank', 'happycow', 'hareng', 'haricots', 'harmonie', 'harmonieux', 'harmoniques', 'hasard', 'haut', 'hautain', 'hautaine', 'haute', 'hautement', 'hauteur', 'hauts', 'herbe', 'herbes', 'heure', 'heures', 'heureusement', 'heureuses', 'heureux', 'hexagonaux', 'hexagone', 'hic', 'hier', 'hihihi', 'histoire', 'historique', 'hiver', 'homard', 'homemade', 'homme', 'hommes', 'honneur', 'honneurbravo', 'honnête', 'honorable', 'honoré', 'honte', 'honteuse', 'honteux', 'hop', 'horaires', 'hormis', 'horrible', 'hors', 'hospitalité', 'hot', 'hotel', 'houmous', 'hubert', 'hugo', 'hui', 'huile', 'huileuses', 'huit', 'huitres', 'hum', 'humanité', 'humble', 'humeur', 'humour', 'huître', 'huîtres', 'hygiène', 'hype', 'hyper', 'hypers', 'hâte', 'hélas', 'hésitantes', 'hésitation', 'hésitent', 'hésiter', 'hésitez', 'hésitions', 'hésité', 'hétéroclite', 'hôte', 'hôtel', 'hôtelière', 'hôtellerie', 'hôtels', 'hôtes', 'hôtesse', 'hôtesses', 'ici', 'identité', 'idyllique', 'idéal', 'idéale', 'idéalement', 'idéales', 'idée', 'ignoble', 'ignore', 'ignoré', 'il', 'ilion', 'illimités', 'illisible', 'illuminent', 'illustre', 'ils', 'image', 'imagination', 'imaginative', 'imagine', 'imaginé', 'imaginées', 'imangeable', 'imbattable', 'imbu', 'imbus', 'imbuvable', 'imbuvables', 'imbéciles', 'imed', 'imitant', 'imitation', 'imiter', 'immangeable', 'immense', 'immenses', 'immeuble', 'immédiatement', 'imméritées', 'impact', 'impatient', 'impatients', 'impecable', 'impeccable', 'impeccables', 'impensable', 'impersonnel', 'impertinence', 'impoli', 'impolitesse', 'importance', 'important', 'importe', 'imposait', 'impose', 'impossibilité', 'impossible', 'imposé', 'imposés', 'impression', 'impressionnant', 'impressionner', 'impressionné', 'impressionnée', 'impressionnés', 'improbablevenus', 'improvisé', 'imprécise', 'impécable', 'impérativement', 'in', 'inacceptables', 'inaccessible', 'inadmissible', 'inattendues', 'inattendus', 'incapables', 'incarnée', 'incendie', 'incipide', 'incité', 'inclus', 'incomparable', 'incompetent', 'incompréhension', 'incompétent', 'inconcevable', 'inconditionnel', 'inconfortable', 'inconnu', 'inconnue', 'inconnues', 'inconnus', 'inconsistantes', 'incontestablement', 'incontournable', 'incontournables', 'incorrecte', 'incorrection', 'incroyable', 'incroyablement', 'incroyables', 'inde', 'indean', 'indien', 'indienne', 'indiennes', 'indiens', 'indifférent', 'indifférents', 'indigne', 'indignes', 'indignés', 'indiquant', 'indique', 'indiqué', 'indispensable', 'indispensables', 'individuel', 'individuels', 'indonésie', 'industrielle', 'industrielles', 'industriels', 'indésirables', 'inefficace', 'inexistante', 'inexpérimenté', 'infamie', 'infect', 'infecte', 'infectes', 'infinite', 'influence', 'influences', 'info', 'information', 'informe', 'informes', 'informé', 'inférieures', 'ingrédient', 'ingrédients', 'inhabituel', 'inhabituelles', 'inhérentes', 'initial', 'initialement', 'injustement', 'inmanquable', 'inneficace', 'innovant', 'innovante', 'innovants', 'innovation', 'inoubliable', 'inoubliables', 'insatisfaction', 'insignifiant', 'insinué', 'insipide', 'insipides', 'insistance', 'insistante', 'insisté', 'insonorisé', 'inspecteurs', 'inspirante', 'inspiration', 'inspire', 'inspiré', 'instable', 'installe', 'installer', 'installez', 'installées', 'installés', 'instant', 'instar', 'institution', 'insuffisante', 'insulté', 'insuportablement', 'insupportable', 'insurger', 'integre', 'intelligentes', 'intensité', 'interdits', 'interet', 'interloquée', 'interminable', 'internationale', 'internet', 'interpelle', 'interpellera', 'interpellé', 'intervenir', 'intime', 'intimidant', 'intimiste', 'intimité', 'intolérance', 'intolérances', 'intolérante', 'intolérences', 'intrigues', 'introduire', 'introuvable', 'intrusif', 'intégralité', 'intéressant', 'intéressante', 'intéressantes', 'intéressants', 'intéresser', 'intérieur', 'intérêt', 'inutile', 'inutiles', 'inventer', 'inventif', 'inventifs', 'inventive', 'inventivité', 'inverse', 'invitation', 'invite', 'invitent', 'inviter', 'invitions', 'invité', 'invitée', 'invités', 'inédit', 'inédite', 'inégalable', 'inéluctable', 'ira', 'irai', 'irait', 'iran', 'iranien', 'iranienne', 'iraniennes', 'iraniens', 'iranniene', 'ironique', 'irrespectueuse', 'irrespectueux', 'irréprochable', 'irréprochablement', 'irréprochables', 'ischia', 'issus', 'italie', 'italien', 'italienne', 'italiennes', 'italiens', 'ixème', 'jaboulet', 'jacques', 'jamais', 'jambes', 'jambon', 'janin', 'janvier', 'japon', 'japonais', 'japonaise', 'japonaises', 'japonnaise', 'jardin', 'jardins', 'jarret', 'jaune', 'je', 'jean', 'jeanne', 'jeannes', 'jeter', 'jettes', 'jeté', 'jeu', 'jeudi', 'jeune', 'jeunes', 'jeunesse', 'jeux', 'jgr', 'joie', 'joies', 'joindre', 'joins', 'joli', 'jolie', 'jolies', 'joliment', 'jolis', 'josé', 'jouissif', 'jouit', 'jour', 'journée', 'jours', 'joviales', 'joyau', 'joëlle', 'jp', 'judicieuses', 'judicieux', 'jugement', 'juillet', 'juin', 'julien', 'jumin', 'jus', 'jusqu', 'jusque', 'juste', 'justes', 'justesprésentation', 'justice', 'justifiait', 'justifiant', 'justifications', 'justifie', 'justifient', 'justifier', 'justifiée', 'justifiées', 'justifiés', 'juteuse', 'juxtapositions', 'jérôme', 'kai', 'kaiser', 'kebab', 'kei', 'ketchup', 'kgb', 'kilo', 'kilomètres', 'kinzo', 'kir', 'kitchen', 'kjdhd', 'kobe', 'kobé', 'kodawari', 'kong', 'korean', 'koubide', 'kozy', 'kub', 'kugorawa', 'la', 'lafourchette', 'laid', 'laissaient', 'laissait', 'laissant', 'laisse', 'laisser', 'laissera', 'laissez', 'laissé', 'laissées', 'laissés', 'lait', 'laitiers', 'lamentable', 'lames', 'langoustine', 'langoustines', 'langue', 'lanvi', 'lanzhou', 'laquelle', 'large', 'largement', 'lasagnes', 'lasse', 'latin', 'latino', 'laure', 'lavash', 'le', 'lecture', 'ledeuil', 'leger', 'legers', 'lent', 'lente', 'lenteur', 'lentilles', 'lequel', 'lerestaurent', 'les', 'lesquelles', 'lettre', 'leur', 'leurs', 'levinson', 'libanais', 'libanaise', 'libre', 'libère', 'liegeois', 'lieu', 'lieux', 'lievre', 'light', 'ligne', 'lilas', 'lillois', 'limininaire', 'limite', 'limites', 'limité', 'limitée', 'limougeauds', 'lipp', 'liquide', 'lire', 'lis', 'lisbonne', 'liste', 'lit', 'littéralement', 'livraison', 'livre', 'livrer', 'livré', 'lièvre', 'lié', 'liés', 'local', 'localisation', 'logeait', 'loin', 'lointains', 'lois', 'lol', 'lombards', 'long', 'longtemps', 'longue', 'look', 'lors', 'lorsqu', 'lorsque', 'lot', 'louis', 'loulous', 'lounge', 'loupée', 'lourd', 'lourde', 'low', 'loyer', 'lu', 'lucas', 'lugubre', 'lui', 'lumineuse', 'lumineux', 'lumière', 'lumières', 'lundi', 'lundis', 'lunettes', 'luxe', 'luxueux', 'là', 'làplus', 'lâche', 'lève', 'lèvres', 'léchions', 'léger', 'légume', 'légumes', 'légère', 'légèrement', 'légères', 'légèreté', 'ma', 'mac', 'macadamia', 'macaroni', 'macaronis', 'macarons', 'macau', 'machine', 'madame', 'madeleine', 'madeleines', 'madère', 'madérisé', 'maestria', 'magie', 'magique', 'magnifique', 'magnifiquement', 'magnifiques', 'magné', 'magret', 'mai', 'maigre', 'mail', 'mains', 'maintenant', 'mais', 'maison', 'maisons', 'maitre', 'maitrise', 'maitrisse', 'maitrisée', 'majestueuse', 'majestueux', 'majeure', 'majoritairement', 'maki', 'makis', 'mal', 'malade', 'maladroit', 'malchance', 'malgrè', 'malgré', 'malheur', 'malheureusement', 'malpolie', 'maltraitées', 'maman', 'mamie', 'mamma', 'man', 'manager', 'mandarin', 'mandarine', 'mange', 'mangeable', 'mangeables', 'mangeait', 'manger', 'mangez', 'mangions', 'mangue', 'mangé', 'manière', 'manquait', 'manquant', 'manque', 'manquent', 'manquer', 'manquerait', 'maqnifique', 'maquereau', 'marais', 'marc', 'marchand', 'marchande', 'marche', 'marché', 'marchétout', 'marcon', 'mardi', 'margarita', 'mari', 'mariage', 'mariages', 'marie', 'marier', 'marines', 'mariné', 'marié', 'mariés', 'marmites', 'marque', 'marquer', 'marronniers', 'mars', 'marseillais', 'marx', 'masala', 'mascarpone', 'maso', 'masquant', 'masqué', 'massala', 'match', 'matcha', 'matin', 'matinée', 'matière', 'matsuri', 'maturation', 'mauvais', 'mauvaise', 'mauvaises', 'max', 'maxi', 'maximale', 'maximum', 'mayo', 'mayonnaise', 'maître', 'maîtres', 'maîtresse', 'maîtrise', 'maîtrisé', 'maîtrisée', 'mc', 'me', 'mediocre', 'meilleur', 'meilleure', 'meilleures', 'meilleurs', 'mejor', 'meme', 'menace', 'menetou', 'ment', 'menthe', 'menthetiède', 'mention', 'menu', 'menus', 'menées', 'mer', 'merci', 'merciplus', 'mercredi', 'merguez', 'meringue', 'merite', 'meriter', 'merlan', 'mersea', 'merveille', 'merveilles', 'merveilleuse', 'merveilleusement', 'merveilleuses', 'merveilleux', 'mes', 'message', 'messieurs', 'mesure', 'met', 'mets', 'mettant', 'mettez', 'mettre', 'meurette', 'mexicain', 'mexicaine', 'mexican', 'mexique', 'mia', 'miam', 'michel', 'michelin', 'micro', 'microscopiques', 'midi', 'midis', 'mie', 'miel', 'mien', 'mienne', 'mieux', 'mignardises', 'mignon', 'mignons', 'milieu', 'mille', 'millefeuille', 'milliers', 'millimetré', 'million', 'min', 'mina', 'minable', 'mine', 'mini', 'miniardises', 'minimal', 'minimaliste', 'minimalistes', 'minime', 'minimes', 'minimum', 'miniscule', 'minuscule', 'minuscules', 'minute', 'minutes', 'minutie', 'minutieux', 'minérale', 'mirabelle', 'miroirs', 'mis', 'mise', 'mises', 'miso', 'mission', 'mixte', 'miyazaki', 'mmontparnadse', 'mn', 'mob', 'mobilier', 'mobster', 'moche', 'mode', 'moderation', 'moderne', 'moderniser', 'modernité', 'modeste', 'modifications', 'modifier', 'modérée', 'moelle', 'moelleux', 'moi', 'moindre', 'moindres', 'moins', 'mois', 'moitié', 'mojito', 'mole', 'molles', 'molto', 'moment', 'moments', 'mon', 'monacale', 'monde', 'mondialement', 'monnaie', 'monsieur', 'montagnard', 'montagnes', 'montant', 'monter', 'montmartre', 'montparnasse', 'montré', 'moque', 'moquer', 'moqueur', 'moral', 'morceaux', 'moret', 'moribondes', 'mot', 'motivé', 'motivés', 'mots', 'mou', 'moucherons', 'mouffetard', 'moules', 'moulin', 'moultes', 'mousse', 'moutarde', 'moyen', 'moyenne', 'moyennement', 'moyennes', 'moyens', 'mozzarella', 'mozzas', 'mr', 'mulet', 'multiples', 'multitude', 'mumi', 'mundo', 'mur', 'mural', 'murs', 'musical', 'musique', 'must', 'musée', 'mutiste', 'my', 'myriade', 'myrtilles', 'mythique', 'mère', 'mères', 'mètre', 'mètres', 'mécanique', 'mécontents', 'médecin', 'médiatisé', 'médiocre', 'médiocres', 'méditation', 'méditerranée', 'médium', 'mélange', 'mélangeant', 'mélangent', 'mélanger', 'mélanges', 'mélangée', 'mémoire', 'mémoires', 'mémorable', 'mémorables', 'méprendre', 'méprisant', 'méritant', 'mérite', 'méritent', 'mériter', 'mériterait', 'méritées', 'mérités', 'métier', 'métiers', 'métro', 'météo', 'mêlant', 'même', 'mêmes', 'naan', 'nage', 'nagent', 'nan', 'nancy', 'nans', 'napolitaines', 'naranja', 'narcis', 'narciz', 'nata', 'nature', 'naturel', 'naturellement', 'naufrage', 'navrant', 'ne', 'nectar', 'needed', 'negatif', 'neige', 'nems', 'nerfs', 'nerveuse', 'net', 'nets', 'nettement', 'neuf', 'neutre', 'neutres', 'nez', 'ni', 'niché', 'nickel', 'nico', 'nicolas', 'night', 'niveau', 'no', 'nobles', 'noir', 'noire', 'noires', 'noirs', 'noix', 'nom', 'nombre', 'nombreuse', 'nombreuses', 'nombreux', 'nommé', 'noms', 'non', 'nonchalant', 'normal', 'norme', 'norvégienne', 'nos', 'nossa', 'notamment', 'note', 'noter', 'notes', 'notoriété', 'notre', 'noté', 'nougat', 'nouille', 'nouilles', 'nounours', 'nourriture', 'nous', 'nouveau', 'nouveautés', 'nouveaux', 'nouvel', 'nouvelle', 'nouvelles', 'novateur', 'novatrice', 'novembre', 'noyé', 'noyées', 'nuage', 'nuit', 'nuits', 'nul', 'nulle', 'numéro', 'nutella', 'nº', 'né', 'néanmoins', 'nécessaire', 'nécessairement', 'nécessité', 'négatif', 'négatifs', 'négative', 'objet', 'obligations', 'obligatoire', 'obligatoires', 'oblige', 'obliger', 'obligé', 'obscurité', 'observation', 'obséquieux', 'obséquiosité', 'obtenir', 'obtenu', 'obtiendrez', 'occasion', 'occasionnellement', 'occasions', 'occidentale', 'occupe', 'occuper', 'occupé', 'occupées', 'octobre', 'océan', 'odeur', 'odeurs', 'odieux', 'odorat', 'odyssee', 'oeil', 'oeuf', 'oeufs', 'oeuvre', 'oeuvres', 'offert', 'offerte', 'offertes', 'offerts', 'officiait', 'officiellement', 'officielles', 'officier', 'offrait', 'offre', 'offrent', 'offres', 'offrir', 'offrira', 'offrons', 'offusqué', 'ogre', 'oie', 'oignon', 'oignons', 'ok', 'olive', 'olives', 'ombre', 'omelette', 'omniprésent', 'on', 'onctueuses', 'onde', 'ondes', 'onglet', 'onions', 'ont', 'ontinu', 'opinion', 'opportunité', 'opposé', 'oppressé', 'option', 'options', 'optons', 'opté', 'opère', 'opération', 'opére', 'orange', 'orateur', 'ordre', 'oreille', 'organisant', 'organisation', 'orgie', 'orgue', 'orgueilleuse', 'orient', 'oriental', 'orientale', 'orienté', 'original', 'originale', 'originales', 'originalité', 'originalités', 'originaux', 'origine', 'orloff', 'ormeaux', 'orsay', 'os', 'ostentation', 'ostentatoire', 'ostreiculteur', 'osé', 'ou', 'oublie', 'oublier', 'oublierai', 'oublié', 'oubliée', 'ouest', 'ouf', 'oui', 'our', 'oursins', 'outre', 'outrés', 'ouvert', 'ouverte', 'ouverts', 'ouverture', 'ouvre', 'ouvrir', 'overratings', 'oxte', 'où', 'oú', 'pad', 'page', 'paie', 'paille', 'pain', 'paine', 'pains', 'pair', 'paisible', 'pakistanais', 'palace', 'palaces', 'palais', 'palece', 'palet', 'palets', 'palmiers', 'palourde', 'panais', 'panini', 'paninis', 'panna', 'pans', 'panthéon', 'papa', 'papier', 'papille', 'papilles', 'papillesl', 'papillon', 'par', 'parait', 'parallèle', 'paraît', 'parce', 'parceque', 'parcimonieusement', 'parcours', 'pardi', 'pardonner', 'pardonné', 'pareil', 'parents', 'parfais', 'parfait', 'parfaite', 'parfaitement', 'parfaites', 'parfaits', 'parfaitun', 'parfois', 'parfum', 'parfums', 'parfumé', 'parfumée', 'parfuméedenseparfaite', 'parie', 'paris', 'parisien', 'parisienne', 'parisiennes', 'parisiens', 'parisplus', 'parlait', 'parle', 'parler', 'parlé', 'parme', 'parmentier', 'parmesan', 'parmi', 'parmis', 'parsemés', 'part', 'partage', 'partageons', 'partager', 'partagé', 'partagées', 'partagés', 'partait', 'parte', 'partenaire', 'parti', 'participe', 'particularités', 'particulier', 'particulière', 'particulièrement', 'particulières', 'partie', 'partions', 'partir', 'partis', 'partons', 'partout', 'parts', 'paru', 'pas', 'passable', 'passage', 'passages', 'passait', 'passant', 'passe', 'passent', 'passer', 'passera', 'passerez', 'passez', 'passiez', 'passion', 'passionnant', 'passionné', 'passionnés', 'passons', 'passé', 'passée', 'passées', 'passés', 'pasteis', 'patate', 'pate', 'pathétique', 'patience', 'patient', 'patienter', 'patienté', 'patisseries', 'patissier', 'pato', 'patrice', 'patrimoine', 'patron', 'patronne', 'patrons', 'paul', 'pause', 'pauvre', 'pauvres', 'paye', 'payer', 'payes', 'pays', 'payé', 'paz', 'pdt', 'peine', 'peint', 'peinture', 'pendant', 'pensais', 'pensait', 'pensant', 'pense', 'pensez', 'pensions', 'pensé', 'pensées', 'peps', 'perchée', 'perd', 'perde', 'perdent', 'perdre', 'perdue', 'pere', 'perfection', 'perfide', 'periode', 'permanence', 'permanent', 'permet', 'permettant', 'permettent', 'permettrait', 'permis', 'pernand', 'pers', 'personel', 'personnage', 'personnalisation', 'personnalisé', 'personnalité', 'personnalités', 'personne', 'personnel', 'personnelle', 'personnellement', 'personnels', 'personnes', 'pertinente', 'pertinents', 'pete', 'petit', 'petite', 'petites', 'petits', 'peu', 'peuplent', 'peut', 'peuvent', 'peux', 'pg', 'pharmaceutiques', 'phase', 'philharmonie', 'pho', 'photo', 'photos', 'phrase', 'physiques', 'pianovin', 'pianovins', 'pichet', 'picon', 'piece', 'pied', 'pieds', 'piege', 'pieges', 'pierre', 'pierres', 'pigale', 'pigalle', 'pigeon', 'pigeonneau', 'piles', 'pilote', 'piments', 'pinces', 'pinot', 'pintade', 'pintes', 'piquante', 'pire', 'pistache', 'pistaches', 'pita', 'pitoyable', 'pittoresque', 'pizza', 'pizzaiolo', 'pizzas', 'pizzeria', 'pièce', 'piège', 'piètre', 'place', 'placeambiance', 'places', 'placette', 'placé', 'placécadre', 'placée', 'placés', 'plafond', 'plaindre', 'plaint', 'plaisant', 'plaisanterie', 'plaisanteries', 'plaisir', 'plaisirs', 'plaisirservice', 'plan', 'planches', 'plane', 'plans', 'planète', 'plaque', 'plaques', 'plastique', 'plat', 'plateau', 'plateaux', 'plats', 'plaît', 'plein', 'pleine', 'pleinement', 'pleins', 'pleurer', 'plongera', 'plouc', 'plu', 'pluie', 'plupart', 'plus', 'plusieurs', 'plusle', 'plutot', 'plutôt', 'pluvieux', 'poche', 'poché', 'poellé', 'poignée', 'poil', 'point', 'pointe', 'points', 'poire', 'poireaux', 'poires', 'pois', 'poisson', 'poissons', 'poitrine', 'poivrons', 'poivré', 'polie', 'politesse', 'polémique', 'pomme', 'pommes', 'pompeux', 'pompidou', 'pompon', 'ponpon', 'pop', 'populaire', 'porc', 'porte', 'portefeuille', 'porter', 'portion', 'portions', 'porté', 'portée', 'pose', 'poser', 'positif', 'positifs', 'position', 'positionnés', 'positive', 'positives', 'possibilité', 'possibilités', 'possible', 'possèdent', 'posées', 'pot', 'potagère', 'potatoes', 'potence', 'potentielle', 'potes', 'pots', 'poubelle', 'pouce', 'poulet', 'poulets', 'poulpe', 'poulpes', 'pour', 'pourboire', 'pournotre', 'pourquoi', 'pourra', 'pourraient', 'pourrait', 'pourries', 'pourtant', 'pousse', 'poussent', 'pousser', 'poussez', 'poussiéreux', 'poussé', 'poutargue', 'pouvais', 'pouvait', 'pouvant', 'pouvez', 'pouvions', 'pouvoir', 'pouvons', 'poésie', 'poêlé', 'prague', 'praliné', 'pratique', 'pratiquement', 'pre', 'preferais', 'premier', 'premiere', 'premiers', 'première', 'premièrement', 'premières', 'prenant', 'prend', 'prendre', 'prends', 'prenez', 'prenne', 'prennent', 'prennes', 'prenons', 'prepara', 'prepareé', 'pres', 'presentation', 'presente', 'presque', 'pressait', 'presser', 'pressé', 'pressée', 'pressés', 'prestance', 'prestation', 'prestations', 'prestige', 'prestigieux', 'presume', 'preuve', 'prices', 'prie', 'principal', 'principale', 'principaux', 'priori', 'priorité', 'pris', 'prise', 'prises', 'prisé', 'prit', 'privatisé', 'privilège', 'privilégiés', 'privé', 'prix', 'prixc', 'pro', 'probablement', 'problème', 'problèmes', 'processus', 'prochaine', 'prochainement', 'proche', 'proches', 'procurent', 'produit', 'produits', 'professionalisme', 'professionnalisme', 'professionnel', 'professionnelle', 'professionnels', 'profil', 'profiler', 'profit', 'profite', 'profiter', 'profiteroles', 'profité', 'profondément', 'progresser', 'progression', 'progressivement', 'prohibitifs', 'projecteur', 'promenant', 'promene', 'promesses', 'prometteur', 'promises', 'promo', 'prononcée', 'prononcées', 'proportions', 'propos', 'proposait', 'proposant', 'propose', 'proposer', 'proposition', 'propositions', 'proposé', 'proposée', 'proposées', 'proposés', 'propre', 'propres', 'propreté', 'proprio', 'proprios', 'propriétaire', 'propriétaires', 'pros', 'protocolaire', 'prouvé', 'provenant', 'province', 'proximité', 'prudent', 'près', 'pré', 'préalable', 'précieusement', 'précieux', 'précipitamment', 'précis', 'précise', 'précision', 'précisé', 'précédent', 'précédente', 'précédentes', 'précédents', 'prédis', 'préfère', 'préfèrez', 'préférable', 'préférence', 'préférer', 'préféré', 'préférée', 'préférées', 'préférés', 'prénom', 'préparation', 'préparations', 'prépare', 'préparent', 'préparer', 'préparez', 'préparé', 'préparées', 'préparés', 'prés', 'présence', 'présent', 'présentait', 'présentation', 'présentations', 'présente', 'présentent', 'présenter', 'présenterait', 'présentes', 'présents', 'présenté', 'présentés', 'prétentieuse', 'prétentieux', 'prétention', 'prétexte', 'prévenant', 'prévenir', 'prévenu', 'prévenus', 'prévoir', 'prévoyez', 'prévu', 'prévues', 'prêt', 'prête', 'pseudo', 'ptits', 'pu', 'publique', 'puent', 'puis', 'puisqu', 'puisque', 'puissante', 'puisse', 'punch', 'pupilles', 'pur', 'pure', 'pursuit', 'purée', 'pyrénées', 'pâle', 'pâte', 'pâtes', 'pâteuse', 'pâtisserie', 'pâtisseries', 'pâté', 'pâtés', 'pèse', 'pénétrons', 'pépite', 'période', 'pétales', 'pétillant', 'pêche', 'pêcher', 'qd', 'qqch', 'qqs', 'qu', 'quadragénaires', 'quais', 'qualifier', 'qualitatif', 'qualitatifs', 'qualitatives', 'qualite', 'qualité', 'qualités', 'quand', 'quant', 'quantité', 'quantités', 'quarante', 'quart', 'quartier', 'quartierplus', 'quartiers', 'quasi', 'quasiment', 'quatre', 'que', 'quel', 'quelconque', 'quelconques', 'quelle', 'quelqu', 'quelque', 'quelques', 'quels', 'quenelle', 'quenelles', 'quentin', 'quesadilla', 'question', 'questions', 'queue', 'queues', 'qui', 'quilles', 'quinoa', 'quitte', 'quitter', 'quitté', 'quoi', 'quoiqu', 'quoique', 'rables', 'raccrocher', 'raccrohe', 'rachitique', 'racine', 'racolleur', 'radieux', 'raffinement', 'raffiné', 'raffinée', 'raffinéedesserts', 'raffinées', 'raffinéetout', 'raffinés', 'rafiné', 'rafinés', 'raie', 'raisins', 'raison', 'raisonnable', 'raisonnables', 'rajoute', 'rajouter', 'rajoutez', 'rajouté', 'rajoutée', 'ramen', 'ramens', 'ramequins', 'randonnées', 'rang', 'ranger', 'rangs', 'rapide', 'rapidement', 'rapidité', 'rappeler', 'rappelle', 'rapport', 'rapprochée', 'rapprochées', 'rare', 'rarement', 'rares', 'ras', 'rassasient', 'rassasié', 'rassasiés', 'rassemble', 'rassurant', 'ratatouille', 'rate', 'rater', 'ratez', 'rations', 'rattrapé', 'raté', 'ravi', 'ravie', 'ravies', 'raviole', 'ravioles', 'ravioli', 'raviolis', 'ravira', 'ravis', 'ravissent', 'rayé', 'rdv', 'rebords', 'rebutait', 'reception', 'recette', 'recettes', 'recevoir', 'recherchant', 'recherche', 'recherches', 'recherchions', 'recherché', 'recherchée', 'recherchées', 'rechignait', 'recommandable', 'recommandation', 'recommandations', 'recommande', 'recommandeplus', 'recommander', 'recommanderai', 'recommanderais', 'recommandons', 'recommandonsplus', 'recommandé', 'recommence', 'recommende', 'reconduits', 'reconnaissez', 'reconnaître', 'reconnue', 'recours', 'recouvertes', 'recruteur', 'recréé', 'recu', 'redemande', 'redire', 'redonner', 'redécouvrir', 'refaire', 'refait', 'reflet', 'reflètes', 'refouler', 'refus', 'refusant', 'refuser', 'regal', 'regard', 'regardant', 'regarde', 'regarder', 'regards', 'regime', 'regis', 'registre', 'regorge', 'regret', 'regrets', 'regrettable', 'regrette', 'regrettera', 'regretterez', 'regrettons', 'regretté', 'rehaussée', 'reinette', 'rejetant', 'rejoindre', 'relais', 'relater', 'relative', 'relativement', 'relaxe', 'relevées', 'relish', 'relâchez', 'relèvent', 'remarquable', 'remarquablement', 'remarquableplus', 'remarquables', 'remarque', 'remarquer', 'remarques', 'remarquons', 'remarqué', 'remercie', 'remerciements', 'remettrai', 'remettrais', 'remettre', 'remise', 'remontée', 'remplacé', 'rempli', 'remplie', 'remplir', 'remplis', 'remportés', 'rencontre', 'rencontrer', 'rencontré', 'rend', 'rendez', 'rendre', 'rends', 'rendu', 'rendue', 'rendus', 'renforcer', 'renom', 'renommée', 'renouveler', 'renouveller', 'renouvelée', 'rentable', 'rentrant', 'rentrer', 'rentrez', 'rentrons', 'rentré', 'rentrés', 'renversé', 'rené', 'repartent', 'repartie', 'repartirai', 'repartis', 'repas', 'repasc', 'repeindre', 'repond', 'reportage', 'reposé', 'reprendre', 'represente', 'reprises', 'reproche', 'représentative', 'repu', 'requièrentselon', 'resa', 'reservation', 'reserve', 'reserver', 'respect', 'respectant', 'respectueux', 'respecté', 'respectées', 'respire', 'responsable', 'responsables', 'ressemblait', 'ressemblant', 'ressemble', 'ressent', 'ressenti', 'ressort', 'restant', 'restau', 'restaurant', 'restaurants', 'restaurateur', 'restaurateurs', 'restauration', 'restaurent', 'restaurer', 'restautant', 'reste', 'restent', 'rester', 'restera', 'resterez', 'restez', 'resto', 'restopolitan', 'restos', 'restreint', 'resté', 'restée', 'restés', 'resume', 'retard', 'retaurant', 'retenir', 'retenons', 'retient', 'retirer', 'retiré', 'retour', 'retourne', 'retourner', 'retournera', 'retournerai', 'retournerais', 'retournerons', 'retourné', 'retournés', 'retours', 'retrait', 'retrouve', 'retrouvent', 'retrouver', 'retrouvons', 'retrouvé', 'retrouvée', 'retrouvés', 'revalorisées', 'revanche', 'reve', 'reveiller', 'revelation', 'revenait', 'revenir', 'revenu', 'revenus', 'reviendra', 'reviendrai', 'reviendrais', 'reviendrons', 'reviennent', 'reviens', 'revient', 'revisiter', 'revisité', 'revisitée', 'revisités', 'revoir', 'revoirnous', 'rez', 'reçois', 'reçu', 'rhum', 'rhône', 'riche', 'riches', 'richesse', 'rideau', 'ridicule', 'ridicules', 'rien', 'riesling', 'rigides', 'rigolo', 'rigueur', 'rillettes', 'ringard', 'rires', 'ris', 'risotto', 'risque', 'ritz', 'rivaliser', 'rive', 'riz', 'roblochon', 'robuchon', 'rodage', 'rodées', 'rognon', 'rognons', 'roignons', 'rois', 'romantique', 'romantisme', 'ronde', 'rondelles', 'roof', 'roomies', 'roquette', 'rose', 'roses', 'rosiers', 'rostang', 'rosé', 'roti', 'roue', 'rouge', 'rouget', 'rougets', 'roulés', 'rouquette', 'routard', 'royal', 'royale', 'royaleluxueuse', 'royalement', 'royales', 'rtl', 'rue', 'ruelle', 'rues', 'rugby', 'ruiner', 'ruisseau', 'rupture', 'rustique', 'rutilante', 'rythme', 'rythmé', 'râter', 'règne', 'réactif', 'réaction', 'réactive', 'réalisations', 'réalise', 'réaliser', 'réalisé', 'réalisée', 'réalisés', 'récemment', 'récent', 'réception', 'réchauffent', 'réchauffer', 'réchauffés', 'récidivé', 'réclame', 'réclamer', 'récole', 'réconfirme', 'récupération', 'réduction', 'réduit', 'réduite', 'réel', 'réelle', 'réellement', 'réels', 'réflexion', 'réflexions', 'réforme', 'référence', 'régal', 'régale', 'régaler', 'régalé', 'régalée', 'régalés', 'régimes', 'région', 'régis', 'régler', 'réglés', 'régressives', 'régulier', 'régulièrement', 'réinventer', 'réjouis', 'réjouit', 'rénové', 'réorienté', 'réouverture', 'répits', 'répond', 'répondait', 'réponds', 'répondu', 'réponse', 'réponses', 'république', 'répugnante', 'réputation', 'réputé', 'répéter', 'réservation', 'réservations', 'réserve', 'réserver', 'réservez', 'réservé', 'réservée', 'réservées', 'réservés', 'réside', 'résidence', 'résident', 'résister', 'résolument', 'résonnent', 'résoudre', 'résultant', 'résultat', 'résume', 'résumé', 'rétorque', 'rétro', 'rétrogradé', 'réuni', 'réunies', 'réunion', 'réunis', 'réussi', 'réussie', 'réussies', 'réussite', 'réveille', 'réveillon', 'réveillé', 'révolu', 'révolue', 'révélé', 'rêvais', 'rêve', 'rêver', 'rêvions', 'rêvé', 'rôti', 'sa', 'sable', 'sac', 'sachant', 'sachet', 'sachez', 'sacoches', 'sacré', 'sacs', 'safran', 'safranée', 'saignante', 'sain', 'sains', 'saint', 'saints', 'sais', 'saison', 'saisons', 'sait', 'saj', 'saké', 'salade', 'salades', 'sale', 'salee', 'saleté', 'salive', 'salle', 'salles', 'salon', 'salons', 'saluer', 'salé', 'salée', 'salées', 'saléplus', 'salés', 'samatan', 'samedi', 'sandre', 'sandwich', 'sandwicherie', 'sandwichs', 'sanitaires', 'sans', 'saouleront', 'sardines', 'sarrasin', 'sas', 'sashimi', 'sashimis', 'satisfaire', 'satisfaisant', 'satisfaisante', 'satisfait', 'satisfaits', 'sauce', 'sauces', 'saucé', 'sauf', 'saumon', 'saura', 'saurons', 'sautait', 'sautées', 'sauvait', 'sauve', 'sauver', 'savais', 'savait', 'savant', 'savent', 'saveur', 'saveurs', 'savez', 'savions', 'savoie', 'savoir', 'savons', 'savourer', 'savoureuse', 'savoureuses', 'savoureux', 'scalpel', 'scandale', 'scandaleux', 'sceau', 'scintiller', 'scolaire', 'scotché', 'sculptes', 'scène', 'sdf', 'se', 'seasons', 'seau', 'sec', 'second', 'seconde', 'secret', 'secs', 'seduire', 'seiche', 'seine', 'seizième', 'sel', 'select', 'selection', 'selon', 'semaine', 'semaines', 'semblait', 'semblant', 'semble', 'semblent', 'semblé', 'semelle', 'semoule', 'sen', 'senderens', 'sens', 'sensation', 'sensationnel', 'sensations', 'sensibilisée', 'sensible', 'sensé', 'sent', 'sentait', 'senti', 'sentiment', 'sentions', 'sentir', 'sentis', 'sentons', 'sept', 'septembre', 'septime', 'sera', 'seraient', 'serait', 'sercice', 'serez', 'sergent', 'serré', 'serrées', 'serrés', 'sert', 'servait', 'servant', 'servent', 'serveur', 'serveurs', 'serveuse', 'serveuses', 'servi', 'serviable', 'serviables', 'service', 'services', 'servie', 'servies', 'serviette', 'servir', 'servis', 'ses', 'set', 'sets', 'seul', 'seule', 'seulement', 'seules', 'seuls', 'show', 'si', 'side', 'sidéré', 'siecle', 'sien', 'signalé', 'signature', 'signatures', 'signe', 'significative', 'signifie', 'signifié', 'silla', 'similaires', 'simple', 'simplement', 'simples', 'simplette', 'simplicité', 'sincère', 'sincèrement', 'sinon', 'siplus', 'site', 'situation', 'situe', 'situé', 'située', 'sitôt', 'six', 'siècle', 'sièges', 'slim', 'snack', 'snacké', 'snob', 'sobre', 'sociable', 'sodas', 'soeur', 'soi', 'soient', 'soigne', 'soigneusement', 'soigné', 'soignée', 'soin', 'soinplus', 'soins', 'soir', 'soiree', 'soirée', 'sois', 'soit', 'soja', 'sol', 'sole', 'soleil', 'soles', 'sollicitationcuisine', 'sombre', 'somme', 'sommelier', 'sommeliers', 'sommelière', 'sommes', 'sommet', 'somptueuse', 'somptueux', 'son', 'sonore', 'sonorités', 'sont', 'sophie', 'sorbonne', 'sors', 'sort', 'sortaient', 'sortant', 'sorte', 'sortent', 'sortes', 'sorti', 'sortie', 'sorties', 'sortir', 'sortis', 'souci', 'soucieux', 'soucis', 'soufflant', 'souffle', 'soufflé', 'soufflée', 'souffrir', 'souhait', 'souhaite', 'souhaitent', 'souhaitez', 'souhaitions', 'souhaits', 'souhaité', 'soumis', 'soupe', 'souper', 'soupes', 'soupçon', 'sourcés', 'souri', 'souriant', 'souriante', 'souriants', 'sourire', 'sourirerapiditéefficacitéqualité', 'sourires', 'souris', 'sourit', 'sous', 'souvenir', 'souvenirs', 'souvent', 'souviendra', 'soyons', 'spacieuses', 'spacieux', 'spartacus', 'spartiate', 'specialités', 'specificités', 'spectacle', 'spectaculaire', 'spiritueux', 'splendeur', 'splendide', 'spot', 'spécial', 'spéciale', 'spécialement', 'spécialisé', 'spécialité', 'spécialités', 'spécifiques', 'spécifié', 'square', 'squelettique', 'st', 'stable', 'staff', 'stagiaires', 'standards', 'standing', 'steak', 'steakhouses', 'steaks', 'stick', 'street', 'stress', 'structures', 'style', 'stéréotypes', 'su', 'subiile', 'sublime', 'sublimer', 'sublimes', 'sublimespigeon', 'sublimé', 'sublimées', 'substance', 'subtil', 'subtile', 'subtilement', 'subtiles', 'subtilité', 'subtils', 'succession', 'succulent', 'succulente', 'succulentes', 'succulents', 'succèdent', 'succès', 'sucre', 'sucrees', 'sucré', 'sucrée', 'sucrées', 'sucrés', 'sucs', 'sud', 'suffisamment', 'suffisant', 'suffisantes', 'suffit', 'suggestions', 'suggéré', 'suis', 'suit', 'suite', 'suivant', 'suivante', 'suivants', 'suivent', 'suivi', 'suivies', 'suivis', 'suivons', 'suivre', 'suki', 'sulfurisé', 'super', 'superbe', 'superbement', 'superbes', 'superlatifs', 'supermarché', 'superposé', 'supers', 'supervisée', 'supplément', 'supplémentaire', 'suppléments', 'supplémnt', 'supportable', 'supporter', 'supports', 'supposé', 'supposée', 'suprenant', 'suprise', 'suprême', 'supérieure', 'sur', 'surannée', 'surchargée', 'surcroît', 'surestimée', 'surface', 'surfait', 'surfaite', 'surgeles', 'surgelé', 'surgelés', 'surprenant', 'surprenante', 'surprenantes', 'surprenants', 'surprendre', 'surpris', 'surprise', 'surprises', 'surtout', 'suscite', 'sushi', 'sushis', 'suzette', 'suzettes', 'sylvestre', 'sympa', 'sympas', 'sympathie', 'sympathique', 'sympathiques', 'sympatique', 'symphonie', 'synchronisation', 'syrah', 'système', 'systématiquement', 'sèche', 'sèchement', 'sèches', 'séduire', 'séduisante', 'séduisants', 'séduit', 'séjour', 'séjourné', 'sélection', 'sélectionnés', 'séminaire', 'séparer', 'série', 'sérieusement', 'sérieux', 'sévère', 'sûr', 'sûre', 'sûrement', 'sœur', 'ta', 'tabasser', 'table', 'tables', 'tablesplus', 'tablette', 'tabouleh', 'taboulé', 'tabourets', 'taché', 'tacos', 'tact', 'taille', 'tailles', 'taillés', 'taire', 'takayagani', 'talent', 'talentueux', 'talons', 'tamisée', 'tandis', 'tant', 'tantes', 'tapas', 'tape', 'tapissés', 'tarbais', 'tard', 'tarif', 'tarifs', 'tarot', 'tartare', 'tartares', 'tarte', 'tartine', 'tartines', 'tas', 'tasse', 'tasty', 'tat', 'tata', 'taïwanais', 'te', 'tea', 'teamkangourou', 'technique', 'tel', 'telle', 'tellement', 'telles', 'tels', 'temps', 'tempura', 'température', 'tenait', 'tendance', 'tendre', 'tendrele', 'tendresse', 'teneur', 'teniendo', 'tentante', 'tentatives', 'tente', 'tenter', 'tenture', 'tenu', 'tenue', 'teppan', 'teppanyaki', 'terasse', 'tergiverser', 'teriyaki', 'terme', 'termes', 'terminer', 'terminé', 'terminée', 'terrail', 'terrasse', 'terre', 'terres', 'terrible', 'terrible5', 'terrines', 'terroristes', 'tes', 'test', 'teste', 'tester', 'testé', 'testés', 'textures', 'thaï', 'the', 'theâtre', 'thhis', 'thierry', 'thon', 'thème', 'thé', 'théatre', 'thélème', 'théâtre', 'théâtres', 'tibétaine', 'ticket', 'tienne', 'tiennent', 'tiens', 'tient', 'tika', 'tikka', 'time', 'timé', 'tiramisu', 'tirelire', 'tissu', 'titille', 'titre', 'titres', 'tiède', 'tièdes', 'tj', 'tjrs', 'tjs', 'toasté', 'toastés', 'toi', 'toilettes', 'toit', 'toits', 'tokyo', 'tomate', 'tomates', 'tombais', 'tombe', 'tombent', 'tomber', 'tombons', 'tombé', 'tombée', 'tombés', 'ton', 'tonitruantes', 'top', 'topinambour', 'toppersonnel', 'tops', 'toqué', 'tot', 'total', 'totale', 'totalement', 'touche', 'touchent', 'toucher', 'touches', 'touchés', 'toujours', 'toulousainesmais', 'tour', 'tourisme', 'touriste', 'touristes', 'touristiques', 'tourné', 'tourte', 'tourteau', 'tourteaux', 'tous', 'tout', 'toutain', 'toute', 'toutefois', 'toutes', 'touthenkamon', 'tradition', 'traditionnel', 'traditionnelle', 'traditionnelles', 'traditionnels', 'traditions', 'train', 'trainer', 'traite', 'traiteur', 'traité', 'traités', 'trajet', 'tranche', 'tranchent', 'tranches', 'tranquille', 'transmets', 'transormés', 'transpiration', 'transporte', 'transportée', 'transportés', 'traumatisante', 'travail', 'travaille', 'travaillez', 'travaillé', 'travaillée', 'travaillées', 'travaillés', 'travaux', 'travers', 'traverser', 'trempée', 'trente', 'tres', 'triomphe', 'trip', 'tripadvisor', 'triste', 'tristesse', 'trivial', 'trocadéro', 'trois', 'troisième', 'trompent', 'trop', 'tropez', 'trottoir', 'trouvailles', 'trouvant', 'trouve', 'trouvent', 'trouver', 'trouverez', 'trouvé', 'trouvée', 'trouvées', 'trouvés', 'truc', 'truffe', 'truffes', 'truffés', 'truite', 'très', 'trèstrèsdécevant', 'trés', 'trésor', 'trône', 'ttripadvisor', 'tu', 'tuer', 'tuerie', 'tueries', 'tuiles', 'tumulte', 'turbot', 'turnover', 'type', 'types', 'typique', 'typiques', 'tâches', 'téléphonant', 'téléphone', 'téléphones', 'télérama', 'témoin', 'témoins', 'térail', 'tête', 'tôt', 'ultra', 'un', 'unanime', 'unanimes', 'underground', 'une', 'unes', 'unique', 'uniquement', 'uniques', 'universitaire', 'uns', 'urgence', 'usage', 'usurpé', 'utilise', 'va', 'vacance', 'vacances', 'vache', 'vaguement', 'vais', 'vaisselle', 'vaissellecouvertssalle', 'valait', 'valentin', 'valeur', 'validés', 'vanille', 'vanté', 'vaqueras', 'varie', 'variee', 'varier', 'varié', 'variée', 'variées', 'variés', 'variété', 'variétés', 'vas', 'vaut', 'veau', 'veaucoquilles', 'veaux', 'vegan', 'vegeburger', 'vegetal', 'veille', 'venait', 'venant', 'vende', 'vendent', 'vendeur', 'vendeuse', 'vendeuses', 'vendredi', 'vendôme', 'venez', 'venions', 'venir', 'venons', 'vent', 'vente', 'ventre', 'venu', 'venue', 'venues', 'venus', 'verdure', 'vergelesses', 'verra', 'verre', 'verres', 'verres4', 'verrez', 'verrière', 'vers', 'versailles', 'versatile', 'version', 'versus', 'vert', 'verts', 'veste', 'vestiaire', 'vestimentaire', 'veulent', 'veut', 'veux', 'via', 'viande', 'viandes', 'victime', 'victoires', 'vide', 'vie', 'vieil', 'vieille', 'vieillot', 'viendriez', 'vienne', 'viennoiserie', 'viennoiseries', 'vienoiseries', 'viens', 'vient', 'vietnamienne', 'vieux', 'vigato', 'village', 'ville', 'vin', 'vinaigre', 'vinaigrette', 'vinaigrée', 'vincent', 'vingt', 'vingtaine', 'vinle', 'vins', 'vinsur', 'vintage', 'vire', 'virtus', 'virés', 'vis', 'visible', 'visiblement', 'vision', 'visite', 'visiter', 'visites', 'visiteurs', 'visité', 'visitée', 'visuel', 'visuelle', 'visé', 'vit', 'vite', 'vitesse', 'vitrée', 'vitrées', 'vivant', 'vivants', 'vivement', 'vivienne', 'vivons', 'vivre', 'vodka', 'voici', 'voie', 'voient', 'voila', 'voilà', 'voir', 'voire', 'vois', 'voisine', 'voisins', 'voit', 'voiture', 'voiturier', 'voix', 'vol', 'volaille', 'volontier', 'volontiers', 'volonté', 'voluptueux', 'vont', 'vos', 'vosges', 'votre', 'voudrait', 'voulais', 'voulait', 'voulant', 'voulez', 'voulions', 'voulo', 'vouloir', 'voulons', 'voulu', 'vous', 'voyage', 'voyageais', 'voyager', 'voyageurs', 'voyagez', 'voyagé', 'voyant', 'voyons', 'vrai', 'vraie', 'vraies', 'vraiment', 'vrais', 'vraissemblablement', 'vu', 'vue', 'vues', 'vulgaire', 'vulgairement', 'vulgaires', 'vécu', 'végans', 'végé', 'végés', 'végétal', 'végétaliens', 'végétarien', 'végétarienne', 'végétariennes', 'végétariens', 'végétaux', 'vélo', 'vérifier', 'vérifié', 'véritable', 'véritablement', 'vétusté', 'wagyu', 'wahoo', 'waouw', 'wc', 'we', 'web', 'week', 'weekend', 'whaou', 'wifi', 'william', 'wine', 'wines', 'with', 'wola', 'wow', 'xixe', 'xve', 'xvème', 'xxi', 'ya', 'yaki', 'yakitori', 'yaourt', 'yen', 'yeux', 'yoshitaka', 'yuzu', 'ze', 'zen', 'zkg', 'zone', 'zors', 'zouzou', 'à13', 'âges', 'âme', 'ça', 'çe', 'çi', 'çà', 'ème', 'ébahis', 'éblouissement', 'écart', 'écarter', 'échalote', 'échanger', 'échanges', 'échantillons', 'échelle', 'écho', 'échoppe', 'éclair', 'éclairage', 'éclats', 'éclectique', 'éco', 'école', 'écoles', 'économies', 'écorchant', 'écoute', 'écouter', 'écoutez', 'écrevisse', 'écrin', 'écrire', 'écris', 'écrit', 'écrits', 'écrivais', 'écœurant', 'écœurants', 'égale', 'également', 'égard', 'égayé', 'élaboration', 'élaboré', 'élaborée', 'élaborées', 'éleve', 'élevé', 'élevée', 'élevés', 'élitiste', 'éloges', 'élogieuses', 'élogieux', 'éloigner', 'éloignée', 'éloignées', 'élève', 'élégamment', 'élégance', 'élégant', 'élégante', 'élégantpersonnel', 'éléments', 'émerveille', 'émerveillement', 'émerveillé', 'émincé', 'émis', 'émission', 'émotion', 'émotions', 'émulsion', 'énergie', 'énergique', 'énergétique', 'énoncé', 'énorme', 'énormes', 'épais', 'épaisse', 'épaté', 'épatés', 'épaule', 'épicerie', 'épices', 'épicurien', 'épicuriens', 'épicé', 'épicée', 'épicéesmais', 'épicés', 'épinards', 'épisode', 'époque', 'épouse', 'époustouflante', 'époustouflantes', 'époustoufler', 'épuré', 'épurée', 'épuréz', 'équilibre', 'équilibré', 'équilibrée', 'équilibrées', 'équilibrés', 'équipe', 'équipes', 'équipé', 'équivaut', 'éric', 'érudit', 'érythréen', 'ét', 'établi', 'établissement', 'établissementidéalement', 'établissements', 'étage', 'étagères', 'étaient', 'étais', 'était', 'étant', 'étape', 'étapes', 'état', 'états', 'étendu', 'éthique', 'étions', 'étoile', 'étoiles', 'étoilé', 'étoilée', 'étoilés', 'étonnamment', 'étonnant', 'étonnante', 'étonné', 'étonnée', 'étouffante', 'étouffe', 'étranger', 'étrangers', 'étriquée', 'étroit', 'étroite', 'étroites', 'étudiant', 'étudiants', 'étudie', 'étudié', 'étudiées', 'étui', 'été', 'étés', 'évasion', 'éveillent', 'éventé', 'évidement', 'évidemment', 'évidence', 'évident', 'évitant', 'évite', 'éviter', 'évitez', 'évocateurs', 'évolue', 'évolution', 'évoque', 'événement', 'êtes', 'être', 'île', 'œil', 'œuf', 'œufs', 'œuvre'] 6401\n",
            "[[0 0 0 ... 0 0 0]\n",
            " [0 0 0 ... 0 0 0]\n",
            " [0 0 0 ... 0 0 0]\n",
            " ...\n",
            " [0 0 0 ... 0 0 0]\n",
            " [0 0 0 ... 0 0 0]\n",
            " [0 0 0 ... 0 0 0]]\n"
          ],
          "name": "stdout"
        }
      ]
    },
    {
      "cell_type": "code",
      "metadata": {
        "id": "y34BcU2FOacn"
      },
      "source": [
        "X_train, X_test, y_train, y_test = train_test_split(X, y, test_size = 0.20)\n",
        "#instanciation"
      ],
      "execution_count": null,
      "outputs": []
    },
    {
      "cell_type": "code",
      "metadata": {
        "id": "woopqJozIcIH",
        "colab": {
          "base_uri": "https://localhost:8080/"
        },
        "outputId": "60688815-a12f-4078-be2e-95235ebf0f86"
      },
      "source": [
        "from sklearn.tree import DecisionTreeClassifier\n",
        "DTC = DecisionTreeClassifier(max_depth=3,min_samples_leaf=10)\n",
        "DTC.fit(X_train,y_train)\n",
        "DTC"
      ],
      "execution_count": null,
      "outputs": [
        {
          "output_type": "execute_result",
          "data": {
            "text/plain": [
              "DecisionTreeClassifier(max_depth=3, min_samples_leaf=10)"
            ]
          },
          "metadata": {
            "tags": []
          },
          "execution_count": 92
        }
      ]
    },
    {
      "cell_type": "code",
      "metadata": {
        "id": "qCW7AyD4IcII",
        "colab": {
          "base_uri": "https://localhost:8080/"
        },
        "outputId": "b5d54cb8-43a1-4e90-8747-56c24d69eaaf"
      },
      "source": [
        "y_pred = DTC.predict(X_test)\n",
        "y_pred"
      ],
      "execution_count": null,
      "outputs": [
        {
          "output_type": "execute_result",
          "data": {
            "text/plain": [
              "array([1, 1, 1, 1, 1, 1, 1, 1, 0, 0, 1, 1, 0, 1, 1, 1, 1, 1, 1, 1, 1, 1,\n",
              "       1, 0, 1, 1, 0, 0, 1, 1, 0, 1, 1, 1, 1, 0, 1, 1, 0, 1, 1, 1, 1, 1,\n",
              "       1, 1, 0, 1, 0, 0, 0, 0, 1, 1, 1, 0, 1, 1, 0, 1, 1, 0, 0, 1, 0, 0,\n",
              "       1, 0, 1, 0, 1, 1, 0, 1, 1, 1, 0, 0, 1, 1, 0, 0, 0, 0, 1, 1, 1, 1,\n",
              "       1, 1, 1, 0, 1, 1, 1, 1, 0, 1, 1, 0, 1, 1, 0, 1, 1, 1, 1, 1, 1, 0,\n",
              "       1, 0, 1, 1, 0, 1, 1, 0, 1, 1, 0, 0, 1, 1, 1, 1, 1, 0, 1, 1, 1, 1,\n",
              "       1, 0, 0, 1, 1, 0, 1, 0, 1, 1, 0, 0, 1, 0, 1, 1, 0, 1, 1, 1, 0, 0,\n",
              "       0, 1, 1, 1, 1, 1, 1, 1, 1, 1, 1, 0, 0, 1, 1, 0, 1, 1, 1, 1, 0, 1,\n",
              "       1, 0, 0, 1, 0, 0, 0, 1, 1, 0, 1, 1, 1, 1, 1, 1, 1, 0, 1, 1, 1, 1,\n",
              "       0, 1, 1, 1, 0, 1, 1, 1, 1, 0, 0, 0, 1, 1, 1, 0, 1, 1, 1, 1, 1, 1,\n",
              "       0, 1, 1, 1, 1, 1, 0, 1, 1, 0, 1, 1, 1, 1, 1, 1, 0, 0, 1, 1, 1, 1,\n",
              "       1, 1, 1, 1, 1, 1, 1, 1, 1, 0, 0, 1, 0, 1, 0, 1, 0, 0, 0, 1, 1, 1,\n",
              "       1, 0, 1, 0, 1, 1, 0, 1, 1, 1, 1, 1, 0, 1, 1, 1, 1, 1, 1, 1, 1, 1,\n",
              "       1, 1, 0, 1, 1, 1, 0, 1, 1, 1, 0, 1, 1, 1, 1, 1, 1, 0, 0, 1, 0])"
            ]
          },
          "metadata": {
            "tags": []
          },
          "execution_count": 93
        }
      ]
    },
    {
      "cell_type": "code",
      "metadata": {
        "scrolled": true,
        "id": "nedCZgirIcII",
        "colab": {
          "base_uri": "https://localhost:8080/"
        },
        "outputId": "e563740c-5fde-421c-eabf-74f059b3ae2a"
      },
      "source": [
        "from sklearn.metrics import confusion_matrix, accuracy_score\n",
        "cm_tree = confusion_matrix(y_test,y_pred)\n",
        "cm_tree"
      ],
      "execution_count": null,
      "outputs": [
        {
          "output_type": "execute_result",
          "data": {
            "text/plain": [
              "array([[ 48,  53],\n",
              "       [ 42, 164]])"
            ]
          },
          "metadata": {
            "tags": []
          },
          "execution_count": 94
        }
      ]
    },
    {
      "cell_type": "code",
      "metadata": {
        "id": "lBt5sym5IcII",
        "colab": {
          "base_uri": "https://localhost:8080/"
        },
        "outputId": "acb34ce2-531f-43e7-9910-2385de5eec62"
      },
      "source": [
        "print(y_pred,'\\n',type(y_pred))"
      ],
      "execution_count": null,
      "outputs": [
        {
          "output_type": "stream",
          "text": [
            "[1 1 1 1 1 1 1 1 0 0 1 1 0 1 1 1 1 1 1 1 1 1 1 0 1 1 0 0 1 1 0 1 1 1 1 0 1\n",
            " 1 0 1 1 1 1 1 1 1 0 1 0 0 0 0 1 1 1 0 1 1 0 1 1 0 0 1 0 0 1 0 1 0 1 1 0 1\n",
            " 1 1 0 0 1 1 0 0 0 0 1 1 1 1 1 1 1 0 1 1 1 1 0 1 1 0 1 1 0 1 1 1 1 1 1 0 1\n",
            " 0 1 1 0 1 1 0 1 1 0 0 1 1 1 1 1 0 1 1 1 1 1 0 0 1 1 0 1 0 1 1 0 0 1 0 1 1\n",
            " 0 1 1 1 0 0 0 1 1 1 1 1 1 1 1 1 1 0 0 1 1 0 1 1 1 1 0 1 1 0 0 1 0 0 0 1 1\n",
            " 0 1 1 1 1 1 1 1 0 1 1 1 1 0 1 1 1 0 1 1 1 1 0 0 0 1 1 1 0 1 1 1 1 1 1 0 1\n",
            " 1 1 1 1 0 1 1 0 1 1 1 1 1 1 0 0 1 1 1 1 1 1 1 1 1 1 1 1 1 0 0 1 0 1 0 1 0\n",
            " 0 0 1 1 1 1 0 1 0 1 1 0 1 1 1 1 1 0 1 1 1 1 1 1 1 1 1 1 1 0 1 1 1 0 1 1 1\n",
            " 0 1 1 1 1 1 1 0 0 1 0] \n",
            " <class 'numpy.ndarray'>\n"
          ],
          "name": "stdout"
        }
      ]
    },
    {
      "cell_type": "code",
      "metadata": {
        "id": "aikCOqhVIcIJ",
        "colab": {
          "base_uri": "https://localhost:8080/",
          "height": 265
        },
        "outputId": "f80c5c69-d578-432f-9faf-c9f9f0c394f0"
      },
      "source": [
        "sns.heatmap(confusion_matrix(y_test,y_pred),annot=True)\n",
        "plt.show()"
      ],
      "execution_count": null,
      "outputs": [
        {
          "output_type": "display_data",
          "data": {
            "image/png": "[encoded data removed]",
            "text/plain": [
              "<Figure size 432x288 with 2 Axes>"
            ]
          },
          "metadata": {
            "tags": [],
            "needs_background": "light"
          }
        }
      ]
    },
    {
      "cell_type": "code",
      "metadata": {
        "id": "i5_ASkj5IcIJ",
        "colab": {
          "base_uri": "https://localhost:8080/"
        },
        "outputId": "50450bbc-698e-45af-e9b5-20c018cec3c4"
      },
      "source": [
        "y_pred=DTC.predict(X_test)\n",
        "print(y_pred[1])\n",
        "#Accuracy /total, précision /colonnes, AUC aire sous la courbe"
      ],
      "execution_count": null,
      "outputs": [
        {
          "output_type": "stream",
          "text": [
            "1\n"
          ],
          "name": "stdout"
        }
      ]
    },
    {
      "cell_type": "code",
      "metadata": {
        "id": "wyni-uSbIcIJ",
        "colab": {
          "base_uri": "https://localhost:8080/",
          "height": 299
        },
        "outputId": "00f75b2e-f607-4bf5-96b8-b609dce61f29"
      },
      "source": [
        "from sklearn.metrics import roc_curve, auc\n",
        "from sklearn.metrics import accuracy_score\n",
        "y_pred_proba = DTC.predict_proba(X_test)[:, 1]\n",
        "[fpr, tpr, thr] = roc_curve(y_test, y_pred)\n",
        "plt.figure()\n",
        "plt.plot(fpr, tpr, color='coral', label='ROC curve (area = %0.3f)' % auc(fpr, tpr))\n",
        "plt.plot([0, 1], [0, 1], 'k--')\n",
        "plt.xlim([0.0, 1.0])\n",
        "plt.ylim([0.0, 1.05])\n",
        "plt.xlabel('False Positive Rate (1 - specificity)', fontsize=14)\n",
        "plt.ylabel('True Positive Rate (recall)', fontsize=14)\n",
        "plt.title('Receiver operating characteristic (ROC) curve')\n",
        "plt.legend(loc=\"lower right\")\n",
        "plt.show()"
      ],
      "execution_count": null,
      "outputs": [
        {
          "output_type": "display_data",
          "data": {
            "image/png": "[encoded data removed]",
            "text/plain": [
              "<Figure size 432x288 with 1 Axes>"
            ]
          },
          "metadata": {
            "tags": [],
            "needs_background": "light"
          }
        }
      ]
    },
    {
      "cell_type": "code",
      "metadata": {
        "id": "4yXdBLHNIcIK",
        "colab": {
          "base_uri": "https://localhost:8080/",
          "height": 518
        },
        "outputId": "2a198da1-59cd-4d1d-ab37-1d55de35ef3c"
      },
      "source": [
        "from sklearn import tree\n",
        "import graphviz \n",
        "from IPython.display import display\n",
        "display(graphviz.Source(tree.export_graphviz(DTC)))"
      ],
      "execution_count": null,
      "outputs": [
        {
          "output_type": "display_data",
          "data": {
            "text/plain": [
              "<graphviz.files.Source at 0x7fac36997210>"
            ],
            "image/svg+xml": "<?xml version=\"1.0\" encoding=\"UTF-8\" standalone=\"no\"?>\n<!DOCTYPE svg PUBLIC \"-//W3C//DTD SVG 1.1//EN\"\n \"http://www.w3.org/Graphics/SVG/1.1/DTD/svg11.dtd\">\n<!-- Generated by graphviz version 2.40.1 (20161225.0304)\n -->\n<!-- Title: Tree Pages: 1 -->\n<svg width=\"1013pt\" height=\"373pt\"\n viewBox=\"0.00 0.00 1013.00 373.00\" xmlns=\"http://www.w3.org/2000/svg\" xmlns:xlink=\"http://www.w3.org/1999/xlink\">\n<g id=\"graph0\" class=\"graph\" transform=\"scale(1 1) rotate(0) translate(4 369)\">\n<title>Tree</title>\n<polygon fill=\"#ffffff\" stroke=\"transparent\" points=\"-4,4 -4,-369 1009,-369 1009,4 -4,4\"/>\n<!-- 0 -->\n<g id=\"node1\" class=\"node\">\n<title>0</title>\n<polygon fill=\"none\" stroke=\"#000000\" points=\"579,-365 454,-365 454,-297 579,-297 579,-365\"/>\n<text text-anchor=\"middle\" x=\"516.5\" y=\"-349.8\" font-family=\"Times,serif\" font-size=\"14.00\" fill=\"#000000\">X[4194] &lt;= 0.5</text>\n<text text-anchor=\"middle\" x=\"516.5\" y=\"-334.8\" font-family=\"Times,serif\" font-size=\"14.00\" fill=\"#000000\">gini = 0.449</text>\n<text text-anchor=\"middle\" x=\"516.5\" y=\"-319.8\" font-family=\"Times,serif\" font-size=\"14.00\" fill=\"#000000\">samples = 1227</text>\n<text text-anchor=\"middle\" x=\"516.5\" y=\"-304.8\" font-family=\"Times,serif\" font-size=\"14.00\" fill=\"#000000\">value = [418, 809]</text>\n</g>\n<!-- 1 -->\n<g id=\"node2\" class=\"node\">\n<title>1</title>\n<polygon fill=\"none\" stroke=\"#000000\" points=\"453,-261 328,-261 328,-193 453,-193 453,-261\"/>\n<text text-anchor=\"middle\" x=\"390.5\" y=\"-245.8\" font-family=\"Times,serif\" font-size=\"14.00\" fill=\"#000000\">X[2285] &lt;= 1.5</text>\n<text text-anchor=\"middle\" x=\"390.5\" y=\"-230.8\" font-family=\"Times,serif\" font-size=\"14.00\" fill=\"#000000\">gini = 0.384</text>\n<text text-anchor=\"middle\" x=\"390.5\" y=\"-215.8\" font-family=\"Times,serif\" font-size=\"14.00\" fill=\"#000000\">samples = 877</text>\n<text text-anchor=\"middle\" x=\"390.5\" y=\"-200.8\" font-family=\"Times,serif\" font-size=\"14.00\" fill=\"#000000\">value = [227, 650]</text>\n</g>\n<!-- 0&#45;&gt;1 -->\n<g id=\"edge1\" class=\"edge\">\n<title>0&#45;&gt;1</title>\n<path fill=\"none\" stroke=\"#000000\" d=\"M475.2429,-296.9465C463.9299,-287.6088 451.5508,-277.3911 439.8342,-267.7203\"/>\n<polygon fill=\"#000000\" stroke=\"#000000\" points=\"441.79,-264.7964 431.8498,-261.13 437.3341,-270.195 441.79,-264.7964\"/>\n<text text-anchor=\"middle\" x=\"434.2302\" y=\"-282.3164\" font-family=\"Times,serif\" font-size=\"14.00\" fill=\"#000000\">True</text>\n</g>\n<!-- 8 -->\n<g id=\"node9\" class=\"node\">\n<title>8</title>\n<polygon fill=\"none\" stroke=\"#000000\" points=\"709,-261 584,-261 584,-193 709,-193 709,-261\"/>\n<text text-anchor=\"middle\" x=\"646.5\" y=\"-245.8\" font-family=\"Times,serif\" font-size=\"14.00\" fill=\"#000000\">X[2285] &lt;= 2.5</text>\n<text text-anchor=\"middle\" x=\"646.5\" y=\"-230.8\" font-family=\"Times,serif\" font-size=\"14.00\" fill=\"#000000\">gini = 0.496</text>\n<text text-anchor=\"middle\" x=\"646.5\" y=\"-215.8\" font-family=\"Times,serif\" font-size=\"14.00\" fill=\"#000000\">samples = 350</text>\n<text text-anchor=\"middle\" x=\"646.5\" y=\"-200.8\" font-family=\"Times,serif\" font-size=\"14.00\" fill=\"#000000\">value = [191, 159]</text>\n</g>\n<!-- 0&#45;&gt;8 -->\n<g id=\"edge8\" class=\"edge\">\n<title>0&#45;&gt;8</title>\n<path fill=\"none\" stroke=\"#000000\" d=\"M559.0669,-296.9465C570.8512,-287.519 583.7568,-277.1946 595.9481,-267.4415\"/>\n<polygon fill=\"#000000\" stroke=\"#000000\" points=\"598.2152,-270.11 603.8375,-261.13 593.8423,-264.6439 598.2152,-270.11\"/>\n<text text-anchor=\"middle\" x=\"601.0767\" y=\"-282.2771\" font-family=\"Times,serif\" font-size=\"14.00\" fill=\"#000000\">False</text>\n</g>\n<!-- 2 -->\n<g id=\"node3\" class=\"node\">\n<title>2</title>\n<polygon fill=\"none\" stroke=\"#000000\" points=\"260,-157 135,-157 135,-89 260,-89 260,-157\"/>\n<text text-anchor=\"middle\" x=\"197.5\" y=\"-141.8\" font-family=\"Times,serif\" font-size=\"14.00\" fill=\"#000000\">X[4384] &lt;= 0.5</text>\n<text text-anchor=\"middle\" x=\"197.5\" y=\"-126.8\" font-family=\"Times,serif\" font-size=\"14.00\" fill=\"#000000\">gini = 0.448</text>\n<text text-anchor=\"middle\" x=\"197.5\" y=\"-111.8\" font-family=\"Times,serif\" font-size=\"14.00\" fill=\"#000000\">samples = 546</text>\n<text text-anchor=\"middle\" x=\"197.5\" y=\"-96.8\" font-family=\"Times,serif\" font-size=\"14.00\" fill=\"#000000\">value = [185, 361]</text>\n</g>\n<!-- 1&#45;&gt;2 -->\n<g id=\"edge2\" class=\"edge\">\n<title>1&#45;&gt;2</title>\n<path fill=\"none\" stroke=\"#000000\" d=\"M327.8384,-193.2342C309.1196,-183.1473 288.4557,-172.0124 269.2042,-161.6385\"/>\n<polygon fill=\"#000000\" stroke=\"#000000\" points=\"270.6408,-158.4369 260.1772,-156.7742 267.3201,-164.5991 270.6408,-158.4369\"/>\n</g>\n<!-- 5 -->\n<g id=\"node6\" class=\"node\">\n<title>5</title>\n<polygon fill=\"none\" stroke=\"#000000\" points=\"449,-157 332,-157 332,-89 449,-89 449,-157\"/>\n<text text-anchor=\"middle\" x=\"390.5\" y=\"-141.8\" font-family=\"Times,serif\" font-size=\"14.00\" fill=\"#000000\">X[662] &lt;= 0.5</text>\n<text text-anchor=\"middle\" x=\"390.5\" y=\"-126.8\" font-family=\"Times,serif\" font-size=\"14.00\" fill=\"#000000\">gini = 0.222</text>\n<text text-anchor=\"middle\" x=\"390.5\" y=\"-111.8\" font-family=\"Times,serif\" font-size=\"14.00\" fill=\"#000000\">samples = 331</text>\n<text text-anchor=\"middle\" x=\"390.5\" y=\"-96.8\" font-family=\"Times,serif\" font-size=\"14.00\" fill=\"#000000\">value = [42, 289]</text>\n</g>\n<!-- 1&#45;&gt;5 -->\n<g id=\"edge5\" class=\"edge\">\n<title>1&#45;&gt;5</title>\n<path fill=\"none\" stroke=\"#000000\" d=\"M390.5,-192.9465C390.5,-184.776 390.5,-175.9318 390.5,-167.3697\"/>\n<polygon fill=\"#000000\" stroke=\"#000000\" points=\"394.0001,-167.13 390.5,-157.13 387.0001,-167.13 394.0001,-167.13\"/>\n</g>\n<!-- 3 -->\n<g id=\"node4\" class=\"node\">\n<title>3</title>\n<polygon fill=\"none\" stroke=\"#000000\" points=\"117,-53 0,-53 0,0 117,0 117,-53\"/>\n<text text-anchor=\"middle\" x=\"58.5\" y=\"-37.8\" font-family=\"Times,serif\" font-size=\"14.00\" fill=\"#000000\">gini = 0.277</text>\n<text text-anchor=\"middle\" x=\"58.5\" y=\"-22.8\" font-family=\"Times,serif\" font-size=\"14.00\" fill=\"#000000\">samples = 199</text>\n<text text-anchor=\"middle\" x=\"58.5\" y=\"-7.8\" font-family=\"Times,serif\" font-size=\"14.00\" fill=\"#000000\">value = [33, 166]</text>\n</g>\n<!-- 2&#45;&gt;3 -->\n<g id=\"edge3\" class=\"edge\">\n<title>2&#45;&gt;3</title>\n<path fill=\"none\" stroke=\"#000000\" d=\"M148.4938,-88.9777C134.5126,-79.2713 119.3162,-68.7213 105.4602,-59.1018\"/>\n<polygon fill=\"#000000\" stroke=\"#000000\" points=\"107.2394,-56.0763 97.0289,-53.2485 103.2474,-61.8264 107.2394,-56.0763\"/>\n</g>\n<!-- 4 -->\n<g id=\"node5\" class=\"node\">\n<title>4</title>\n<polygon fill=\"none\" stroke=\"#000000\" points=\"260,-53 135,-53 135,0 260,0 260,-53\"/>\n<text text-anchor=\"middle\" x=\"197.5\" y=\"-37.8\" font-family=\"Times,serif\" font-size=\"14.00\" fill=\"#000000\">gini = 0.492</text>\n<text text-anchor=\"middle\" x=\"197.5\" y=\"-22.8\" font-family=\"Times,serif\" font-size=\"14.00\" fill=\"#000000\">samples = 347</text>\n<text text-anchor=\"middle\" x=\"197.5\" y=\"-7.8\" font-family=\"Times,serif\" font-size=\"14.00\" fill=\"#000000\">value = [152, 195]</text>\n</g>\n<!-- 2&#45;&gt;4 -->\n<g id=\"edge4\" class=\"edge\">\n<title>2&#45;&gt;4</title>\n<path fill=\"none\" stroke=\"#000000\" d=\"M197.5,-88.9777C197.5,-80.7364 197.5,-71.887 197.5,-63.5153\"/>\n<polygon fill=\"#000000\" stroke=\"#000000\" points=\"201.0001,-63.2484 197.5,-53.2485 194.0001,-63.2485 201.0001,-63.2484\"/>\n</g>\n<!-- 6 -->\n<g id=\"node7\" class=\"node\">\n<title>6</title>\n<polygon fill=\"none\" stroke=\"#000000\" points=\"395,-53 278,-53 278,0 395,0 395,-53\"/>\n<text text-anchor=\"middle\" x=\"336.5\" y=\"-37.8\" font-family=\"Times,serif\" font-size=\"14.00\" fill=\"#000000\">gini = 0.204</text>\n<text text-anchor=\"middle\" x=\"336.5\" y=\"-22.8\" font-family=\"Times,serif\" font-size=\"14.00\" fill=\"#000000\">samples = 321</text>\n<text text-anchor=\"middle\" x=\"336.5\" y=\"-7.8\" font-family=\"Times,serif\" font-size=\"14.00\" fill=\"#000000\">value = [37, 284]</text>\n</g>\n<!-- 5&#45;&gt;6 -->\n<g id=\"edge6\" class=\"edge\">\n<title>5&#45;&gt;6</title>\n<path fill=\"none\" stroke=\"#000000\" d=\"M371.4616,-88.9777C366.5937,-80.2786 361.3466,-70.9018 356.435,-62.1247\"/>\n<polygon fill=\"#000000\" stroke=\"#000000\" points=\"359.4057,-60.2659 351.4681,-53.2485 353.2971,-63.6843 359.4057,-60.2659\"/>\n</g>\n<!-- 7 -->\n<g id=\"node8\" class=\"node\">\n<title>7</title>\n<polygon fill=\"none\" stroke=\"#000000\" points=\"508,-53 413,-53 413,0 508,0 508,-53\"/>\n<text text-anchor=\"middle\" x=\"460.5\" y=\"-37.8\" font-family=\"Times,serif\" font-size=\"14.00\" fill=\"#000000\">gini = 0.5</text>\n<text text-anchor=\"middle\" x=\"460.5\" y=\"-22.8\" font-family=\"Times,serif\" font-size=\"14.00\" fill=\"#000000\">samples = 10</text>\n<text text-anchor=\"middle\" x=\"460.5\" y=\"-7.8\" font-family=\"Times,serif\" font-size=\"14.00\" fill=\"#000000\">value = [5, 5]</text>\n</g>\n<!-- 5&#45;&gt;7 -->\n<g id=\"edge7\" class=\"edge\">\n<title>5&#45;&gt;7</title>\n<path fill=\"none\" stroke=\"#000000\" d=\"M415.1794,-88.9777C421.6225,-80.0954 428.578,-70.5067 435.0598,-61.5711\"/>\n<polygon fill=\"#000000\" stroke=\"#000000\" points=\"438.0583,-63.3982 441.097,-53.2485 432.3921,-59.288 438.0583,-63.3982\"/>\n</g>\n<!-- 9 -->\n<g id=\"node10\" class=\"node\">\n<title>9</title>\n<polygon fill=\"none\" stroke=\"#000000\" points=\"709,-157 584,-157 584,-89 709,-89 709,-157\"/>\n<text text-anchor=\"middle\" x=\"646.5\" y=\"-141.8\" font-family=\"Times,serif\" font-size=\"14.00\" fill=\"#000000\">X[2326] &lt;= 0.5</text>\n<text text-anchor=\"middle\" x=\"646.5\" y=\"-126.8\" font-family=\"Times,serif\" font-size=\"14.00\" fill=\"#000000\">gini = 0.485</text>\n<text text-anchor=\"middle\" x=\"646.5\" y=\"-111.8\" font-family=\"Times,serif\" font-size=\"14.00\" fill=\"#000000\">samples = 322</text>\n<text text-anchor=\"middle\" x=\"646.5\" y=\"-96.8\" font-family=\"Times,serif\" font-size=\"14.00\" fill=\"#000000\">value = [189, 133]</text>\n</g>\n<!-- 8&#45;&gt;9 -->\n<g id=\"edge9\" class=\"edge\">\n<title>8&#45;&gt;9</title>\n<path fill=\"none\" stroke=\"#000000\" d=\"M646.5,-192.9465C646.5,-184.776 646.5,-175.9318 646.5,-167.3697\"/>\n<polygon fill=\"#000000\" stroke=\"#000000\" points=\"650.0001,-167.13 646.5,-157.13 643.0001,-167.13 650.0001,-167.13\"/>\n</g>\n<!-- 12 -->\n<g id=\"node13\" class=\"node\">\n<title>12</title>\n<polygon fill=\"none\" stroke=\"#000000\" points=\"895,-157 786,-157 786,-89 895,-89 895,-157\"/>\n<text text-anchor=\"middle\" x=\"840.5\" y=\"-141.8\" font-family=\"Times,serif\" font-size=\"14.00\" fill=\"#000000\">X[1691] &lt;= 1.5</text>\n<text text-anchor=\"middle\" x=\"840.5\" y=\"-126.8\" font-family=\"Times,serif\" font-size=\"14.00\" fill=\"#000000\">gini = 0.133</text>\n<text text-anchor=\"middle\" x=\"840.5\" y=\"-111.8\" font-family=\"Times,serif\" font-size=\"14.00\" fill=\"#000000\">samples = 28</text>\n<text text-anchor=\"middle\" x=\"840.5\" y=\"-96.8\" font-family=\"Times,serif\" font-size=\"14.00\" fill=\"#000000\">value = [2, 26]</text>\n</g>\n<!-- 8&#45;&gt;12 -->\n<g id=\"edge12\" class=\"edge\">\n<title>8&#45;&gt;12</title>\n<path fill=\"none\" stroke=\"#000000\" d=\"M709.2183,-193.3778C730.9157,-181.7462 755.2393,-168.7068 776.9989,-157.0418\"/>\n<polygon fill=\"#000000\" stroke=\"#000000\" points=\"778.6735,-160.1153 785.8333,-152.3058 775.3662,-153.9459 778.6735,-160.1153\"/>\n</g>\n<!-- 10 -->\n<g id=\"node11\" class=\"node\">\n<title>10</title>\n<polygon fill=\"none\" stroke=\"#000000\" points=\"651,-53 526,-53 526,0 651,0 651,-53\"/>\n<text text-anchor=\"middle\" x=\"588.5\" y=\"-37.8\" font-family=\"Times,serif\" font-size=\"14.00\" fill=\"#000000\">gini = 0.476</text>\n<text text-anchor=\"middle\" x=\"588.5\" y=\"-22.8\" font-family=\"Times,serif\" font-size=\"14.00\" fill=\"#000000\">samples = 310</text>\n<text text-anchor=\"middle\" x=\"588.5\" y=\"-7.8\" font-family=\"Times,serif\" font-size=\"14.00\" fill=\"#000000\">value = [189, 121]</text>\n</g>\n<!-- 9&#45;&gt;10 -->\n<g id=\"edge10\" class=\"edge\">\n<title>9&#45;&gt;10</title>\n<path fill=\"none\" stroke=\"#000000\" d=\"M626.0514,-88.9777C620.7678,-80.187 615.0684,-70.7044 609.7452,-61.8477\"/>\n<polygon fill=\"#000000\" stroke=\"#000000\" points=\"612.7282,-60.0165 604.5768,-53.2485 606.7285,-63.6225 612.7282,-60.0165\"/>\n</g>\n<!-- 11 -->\n<g id=\"node12\" class=\"node\">\n<title>11</title>\n<polygon fill=\"none\" stroke=\"#000000\" points=\"771.5,-53 669.5,-53 669.5,0 771.5,0 771.5,-53\"/>\n<text text-anchor=\"middle\" x=\"720.5\" y=\"-37.8\" font-family=\"Times,serif\" font-size=\"14.00\" fill=\"#000000\">gini = 0.0</text>\n<text text-anchor=\"middle\" x=\"720.5\" y=\"-22.8\" font-family=\"Times,serif\" font-size=\"14.00\" fill=\"#000000\">samples = 12</text>\n<text text-anchor=\"middle\" x=\"720.5\" y=\"-7.8\" font-family=\"Times,serif\" font-size=\"14.00\" fill=\"#000000\">value = [0, 12]</text>\n</g>\n<!-- 9&#45;&gt;11 -->\n<g id=\"edge11\" class=\"edge\">\n<title>9&#45;&gt;11</title>\n<path fill=\"none\" stroke=\"#000000\" d=\"M672.5896,-88.9777C679.4711,-80.0039 686.9056,-70.3089 693.8178,-61.295\"/>\n<polygon fill=\"#000000\" stroke=\"#000000\" points=\"696.6804,-63.3137 699.9882,-53.2485 691.1256,-59.0541 696.6804,-63.3137\"/>\n</g>\n<!-- 13 -->\n<g id=\"node14\" class=\"node\">\n<title>13</title>\n<polygon fill=\"none\" stroke=\"#000000\" points=\"891.5,-53 789.5,-53 789.5,0 891.5,0 891.5,-53\"/>\n<text text-anchor=\"middle\" x=\"840.5\" y=\"-37.8\" font-family=\"Times,serif\" font-size=\"14.00\" fill=\"#000000\">gini = 0.0</text>\n<text text-anchor=\"middle\" x=\"840.5\" y=\"-22.8\" font-family=\"Times,serif\" font-size=\"14.00\" fill=\"#000000\">samples = 17</text>\n<text text-anchor=\"middle\" x=\"840.5\" y=\"-7.8\" font-family=\"Times,serif\" font-size=\"14.00\" fill=\"#000000\">value = [0, 17]</text>\n</g>\n<!-- 12&#45;&gt;13 -->\n<g id=\"edge13\" class=\"edge\">\n<title>12&#45;&gt;13</title>\n<path fill=\"none\" stroke=\"#000000\" d=\"M840.5,-88.9777C840.5,-80.7364 840.5,-71.887 840.5,-63.5153\"/>\n<polygon fill=\"#000000\" stroke=\"#000000\" points=\"844.0001,-63.2484 840.5,-53.2485 837.0001,-63.2485 844.0001,-63.2484\"/>\n</g>\n<!-- 14 -->\n<g id=\"node15\" class=\"node\">\n<title>14</title>\n<polygon fill=\"none\" stroke=\"#000000\" points=\"1005,-53 910,-53 910,0 1005,0 1005,-53\"/>\n<text text-anchor=\"middle\" x=\"957.5\" y=\"-37.8\" font-family=\"Times,serif\" font-size=\"14.00\" fill=\"#000000\">gini = 0.298</text>\n<text text-anchor=\"middle\" x=\"957.5\" y=\"-22.8\" font-family=\"Times,serif\" font-size=\"14.00\" fill=\"#000000\">samples = 11</text>\n<text text-anchor=\"middle\" x=\"957.5\" y=\"-7.8\" font-family=\"Times,serif\" font-size=\"14.00\" fill=\"#000000\">value = [2, 9]</text>\n</g>\n<!-- 12&#45;&gt;14 -->\n<g id=\"edge14\" class=\"edge\">\n<title>12&#45;&gt;14</title>\n<path fill=\"none\" stroke=\"#000000\" d=\"M881.7498,-88.9777C893.2961,-79.4545 905.8271,-69.1191 917.311,-59.6473\"/>\n<polygon fill=\"#000000\" stroke=\"#000000\" points=\"919.5816,-62.3115 925.0692,-53.2485 915.1276,-56.9113 919.5816,-62.3115\"/>\n</g>\n</g>\n</svg>\n"
          },
          "metadata": {
            "tags": []
          }
        }
      ]
    },
    {
      "cell_type": "code",
      "metadata": {
        "id": "MQtKocFFacCj"
      },
      "source": [
        "from sklearn.ensemble import RandomForestClassifier\n",
        "#print(RandomForestClassifier.__doc__)"
      ],
      "execution_count": null,
      "outputs": []
    },
    {
      "cell_type": "code",
      "metadata": {
        "id": "xiPrK4Pqagnt",
        "colab": {
          "base_uri": "https://localhost:8080/"
        },
        "outputId": "bf7e7fd9-8c44-41f0-fcca-1aa643adba3b"
      },
      "source": [
        "RFC = RandomForestClassifier(n_estimators=1000)\n",
        "RFC.fit(X_train,y_train)"
      ],
      "execution_count": null,
      "outputs": [
        {
          "output_type": "execute_result",
          "data": {
            "text/plain": [
              "RandomForestClassifier(n_estimators=1000)"
            ]
          },
          "metadata": {
            "tags": []
          },
          "execution_count": 101
        }
      ]
    },
    {
      "cell_type": "code",
      "metadata": {
        "id": "zfNkd01kIcIN",
        "colab": {
          "base_uri": "https://localhost:8080/"
        },
        "outputId": "83c9dcaf-1668-4f01-f19e-46736a70104c"
      },
      "source": [
        "pred=RFC.predict(X_test)\n",
        "print(pred[1])"
      ],
      "execution_count": null,
      "outputs": [
        {
          "output_type": "stream",
          "text": [
            "1\n"
          ],
          "name": "stdout"
        }
      ]
    },
    {
      "cell_type": "code",
      "metadata": {
        "id": "yG0pDNATIcIO",
        "colab": {
          "base_uri": "https://localhost:8080/",
          "height": 295
        },
        "outputId": "2342a5b2-f2a7-4969-b298-4fcbbe24b15a"
      },
      "source": [
        "from sklearn.metrics import roc_curve, auc\n",
        "from sklearn.metrics import accuracy_score\n",
        "fpr2, tpr2, _ = roc_curve(y_test, pred)\n",
        "roc_auc = auc(fpr2, tpr2)\n",
        "\n",
        "plt.figure()\n",
        "lw = 2\n",
        "plt.plot(fpr2, tpr2, color='darkorange',\n",
        "         lw=lw, label='ROC curve (area = %0.2f)' % roc_auc)\n",
        "plt.plot([0, 1], [0, 1], color='navy', lw=lw, linestyle='--')\n",
        "plt.xlim([0.0, 1.0])\n",
        "plt.ylim([0.0, 1.05])\n",
        "plt.xlabel('False Positive Rate')\n",
        "plt.ylabel('True Positive Rate')\n",
        "plt.title('Receiver operating characteristic example')\n",
        "plt.legend(loc=\"lower right\")\n",
        "plt.show()"
      ],
      "execution_count": null,
      "outputs": [
        {
          "output_type": "display_data",
          "data": {
            "image/png": "[encoded data removed]",
            "text/plain": [
              "<Figure size 432x288 with 1 Axes>"
            ]
          },
          "metadata": {
            "tags": [],
            "needs_background": "light"
          }
        }
      ]
    },
    {
      "cell_type": "code",
      "metadata": {
        "id": "kOn5ki_MIcIR",
        "colab": {
          "base_uri": "https://localhost:8080/"
        },
        "outputId": "f593b76d-381c-494a-e04b-1342c5b7c89f"
      },
      "source": [
        "from sklearn.model_selection import GridSearchCV\n",
        "\n",
        "rfc=RandomForestClassifier(random_state=42)\n",
        "\n",
        "param_grid = { \n",
        "    'n_estimators': [100, 500,1000],\n",
        "    'max_features': ['auto', 'sqrt', 'log2'],\n",
        "    'max_depth' : [2,3]\n",
        "}\n",
        "\n",
        "CV_rfc = GridSearchCV(estimator=rfc, param_grid=param_grid, cv= 5)\n",
        "CV_rfc.fit(X_train, y_train)\n",
        "\n",
        "print(CV_rfc.best_params_)"
      ],
      "execution_count": null,
      "outputs": [
        {
          "output_type": "stream",
          "text": [
            "{'max_depth': 2, 'max_features': 'auto', 'n_estimators': 100}\n"
          ],
          "name": "stdout"
        }
      ]
    },
    {
      "cell_type": "code",
      "metadata": {
        "id": "ClfLMh_BIcIS",
        "colab": {
          "base_uri": "https://localhost:8080/"
        },
        "outputId": "8b1b97b1-9a5b-4fdf-8558-bc297daa66b7"
      },
      "source": [
        "rfc1=RandomForestClassifier(random_state=42, max_features='log2', n_estimators= 500, max_depth=3)\n",
        "rfc1.fit(X_train, y_train)\n",
        "pred=rfc1.predict(X_test)\n",
        "print(\"Accuracy for Random Forest on CV data: \",accuracy_score(y_test,pred))\n",
        "#0.7480314960629921"
      ],
      "execution_count": null,
      "outputs": [
        {
          "output_type": "stream",
          "text": [
            "Accuracy for Random Forest on CV data:  0.6710097719869706\n"
          ],
          "name": "stdout"
        }
      ]
    },
    {
      "cell_type": "code",
      "metadata": {
        "colab": {
          "base_uri": "https://localhost:8080/"
        },
        "id": "UlKQgQ8ZF_FI",
        "outputId": "eb30b964-154d-4242-d6a0-075072c204a4"
      },
      "source": [
        "from sklearn.feature_selection import SelectFromModel\n",
        "from sklearn.ensemble import ExtraTreesClassifier\n",
        "sel = SelectFromModel(ExtraTreesClassifier(n_estimators=10, random_state=444), \n",
        "                      threshold='mean')\n",
        "clf = RandomForestClassifier(n_estimators=5000, random_state=444)\n",
        "model = Pipeline([('sel', sel), ('clf', clf)])\n",
        "params = {'clf__max_features': ['auto', 'sqrt', 'log2']}\n",
        "gs = GridSearchCV(model, params)\n",
        "gs.fit(x_train, y_train)\n",
        "print('accuracy :',gs.score(x_test, y_test))"
      ],
      "execution_count": null,
      "outputs": [
        {
          "output_type": "stream",
          "text": [
            "accuracy : 0.7744034707158352\n"
          ],
          "name": "stdout"
        }
      ]
    },
    {
      "cell_type": "code",
      "metadata": {
        "colab": {
          "base_uri": "https://localhost:8080/"
        },
        "id": "ON93Mf5vVL7Y",
        "outputId": "4cc35767-7ff0-4aff-d3ed-1af9de3ca375"
      },
      "source": [
        "dump(model,'my_pipeline2.joblib')"
      ],
      "execution_count": null,
      "outputs": [
        {
          "output_type": "execute_result",
          "data": {
            "text/plain": [
              "['my_pipeline2.joblib']"
            ]
          },
          "metadata": {
            "tags": []
          },
          "execution_count": 115
        }
      ]
    },
    {
      "cell_type": "code",
      "metadata": {
        "colab": {
          "base_uri": "https://localhost:8080/"
        },
        "id": "I2WZTDGYVkQC",
        "outputId": "856e18a3-7f5f-45ab-be16-6d270772f2d4"
      },
      "source": [
        "from sklearn.neighbors import KNeighborsClassifier\n",
        "from sklearn.model_selection import train_test_split\n",
        "X_train,X_test,y_train,y_test = train_test_split(X, y,test_size = 0.3,random_state = 1)\n",
        "\n",
        "knn = KNeighborsClassifier(n_neighbors = 3)\n",
        "knn.fit(X_train,y_train)\n",
        "prediction = knn.predict(X_test)\n",
        "#print('Prediction: {}'.format(prediction))\n",
        "print('With KNN (K=3) accuracy is: ',knn.score(X_test,y_test)) # accuracy"
      ],
      "execution_count": null,
      "outputs": [
        {
          "output_type": "stream",
          "text": [
            "With KNN (K=3) accuracy is:  0.7071583514099783\n"
          ],
          "name": "stdout"
        }
      ]
    },
    {
      "cell_type": "code",
      "metadata": {
        "colab": {
          "base_uri": "https://localhost:8080/"
        },
        "id": "Ioc1zQcmVyHH",
        "outputId": "7ac0ccb0-beab-4d4e-df5f-59955e11677e"
      },
      "source": [
        "from sklearn.ensemble import RandomForestClassifier\n",
        "clf = RandomForestClassifier(max_depth=2, random_state=0)\n",
        "clf.fit(X_train, y_train)\n",
        "clf.predict(X_test)\n",
        "print('With RFC accuracy is: ',clf.score(X_test,y_test)) "
      ],
      "execution_count": null,
      "outputs": [
        {
          "output_type": "stream",
          "text": [
            "With RFC accuracy is:  0.6616052060737527\n"
          ],
          "name": "stdout"
        }
      ]
    },
    {
      "cell_type": "code",
      "metadata": {
        "colab": {
          "base_uri": "https://localhost:8080/"
        },
        "id": "uT1V6aTlV0_2",
        "outputId": "1d330570-e4d7-4de2-e3ce-3173f570c910"
      },
      "source": [
        "from sklearn.feature_selection import SelectFromModel\n",
        "from sklearn.ensemble import ExtraTreesClassifier\n",
        "sel = SelectFromModel(ExtraTreesClassifier(n_estimators=10, random_state=444), \n",
        "                      threshold='mean')\n",
        "clf = RandomForestClassifier(n_estimators=5000, random_state=444)\n",
        "model = Pipeline([('sel', sel), ('clf', clf)])\n",
        "params = {'clf__max_features': ['auto', 'sqrt', 'log2']}\n",
        "gs = GridSearchCV(model, params)\n",
        "gs.fit(X_train, y_train)\n",
        "print('accuracy :',gs.score(X_test, y_test))"
      ],
      "execution_count": null,
      "outputs": [
        {
          "output_type": "stream",
          "text": [
            "accuracy : 0.7744034707158352\n"
          ],
          "name": "stdout"
        }
      ]
    },
    {
      "cell_type": "code",
      "metadata": {
        "colab": {
          "base_uri": "https://localhost:8080/"
        },
        "id": "BZ3Qfy7fXSVB",
        "outputId": "c07edd3f-27b6-49df-e2ff-d1a6517da4bf"
      },
      "source": [
        "clf.fit(X_train, y_train)\n",
        "y_pred1=clf.predict(X_test)\n",
        "y_pred_proba = clf.predict_proba(X_test)\n",
        "print('roc_auc_score :', roc_auc_score(y_test, y_pred_proba[:,1]))\n",
        "print('precision',':',metrics.precision_score(y_test,y_pred1))\n",
        "print('recall',':',metrics.recall_score(y_test,y_pred1))\n",
        "print('f1 score',':',metrics.f1_score(y_test,y_pred1))"
      ],
      "execution_count": null,
      "outputs": [
        {
          "output_type": "stream",
          "text": [
            "roc_auc_score : 0.9178436317780581\n",
            "precision : 0.7443037974683544\n",
            "recall : 0.9639344262295082\n",
            "f1 score : 0.84\n"
          ],
          "name": "stdout"
        }
      ]
    },
    {
      "cell_type": "code",
      "metadata": {
        "colab": {
          "base_uri": "https://localhost:8080/"
        },
        "id": "Wv9TcadgXeRb",
        "outputId": "77cb570b-c229-43b5-e9d6-50ff46c445b4"
      },
      "source": [
        "dump(model,'my_pipeline2.joblib')"
      ],
      "execution_count": null,
      "outputs": [
        {
          "output_type": "execute_result",
          "data": {
            "text/plain": [
              "['my_pipeline2.joblib']"
            ]
          },
          "metadata": {
            "tags": []
          },
          "execution_count": 124
        }
      ]
    },
    {
      "cell_type": "code",
      "metadata": {
        "colab": {
          "base_uri": "https://localhost:8080/",
          "height": 265
        },
        "id": "0HKDWkvHV1Fw",
        "outputId": "b0d85fdd-e887-45a0-efd8-dde73e6b5ec2"
      },
      "source": [
        "sns.heatmap(confusion_matrix(y_test,y_pred1),annot=True)\n",
        "plt.show()"
      ],
      "execution_count": null,
      "outputs": [
        {
          "output_type": "display_data",
          "data": {
            "image/png": "[encoded data removed]",
            "text/plain": [
              "<Figure size 432x288 with 2 Axes>"
            ]
          },
          "metadata": {
            "tags": [],
            "needs_background": "light"
          }
        }
      ]
    },
    {
      "cell_type": "code",
      "metadata": {
        "colab": {
          "base_uri": "https://localhost:8080/",
          "height": 299
        },
        "id": "3zb9VCM8Xm_l",
        "outputId": "55c6ea1d-56a0-485e-96de-7f4011b07419"
      },
      "source": [
        "from sklearn.metrics import roc_curve, auc\n",
        "from sklearn.metrics import accuracy_score\n",
        "y_pred_proba = clf.predict_proba(X_test)[:, 1]\n",
        "[fpr, tpr, thr] = roc_curve(y_test, y_pred1)\n",
        "plt.figure()\n",
        "plt.plot(fpr, tpr, color='coral', label='ROC curve (area = %0.3f)' % auc(fpr, tpr))\n",
        "plt.plot([0, 1], [0, 1], 'k--')\n",
        "plt.xlim([0.0, 1.0])\n",
        "plt.ylim([0.0, 1.05])\n",
        "plt.xlabel('False Positive Rate (1 - specificity)', fontsize=14)\n",
        "plt.ylabel('True Positive Rate (recall)', fontsize=14)\n",
        "plt.title('Receiver operating characteristic (ROC) curve')\n",
        "plt.legend(loc=\"lower right\")\n",
        "plt.show()"
      ],
      "execution_count": null,
      "outputs": [
        {
          "output_type": "display_data",
          "data": {
            "image/png": "[encoded data removed]",
            "text/plain": [
              "<Figure size 432x288 with 1 Axes>"
            ]
          },
          "metadata": {
            "tags": [],
            "needs_background": "light"
          }
        }
      ]
    },
    {
      "cell_type": "code",
      "metadata": {
        "colab": {
          "base_uri": "https://localhost:8080/",
          "height": 295
        },
        "id": "BaKmd0X9WOWL",
        "outputId": "d5e950f0-e497-4a82-ae94-fdafbd0ab4b2"
      },
      "source": [
        "fpr2, tpr2, _ = roc_curve(y_test, y_pred1)\n",
        "roc_auc = auc(fpr2, tpr2)\n",
        "plt.figure()\n",
        "lw = 2\n",
        "plt.plot(fpr2, tpr2, color='darkorange',\n",
        "         lw=lw, label='ROC curve (area = %0.2f)' % roc_auc)\n",
        "plt.plot([0, 1], [0, 1], color='navy', lw=lw, linestyle='--')\n",
        "plt.xlim([0.0, 1.0])\n",
        "plt.ylim([0.0, 1.05])\n",
        "plt.xlabel('False Positive Rate')\n",
        "plt.ylabel('True Positive Rate')\n",
        "plt.title('Receiver operating characteristic example')\n",
        "plt.legend(loc=\"lower right\")\n",
        "plt.show()"
      ],
      "execution_count": null,
      "outputs": [
        {
          "output_type": "display_data",
          "data": {
            "image/png": "[encoded data removed]",
            "text/plain": [
              "<Figure size 432x288 with 1 Axes>"
            ]
          },
          "metadata": {
            "tags": [],
            "needs_background": "light"
          }
        }
      ]
    }
  ]
}